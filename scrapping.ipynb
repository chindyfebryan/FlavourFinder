{
  "cells": [
    {
      "cell_type": "code",
      "execution_count": null,
      "metadata": {
        "colab": {
          "base_uri": "https://localhost:8080/"
        },
        "id": "kOQ5Y4GGDif3",
        "outputId": "f60bbb8e-edb0-42ef-f692-0ee4faef46ea"
      },
      "outputs": [
        {
          "name": "stdout",
          "output_type": "stream",
          "text": [
            "Collecting better_bing_image_downloader\n",
            "  Downloading better_bing_image_downloader-1.1.2-py3-none-any.whl (15 kB)\n",
            "Installing collected packages: better_bing_image_downloader\n",
            "Successfully installed better_bing_image_downloader-1.1.2\n"
          ]
        }
      ],
      "source": [
        "pip install --upgrade better_bing_image_downloader"
      ]
    },
    {
      "cell_type": "code",
      "execution_count": null,
      "metadata": {
        "id": "LpM_OY3ZDpGQ"
      },
      "outputs": [],
      "source": [
        "from better_bing_image_downloader import downloader"
      ]
    },
    {
      "cell_type": "code",
      "execution_count": null,
      "metadata": {
        "colab": {
          "base_uri": "https://localhost:8080/"
        },
        "id": "pBBcKfYZSW3x",
        "outputId": "3bd0b9e4-5a3c-4b4b-9ab1-e0f131933223"
      },
      "outputs": [
        {
          "output_type": "stream",
          "name": "stderr",
          "text": [
            "\r  0%|\u001b[32m                                             \u001b[0m 850 MB| Download Speed ?MB/s | Estimated Time:  ?\u001b[0mERROR:root:Issue getting: https://cmkt-image-prd.freetls.fastly.net/0.1.0/ps/189589/1360/901/m1/fpnw/wm1/xrtel3b3mjptkg7hvsqrs6wyzwcp4tohf3emg0ej58nymbb0wiao62dbgraszrgb-.jpg?1411335231&amp;s=f7d17f849d98a8e2c2d9227c218e7b4d\n",
            "Error: 'Bing' object has no attribute 'sources'\n"
          ]
        },
        {
          "output_type": "stream",
          "name": "stdout",
          "text": [
            "[%] Downloading Image #1 from https://cmkt-image-prd.freetls.fastly.net/0.1.0/ps/189589/1360/901/m1/fpnw/wm1/xrtel3b3mjptkg7hvsqrs6wyzwcp4tohf3emg0ej58nymbb0wiao62dbgraszrgb-.jpg?1411335231&amp;s=f7d17f849d98a8e2c2d9227c218e7b4d\n",
            "[%] Downloading Image #1 from http://fillyourplate.org/blog/wp-content/uploads/2015/09/bigstock-Farm-Fresh-Potatoes-On-A-Hess-65649211.jpg\n"
          ]
        },
        {
          "output_type": "stream",
          "name": "stderr",
          "text": [
            "\r  0%|\u001b[32m                                     \u001b[0m 850 MB| Download Speed  1.32MB/s | Estimated Time:  10:45\u001b[0mERROR:root:Issue getting: https://images.creativemarket.com/0.1.0/ps/615934/1360/901/m1/fpnw/wm1/t568zs1u8pbkcewv1wwckhxlnd63gwj1sqkkqkf2rdpdep2zukan8ylerg8gem8s-.jpg?1440103786&amp;s=880f5bc26a6d6ac58cdd03cfd12ea959\n",
            "Error: 'Bing' object has no attribute 'sources'\n"
          ]
        },
        {
          "output_type": "stream",
          "name": "stdout",
          "text": [
            "[%] File Downloaded !\n",
            "\n",
            "[%] Downloading Image #2 from https://images.creativemarket.com/0.1.0/ps/615934/1360/901/m1/fpnw/wm1/t568zs1u8pbkcewv1wwckhxlnd63gwj1sqkkqkf2rdpdep2zukan8ylerg8gem8s-.jpg?1440103786&amp;s=880f5bc26a6d6ac58cdd03cfd12ea959\n",
            "[%] Downloading Image #2 from https://fillyourplate.org/blog/wp-content/uploads/2014/04/bigstock-Fresh-potatoes-on-rustic-woode-41554870.jpg\n"
          ]
        },
        {
          "output_type": "stream",
          "name": "stderr",
          "text": [
            "\r  0%|\u001b[32m                                     \u001b[0m 850 MB| Download Speed  2.23MB/s | Estimated Time:  06:19\u001b[0m"
          ]
        },
        {
          "output_type": "stream",
          "name": "stdout",
          "text": [
            "[%] File Downloaded !\n",
            "\n",
            "[%] Downloading Image #3 from https://zomgcandy.com/wp-content/uploads/2020/09/potatoes-4331742_1920.jpg\n"
          ]
        },
        {
          "output_type": "stream",
          "name": "stderr",
          "text": [
            "\r  0%|\u001b[32m▏                                    \u001b[0m 850 MB| Download Speed  2.64MB/s | Estimated Time:  05:21\u001b[0m"
          ]
        },
        {
          "output_type": "stream",
          "name": "stdout",
          "text": [
            "[%] File Downloaded !\n",
            "\n",
            "[%] Downloading Image #4 from https://zonefresh.com.au/wp-content/uploads/620.jpg\n"
          ]
        },
        {
          "output_type": "stream",
          "name": "stderr",
          "text": [
            "  1%|\u001b[32m▏                                    \u001b[0m 850 MB| Download Speed  2.45MB/s | Estimated Time:  05:44\u001b[0m"
          ]
        },
        {
          "output_type": "stream",
          "name": "stdout",
          "text": [
            "[%] File Downloaded !\n",
            "\n",
            "[%] Downloading Image #5 from https://www.thespruceeats.com/thmb/pL7XLNaMOX6_HXH-ra4glp3DCnM=/3865x2576/filters:fill(auto,1)/farmer-picking-up-potatoes-870863742-5bca5fb44cedfd0026b17aaf.jpg\n",
            "[%] File Downloaded !\n",
            "\n",
            "[%] Downloading Image #6 from https://www.healthbenefitstimes.com/9/gallery/potato-1/Potatoes.jpg\n"
          ]
        },
        {
          "output_type": "stream",
          "name": "stderr",
          "text": [
            "\r  1%|\u001b[32m▎                                    \u001b[0m 850 MB| Download Speed  1.88MB/s | Estimated Time:  07:29\u001b[0m"
          ]
        },
        {
          "output_type": "stream",
          "name": "stdout",
          "text": [
            "[%] File Downloaded !\n",
            "\n",
            "[%] Downloading Image #7 from https://c.stocksy.com/a/PQO000/z9/93893.jpg\n",
            "[%] File Downloaded !\n",
            "\n",
            "[%] Downloading Image #8 from https://masseysofsaintfield.co.uk/wp-content/uploads/2020/09/Potatoes.jpg\n"
          ]
        },
        {
          "output_type": "stream",
          "name": "stderr",
          "text": [
            "  1%|\u001b[32m▍                                    \u001b[0m 850 MB| Download Speed  2.91MB/s | Estimated Time:  04:48\u001b[0m"
          ]
        },
        {
          "output_type": "stream",
          "name": "stdout",
          "text": [
            "[%] File Downloaded !\n",
            "\n",
            "[%] Downloading Image #9 from https://images-na.ssl-images-amazon.com/images/I/81459bqY2HL._SL1500_.jpg\n",
            "[%] File Downloaded !\n",
            "\n",
            "[%] Downloading Image #10 from https://www.tasteofhome.com/wp-content/uploads/2022/07/GettyImages-1224918845-e1658929817975.jpg?w=2036\n",
            "[%] File Downloaded !\n",
            "\n",
            "[%] Downloading Image #11 from https://i0.wp.com/www.cleaneatingwithkids.com/wp-content/uploads/2017/11/AdobeStock_129327101.jpeg?ssl=1\n"
          ]
        },
        {
          "output_type": "stream",
          "name": "stderr",
          "text": [
            "\r  1%|\u001b[32m▍                                    \u001b[0m 850 MB| Download Speed  3.24MB/s | Estimated Time:  04:18\u001b[0m"
          ]
        },
        {
          "output_type": "stream",
          "name": "stdout",
          "text": [
            "[%] File Downloaded !\n",
            "\n",
            "[%] Downloading Image #12 from https://isorepublic.com/wp-content/uploads/2018/11/isorepublic-potatoes-bg-1.jpg\n"
          ]
        },
        {
          "output_type": "stream",
          "name": "stderr",
          "text": [
            "\r  1%|\u001b[32m▌                                    \u001b[0m 850 MB| Download Speed  2.81MB/s | Estimated Time:  04:58\u001b[0m"
          ]
        },
        {
          "output_type": "stream",
          "name": "stdout",
          "text": [
            "[%] File Downloaded !\n",
            "\n",
            "[%] Downloading Image #13 from https://1.bp.blogspot.com/-zdtyQu7GXnc/TkM96r1q0gI/AAAAAAAABqk/S4tc_VhDSKk/s1600/Fresh+Potatoes+003.jpg\n",
            "[%] File Downloaded !\n",
            "\n",
            "[%] Downloading Image #14 from https://www.laketahoemarkets.com/uploads/1/2/5/7/12570712/s316008548640775782_p235_i1_w1595.jpeg\n"
          ]
        },
        {
          "output_type": "stream",
          "name": "stderr",
          "text": [
            "\r  2%|\u001b[32m▌                                    \u001b[0m 850 MB| Download Speed  3.31MB/s | Estimated Time:  04:12\u001b[0m"
          ]
        },
        {
          "output_type": "stream",
          "name": "stdout",
          "text": [
            "[%] File Downloaded !\n",
            "\n",
            "[%] Downloading Image #15 from https://fthmb.tqn.com/nuUg-oZCKEGFrGMu_i61GoFqP8Y=/1280x951/filters:fill(auto,1)/151806234-F-56a338c73df78cf7727c69f6.jpg\n",
            "[%] File Downloaded !\n",
            "\n",
            "[%] Downloading Image #16 from https://get.pxhere.com/photo/plant-meal-food-harvest-cooking-ingredient-produce-vegetable-market-potato-vegan-vegetarian-tubers-idaho-organic-potatoes-uncooked-starch-flowering-plant-tuber-root-vegetable-carbohydrate-russet-cultivar-land-plant-potato-and-tomato-genus-625502.jpg\n"
          ]
        },
        {
          "output_type": "stream",
          "name": "stderr",
          "text": [
            "\r  2%|\u001b[32m▋                                    \u001b[0m 850 MB| Download Speed  3.09MB/s | Estimated Time:  04:29\u001b[0mERROR:root:Invalid image, not saving https://5.imimg.com/data5/SELLER/Default/2020/12/QF/FJ/ON/114977942/potato.jpg\n",
            "ERROR:root:Issue getting: https://5.imimg.com/data5/SELLER/Default/2020/12/QF/FJ/ON/114977942/potato.jpg\n",
            "Error: Invalid image, not saving https://5.imimg.com/data5/SELLER/Default/2020/12/QF/FJ/ON/114977942/potato.jpg\n"
          ]
        },
        {
          "output_type": "stream",
          "name": "stdout",
          "text": [
            "[%] File Downloaded !\n",
            "\n",
            "[%] Downloading Image #17 from https://5.imimg.com/data5/SELLER/Default/2020/12/QF/FJ/ON/114977942/potato.jpg\n",
            "[%] Downloading Image #17 from https://pcdn.columbian.com/wp-content/uploads/2018/06/0622_WKD_Market-Fresh-new-potatoes-1226x0-c-default.jpg\n"
          ]
        },
        {
          "output_type": "stream",
          "name": "stderr",
          "text": [
            "\r  2%|\u001b[32m▋                                    \u001b[0m 850 MB| Download Speed  3.34MB/s | Estimated Time:  04:09\u001b[0m"
          ]
        },
        {
          "output_type": "stream",
          "name": "stdout",
          "text": [
            "[%] File Downloaded !\n",
            "\n",
            "[%] Downloading Image #18 from https://www.outofthebluefish.co.uk/wp-content/uploads/sites/2/2020/05/New-potato.jpg\n"
          ]
        },
        {
          "output_type": "stream",
          "name": "stderr",
          "text": [
            "\r  2%|\u001b[32m▊                                    \u001b[0m 850 MB| Download Speed  2.32MB/s | Estimated Time:  05:58\u001b[0m"
          ]
        },
        {
          "output_type": "stream",
          "name": "stdout",
          "text": [
            "[%] File Downloaded !\n",
            "\n",
            "[%] Downloading Image #19 from https://imagesvc.meredithcorp.io/v3/mm/image?url=https:%2F%2Fstatic.onecms.io%2Fwp-content%2Fuploads%2Fsites%2F19%2F2017%2F08%2F02%2FGettyImages-126552348-2000.jpg\n"
          ]
        },
        {
          "output_type": "stream",
          "name": "stderr",
          "text": [
            "ERROR:root:Issue getting: https://imagesvc.meredithcorp.io/v3/mm/image?url=https:%2F%2Fstatic.onecms.io%2Fwp-content%2Fuploads%2Fsites%2F19%2F2017%2F08%2F02%2FGettyImages-126552348-2000.jpg\n",
            "Error: 'Bing' object has no attribute 'sources'\n"
          ]
        },
        {
          "output_type": "stream",
          "name": "stdout",
          "text": [
            "[%] Downloading Image #19 from https://www.horticulture.com.au/globalassets/hort-innovation/levy-fund-pages/potato---fresh-fund/key-logos-and-images/potato-fresh-1.jpg\n"
          ]
        },
        {
          "output_type": "stream",
          "name": "stderr",
          "text": [
            "\r  2%|\u001b[32m▊                                    \u001b[0m 850 MB| Download Speed  1.47s/MB | Estimated Time:  20:24\u001b[0m"
          ]
        },
        {
          "output_type": "stream",
          "name": "stdout",
          "text": [
            "[%] File Downloaded !\n",
            "\n",
            "[%] Downloading Image #20 from http://handyhometips.com/wp-content/uploads/2016/12/potatoes-1.jpg\n"
          ]
        },
        {
          "output_type": "stream",
          "name": "stderr",
          "text": [
            "\r  2%|\u001b[32m▊                                    \u001b[0m 850 MB| Download Speed  1.35s/MB | Estimated Time:  18:40\u001b[0mERROR:root:Issue getting: https://www.bhg.com.au/media/29241/sweet-potato-full.jpg?width=720¢er=0.0,0.0\n",
            "Error: 'ascii' codec can't encode character '\\xa2' in position 48: ordinal not in range(128)\n",
            "  2%|\u001b[32m▉                                    \u001b[0m 850 MB| Download Speed  1.02s/MB | Estimated Time:  14:05\u001b[0m"
          ]
        },
        {
          "output_type": "stream",
          "name": "stdout",
          "text": [
            "[%] File Downloaded !\n",
            "\n",
            "[%] Downloading Image #21 from https://www.bhg.com.au/media/29241/sweet-potato-full.jpg?width=720¢er=0.0,0.0\n",
            "[%] Downloading Image #21 from https://www.growerexperts.com/wp-content/uploads/2021/01/potato-new-crop-2048x1363.jpg\n",
            "[%] File Downloaded !\n",
            "\n",
            "[%] Downloading Image #22 from https://ag.umass.edu/sites/ag.umass.edu/files/fact-sheets/images/photo_sep_23_2_51_52_pm.jpg\n"
          ]
        },
        {
          "output_type": "stream",
          "name": "stderr",
          "text": [
            "  3%|\u001b[32m█                                    \u001b[0m 850 MB| Download Speed  1.30MB/s | Estimated Time:  10:34\u001b[0m"
          ]
        },
        {
          "output_type": "stream",
          "name": "stdout",
          "text": [
            "[%] File Downloaded !\n",
            "\n",
            "[%] Downloading Image #23 from https://sc01.alicdn.com/kf/HTB1_WVlXlxRMKJjy0Fdq6yifFXas/226848386/HTB1_WVlXlxRMKJjy0Fdq6yifFXas.jpg\n",
            "[%] File Downloaded !\n",
            "\n",
            "[%] Downloading Image #24 from http://thinkeatbehealthy.com/wp-content/uploads/2014/01/mg7419-sweet-potatoessquare-web.jpg\n"
          ]
        },
        {
          "output_type": "stream",
          "name": "stderr",
          "text": [
            "\r  3%|\u001b[32m█                                    \u001b[0m 850 MB| Download Speed  1.48MB/s | Estimated Time:  09:16\u001b[0m"
          ]
        },
        {
          "output_type": "stream",
          "name": "stdout",
          "text": [
            "[%] File Downloaded !\n",
            "\n",
            "[%] Downloading Image #25 from https://www.lsuagcenter.com/~/media/system/2/8/b/9/28b9c0fc75d8edf688b0f442fb673141/evangelinedscf7469jpg.jpg\n"
          ]
        },
        {
          "output_type": "stream",
          "name": "stderr",
          "text": [
            "\r  3%|\u001b[32m█                                    \u001b[0m 850 MB| Download Speed  1.41MB/s | Estimated Time:  09:47\u001b[0m"
          ]
        },
        {
          "output_type": "stream",
          "name": "stdout",
          "text": [
            "[%] File Downloaded !\n",
            "\n",
            "[%] Downloading Image #26 from https://sweetpotatousa.org/wp-content/uploads/2019/11/IMG_6163-Varieties-e1582649365824.jpg\n"
          ]
        },
        {
          "output_type": "stream",
          "name": "stderr",
          "text": [
            "\r  3%|\u001b[32m█▏                                   \u001b[0m 850 MB| Download Speed  1.55MB/s | Estimated Time:  08:50\u001b[0m"
          ]
        },
        {
          "output_type": "stream",
          "name": "stdout",
          "text": [
            "[%] File Downloaded !\n",
            "\n",
            "[%] Downloading Image #27 from https://foodrevolution.org/wp-content/uploads/2018/12/iStock-514149368-featured.jpg\n"
          ]
        },
        {
          "output_type": "stream",
          "name": "stderr",
          "text": [
            "  3%|\u001b[32m█▏                                   \u001b[0m 850 MB| Download Speed  2.26MB/s | Estimated Time:  06:03\u001b[0m"
          ]
        },
        {
          "output_type": "stream",
          "name": "stdout",
          "text": [
            "[%] File Downloaded !\n",
            "\n",
            "[%] Downloading Image #28 from https://images.heb.com/is/image/HEBGrocery/000318978\n",
            "[%] File Downloaded !\n",
            "\n",
            "[%] Downloading Image #29 from https://www.gimmesomeoven.com/wp-content/uploads/2020/06/Baked-Sweet-Potato-Recipe-3-2-1100x1650.jpg\n",
            "[%] File Downloaded !\n",
            "\n",
            "[%] Downloading Image #30 from http://btrade-egypt.com/wp-content/uploads/2018/04/413886.jpg\n"
          ]
        },
        {
          "output_type": "stream",
          "name": "stderr",
          "text": [
            "\r  4%|\u001b[32m█▎                                   \u001b[0m 850 MB| Download Speed  2.77MB/s | Estimated Time:  04:55\u001b[0m"
          ]
        },
        {
          "output_type": "stream",
          "name": "stdout",
          "text": [
            "[%] File Downloaded !\n",
            "\n"
          ]
        },
        {
          "output_type": "stream",
          "name": "stderr",
          "text": [
            "\r  4%|\u001b[32m█▎                                   \u001b[0m 850 MB| Download Speed  2.06MB/s | Estimated Time:  06:37\u001b[0m"
          ]
        },
        {
          "output_type": "stream",
          "name": "stdout",
          "text": [
            "[%] Downloading Image #31 from https://st.depositphotos.com/1459104/1266/i/950/depositphotos_12668702-stock-photo-colorful-fresh-potatoes-on-display.jpg\n",
            "[%] File Downloaded !\n",
            "\n",
            "[%] Downloading Image #32 from https://static1.bigstockphoto.com/1/9/2/large1500/291517810.jpg\n"
          ]
        },
        {
          "output_type": "stream",
          "name": "stderr",
          "text": [
            "\r  4%|\u001b[32m█▍                                   \u001b[0m 850 MB| Download Speed  2.46MB/s | Estimated Time:  05:32\u001b[0m"
          ]
        },
        {
          "output_type": "stream",
          "name": "stdout",
          "text": [
            "[%] File Downloaded !\n",
            "\n",
            "[%] Downloading Image #33 from https://www.publicdomainpictures.net/pictures/30000/velka/raw-potatoes.jpg\n"
          ]
        },
        {
          "output_type": "stream",
          "name": "stderr",
          "text": [
            "ERROR:root:Invalid image, not saving https://www.publicdomainpictures.net/pictures/30000/velka/raw-potatoes.jpg\n",
            "ERROR:root:Issue getting: https://www.publicdomainpictures.net/pictures/30000/velka/raw-potatoes.jpg\n",
            "Error: Invalid image, not saving https://www.publicdomainpictures.net/pictures/30000/velka/raw-potatoes.jpg\n",
            "  4%|\u001b[32m█▍                                   \u001b[0m 850 MB| Download Speed  2.56MB/s | Estimated Time:  05:19\u001b[0m"
          ]
        },
        {
          "output_type": "stream",
          "name": "stdout",
          "text": [
            "[%] Downloading Image #33 from https://www.thespruce.com/thmb/hb-0fEZSX6MWNfMu-Zh0Qizy45g=/3456x2298/filters:no_upscale():max_bytes(150000):strip_icc()/fresh-potatoes----91383674-5b1df6bffa6bcc0036a66be4.jpg\n",
            "[%] File Downloaded !\n",
            "\n",
            "[%] Downloading Image #34 from https://www.verywellhealth.com/thmb/UBrh8HWAi7vksqwPysiDIC7ogUg=/3687x2478/filters:no_upscale():max_bytes(150000):strip_icc()/raw-russet-baking-potatoes-root-vegetables-172333475-58472da03df78c0230d5cf22.jpg\n",
            "[%] File Downloaded !\n",
            "\n",
            "[%] Downloading Image #35 from https://www.schoolphotoproject.com/_picture-of-vegetable/sweetpotato-photo1-l.jpg\n"
          ]
        },
        {
          "output_type": "stream",
          "name": "stderr",
          "text": [
            "  4%|\u001b[32m█▌                                   \u001b[0m 850 MB| Download Speed  2.12MB/s | Estimated Time:  06:23\u001b[0m"
          ]
        },
        {
          "output_type": "stream",
          "name": "stdout",
          "text": [
            "[%] File Downloaded !\n",
            "\n",
            "[%] Downloading Image #36 from https://easyweeknightrecipes.com/wp-content/uploads/2020/12/Garlic-Rosemary-Butter-Roasted-Sweet-Potatoes-5.jpg\n",
            "[%] File Downloaded !\n",
            "\n",
            "[%] Downloading Image #37 from https://foodrevolution.org/wp-content/uploads/iStock-174837002.jpg\n"
          ]
        },
        {
          "output_type": "stream",
          "name": "stderr",
          "text": [
            "  4%|\u001b[32m█▋                                   \u001b[0m 850 MB| Download Speed  3.16MB/s | Estimated Time:  04:17\u001b[0m"
          ]
        },
        {
          "output_type": "stream",
          "name": "stdout",
          "text": [
            "[%] File Downloaded !\n",
            "\n",
            "[%] Downloading Image #38 from https://cdn-prod.medicalnewstoday.com/content/images/articles/281/281438/sweet-potatoes-chopped-on-a-wooden-surface.jpg\n",
            "[%] File Downloaded !\n",
            "\n",
            "[%] Downloading Image #39 from https://btrade-egypt.com/wp-content/uploads/2018/04/413886.jpg\n",
            "[%] File Downloaded !\n",
            "\n",
            "[%] Downloading Image #40 from https://lukecoutinho.com/blog/wp-content/uploads/2022/05/sliced-potatoes-put-around-potato-sack-gray-floor_1150-20699.jpg\n"
          ]
        },
        {
          "output_type": "stream",
          "name": "stderr",
          "text": [
            "\r  5%|\u001b[32m█▋                                   \u001b[0m 850 MB| Download Speed  1.52MB/s | Estimated Time:  08:54\u001b[0m"
          ]
        },
        {
          "output_type": "stream",
          "name": "stdout",
          "text": [
            "[%] File Downloaded !\n",
            "\n",
            "[%] Downloading Image #41 from https://www.eztonga.com/wp-content/uploads/2021/03/71P46K9QwqL._SL1500_.jpg\n"
          ]
        },
        {
          "output_type": "stream",
          "name": "stderr",
          "text": [
            "\r  5%|\u001b[32m█▊                                   \u001b[0m 850 MB| Download Speed  1.53MB/s | Estimated Time:  08:49\u001b[0m"
          ]
        },
        {
          "output_type": "stream",
          "name": "stdout",
          "text": [
            "[%] File Downloaded !\n",
            "\n"
          ]
        },
        {
          "output_type": "stream",
          "name": "stderr",
          "text": [
            "\r  5%|\u001b[32m█▊                                   \u001b[0m 850 MB| Download Speed  1.72MB/s | Estimated Time:  07:48\u001b[0m"
          ]
        },
        {
          "output_type": "stream",
          "name": "stdout",
          "text": [
            "[%] Downloading Image #42 from https://jooinn.com/images/fresh-potatoes-1.jpg\n",
            "[%] File Downloaded !\n",
            "\n",
            "[%] Downloading Image #43 from https://i.pinimg.com/originals/4a/e6/f1/4ae6f1a1460e49bd63bacfb27cb5b064.jpg\n",
            "[%] File Downloaded !\n",
            "\n",
            "[%] Downloading Image #44 from https://jahanaratco.com/wp-content/uploads/2019/10/potato-1.jpg\n"
          ]
        },
        {
          "output_type": "stream",
          "name": "stderr",
          "text": [
            "\r  5%|\u001b[32m█▉                                   \u001b[0m 850 MB| Download Speed  1.58MB/s | Estimated Time:  08:29\u001b[0m"
          ]
        },
        {
          "output_type": "stream",
          "name": "stdout",
          "text": [
            "[%] File Downloaded !\n",
            "\n",
            "[%] Downloading Image #45 from http://www.valleyspuds.com/wp-content/uploads/Fresh-potatoes-ready-for-processing.jpg\n"
          ]
        },
        {
          "output_type": "stream",
          "name": "stderr",
          "text": [
            "\r  5%|\u001b[32m█▉                                   \u001b[0m 850 MB| Download Speed  1.65MB/s | Estimated Time:  08:06\u001b[0m"
          ]
        },
        {
          "output_type": "stream",
          "name": "stdout",
          "text": [
            "[%] File Downloaded !\n",
            "\n",
            "[%] Downloading Image #46 from https://supaexport.ro/wp-content/uploads/2021/02/fresh-potato-1024x683-1.jpg\n"
          ]
        },
        {
          "output_type": "stream",
          "name": "stderr",
          "text": [
            "\r  5%|\u001b[32m██                                   \u001b[0m 850 MB| Download Speed  1.78MB/s | Estimated Time:  07:32\u001b[0m"
          ]
        },
        {
          "output_type": "stream",
          "name": "stdout",
          "text": [
            "[%] File Downloaded !\n",
            "\n",
            "[%] Downloading Image #47 from https://i.pinimg.com/originals/81/ae/d5/81aed5cf51a983fa50d48fd392705f83.jpg\n"
          ]
        },
        {
          "output_type": "stream",
          "name": "stderr",
          "text": [
            "\r  6%|\u001b[32m██                                   \u001b[0m 850 MB| Download Speed  2.13MB/s | Estimated Time:  06:16\u001b[0m"
          ]
        },
        {
          "output_type": "stream",
          "name": "stdout",
          "text": [
            "[%] File Downloaded !\n",
            "\n",
            "[%] Downloading Image #48 from https://addismercato.com/images/category/Potato.jpg\n"
          ]
        },
        {
          "output_type": "stream",
          "name": "stderr",
          "text": [
            "\r  6%|\u001b[32m██                                   \u001b[0m 850 MB| Download Speed  2.43MB/s | Estimated Time:  05:29\u001b[0m"
          ]
        },
        {
          "output_type": "stream",
          "name": "stdout",
          "text": [
            "[%] File Downloaded !\n",
            "\n",
            "[%] Downloading Image #49 from https://static.fanpage.it/wp-content/uploads/sites/22/2018/11/potatoes2.jpg\n"
          ]
        },
        {
          "output_type": "stream",
          "name": "stderr",
          "text": [
            "\r  6%|\u001b[32m██▏                                  \u001b[0m 850 MB| Download Speed  2.69MB/s | Estimated Time:  04:57\u001b[0m"
          ]
        },
        {
          "output_type": "stream",
          "name": "stdout",
          "text": [
            "[%] File Downloaded !\n",
            "\n",
            "[%] Downloading Image #50 from https://ammangmart.com/wp-content/uploads/2020/01/VEGETABLE_POTATO.jpg\n"
          ]
        },
        {
          "output_type": "stream",
          "name": "stderr",
          "text": [
            "\r  6%|\u001b[32m██▏                                  \u001b[0m 850 MB| Download Speed  1.47MB/s | Estimated Time:  09:02\u001b[0m"
          ]
        },
        {
          "output_type": "stream",
          "name": "stdout",
          "text": [
            "[%] File Downloaded !\n",
            "\n"
          ]
        },
        {
          "output_type": "stream",
          "name": "stderr",
          "text": [
            "\r  6%|\u001b[32m██▏                                  \u001b[0m 850 MB| Download Speed  1.67MB/s | Estimated Time:  07:58\u001b[0m"
          ]
        },
        {
          "output_type": "stream",
          "name": "stdout",
          "text": [
            "[%] Downloading Image #51 from https://keyassets.timeincuk.net/inspirewp/live/wp-content/uploads/sites/8/2021/01/GettyImages-153469372_421708381_754158281.jpg\n",
            "[%] File Downloaded !\n",
            "\n",
            "[%] Downloading Image #52 from https://imagesvc.meredithcorp.io/v3/mm/image?url=https:%2F%2Fstatic.onecms.io%2Fwp-content%2Fuploads%2Fsites%2F43%2F2021%2F02%2F25%2FGettyImages-1224918845-2000.jpg\n"
          ]
        },
        {
          "output_type": "stream",
          "name": "stderr",
          "text": [
            "ERROR:root:Issue getting: https://imagesvc.meredithcorp.io/v3/mm/image?url=https:%2F%2Fstatic.onecms.io%2Fwp-content%2Fuploads%2Fsites%2F43%2F2021%2F02%2F25%2FGettyImages-1224918845-2000.jpg\n",
            "Error: 'Bing' object has no attribute 'sources'\n",
            "  6%|\u001b[32m██▎                                  \u001b[0m 850 MB| Download Speed  1.37MB/s | Estimated Time:  09:40\u001b[0m"
          ]
        },
        {
          "output_type": "stream",
          "name": "stdout",
          "text": [
            "[%] Downloading Image #52 from https://fthmb.tqn.com/pXOna7X7Nuc0XnE-cOj8CEm73KU=/3687x2478/filters:fill(auto,1)/raw-russet-baking-potatoes-root-vegetables-172333475-58472da03df78c0230d5cf22.jpg\n",
            "[%] File Downloaded !\n",
            "\n",
            "[%] Downloading Image #53 from http://stockarch.com/files/19/12/washed_potatoes.jpg\n"
          ]
        },
        {
          "output_type": "stream",
          "name": "stderr",
          "text": [
            "\r  6%|\u001b[32m██▎                                  \u001b[0m 850 MB| Download Speed  1.32MB/s | Estimated Time:  10:05\u001b[0m"
          ]
        },
        {
          "output_type": "stream",
          "name": "stdout",
          "text": [
            "[%] File Downloaded !\n",
            "\n",
            "[%] Downloading Image #54 from http://farmflavor.com/wp-content/uploads/2014/05/Sweet-potatoes.jpg\n"
          ]
        },
        {
          "output_type": "stream",
          "name": "stderr",
          "text": [
            "\r  6%|\u001b[32m██▎                                  \u001b[0m 850 MB| Download Speed  1.27MB/s | Estimated Time:  10:25\u001b[0m"
          ]
        },
        {
          "output_type": "stream",
          "name": "stdout",
          "text": [
            "[%] File Downloaded !\n",
            "\n"
          ]
        },
        {
          "output_type": "stream",
          "name": "stderr",
          "text": [
            "\r  6%|\u001b[32m██▍                                  \u001b[0m 850 MB| Download Speed  1.48MB/s | Estimated Time:  08:58\u001b[0m"
          ]
        },
        {
          "output_type": "stream",
          "name": "stdout",
          "text": [
            "[%] Downloading Image #55 from http://www.valleyspuds.com/wp-content/uploads/Valley-Spuds-Pile-of-White-Potatoes.jpg\n",
            "[%] File Downloaded !\n",
            "\n",
            "[%] Downloading Image #56 from https://cdn.tridge.com/attachment/14bb39cd576cc6fc8ee40c55f7f909d8ea315031.jpg\n"
          ]
        },
        {
          "output_type": "stream",
          "name": "stderr",
          "text": [
            "\r  7%|\u001b[32m██▍                                  \u001b[0m 850 MB| Download Speed  1.95MB/s | Estimated Time:  06:47\u001b[0m"
          ]
        },
        {
          "output_type": "stream",
          "name": "stdout",
          "text": [
            "[%] File Downloaded !\n",
            "\n"
          ]
        },
        {
          "output_type": "stream",
          "name": "stderr",
          "text": [
            "\r  7%|\u001b[32m██▍                                  \u001b[0m 850 MB| Download Speed  2.25MB/s | Estimated Time:  05:53\u001b[0m"
          ]
        },
        {
          "output_type": "stream",
          "name": "stdout",
          "text": [
            "[%] Downloading Image #57 from https://thumbs.dreamstime.com/z/fresh-potatoes-raw-old-wooden-table-153621033.jpg\n",
            "[%] File Downloaded !\n",
            "\n",
            "[%] Downloading Image #58 from https://i.pinimg.com/originals/2e/69/cc/2e69cc6f1978ef97230bfe0c450c6f45.png\n"
          ]
        },
        {
          "output_type": "stream",
          "name": "stderr",
          "text": [
            "\r  7%|\u001b[32m██▌                                  \u001b[0m 850 MB| Download Speed  2.25MB/s | Estimated Time:  05:52\u001b[0m"
          ]
        },
        {
          "output_type": "stream",
          "name": "stdout",
          "text": [
            "[%] File Downloaded !\n",
            "\n",
            "[%] Downloading Image #59 from http://www.rochellegriffin.com/recipes/wp-content/uploads/2017/07/bigstock-Raw-sweet-potatoes-119442311.jpg\n"
          ]
        },
        {
          "output_type": "stream",
          "name": "stderr",
          "text": [
            "ERROR:root:Issue getting: http://www.rochellegriffin.com/recipes/wp-content/uploads/2017/07/bigstock-Raw-sweet-potatoes-119442311.jpg\n",
            "Error: 'Bing' object has no attribute 'sources'\n",
            "  7%|\u001b[32m██▌                                  \u001b[0m 850 MB| Download Speed  2.07MB/s | Estimated Time:  06:21\u001b[0m"
          ]
        },
        {
          "output_type": "stream",
          "name": "stdout",
          "text": [
            "[%] Downloading Image #59 from https://2.bp.blogspot.com/-VUsavhaybB0/V6jZ8i6vZgI/AAAAAAAAGaM/1hI-YTdcp5g5XiBVs_tr6IlMt0EmorHEACLcB/s1600/Valley-Spuds-Pile-of-White-Potatoes.jpg\n",
            "[%] File Downloaded !\n",
            "\n",
            "[%] Downloading Image #60 from https://img3.21food.com/img/product/2020/11/18/food3052221605684008027527.jpg\n"
          ]
        },
        {
          "output_type": "stream",
          "name": "stderr",
          "text": [
            "\r  7%|\u001b[32m██▌                                  \u001b[0m 850 MB| Download Speed  1.22MB/s | Estimated Time:  10:47\u001b[0m"
          ]
        },
        {
          "output_type": "stream",
          "name": "stdout",
          "text": [
            "[%] File Downloaded !\n",
            "\n",
            "[%] Downloading Image #61 from http://www.schoolphotoproject.com/_picture-of-vegetable/redpotato-photo1-l.jpg\n"
          ]
        },
        {
          "output_type": "stream",
          "name": "stderr",
          "text": [
            "\r  7%|\u001b[32m██▋                                  \u001b[0m 850 MB| Download Speed  1.08s/MB | Estimated Time:  14:15\u001b[0m"
          ]
        },
        {
          "output_type": "stream",
          "name": "stdout",
          "text": [
            "[%] File Downloaded !\n",
            "\n",
            "[%] Downloading Image #62 from https://plantasyflores.online/wp-content/uploads/2018/01/potatoes-1388512_1920.jpg\n"
          ]
        },
        {
          "output_type": "stream",
          "name": "stderr",
          "text": [
            "\r  7%|\u001b[32m██▋                                  \u001b[0m 850 MB| Download Speed  1.31s/MB | Estimated Time:  17:10\u001b[0m"
          ]
        },
        {
          "output_type": "stream",
          "name": "stdout",
          "text": [
            "[%] File Downloaded !\n",
            "\n"
          ]
        },
        {
          "output_type": "stream",
          "name": "stderr",
          "text": [
            "\r  7%|\u001b[32m██▋                                  \u001b[0m 850 MB| Download Speed  1.14s/MB | Estimated Time:  14:56\u001b[0m"
          ]
        },
        {
          "output_type": "stream",
          "name": "stdout",
          "text": [
            "[%] Downloading Image #63 from https://2.bp.blogspot.com/-VWbIOuj_Yts/V5G8d4QFgpI/AAAAAAAAAJg/iqnn2exgVHsZHVmgiiamvP_iXXBFkg8TwCLcB/s1600/Potatoes.jpg\n",
            "[%] File Downloaded !\n",
            "\n",
            "[%] Downloading Image #64 from https://medmunch.com/wp-content/uploads/2019/12/Potatoes-2.jpg\n"
          ]
        },
        {
          "output_type": "stream",
          "name": "stderr",
          "text": [
            "\r  8%|\u001b[32m██▊                                  \u001b[0m 850 MB| Download Speed  1.18s/MB | Estimated Time:  15:28\u001b[0m"
          ]
        },
        {
          "output_type": "stream",
          "name": "stdout",
          "text": [
            "[%] File Downloaded !\n",
            "\n"
          ]
        },
        {
          "output_type": "stream",
          "name": "stderr",
          "text": [
            "\r  8%|\u001b[32m██▊                                  \u001b[0m 850 MB| Download Speed  1.08MB/s | Estimated Time:  12:04\u001b[0m"
          ]
        },
        {
          "output_type": "stream",
          "name": "stdout",
          "text": [
            "[%] Downloading Image #65 from https://therecipecritic.com/wp-content/uploads/2020/12/airfryerpotatoes2.jpg\n",
            "[%] File Downloaded !\n",
            "\n",
            "[%] Downloading Image #66 from https://cottagelife.com/wp-content/uploads/2018/12/shutterstock_1101418244-1200x800.jpg\n"
          ]
        },
        {
          "output_type": "stream",
          "name": "stderr",
          "text": [
            "\r  8%|\u001b[32m██▊                                  \u001b[0m 850 MB| Download Speed  1.23MB/s | Estimated Time:  10:37\u001b[0m"
          ]
        },
        {
          "output_type": "stream",
          "name": "stdout",
          "text": [
            "[%] File Downloaded !\n",
            "\n"
          ]
        },
        {
          "output_type": "stream",
          "name": "stderr",
          "text": [
            "\r  8%|\u001b[32m██▉                                  \u001b[0m 850 MB| Download Speed  1.33MB/s | Estimated Time:  09:49\u001b[0m"
          ]
        },
        {
          "output_type": "stream",
          "name": "stdout",
          "text": [
            "[%] Downloading Image #67 from https://www.thedailymeal.com/img/gallery/are-raw-potatoes-actually-safe-to-eat/l-intro-1680560621.jpg\n",
            "[%] File Downloaded !\n",
            "\n",
            "[%] Downloading Image #68 from https://www.oahufresh.com/wp-content/uploads/2018/04/russet-potatoes.png\n"
          ]
        },
        {
          "output_type": "stream",
          "name": "stderr",
          "text": [
            "\r  8%|\u001b[32m██▉                                  \u001b[0m 850 MB| Download Speed  1.24MB/s | Estimated Time:  10:31\u001b[0m"
          ]
        },
        {
          "output_type": "stream",
          "name": "stdout",
          "text": [
            "[%] File Downloaded !\n",
            "\n",
            "[%] Downloading Image #69 from https://149359756.v2.pressablecdn.com/wp-content/uploads/2019/02/Sweet-Potatoes.jpg\n"
          ]
        },
        {
          "output_type": "stream",
          "name": "stderr",
          "text": [
            "\r  8%|\u001b[32m███                                  \u001b[0m 850 MB| Download Speed  1.34MB/s | Estimated Time:  09:44\u001b[0m"
          ]
        },
        {
          "output_type": "stream",
          "name": "stdout",
          "text": [
            "[%] File Downloaded !\n",
            "\n",
            "[%] Downloading Image #70 from https://www.lsuagcenter.com/~/media/system/2/8/b/9/28b9c0fc75d8edf688b0f442fb673141/murasaki29dscf7485jpg.jpg?h=2016&amp;la=en&amp;w=3024\n"
          ]
        },
        {
          "output_type": "stream",
          "name": "stderr",
          "text": [
            "\r  8%|\u001b[32m███                                  \u001b[0m 850 MB| Download Speed  1.37MB/s | Estimated Time:  09:30\u001b[0m"
          ]
        },
        {
          "output_type": "stream",
          "name": "stdout",
          "text": [
            "[%] File Downloaded !\n",
            "\n"
          ]
        },
        {
          "output_type": "stream",
          "name": "stderr",
          "text": [
            "\r  8%|\u001b[32m███                                  \u001b[0m 850 MB| Download Speed  1.62MB/s | Estimated Time:  07:59\u001b[0m"
          ]
        },
        {
          "output_type": "stream",
          "name": "stdout",
          "text": [
            "[%] Downloading Image #71 from https://greenvalleykitchen.com/wp-content/uploads/2016/05/Roasted-New-Potatoes-With-Parmesan-And-Fresh-Herbs-1.jpg\n",
            "[%] File Downloaded !\n",
            "\n",
            "[%] Downloading Image #72 from https://images.heb.com/is/image/HEBGrocery/000318983?fit=constrain,1&amp;wid=800&amp;hei=800&amp;fmt=jpg&amp;qlt=85,0&amp;resMode=sharp2&amp;op_usm=1.75,0.3,2,0\n"
          ]
        },
        {
          "output_type": "stream",
          "name": "stderr",
          "text": [
            "ERROR:root:Issue getting: https://images.heb.com/is/image/HEBGrocery/000318983?fit=constrain,1&amp;wid=800&amp;hei=800&amp;fmt=jpg&amp;qlt=85,0&amp;resMode=sharp2&amp;op_usm=1.75,0.3,2,0\n",
            "Error: 'Bing' object has no attribute 'sources'\n",
            "ERROR:root:Issue getting: https://hgtvhome.sndimg.com/content/dam/images/hgtv/stock/2018/4/3/0/shutterstock_Pi-Lens_166805753_take-your-potatoes-from-the-garden.jpg.rend.hgtvcom.1280.853.suffix/1522782108752.jpeg\n",
            "Error: 'Bing' object has no attribute 'sources'\n"
          ]
        },
        {
          "output_type": "stream",
          "name": "stdout",
          "text": [
            "[%] Downloading Image #72 from https://hgtvhome.sndimg.com/content/dam/images/hgtv/stock/2018/4/3/0/shutterstock_Pi-Lens_166805753_take-your-potatoes-from-the-garden.jpg.rend.hgtvcom.1280.853.suffix/1522782108752.jpeg\n",
            "[%] Downloading Image #72 from https://i.pinimg.com/originals/20/ac/cb/20accb7538e92e4a20b7ea60926f701e.jpg\n"
          ]
        },
        {
          "output_type": "stream",
          "name": "stderr",
          "text": [
            "\r  8%|\u001b[32m███▏                                 \u001b[0m 850 MB| Download Speed  1.18MB/s | Estimated Time:  10:56\u001b[0m"
          ]
        },
        {
          "output_type": "stream",
          "name": "stdout",
          "text": [
            "[%] File Downloaded !\n",
            "\n",
            "[%] Downloading Image #73 from https://gpi-degouwe.com/wp-content/uploads/2020/06/Potatoes.jpg\n"
          ]
        },
        {
          "output_type": "stream",
          "name": "stderr",
          "text": [
            "\r  9%|\u001b[32m███▏                                 \u001b[0m 850 MB| Download Speed  1.03MB/s | Estimated Time:  12:35\u001b[0m"
          ]
        },
        {
          "output_type": "stream",
          "name": "stdout",
          "text": [
            "[%] File Downloaded !\n",
            "\n"
          ]
        },
        {
          "output_type": "stream",
          "name": "stderr",
          "text": [
            "  9%|\u001b[32m███▎                                 \u001b[0m 850 MB| Download Speed  1.65MB/s | Estimated Time:  07:49\u001b[0m"
          ]
        },
        {
          "output_type": "stream",
          "name": "stdout",
          "text": [
            "[%] Downloading Image #74 from https://images.freeimages.com/images/large-previews/ffa/fresh-potatoes-for-sale-4-1326189.jpg\n",
            "[%] File Downloaded !\n",
            "\n",
            "[%] Downloading Image #75 from https://assets.epicurious.com/photos/5bcf4168b559a344c92204ce/6:4/w_1600%2Cc_limit/red-bliss-potatoes-102318.jpg\n",
            "[%] File Downloaded !\n",
            "\n",
            "[%] Downloading Image #76 from https://www.chequamegonfoodcoop.com/wp-content/uploads/2017/03/potatoes-1388512_1920-1240x719.jpg\n"
          ]
        },
        {
          "output_type": "stream",
          "name": "stderr",
          "text": [
            "\r  9%|\u001b[32m███▎                                 \u001b[0m 850 MB| Download Speed  1.42MB/s | Estimated Time:  09:06\u001b[0m"
          ]
        },
        {
          "output_type": "stream",
          "name": "stdout",
          "text": [
            "[%] File Downloaded !\n",
            "\n",
            "[%] Downloading Image #77 from http://images.mini-ielts.com/images/2017/15/potato.jpg\n"
          ]
        },
        {
          "output_type": "stream",
          "name": "stderr",
          "text": [
            "\r  9%|\u001b[32m███▎                                 \u001b[0m 850 MB| Download Speed  1.21MB/s | Estimated Time:  10:36\u001b[0m"
          ]
        },
        {
          "output_type": "stream",
          "name": "stdout",
          "text": [
            "[%] File Downloaded !\n",
            "\n"
          ]
        },
        {
          "output_type": "stream",
          "name": "stderr",
          "text": [
            "\r  9%|\u001b[32m███▍                                 \u001b[0m 850 MB| Download Speed  1.12MB/s | Estimated Time:  11:29\u001b[0m"
          ]
        },
        {
          "output_type": "stream",
          "name": "stdout",
          "text": [
            "[%] Downloading Image #78 from https://images.heb.com/is/image/HEBGrocery/000318983\n",
            "[%] File Downloaded !\n",
            "\n"
          ]
        },
        {
          "output_type": "stream",
          "name": "stderr",
          "text": [
            "\r  9%|\u001b[32m███▍                                 \u001b[0m 850 MB| Download Speed  1.24MB/s | Estimated Time:  10:21\u001b[0m"
          ]
        },
        {
          "output_type": "stream",
          "name": "stdout",
          "text": [
            "[%] Downloading Image #79 from http://del.h-cdn.co/assets/17/38/1506016058-baked-sweet-potatoes.jpg\n",
            "[%] File Downloaded !\n",
            "\n",
            "[%] Downloading Image #80 from https://www.eatwell101.com/wp-content/uploads/2018/11/Parmesan-Roasted-Sweet-Potato-Recipe.jpg\n"
          ]
        },
        {
          "output_type": "stream",
          "name": "stderr",
          "text": [
            "\r  9%|\u001b[32m███▍                                 \u001b[0m 850 MB| Download Speed  1.36MB/s | Estimated Time:  09:27\u001b[0m"
          ]
        },
        {
          "output_type": "stream",
          "name": "stdout",
          "text": [
            "[%] File Downloaded !\n",
            "\n"
          ]
        },
        {
          "output_type": "stream",
          "name": "stderr",
          "text": [
            "ERROR:root:Issue getting: https://www.finedininglovers.com/sites/g/files/xknfdk626/files/2020-12/yellow_potatoes©iStock.jpg\n",
            "Error: 'ascii' codec can't encode character '\\xa9' in position 58: ordinal not in range(128)\n"
          ]
        },
        {
          "output_type": "stream",
          "name": "stdout",
          "text": [
            "[%] Downloading Image #81 from https://www.finedininglovers.com/sites/g/files/xknfdk626/files/2020-12/yellow_potatoes©iStock.jpg\n",
            "[%] Downloading Image #81 from https://zonefresh.com.au/wp-content/uploads/620-600x600.jpg\n"
          ]
        },
        {
          "output_type": "stream",
          "name": "stderr",
          "text": [
            "\r 10%|\u001b[32m███▌                                 \u001b[0m 850 MB| Download Speed  1.20MB/s | Estimated Time:  10:38\u001b[0m"
          ]
        },
        {
          "output_type": "stream",
          "name": "stdout",
          "text": [
            "[%] File Downloaded !\n",
            "\n"
          ]
        },
        {
          "output_type": "stream",
          "name": "stderr",
          "text": [
            "\r 10%|\u001b[32m███▌                                 \u001b[0m 850 MB| Download Speed  1.48MB/s | Estimated Time:  08:37\u001b[0m"
          ]
        },
        {
          "output_type": "stream",
          "name": "stdout",
          "text": [
            "[%] Downloading Image #82 from https://images.freeimages.com/images/large-previews/5df/fresh-potatoes-for-sale-2-1326207.jpg\n",
            "[%] File Downloaded !\n",
            "\n"
          ]
        },
        {
          "output_type": "stream",
          "name": "stderr",
          "text": [
            "\r 10%|\u001b[32m███▌                                 \u001b[0m 850 MB| Download Speed  1.54MB/s | Estimated Time:  08:16\u001b[0m"
          ]
        },
        {
          "output_type": "stream",
          "name": "stdout",
          "text": [
            "[%] Downloading Image #83 from https://izzycooking.com/wp-content/uploads/2023/03/Potatoes-01.jpg\n",
            "[%] File Downloaded !\n",
            "\n"
          ]
        },
        {
          "output_type": "stream",
          "name": "stderr",
          "text": [
            "\r 10%|\u001b[32m███▋                                 \u001b[0m 850 MB| Download Speed  1.80MB/s | Estimated Time:  07:05\u001b[0m"
          ]
        },
        {
          "output_type": "stream",
          "name": "stdout",
          "text": [
            "[%] Downloading Image #84 from https://media.buzzle.com/media/images-en/photos/vegetables/1200-78508527-fresh-potatoes.jpg\n",
            "[%] File Downloaded !\n",
            "\n"
          ]
        },
        {
          "output_type": "stream",
          "name": "stderr",
          "text": [
            "\r 10%|\u001b[32m███▋                                 \u001b[0m 850 MB| Download Speed  1.92MB/s | Estimated Time:  06:38\u001b[0m"
          ]
        },
        {
          "output_type": "stream",
          "name": "stdout",
          "text": [
            "[%] Downloading Image #85 from https://image.freepik.com/free-photo/three-organic-fresh-potatoes-close-up-photo_114579-68728.jpg?w=2000\n",
            "[%] File Downloaded !\n",
            "\n",
            "[%] Downloading Image #86 from https://images.freeimages.com/images/large-previews/251/fresh-potatoes-for-sale-5-1326177.jpg\n"
          ]
        },
        {
          "output_type": "stream",
          "name": "stderr",
          "text": [
            "\r 10%|\u001b[32m███▋                                 \u001b[0m 850 MB| Download Speed  1.93MB/s | Estimated Time:  06:36\u001b[0mERROR:root:Issue getting: https://preview.redd.it/5n97lghoaav21.jpg?auto=webp&amp;s=12e89c8f93220cdd2a74ebf82e60692c9299af3b\n",
            "Error: 'Bing' object has no attribute 'sources'\n"
          ]
        },
        {
          "output_type": "stream",
          "name": "stdout",
          "text": [
            "[%] File Downloaded !\n",
            "\n",
            "[%] Downloading Image #87 from https://preview.redd.it/5n97lghoaav21.jpg?auto=webp&amp;s=12e89c8f93220cdd2a74ebf82e60692c9299af3b\n"
          ]
        },
        {
          "output_type": "stream",
          "name": "stderr",
          "text": [
            "\r 10%|\u001b[32m███▊                                 \u001b[0m 850 MB| Download Speed  1.91MB/s | Estimated Time:  06:38\u001b[0m"
          ]
        },
        {
          "output_type": "stream",
          "name": "stdout",
          "text": [
            "[%] Downloading Image #87 from https://thumbs.dreamstime.com/z/freshly-picked-potatoes-two-varieties-freshly-dug-home-grown-new-potatoes-first-early-swift-left-salad-potato-charlotte-133397225.jpg\n",
            "[%] File Downloaded !\n",
            "\n"
          ]
        },
        {
          "output_type": "stream",
          "name": "stderr",
          "text": [
            "ERROR:root:Issue getting: https://images.creativemarket.com/0.1.0/ps/9021358/1820/1213/m1/fpnw/wm1/yexikmycaesvf1f7iozfaztqab1opypllvoopl1ifrvohs5nbtmut6ox0ppqmwpe-.jpg?1599635050&amp;s=f85349bb683491ba047bdd741060417c\n",
            "Error: 'Bing' object has no attribute 'sources'\n"
          ]
        },
        {
          "output_type": "stream",
          "name": "stdout",
          "text": [
            "[%] Downloading Image #88 from https://images.creativemarket.com/0.1.0/ps/9021358/1820/1213/m1/fpnw/wm1/yexikmycaesvf1f7iozfaztqab1opypllvoopl1ifrvohs5nbtmut6ox0ppqmwpe-.jpg?1599635050&amp;s=f85349bb683491ba047bdd741060417c\n",
            "[%] Downloading Image #88 from https://4.imimg.com/data4/TM/KN/MY-16688239/fresh-potato-1000x1000.jpeg\n"
          ]
        },
        {
          "output_type": "stream",
          "name": "stderr",
          "text": [
            "\r 10%|\u001b[32m███▊                                 \u001b[0m 850 MB| Download Speed  1.08MB/s | Estimated Time:  11:42\u001b[0m"
          ]
        },
        {
          "output_type": "stream",
          "name": "stdout",
          "text": [
            "[%] File Downloaded !\n",
            "\n"
          ]
        },
        {
          "output_type": "stream",
          "name": "stderr",
          "text": [
            "\r 10%|\u001b[32m███▊                                 \u001b[0m 850 MB| Download Speed  1.34MB/s | Estimated Time:  09:27\u001b[0m"
          ]
        },
        {
          "output_type": "stream",
          "name": "stdout",
          "text": [
            "[%] Downloading Image #89 from https://davfzwy2it6ms.cloudfront.net/files/frontend/cropped/Valley-Spuds-Pile-of-White-Potatoes.jpg\n",
            "[%] File Downloaded !\n",
            "\n",
            "[%] Downloading Image #90 from https://utopia.org/app/uploads/2021/10/can-you-eat-raw-potatoes-cc0-pixabay-couleur-211023.jpg\n"
          ]
        },
        {
          "output_type": "stream",
          "name": "stderr",
          "text": [
            "\r 11%|\u001b[32m███▉                                 \u001b[0m 850 MB| Download Speed  1.12MB/s | Estimated Time:  11:17\u001b[0m"
          ]
        },
        {
          "output_type": "stream",
          "name": "stdout",
          "text": [
            "[%] File Downloaded !\n",
            "\n",
            "[%] Downloading Image #91 from https://www.foodbusinessafrica.com/wp-content/uploads/2023/04/iC7HBvohbJqExqvbKcV3pP-1-1.jpg\n"
          ]
        },
        {
          "output_type": "stream",
          "name": "stderr",
          "text": [
            "\r 11%|\u001b[32m███▉                                 \u001b[0m 850 MB| Download Speed  1.15s/MB | Estimated Time:  14:36\u001b[0m"
          ]
        },
        {
          "output_type": "stream",
          "name": "stdout",
          "text": [
            "[%] File Downloaded !\n",
            "\n",
            "[%] Downloading Image #92 from https://sjgmltmiqabi.cdn.shift8web.com/wp-content/uploads/2020/10/News-Potatoes-1.jpg\n"
          ]
        },
        {
          "output_type": "stream",
          "name": "stderr",
          "text": [
            " 11%|\u001b[32m████                                 \u001b[0m 850 MB| Download Speed  1.14MB/s | Estimated Time:  11:03\u001b[0m"
          ]
        },
        {
          "output_type": "stream",
          "name": "stdout",
          "text": [
            "[%] File Downloaded !\n",
            "\n",
            "[%] Downloading Image #93 from https://healthyfamilyproject.com/wp-content/uploads/2020/05/Potatoes-background.jpg\n",
            "[%] File Downloaded !\n",
            "\n",
            "[%] Downloading Image #94 from https://usercontent1.hubstatic.com/13380514_f520.jpg\n"
          ]
        },
        {
          "output_type": "stream",
          "name": "stderr",
          "text": [
            "\r 11%|\u001b[32m████                                 \u001b[0m 850 MB| Download Speed  1.30MB/s | Estimated Time:  09:42\u001b[0m"
          ]
        },
        {
          "output_type": "stream",
          "name": "stdout",
          "text": [
            "[%] File Downloaded !\n",
            "\n"
          ]
        },
        {
          "output_type": "stream",
          "name": "stderr",
          "text": [
            "ERROR:root:Issue getting: https://imagesvc.meredithcorp.io/v3/mm/image?q=85&amp;c=sc&amp;poi=face&amp;w=2000&amp;h=1000&amp;url=https:%2F%2Fstatic.onecms.io%2Fwp-content%2Fuploads%2Fsites%2F43%2F2020%2F11%2F17%2FGettyImages-171150818-2000.jpg\n",
            "Error: 'Bing' object has no attribute 'sources'\n"
          ]
        },
        {
          "output_type": "stream",
          "name": "stdout",
          "text": [
            "[%] Downloading Image #95 from https://imagesvc.meredithcorp.io/v3/mm/image?q=85&amp;c=sc&amp;poi=face&amp;w=2000&amp;h=1000&amp;url=https:%2F%2Fstatic.onecms.io%2Fwp-content%2Fuploads%2Fsites%2F43%2F2020%2F11%2F17%2FGettyImages-171150818-2000.jpg\n",
            "[%] Downloading Image #95 from https://static.fanpage.it/wp-content/uploads/sites/22/2018/08/potatoes.jpg\n"
          ]
        },
        {
          "output_type": "stream",
          "name": "stderr",
          "text": [
            "\r 11%|\u001b[32m████▏                                \u001b[0m 850 MB| Download Speed  1.16s/MB | Estimated Time:  14:36\u001b[0m"
          ]
        },
        {
          "output_type": "stream",
          "name": "stdout",
          "text": [
            "[%] File Downloaded !\n",
            "\n",
            "[%] Downloading Image #96 from http://www.freeimageslive.com/galleries/food/fruitveg/preview/potato0729.jpg\n"
          ]
        },
        {
          "output_type": "stream",
          "name": "stderr",
          "text": [
            "\r 11%|\u001b[32m████▏                                \u001b[0m 850 MB| Download Speed  1.10s/MB | Estimated Time:  13:46\u001b[0m"
          ]
        },
        {
          "output_type": "stream",
          "name": "stdout",
          "text": [
            "[%] File Downloaded !\n",
            "\n",
            "[%] Downloading Image #97 from https://static1.bigstockphoto.com/4/6/2/large1500/264155233.jpg\n"
          ]
        },
        {
          "output_type": "stream",
          "name": "stderr",
          "text": [
            "\r 11%|\u001b[32m████▏                                \u001b[0m 850 MB| Download Speed  1.04MB/s | Estimated Time:  12:02\u001b[0m"
          ]
        },
        {
          "output_type": "stream",
          "name": "stdout",
          "text": [
            "[%] File Downloaded !\n",
            "\n",
            "[%] Downloading Image #98 from https://lawn.com.au/wp-content/uploads/2022/10/how-to-grow-potatoes-in-Australia.jpg\n"
          ]
        },
        {
          "output_type": "stream",
          "name": "stderr",
          "text": [
            "\r 12%|\u001b[32m████▎                                \u001b[0m 850 MB| Download Speed  1.26s/MB | Estimated Time:  15:45\u001b[0m"
          ]
        },
        {
          "output_type": "stream",
          "name": "stdout",
          "text": [
            "[%] File Downloaded !\n",
            "\n",
            "[%] Downloading Image #99 from https://www.atablefullofjoy.com/wp-content/uploads/2021/06/how-to-tell-if-potatoes-are-bad-5.jpg\n",
            "[%] File Downloaded !\n",
            "\n",
            "[%] Downloading Image #100 from https://www.publicdomainpictures.net/pictures/210000/velka/fresh-red-potatoes.jpg\n"
          ]
        },
        {
          "output_type": "stream",
          "name": "stderr",
          "text": [
            "\r 12%|\u001b[32m████▎                                \u001b[0m 850 MB| Download Speed  1.24MB/s | Estimated Time:  10:05\u001b[0m"
          ]
        },
        {
          "output_type": "stream",
          "name": "stdout",
          "text": [
            "[%] File Downloaded !\n",
            "\n",
            "[%] Downloading Image #101 from https://www.nscf.org.au/wp-content/uploads/2018/11/Sweet-potato-s-e1542688845806.jpg\n"
          ]
        },
        {
          "output_type": "stream",
          "name": "stderr",
          "text": [
            "\r 12%|\u001b[32m████▍                                \u001b[0m 850 MB| Download Speed  1.29MB/s | Estimated Time:  09:41\u001b[0m"
          ]
        },
        {
          "output_type": "stream",
          "name": "stdout",
          "text": [
            "[%] File Downloaded !\n",
            "\n",
            "[%] Downloading Image #102 from https://change2naturalfoods.com/images/media/2020/07/large15946118161GSgL13103.jpg\n"
          ]
        },
        {
          "output_type": "stream",
          "name": "stderr",
          "text": [
            "\r 12%|\u001b[32m████▍                                \u001b[0m 850 MB| Download Speed  1.14s/MB | Estimated Time:  14:09\u001b[0m"
          ]
        },
        {
          "output_type": "stream",
          "name": "stdout",
          "text": [
            "[%] File Downloaded !\n",
            "\n",
            "[%] Downloading Image #103 from https://aristaexport.com/images/products/83-diamond-potato-3.jpg\n"
          ]
        },
        {
          "output_type": "stream",
          "name": "stderr",
          "text": [
            "\r 12%|\u001b[32m████▍                                \u001b[0m 850 MB| Download Speed  1.07MB/s | Estimated Time:  11:39\u001b[0m"
          ]
        },
        {
          "output_type": "stream",
          "name": "stdout",
          "text": [
            "[%] File Downloaded !\n",
            "\n",
            "[%] Downloading Image #104 from https://3dprint.com/wp-content/uploads/2019/01/1711w-yellow-potatoes-getty.jpg\n"
          ]
        },
        {
          "output_type": "stream",
          "name": "stderr",
          "text": [
            "\r 12%|\u001b[32m████▌                                \u001b[0m 850 MB| Download Speed  1.28MB/s | Estimated Time:  09:43\u001b[0m"
          ]
        },
        {
          "output_type": "stream",
          "name": "stdout",
          "text": [
            "[%] File Downloaded !\n",
            "\n",
            "[%] Downloading Image #105 from http://www.potatogoodness.com/wp-content/uploads/2016/06/Fresh-Various-Types-13.jpg\n"
          ]
        },
        {
          "output_type": "stream",
          "name": "stderr",
          "text": [
            "\r 12%|\u001b[32m████▌                                \u001b[0m 850 MB| Download Speed  1.32MB/s | Estimated Time:  09:24\u001b[0m"
          ]
        },
        {
          "output_type": "stream",
          "name": "stdout",
          "text": [
            "[%] File Downloaded !\n",
            "\n",
            "[%] Downloading Image #106 from https://pcdn.columbian.com/wp-content/uploads/2018/08/0831_WKD_market-fresh-Potatoes.jpg\n"
          ]
        },
        {
          "output_type": "stream",
          "name": "stderr",
          "text": [
            "\r 12%|\u001b[32m████▌                                \u001b[0m 850 MB| Download Speed  1.17MB/s | Estimated Time:  10:35\u001b[0m"
          ]
        },
        {
          "output_type": "stream",
          "name": "stdout",
          "text": [
            "[%] File Downloaded !\n",
            "\n",
            "[%] Downloading Image #107 from https://www.healthdigest.com/img/gallery/is-it-safe-to-eat-raw-potatoes/l-intro-1628519512.jpg\n"
          ]
        },
        {
          "output_type": "stream",
          "name": "stderr",
          "text": [
            "\r 13%|\u001b[32m████▋                                \u001b[0m 850 MB| Download Speed  1.29MB/s | Estimated Time:  09:37\u001b[0m"
          ]
        },
        {
          "output_type": "stream",
          "name": "stdout",
          "text": [
            "[%] File Downloaded !\n",
            "\n",
            "[%] Downloading Image #108 from https://img1.21food.com/img/cj/2014/10/9/1412795930232725.jpg\n"
          ]
        },
        {
          "output_type": "stream",
          "name": "stderr",
          "text": [
            "\r 13%|\u001b[32m████▋                                \u001b[0m 850 MB| Download Speed  1.46MB/s | Estimated Time:  08:27\u001b[0m"
          ]
        },
        {
          "output_type": "stream",
          "name": "stdout",
          "text": [
            "[%] File Downloaded !\n",
            "\n",
            "[%] Downloading Image #109 from https://static1.bigstockphoto.com/2/3/2/large1500/232936540.jpg\n"
          ]
        },
        {
          "output_type": "stream",
          "name": "stderr",
          "text": [
            "\r 13%|\u001b[32m████▋                                \u001b[0m 850 MB| Download Speed  1.37MB/s | Estimated Time:  09:02\u001b[0m"
          ]
        },
        {
          "output_type": "stream",
          "name": "stdout",
          "text": [
            "[%] File Downloaded !\n",
            "\n",
            "[%] Downloading Image #110 from https://m.media-amazon.com/images/I/61yXL70-RaL._SX679_.jpg\n"
          ]
        },
        {
          "output_type": "stream",
          "name": "stderr",
          "text": [
            "\r 13%|\u001b[32m████▊                                \u001b[0m 850 MB| Download Speed  1.68MB/s | Estimated Time:  07:21\u001b[0m"
          ]
        },
        {
          "output_type": "stream",
          "name": "stdout",
          "text": [
            "[%] File Downloaded !\n",
            "\n",
            "[%] Downloading Image #111 from https://tewew.com/wp-content/uploads/2020/12/potato-1.jpg\n"
          ]
        },
        {
          "output_type": "stream",
          "name": "stderr",
          "text": [
            "ERROR:root:Issue getting: https://tewew.com/wp-content/uploads/2020/12/potato-1.jpg\n",
            "Error: 'Bing' object has no attribute 'sources'\n"
          ]
        },
        {
          "output_type": "stream",
          "name": "stdout",
          "text": [
            "[%] Downloading Image #111 from https://www.healthyfood4life.com/wp-content/uploads/2019/11/25961727_m-1-1536x1020.jpg\n"
          ]
        },
        {
          "output_type": "stream",
          "name": "stderr",
          "text": [
            "\r 13%|\u001b[32m████▊                                \u001b[0m 850 MB| Download Speed  1.74s/MB | Estimated Time:  21:24\u001b[0m"
          ]
        },
        {
          "output_type": "stream",
          "name": "stdout",
          "text": [
            "[%] File Downloaded !\n",
            "\n",
            "[%] Downloading Image #112 from https://www.freefoodphotos.com/imagelibrary/vegetables/potatoes.jpg\n"
          ]
        },
        {
          "output_type": "stream",
          "name": "stderr",
          "text": [
            "\r 13%|\u001b[32m████▉                                \u001b[0m 850 MB| Download Speed  1.53s/MB | Estimated Time:  18:46\u001b[0m"
          ]
        },
        {
          "output_type": "stream",
          "name": "stdout",
          "text": [
            "[%] File Downloaded !\n",
            "\n",
            "[%] Downloading Image #113 from https://homedeliveries.co.zw/518-large_default/15kg-fresh-farm-potatoes.jpg\n"
          ]
        },
        {
          "output_type": "stream",
          "name": "stderr",
          "text": [
            "\r 13%|\u001b[32m████▉                                \u001b[0m 850 MB| Download Speed  1.98s/MB | Estimated Time:  24:19\u001b[0m"
          ]
        },
        {
          "output_type": "stream",
          "name": "stdout",
          "text": [
            "[%] File Downloaded !\n",
            "\n",
            "[%] Downloading Image #114 from https://post.healthline.com/wp-content/uploads/2020/03/raw-potatoes-potato-1200x628-facebook-1200x628.jpg\n",
            "[%] File Downloaded !\n",
            "\n"
          ]
        },
        {
          "output_type": "stream",
          "name": "stderr",
          "text": [
            "\r 14%|\u001b[32m█████                                \u001b[0m 850 MB| Download Speed  1.17s/MB | Estimated Time:  14:17\u001b[0m"
          ]
        },
        {
          "output_type": "stream",
          "name": "stdout",
          "text": [
            "[%] Downloading Image #115 from https://gooddecisions.com/wp-content/uploads/2016/07/sweet-potatoes.jpg\n",
            "[%] File Downloaded !\n",
            "\n",
            "[%] Downloading Image #116 from https://c.pxhere.com/images/a5/32/4f30f0102ff35fb010eac85051fa-1591427.jpg!d\n"
          ]
        },
        {
          "output_type": "stream",
          "name": "stderr",
          "text": [
            "\r 14%|\u001b[32m█████                                \u001b[0m 850 MB| Download Speed  1.02s/MB | Estimated Time:  12:29\u001b[0m"
          ]
        },
        {
          "output_type": "stream",
          "name": "stdout",
          "text": [
            "[%] File Downloaded !\n",
            "\n",
            "[%] Downloading Image #117 from https://pcdn.columbian.com/wp-content/uploads/2018/06/0622_WKD_Market-Fresh-new-potatoes.jpg\n"
          ]
        },
        {
          "output_type": "stream",
          "name": "stderr",
          "text": [
            "\r 14%|\u001b[32m█████                                \u001b[0m 850 MB| Download Speed  1.02s/MB | Estimated Time:  12:25\u001b[0m"
          ]
        },
        {
          "output_type": "stream",
          "name": "stdout",
          "text": [
            "[%] File Downloaded !\n",
            "\n",
            "[%] Downloading Image #118 from http://sweetwater-organic.org/wp-content/uploads/2014/04/Red-potatoes-3.jpg\n"
          ]
        },
        {
          "output_type": "stream",
          "name": "stderr",
          "text": [
            "\r 14%|\u001b[32m█████▏                               \u001b[0m 850 MB| Download Speed  1.21s/MB | Estimated Time:  14:43\u001b[0m"
          ]
        },
        {
          "output_type": "stream",
          "name": "stdout",
          "text": [
            "[%] File Downloaded !\n",
            "\n",
            "[%] Downloading Image #119 from https://www.thamesfruitandveg.com/wp-content/uploads/2021/02/Raw-Russet-Baking-Potatoes.jpg\n"
          ]
        },
        {
          "output_type": "stream",
          "name": "stderr",
          "text": [
            "\r 14%|\u001b[32m█████▏                               \u001b[0m 850 MB| Download Speed  1.14s/MB | Estimated Time:  13:50\u001b[0m"
          ]
        },
        {
          "output_type": "stream",
          "name": "stdout",
          "text": [
            "[%] File Downloaded !\n",
            "\n"
          ]
        },
        {
          "output_type": "stream",
          "name": "stderr",
          "text": [
            "\r 14%|\u001b[32m█████▏                               \u001b[0m 850 MB| Download Speed  1.01s/MB | Estimated Time:  12:13\u001b[0m"
          ]
        },
        {
          "output_type": "stream",
          "name": "stdout",
          "text": [
            "[%] Downloading Image #120 from https://www.busycooks.net/wp-content/uploads/2020/11/Potato-Varieties-1.jpg\n",
            "[%] File Downloaded !\n",
            "\n",
            "[%] Downloading Image #121 from http://2.bp.blogspot.com/-4hKl6k1-bes/T1nycRo-V2I/AAAAAAAAA4Q/8xGNVzYCYDU/s1600/raw+potato.jpg\n"
          ]
        },
        {
          "output_type": "stream",
          "name": "stderr",
          "text": [
            "\r 14%|\u001b[32m█████▎                               \u001b[0m 850 MB| Download Speed  1.25MB/s | Estimated Time:  09:43\u001b[0m"
          ]
        },
        {
          "output_type": "stream",
          "name": "stdout",
          "text": [
            "[%] File Downloaded !\n",
            "\n",
            "[%] Downloading Image #122 from http://2.bp.blogspot.com/-saMoH_1pxWQ/UxPNa7KFaMI/AAAAAAAAD-s/mRZN2wNGK5A/s1600/DSCN4816+potatoes.jpg\n"
          ]
        },
        {
          "output_type": "stream",
          "name": "stderr",
          "text": [
            "\r 14%|\u001b[32m█████▎                               \u001b[0m 850 MB| Download Speed  1.40MB/s | Estimated Time:  08:39\u001b[0m"
          ]
        },
        {
          "output_type": "stream",
          "name": "stdout",
          "text": [
            "[%] File Downloaded !\n",
            "\n",
            "[%] Downloading Image #123 from http://sahajaaharam.com/files/Potatoes.jpg\n"
          ]
        },
        {
          "output_type": "stream",
          "name": "stderr",
          "text": [
            "\r 14%|\u001b[32m█████▎                               \u001b[0m 850 MB| Download Speed  1.14s/MB | Estimated Time:  13:47\u001b[0m"
          ]
        },
        {
          "output_type": "stream",
          "name": "stdout",
          "text": [
            "[%] File Downloaded !\n",
            "\n"
          ]
        },
        {
          "output_type": "stream",
          "name": "stderr",
          "text": [
            "\r 15%|\u001b[32m█████▍                               \u001b[0m 850 MB| Download Speed  1.13MB/s | Estimated Time:  10:44\u001b[0mERROR:root:Issue getting: https://tipscrafts.fw.cdnpull.com/inline_resized_1024_6042924cc08d8_355674.jpg\n",
            "Error: 'Bing' object has no attribute 'sources'\n"
          ]
        },
        {
          "output_type": "stream",
          "name": "stdout",
          "text": [
            "[%] Downloading Image #124 from https://www.cookingclassy.com/wp-content/uploads/2018/09/baked-potatoes-33-788x1182.jpg\n",
            "[%] File Downloaded !\n",
            "\n",
            "[%] Downloading Image #125 from https://tipscrafts.fw.cdnpull.com/inline_resized_1024_6042924cc08d8_355674.jpg\n",
            "[%] Downloading Image #125 from https://www.irishamericanmom.com/wp-content/uploads/2016/06/Potatoes-with-cracked-skins.jpg\n"
          ]
        },
        {
          "output_type": "stream",
          "name": "stderr",
          "text": [
            "\r 15%|\u001b[32m█████▍                               \u001b[0m 850 MB| Download Speed  1.28MB/s | Estimated Time:  09:27\u001b[0m"
          ]
        },
        {
          "output_type": "stream",
          "name": "stdout",
          "text": [
            "[%] File Downloaded !\n",
            "\n",
            "[%] Downloading Image #126 from https://www.errenskitchen.com/wp-content/uploads/2014/05/potatoes-1024x683.jpg\n"
          ]
        },
        {
          "output_type": "stream",
          "name": "stderr",
          "text": [
            " 15%|\u001b[32m█████▌                               \u001b[0m 850 MB| Download Speed  1.56MB/s | Estimated Time:  07:44\u001b[0m"
          ]
        },
        {
          "output_type": "stream",
          "name": "stdout",
          "text": [
            "[%] File Downloaded !\n",
            "\n",
            "[%] Downloading Image #127 from https://www.ratemds.com/blog/wp-content/uploads/2016/02/whole-and-sliced-raw-potatoes.jpg\n",
            "[%] File Downloaded !\n",
            "\n"
          ]
        },
        {
          "output_type": "stream",
          "name": "stderr",
          "text": [
            "\r 15%|\u001b[32m█████▌                               \u001b[0m 850 MB| Download Speed  1.72MB/s | Estimated Time:  06:58\u001b[0m"
          ]
        },
        {
          "output_type": "stream",
          "name": "stdout",
          "text": [
            "[%] Downloading Image #128 from https://izzycooking.com/wp-content/uploads/2023/02/Sweet-Potatoes-01.jpg\n",
            "[%] File Downloaded !\n",
            "\n",
            "[%] Downloading Image #129 from https://purepng.com/public/uploads/large/purepng.com-raw-potatovegetablespotato-941524685692lqtri.png\n"
          ]
        },
        {
          "output_type": "stream",
          "name": "stderr",
          "text": [
            "\r 15%|\u001b[32m█████▌                               \u001b[0m 850 MB| Download Speed  1.00MB/s | Estimated Time:  11:58\u001b[0m"
          ]
        },
        {
          "output_type": "stream",
          "name": "stdout",
          "text": [
            "[%] File Downloaded !\n",
            "\n",
            "[%] Downloading Image #130 from https://5.imimg.com/data5/SELLER/Default/2020/10/AF/RU/OU/311139/fresh-indian-potatoes.JPG\n"
          ]
        },
        {
          "output_type": "stream",
          "name": "stderr",
          "text": [
            "ERROR:root:Invalid image, not saving https://5.imimg.com/data5/SELLER/Default/2020/10/AF/RU/OU/311139/fresh-indian-potatoes.JPG\n",
            "ERROR:root:Issue getting: https://5.imimg.com/data5/SELLER/Default/2020/10/AF/RU/OU/311139/fresh-indian-potatoes.JPG\n",
            "Error: Invalid image, not saving https://5.imimg.com/data5/SELLER/Default/2020/10/AF/RU/OU/311139/fresh-indian-potatoes.JPG\n"
          ]
        },
        {
          "output_type": "stream",
          "name": "stdout",
          "text": [
            "[%] Downloading Image #130 from https://i1.wp.com/greenevi.com/wp-content/uploads/2015/04/greenevi_newpotatoes2.jpg\n"
          ]
        },
        {
          "output_type": "stream",
          "name": "stderr",
          "text": [
            "\r 15%|\u001b[32m█████▋                               \u001b[0m 850 MB| Download Speed  1.37s/MB | Estimated Time:  16:26\u001b[0m"
          ]
        },
        {
          "output_type": "stream",
          "name": "stdout",
          "text": [
            "[%] File Downloaded !\n",
            "\n",
            "[%] Downloading Image #131 from https://www.mashed.com/img/gallery/is-eating-raw-potatoes-actually-safe/l-intro-1653409063.jpg\n"
          ]
        },
        {
          "output_type": "stream",
          "name": "stderr",
          "text": [
            "\r 15%|\u001b[32m█████▋                               \u001b[0m 850 MB| Download Speed  1.25s/MB | Estimated Time:  15:02\u001b[0m"
          ]
        },
        {
          "output_type": "stream",
          "name": "stdout",
          "text": [
            "[%] File Downloaded !\n",
            "\n"
          ]
        },
        {
          "output_type": "stream",
          "name": "stderr",
          "text": [
            "\r 16%|\u001b[32m█████▋                               \u001b[0m 850 MB| Download Speed  1.01MB/s | Estimated Time:  11:49\u001b[0m"
          ]
        },
        {
          "output_type": "stream",
          "name": "stdout",
          "text": [
            "[%] Downloading Image #132 from https://thumbs.dreamstime.com/z/raw-fresh-new-potato-pink-copper-tray-green-onions-parsley-wooden-background-100530833.jpg\n",
            "[%] File Downloaded !\n",
            "\n",
            "[%] Downloading Image #133 from https://thumbs.dreamstime.com/b/raw-potatoes-spread-over-each-other-raw-potatoes-spread-over-each-other-shot-sao-paulo-brazil-179501302.jpg\n",
            "[%] File Downloaded !\n",
            "\n",
            "[%] Downloading Image #134 from https://thumbs.dreamstime.com/z/raw-potatoes-closeup-27093041.jpg\n"
          ]
        },
        {
          "output_type": "stream",
          "name": "stderr",
          "text": [
            "\r 16%|\u001b[32m█████▉                               \u001b[0m 850 MB| Download Speed  2.14MB/s | Estimated Time:  05:34\u001b[0m"
          ]
        },
        {
          "output_type": "stream",
          "name": "stdout",
          "text": [
            "[%] File Downloaded !\n",
            "\n",
            "[%] Downloading Image #135 from https://thumbs.dreamstime.com/z/raw-potato-16432948.jpg\n",
            "[%] File Downloaded !\n",
            "\n",
            "[%] Downloading Image #136 from http://img.allw.mn/content/0y/z0/h887nkw2.jpg\n"
          ]
        },
        {
          "output_type": "stream",
          "name": "stderr",
          "text": [
            "\r 16%|\u001b[32m█████▉                               \u001b[0m 850 MB| Download Speed  1.96MB/s | Estimated Time:  06:03\u001b[0m"
          ]
        },
        {
          "output_type": "stream",
          "name": "stdout",
          "text": [
            "[%] File Downloaded !\n",
            "\n",
            "[%] Downloading Image #137 from https://thumbs.dreamstime.com/b/raw-potatoes-sliced-potatoes-white-background-61792399.jpg\n",
            "[%] File Downloaded !\n",
            "\n",
            "[%] Downloading Image #138 from https://st.depositphotos.com/1030624/1430/i/950/depositphotos_14308261-stock-photo-raw-potato.jpg\n"
          ]
        },
        {
          "output_type": "stream",
          "name": "stderr",
          "text": [
            "\r 16%|\u001b[32m██████                               \u001b[0m 850 MB| Download Speed  2.36MB/s | Estimated Time:  05:01\u001b[0m"
          ]
        },
        {
          "output_type": "stream",
          "name": "stdout",
          "text": [
            "[%] File Downloaded !\n",
            "\n",
            "[%] Downloading Image #139 from https://static3.bigstockphoto.com/0/7/2/large1500/270380572.jpg\n"
          ]
        },
        {
          "output_type": "stream",
          "name": "stderr",
          "text": [
            "\r 16%|\u001b[32m██████                               \u001b[0m 850 MB| Download Speed  2.07MB/s | Estimated Time:  05:44\u001b[0m"
          ]
        },
        {
          "output_type": "stream",
          "name": "stdout",
          "text": [
            "[%] File Downloaded !\n",
            "\n"
          ]
        },
        {
          "output_type": "stream",
          "name": "stderr",
          "text": [
            "\r 16%|\u001b[32m██████                               \u001b[0m 850 MB| Download Speed  1.93MB/s | Estimated Time:  06:07\u001b[0m"
          ]
        },
        {
          "output_type": "stream",
          "name": "stdout",
          "text": [
            "[%] Downloading Image #140 from https://assets.epicurious.com/photos/5bcf4168b559a344c92204ce/master/w_1600,c_limit/red-bliss-potatoes-102318.jpg\n",
            "[%] File Downloaded !\n",
            "\n",
            "[%] Downloading Image #141 from https://cdn.shopify.com/s/files/1/0357/7525/0570/products/IMG_2369.jpg?v=1585067179\n",
            "[%] File Downloaded !\n",
            "\n"
          ]
        },
        {
          "output_type": "stream",
          "name": "stderr",
          "text": [
            "\r 17%|\u001b[32m██████▏                              \u001b[0m 850 MB| Download Speed  2.52MB/s | Estimated Time:  04:41\u001b[0m"
          ]
        },
        {
          "output_type": "stream",
          "name": "stdout",
          "text": [
            "[%] Downloading Image #142 from https://www.cookingclassy.com/wp-content/uploads/2018/08/parmesan-roasted-potatoes-22.jpg\n",
            "[%] File Downloaded !\n",
            "\n",
            "[%] Downloading Image #143 from https://img.freepik.com/premium-photo/fresh-potatoes_127657-13896.jpg\n"
          ]
        },
        {
          "output_type": "stream",
          "name": "stderr",
          "text": [
            "\r 17%|\u001b[32m██████▏                              \u001b[0m 850 MB| Download Speed  1.36MB/s | Estimated Time:  08:39\u001b[0mERROR:root:Issue getting: https://pixy.org/src/12/thumbs350/124492.jpg\n",
            "Error: 'Bing' object has no attribute 'sources'\n"
          ]
        },
        {
          "output_type": "stream",
          "name": "stdout",
          "text": [
            "[%] File Downloaded !\n",
            "\n",
            "[%] Downloading Image #144 from https://pixy.org/src/12/thumbs350/124492.jpg\n",
            "[%] Downloading Image #144 from http://chewtheworld.com/wp-content/uploads/2016/08/potato-steam.jpg\n"
          ]
        },
        {
          "output_type": "stream",
          "name": "stderr",
          "text": [
            "\r 17%|\u001b[32m██████▎                              \u001b[0m 850 MB| Download Speed  1.52MB/s | Estimated Time:  07:43\u001b[0m"
          ]
        },
        {
          "output_type": "stream",
          "name": "stdout",
          "text": [
            "[%] File Downloaded !\n",
            "\n",
            "[%] Downloading Image #145 from http://www.hydroproduce.com.au/wp-content/uploads/2018/01/Potatoes-Mixed-Slider.jpg\n"
          ]
        },
        {
          "output_type": "stream",
          "name": "stderr",
          "text": [
            "ERROR:root:Invalid image, not saving http://www.hydroproduce.com.au/wp-content/uploads/2018/01/Potatoes-Mixed-Slider.jpg\n",
            "ERROR:root:Issue getting: http://www.hydroproduce.com.au/wp-content/uploads/2018/01/Potatoes-Mixed-Slider.jpg\n",
            "Error: Invalid image, not saving http://www.hydroproduce.com.au/wp-content/uploads/2018/01/Potatoes-Mixed-Slider.jpg\n"
          ]
        },
        {
          "output_type": "stream",
          "name": "stdout",
          "text": [
            "[%] Downloading Image #145 from http://greenvalleykitchen.com/wp-content/uploads/2016/05/Roasted-New-Potatoes-With-Parmesan-And-Fresh-Herbs-3.jpg\n"
          ]
        },
        {
          "output_type": "stream",
          "name": "stderr",
          "text": [
            "\r 17%|\u001b[32m██████▎                              \u001b[0m 850 MB| Download Speed  1.39MB/s | Estimated Time:  08:27\u001b[0m"
          ]
        },
        {
          "output_type": "stream",
          "name": "stdout",
          "text": [
            "[%] File Downloaded !\n",
            "\n",
            "[%] Downloading Image #146 from https://i.pinimg.com/originals/a6/1a/e5/a61ae59df5a37cb542094e370c6455ab.jpg\n"
          ]
        },
        {
          "output_type": "stream",
          "name": "stderr",
          "text": [
            "\r 17%|\u001b[32m██████▎                              \u001b[0m 850 MB| Download Speed  1.51MB/s | Estimated Time:  07:45\u001b[0m"
          ]
        },
        {
          "output_type": "stream",
          "name": "stdout",
          "text": [
            "[%] File Downloaded !\n",
            "\n",
            "[%] Downloading Image #147 from https://2.bp.blogspot.com/-saMoH_1pxWQ/UxPNa7KFaMI/AAAAAAAAD-s/mRZN2wNGK5A/s1600/DSCN4816+potatoes.jpg\n",
            "[%] File Downloaded !\n",
            "\n",
            "[%] Downloading Image #148 from https://img.freepik.com/premium-photo/fresh-potatoes_127657-13746.jpg\n"
          ]
        },
        {
          "output_type": "stream",
          "name": "stderr",
          "text": [
            "\r 17%|\u001b[32m██████▍                              \u001b[0m 850 MB| Download Speed  1.63MB/s | Estimated Time:  07:11\u001b[0m"
          ]
        },
        {
          "output_type": "stream",
          "name": "stdout",
          "text": [
            "[%] File Downloaded !\n",
            "\n",
            "[%] Downloading Image #149 from https://i.pinimg.com/736x/be/a6/aa/bea6aa20f1d47d8f782c68bf85c13d84.jpg\n"
          ]
        },
        {
          "output_type": "stream",
          "name": "stderr",
          "text": [
            "\r 18%|\u001b[32m██████▍                              \u001b[0m 850 MB| Download Speed  1.92MB/s | Estimated Time:  06:05\u001b[0m"
          ]
        },
        {
          "output_type": "stream",
          "name": "stdout",
          "text": [
            "[%] File Downloaded !\n",
            "\n",
            "[%] Downloading Image #150 from https://i5.walmartimages.ca/images/Enlarge/094/539/6000200094539.jpg\n"
          ]
        },
        {
          "output_type": "stream",
          "name": "stderr",
          "text": [
            "\r 18%|\u001b[32m██████▌                              \u001b[0m 850 MB| Download Speed  2.15MB/s | Estimated Time:  05:25\u001b[0m"
          ]
        },
        {
          "output_type": "stream",
          "name": "stdout",
          "text": [
            "[%] File Downloaded !\n",
            "\n",
            "[%] Downloading Image #151 from https://thumbs.dreamstime.com/b/farm-fresh-washed-whole-potatoes-healthy-nutritious-cooking-ingredient-white-painted-wooden-boards-44192367.jpg\n"
          ]
        },
        {
          "output_type": "stream",
          "name": "stderr",
          "text": [
            "\r 18%|\u001b[32m██████▌                              \u001b[0m 850 MB| Download Speed  2.47MB/s | Estimated Time:  04:42\u001b[0m"
          ]
        },
        {
          "output_type": "stream",
          "name": "stdout",
          "text": [
            "[%] File Downloaded !\n",
            "\n",
            "[%] Downloading Image #152 from https://cdn.tragate.com/items/fresh-potatoes-87911-22545.jpg\n"
          ]
        },
        {
          "output_type": "stream",
          "name": "stderr",
          "text": [
            "\r 18%|\u001b[32m██████▌                              \u001b[0m 850 MB| Download Speed  1.85MB/s | Estimated Time:  06:18\u001b[0m"
          ]
        },
        {
          "output_type": "stream",
          "name": "stdout",
          "text": [
            "[%] File Downloaded !\n",
            "\n",
            "[%] Downloading Image #153 from https://4.imimg.com/data4/AL/SL/MY-23751196/fresh-potato.jpg\n"
          ]
        },
        {
          "output_type": "stream",
          "name": "stderr",
          "text": [
            "\r 18%|\u001b[32m██████▋                              \u001b[0m 850 MB| Download Speed  1.62MB/s | Estimated Time:  07:10\u001b[0m"
          ]
        },
        {
          "output_type": "stream",
          "name": "stdout",
          "text": [
            "[%] File Downloaded !\n",
            "\n",
            "[%] Downloading Image #154 from https://www.spiceboxorganics.com/wp-content/uploads/2020/02/Eat-Fresh-Potatoes-FINAL.jpg\n"
          ]
        },
        {
          "output_type": "stream",
          "name": "stderr",
          "text": [
            "\r 18%|\u001b[32m██████▋                              \u001b[0m 850 MB| Download Speed  1.90MB/s | Estimated Time:  06:05\u001b[0m"
          ]
        },
        {
          "output_type": "stream",
          "name": "stdout",
          "text": [
            "[%] File Downloaded !\n",
            "\n",
            "[%] Downloading Image #155 from https://images.heb.com/is/image/HEBGrocery/001530771\n"
          ]
        },
        {
          "output_type": "stream",
          "name": "stderr",
          "text": [
            "\r 18%|\u001b[32m██████▋                              \u001b[0m 850 MB| Download Speed  2.07MB/s | Estimated Time:  05:35\u001b[0m"
          ]
        },
        {
          "output_type": "stream",
          "name": "stdout",
          "text": [
            "[%] File Downloaded !\n",
            "\n",
            "[%] Downloading Image #156 from http://www.chartrade.net/gallery/images/big/PHOTO-2.png\n"
          ]
        },
        {
          "output_type": "stream",
          "name": "stderr",
          "text": [
            "\r 18%|\u001b[32m██████▊                              \u001b[0m 850 MB| Download Speed  1.09MB/s | Estimated Time:  10:35\u001b[0m"
          ]
        },
        {
          "output_type": "stream",
          "name": "stdout",
          "text": [
            "[%] File Downloaded !\n",
            "\n",
            "[%] Downloading Image #157 from https://www.komalasvegemart.com/media/catalog/product/cache/1/image/9df78eab33525d08d6e5fb8d27136e95/p/o/potato.jpg\n"
          ]
        },
        {
          "output_type": "stream",
          "name": "stderr",
          "text": [
            "\r 18%|\u001b[32m██████▊                              \u001b[0m 850 MB| Download Speed  1.02s/MB | Estimated Time:  11:46\u001b[0m"
          ]
        },
        {
          "output_type": "stream",
          "name": "stdout",
          "text": [
            "[%] File Downloaded !\n",
            "\n",
            "[%] Downloading Image #158 from https://5.imimg.com/data5/RQ/HJ/MY-54866993/5-500x500.jpg\n"
          ]
        },
        {
          "output_type": "stream",
          "name": "stderr",
          "text": [
            "\r 19%|\u001b[32m██████▉                              \u001b[0m 850 MB| Download Speed  1.00s/MB | Estimated Time:  11:35\u001b[0m"
          ]
        },
        {
          "output_type": "stream",
          "name": "stdout",
          "text": [
            "[%] File Downloaded !\n",
            "\n",
            "[%] Downloading Image #159 from https://img2.exportersindia.com/product_images/bc-full/dir_81/2405486/fresh-potato-1060848.jpg\n"
          ]
        },
        {
          "output_type": "stream",
          "name": "stderr",
          "text": [
            "\r 19%|\u001b[32m██████▉                              \u001b[0m 850 MB| Download Speed  1.06MB/s | Estimated Time:  10:50\u001b[0m"
          ]
        },
        {
          "output_type": "stream",
          "name": "stdout",
          "text": [
            "[%] File Downloaded !\n",
            "\n",
            "[%] Downloading Image #160 from https://img1.exportersindia.com/product_images/bc-full/dir_179/5359101/fresh-potatoes-1511286687-3467101.jpeg\n"
          ]
        },
        {
          "output_type": "stream",
          "name": "stderr",
          "text": [
            "\r 19%|\u001b[32m██████▉                              \u001b[0m 850 MB| Download Speed  1.05MB/s | Estimated Time:  10:54\u001b[0m"
          ]
        },
        {
          "output_type": "stream",
          "name": "stdout",
          "text": [
            "[%] File Downloaded !\n",
            "\n",
            "[%] Downloading Image #161 from https://i.pinimg.com/originals/5f/9c/80/5f9c8044e77b7ce65e448af19a2fd17f.png\n"
          ]
        },
        {
          "output_type": "stream",
          "name": "stderr",
          "text": [
            "\r 19%|\u001b[32m███████                              \u001b[0m 850 MB| Download Speed  1.29MB/s | Estimated Time:  08:55\u001b[0m"
          ]
        },
        {
          "output_type": "stream",
          "name": "stdout",
          "text": [
            "[%] File Downloaded !\n",
            "\n",
            "[%] Downloading Image #162 from https://i0.wp.com/www.twochums.com/wp-content/uploads/2012/04/chopped-potatoes.jpg\n"
          ]
        },
        {
          "output_type": "stream",
          "name": "stderr",
          "text": [
            "\r 19%|\u001b[32m███████                              \u001b[0m 850 MB| Download Speed  1.23MB/s | Estimated Time:  09:19\u001b[0m"
          ]
        },
        {
          "output_type": "stream",
          "name": "stdout",
          "text": [
            "[%] File Downloaded !\n",
            "\n",
            "[%] Downloading Image #163 from https://cpimg.tistatic.com/05039849/b/4/Fresh-Potatoes.jpg\n"
          ]
        },
        {
          "output_type": "stream",
          "name": "stderr",
          "text": [
            "\r 19%|\u001b[32m███████                              \u001b[0m 850 MB| Download Speed  1.13MB/s | Estimated Time:  10:06\u001b[0m"
          ]
        },
        {
          "output_type": "stream",
          "name": "stdout",
          "text": [
            "[%] File Downloaded !\n",
            "\n",
            "[%] Downloading Image #164 from https://leaf.nutrisystem.com/wp-content/uploads/2017/08/ThinkstockPhotos-497961226.jpg\n"
          ]
        },
        {
          "output_type": "stream",
          "name": "stderr",
          "text": [
            "\r 19%|\u001b[32m███████▏                             \u001b[0m 850 MB| Download Speed  1.37MB/s | Estimated Time:  08:21\u001b[0m"
          ]
        },
        {
          "output_type": "stream",
          "name": "stdout",
          "text": [
            "[%] File Downloaded !\n",
            "\n",
            "[%] Downloading Image #165 from https://2.wlimg.com/product_images/bc-full/2021/4/4087445/watermark/fresh-potato-1552037443-4776892.jpeg\n"
          ]
        },
        {
          "output_type": "stream",
          "name": "stderr",
          "text": [
            "\r 19%|\u001b[32m███████▏                             \u001b[0m 850 MB| Download Speed  1.03s/MB | Estimated Time:  11:46\u001b[0m"
          ]
        },
        {
          "output_type": "stream",
          "name": "stdout",
          "text": [
            "[%] File Downloaded !\n",
            "\n"
          ]
        },
        {
          "output_type": "stream",
          "name": "stderr",
          "text": [
            "\r 20%|\u001b[32m███████▏                             \u001b[0m 850 MB| Download Speed  1.20MB/s | Estimated Time:  09:32\u001b[0m"
          ]
        },
        {
          "output_type": "stream",
          "name": "stdout",
          "text": [
            "[%] Downloading Image #166 from http://images.wisegeek.com/whole-and-sliced-raw-potatoes.jpg\n",
            "[%] File Downloaded !\n",
            "\n",
            "[%] Downloading Image #167 from https://earthmedicineways.com/wp-content/uploads/2022/07/Potatoes-1024x576.jpg\n"
          ]
        },
        {
          "output_type": "stream",
          "name": "stderr",
          "text": [
            "\r 20%|\u001b[32m███████▎                             \u001b[0m 850 MB| Download Speed  1.22s/MB | Estimated Time:  13:51\u001b[0m"
          ]
        },
        {
          "output_type": "stream",
          "name": "stdout",
          "text": [
            "[%] File Downloaded !\n",
            "\n",
            "[%] Downloading Image #168 from https://foodcrumbles.com/wp-content/uploads/2016/03/raw-potatoes.jpg\n"
          ]
        },
        {
          "output_type": "stream",
          "name": "stderr",
          "text": [
            "\r 20%|\u001b[32m███████▎                             \u001b[0m 850 MB| Download Speed  1.18s/MB | Estimated Time:  13:26\u001b[0m"
          ]
        },
        {
          "output_type": "stream",
          "name": "stdout",
          "text": [
            "[%] File Downloaded !\n",
            "\n",
            "[%] Downloading Image #169 from https://foodprint.org/wp-content/uploads/2018/10/twenty20_0c8ab160-a308-42a7-8c36-06502ddd38e9-e1539129170259.jpg\n"
          ]
        },
        {
          "output_type": "stream",
          "name": "stderr",
          "text": [
            "\r 20%|\u001b[32m███████▎                             \u001b[0m 850 MB| Download Speed  1.03MB/s | Estimated Time:  11:01\u001b[0m"
          ]
        },
        {
          "output_type": "stream",
          "name": "stdout",
          "text": [
            "[%] File Downloaded !\n",
            "\n",
            "[%] Downloading Image #170 from http://2.bp.blogspot.com/_rYZaHRJMDME/S76LK1zKXPI/AAAAAAAAABs/Og66bLZjTlQ/s1600/potato0729.jpg\n"
          ]
        },
        {
          "output_type": "stream",
          "name": "stderr",
          "text": [
            "\r 20%|\u001b[32m███████▍                             \u001b[0m 850 MB| Download Speed  1.16MB/s | Estimated Time:  09:43\u001b[0m"
          ]
        },
        {
          "output_type": "stream",
          "name": "stdout",
          "text": [
            "[%] File Downloaded !\n",
            "\n",
            "[%] Downloading Image #171 from https://www.thegreenrevolution.it/wp-content/uploads/2020/02/19-FEB-2020_-Come-coltivare-le-patate-1-2048x1365.jpg\n"
          ]
        },
        {
          "output_type": "stream",
          "name": "stderr",
          "text": [
            "\r 20%|\u001b[32m███████▍                             \u001b[0m 850 MB| Download Speed  1.14s/MB | Estimated Time:  12:56\u001b[0m"
          ]
        },
        {
          "output_type": "stream",
          "name": "stdout",
          "text": [
            "[%] File Downloaded !\n",
            "\n",
            "[%] Downloading Image #172 from https://static1.bigstockphoto.com/2/3/2/large1500/232936516.jpg\n"
          ]
        },
        {
          "output_type": "stream",
          "name": "stderr",
          "text": [
            "\r 20%|\u001b[32m███████▍                             \u001b[0m 850 MB| Download Speed  1.03s/MB | Estimated Time:  11:39\u001b[0m"
          ]
        },
        {
          "output_type": "stream",
          "name": "stdout",
          "text": [
            "[%] File Downloaded !\n",
            "\n",
            "[%] Downloading Image #173 from https://www.publicdomainpictures.net/pictures/190000/velka/peeled-potatoes-14734341094IG.jpg\n"
          ]
        },
        {
          "output_type": "stream",
          "name": "stderr",
          "text": [
            "\r 20%|\u001b[32m███████▌                             \u001b[0m 850 MB| Download Speed  1.03s/MB | Estimated Time:  11:39\u001b[0m"
          ]
        },
        {
          "output_type": "stream",
          "name": "stdout",
          "text": [
            "[%] File Downloaded !\n",
            "\n",
            "[%] Downloading Image #174 from https://www.tasteofhome.com/wp-content/uploads/2018/01/Roasted-Honey-Sweet-Potatoes_EXPS_THCA18_52350_C01_11__4b-12.jpg?w=1200\n"
          ]
        },
        {
          "output_type": "stream",
          "name": "stderr",
          "text": [
            "\r 20%|\u001b[32m███████▌                             \u001b[0m 850 MB| Download Speed  1.19MB/s | Estimated Time:  09:29\u001b[0m"
          ]
        },
        {
          "output_type": "stream",
          "name": "stdout",
          "text": [
            "[%] File Downloaded !\n",
            "\n",
            "[%] Downloading Image #175 from https://www.heavenphoto.com/wp-content/uploads/2021/04/sweet-potato-1536x1152.jpg\n"
          ]
        },
        {
          "output_type": "stream",
          "name": "stderr",
          "text": [
            "\r 21%|\u001b[32m███████▌                             \u001b[0m 850 MB| Download Speed  1.36MB/s | Estimated Time:  08:15\u001b[0m"
          ]
        },
        {
          "output_type": "stream",
          "name": "stdout",
          "text": [
            "[%] File Downloaded !\n",
            "\n"
          ]
        },
        {
          "output_type": "stream",
          "name": "stderr",
          "text": [
            "\r 21%|\u001b[32m███████▋                             \u001b[0m 850 MB| Download Speed  1.53MB/s | Estimated Time:  07:20\u001b[0m"
          ]
        },
        {
          "output_type": "stream",
          "name": "stdout",
          "text": [
            "[%] Downloading Image #176 from https://thumbs.dreamstime.com/b/fresh-potatoes-19329583.jpg\n",
            "[%] File Downloaded !\n",
            "\n",
            "[%] Downloading Image #177 from https://watchlearneat.com/wp-content/uploads/2020/11/cubed-potatoes-in-pot.jpg\n"
          ]
        },
        {
          "output_type": "stream",
          "name": "stderr",
          "text": [
            "\r 21%|\u001b[32m███████▋                             \u001b[0m 850 MB| Download Speed  1.16MB/s | Estimated Time:  09:40\u001b[0m"
          ]
        },
        {
          "output_type": "stream",
          "name": "stdout",
          "text": [
            "[%] File Downloaded !\n",
            "\n",
            "[%] Downloading Image #178 from https://go-organic.com.au/wp-content/uploads/2022/01/Sweet-potato.jpg\n"
          ]
        },
        {
          "output_type": "stream",
          "name": "stderr",
          "text": [
            "ERROR:root:Issue getting: https://go-organic.com.au/wp-content/uploads/2022/01/Sweet-potato.jpg\n",
            "Error: Remote end closed connection without response\n",
            " 21%|\u001b[32m███████▋                             \u001b[0m 850 MB| Download Speed  1.07MB/s | Estimated Time:  10:26\u001b[0m"
          ]
        },
        {
          "output_type": "stream",
          "name": "stdout",
          "text": [
            "[%] Downloading Image #178 from https://i.pinimg.com/originals/d3/b6/5b/d3b65b5a1ad3e27979f803dc1ea8b138.jpg\n",
            "[%] File Downloaded !\n",
            "\n",
            "[%] Downloading Image #179 from https://img.freepik.com/free-photo/potatoes-raw_79295-18434.jpg?size=626&amp;ext=jpg\n"
          ]
        },
        {
          "output_type": "stream",
          "name": "stderr",
          "text": [
            "\r 21%|\u001b[32m███████▊                             \u001b[0m 850 MB| Download Speed  1.34s/MB | Estimated Time:  14:56\u001b[0m"
          ]
        },
        {
          "output_type": "stream",
          "name": "stdout",
          "text": [
            "[%] File Downloaded !\n",
            "\n",
            "[%] Downloading Image #180 from https://wpcluster.dctdigital.com/pressandjournal/wp-content/uploads/sites/2/2021/02/shutterstock_1101418244-1728x1152.jpg\n"
          ]
        },
        {
          "output_type": "stream",
          "name": "stderr",
          "text": [
            "\r 21%|\u001b[32m███████▊                             \u001b[0m 850 MB| Download Speed  1.15s/MB | Estimated Time:  12:51\u001b[0m"
          ]
        },
        {
          "output_type": "stream",
          "name": "stdout",
          "text": [
            "[%] File Downloaded !\n",
            "\n",
            "[%] Downloading Image #181 from https://www.mundoboaforma.com.br/wp-content/uploads/2015/02/batata.jpg\n"
          ]
        },
        {
          "output_type": "stream",
          "name": "stderr",
          "text": [
            "\r 21%|\u001b[32m███████▉                             \u001b[0m 850 MB| Download Speed  1.07s/MB | Estimated Time:  11:54\u001b[0m"
          ]
        },
        {
          "output_type": "stream",
          "name": "stdout",
          "text": [
            "[%] File Downloaded !\n",
            "\n",
            "[%] Downloading Image #182 from https://www.atablefullofjoy.com/wp-content/uploads/2021/06/how-to-tell-if-potatoes-are-bad-5-1200x800.jpg\n",
            "[%] File Downloaded !\n",
            "\n",
            "[%] Downloading Image #183 from https://wallpapercave.com/wp/wp2473647.jpg\n"
          ]
        },
        {
          "output_type": "stream",
          "name": "stderr",
          "text": [
            "\r 22%|\u001b[32m███████▉                             \u001b[0m 850 MB| Download Speed  1.39MB/s | Estimated Time:  08:00\u001b[0m"
          ]
        },
        {
          "output_type": "stream",
          "name": "stdout",
          "text": [
            "[%] File Downloaded !\n",
            "\n"
          ]
        },
        {
          "output_type": "stream",
          "name": "stderr",
          "text": [
            " 22%|\u001b[32m████████                             \u001b[0m 850 MB| Download Speed  2.08MB/s | Estimated Time:  05:19\u001b[0m"
          ]
        },
        {
          "output_type": "stream",
          "name": "stdout",
          "text": [
            "[%] Downloading Image #184 from https://thumbs.dreamstime.com/b/fresh-potatoes-market-freshly-harvested-display-31055771.jpg\n",
            "[%] File Downloaded !\n",
            "\n",
            "[%] Downloading Image #185 from https://thumbs.dreamstime.com/z/fresh-sliced-potatoes-white-background-60693907.jpg\n",
            "[%] File Downloaded !\n",
            "\n",
            "[%] Downloading Image #186 from http://www.valleyspuds.com/wp-content/uploads/Yukon-Gold-Potatoes.jpg\n"
          ]
        },
        {
          "output_type": "stream",
          "name": "stderr",
          "text": [
            "\r 22%|\u001b[32m████████                             \u001b[0m 850 MB| Download Speed  2.39MB/s | Estimated Time:  04:37\u001b[0m"
          ]
        },
        {
          "output_type": "stream",
          "name": "stdout",
          "text": [
            "[%] File Downloaded !\n",
            "\n",
            "[%] Downloading Image #187 from https://images.eatthismuch.com/site_media/img/2103_sean_mcclintock_5229ac7c-963b-47f3-ad9d-248a5a3e87a0.png\n"
          ]
        },
        {
          "output_type": "stream",
          "name": "stderr",
          "text": [
            "\r 22%|\u001b[32m████████▏                            \u001b[0m 850 MB| Download Speed  2.62MB/s | Estimated Time:  04:12\u001b[0m"
          ]
        },
        {
          "output_type": "stream",
          "name": "stdout",
          "text": [
            "[%] File Downloaded !\n",
            "\n",
            "[%] Downloading Image #188 from https://st3.depositphotos.com/1022209/15135/i/1600/depositphotos_151356382-stock-photo-raw-potato-food-fresh-potatoes.jpg\n"
          ]
        },
        {
          "output_type": "stream",
          "name": "stderr",
          "text": [
            "\r 22%|\u001b[32m████████▏                            \u001b[0m 850 MB| Download Speed  2.36MB/s | Estimated Time:  04:40\u001b[0m"
          ]
        },
        {
          "output_type": "stream",
          "name": "stdout",
          "text": [
            "[%] File Downloaded !\n",
            "\n",
            "[%] Downloading Image #189 from https://img.freepik.com/premium-photo/fresh-potatoes_127657-13871.jpg\n"
          ]
        },
        {
          "output_type": "stream",
          "name": "stderr",
          "text": [
            " 22%|\u001b[32m████████▎                            \u001b[0m 850 MB| Download Speed  2.09MB/s | Estimated Time:  05:15\u001b[0m"
          ]
        },
        {
          "output_type": "stream",
          "name": "stdout",
          "text": [
            "[%] File Downloaded !\n",
            "\n",
            "[%] Downloading Image #190 from https://www.thespruceeats.com/thmb/IeNLEH60Y9z4DdW3opsM8NUtLPE=/960x0/filters:no_upscale():max_bytes(150000):strip_icc()/farmer-picking-up-potatoes-870863742-5bca5fb44cedfd0026b17aaf.jpg\n",
            "[%] File Downloaded !\n",
            "\n",
            "[%] Downloading Image #191 from https://img.sndimg.com/food/image/upload/q_92,fl_progressive/v1/img/recipes/10/16/2/mQlNxrjfTeipGzSqprdp_garlic-parsley-new-potatoes-3293.jpg\n",
            "[%] File Downloaded !\n",
            "\n",
            "[%] Downloading Image #192 from https://img.freepik.com/premium-photo/fresh-potatoes_127657-13782.jpg\n"
          ]
        },
        {
          "output_type": "stream",
          "name": "stderr",
          "text": [
            "\r 23%|\u001b[32m████████▎                            \u001b[0m 850 MB| Download Speed  1.39MB/s | Estimated Time:  07:54\u001b[0m"
          ]
        },
        {
          "output_type": "stream",
          "name": "stdout",
          "text": [
            "[%] File Downloaded !\n",
            "\n",
            "[%] Downloading Image #193 from https://bcfresh.ca/wp-content/uploads/2021/11/BCfresh-Potato.jpg\n"
          ]
        },
        {
          "output_type": "stream",
          "name": "stderr",
          "text": [
            "ERROR:root:Issue getting: https://bcfresh.ca/wp-content/uploads/2021/11/BCfresh-Potato.jpg\n",
            "Error: Remote end closed connection without response\n",
            " 23%|\u001b[32m████████▍                            \u001b[0m 850 MB| Download Speed  1.58MB/s | Estimated Time:  06:56\u001b[0m"
          ]
        },
        {
          "output_type": "stream",
          "name": "stdout",
          "text": [
            "[%] Downloading Image #193 from https://i.pinimg.com/originals/01/1f/c8/011fc88204ad7df234b4865c2be1880b.jpg\n",
            "[%] File Downloaded !\n",
            "\n",
            "[%] Downloading Image #194 from https://www.arboretum.ie/wp-content/uploads/2021/01/Seed-Potatoes.jpg\n"
          ]
        },
        {
          "output_type": "stream",
          "name": "stderr",
          "text": [
            "\r 23%|\u001b[32m████████▍                            \u001b[0m 850 MB| Download Speed  1.12MB/s | Estimated Time:  09:45\u001b[0m"
          ]
        },
        {
          "output_type": "stream",
          "name": "stdout",
          "text": [
            "[%] File Downloaded !\n",
            "\n",
            "[%] Downloading Image #195 from https://www.thespruceeats.com/thmb/uqpJ9VM4SEJb2sT9gsCnqOb3zOo=/3000x2001/filters:fill(auto,1)/crispy-diced-potatoes-recipe-3859590-hero-03-b4cc651cea654dd4879933a68d309133.jpg\n",
            "[%] File Downloaded !\n",
            "\n",
            "[%] Downloading Image #196 from https://i5.walmartimages.ca/images/Enlarge/094/507/6000200094507.jpg\n"
          ]
        },
        {
          "output_type": "stream",
          "name": "stderr",
          "text": [
            "\r 23%|\u001b[32m████████▌                            \u001b[0m 850 MB| Download Speed  1.37MB/s | Estimated Time:  07:58\u001b[0m"
          ]
        },
        {
          "output_type": "stream",
          "name": "stdout",
          "text": [
            "[%] File Downloaded !\n",
            "\n",
            "[%] Downloading Image #197 from https://i.pinimg.com/originals/a4/3a/3b/a43a3bbc9c535b4245ee1690d0bfedab.jpg\n"
          ]
        },
        {
          "output_type": "stream",
          "name": "stderr",
          "text": [
            "\r 23%|\u001b[32m████████▌                            \u001b[0m 850 MB| Download Speed  1.57MB/s | Estimated Time:  06:56\u001b[0m"
          ]
        },
        {
          "output_type": "stream",
          "name": "stdout",
          "text": [
            "[%] File Downloaded !\n",
            "\n",
            "[%] Downloading Image #198 from https://www.grocery.com/store/image/cache/catalog/yellow-potatoes-at-the-neighborhood-corner-store/potatoes-yellow-fresh-produce-5-lbs-B00AU1YSSY-600x600.jpg\n"
          ]
        },
        {
          "output_type": "stream",
          "name": "stderr",
          "text": [
            " 23%|\u001b[32m████████▋                            \u001b[0m 850 MB| Download Speed  2.23MB/s | Estimated Time:  04:52\u001b[0m"
          ]
        },
        {
          "output_type": "stream",
          "name": "stdout",
          "text": [
            "[%] File Downloaded !\n",
            "\n",
            "[%] Downloading Image #199 from https://www.spendwithpennies.com/wp-content/uploads/2020/08/Garlic-Dill-New-Potatoes-SpendWithPennies-3.jpg\n",
            "[%] File Downloaded !\n",
            "\n",
            "[%] Downloading Image #200 from https://andersonsneck.com/wp-content/uploads/2020/05/Imperial-Fresh-Russet-Potatoes.jpg\n"
          ]
        },
        {
          "output_type": "stream",
          "name": "stderr",
          "text": [
            "\r 24%|\u001b[32m████████▋                            \u001b[0m 850 MB| Download Speed  1.92MB/s | Estimated Time:  05:38\u001b[0m"
          ]
        },
        {
          "output_type": "stream",
          "name": "stdout",
          "text": [
            "[%] File Downloaded !\n",
            "\n",
            "[%] Downloading Image #201 from https://d12m9erqbesehq.cloudfront.net/wp-content/uploads/sites/1040/2022/01/20142458/Fresh-Potatoes-e1587507583854-scaled.jpg\n"
          ]
        },
        {
          "output_type": "stream",
          "name": "stderr",
          "text": [
            "\r 24%|\u001b[32m████████▋                            \u001b[0m 850 MB| Download Speed  1.02s/MB | Estimated Time:  10:58\u001b[0m"
          ]
        },
        {
          "output_type": "stream",
          "name": "stdout",
          "text": [
            "[%] File Downloaded !\n",
            "\n",
            "[%] Downloading Image #202 from https://bigoven-res.cloudinary.com/image/upload/t_recipe-1280/best-oven-baked-fries-potato-w-0a9a18.jpg\n"
          ]
        },
        {
          "output_type": "stream",
          "name": "stderr",
          "text": [
            "\r 24%|\u001b[32m████████▊                            \u001b[0m 850 MB| Download Speed  1.24s/MB | Estimated Time:  13:25\u001b[0m"
          ]
        },
        {
          "output_type": "stream",
          "name": "stdout",
          "text": [
            "[%] File Downloaded !\n",
            "\n",
            "[%] Downloading Image #203 from https://www.theproducemoms.com/wp-content/uploads/2017/12/How-To-Cut-Sweet-Potatoes.jpg\n"
          ]
        },
        {
          "output_type": "stream",
          "name": "stderr",
          "text": [
            "\r 24%|\u001b[32m████████▊                            \u001b[0m 850 MB| Download Speed  1.09s/MB | Estimated Time:  11:44\u001b[0m"
          ]
        },
        {
          "output_type": "stream",
          "name": "stdout",
          "text": [
            "[%] File Downloaded !\n",
            "\n"
          ]
        },
        {
          "output_type": "stream",
          "name": "stderr",
          "text": [
            "ERROR:root:Invalid image, not saving https://www.publicdomainpictures.net/pictures/30000/nahled/raw-potatoes.jpg\n",
            "ERROR:root:Issue getting: https://www.publicdomainpictures.net/pictures/30000/nahled/raw-potatoes.jpg\n",
            "Error: Invalid image, not saving https://www.publicdomainpictures.net/pictures/30000/nahled/raw-potatoes.jpg\n"
          ]
        },
        {
          "output_type": "stream",
          "name": "stdout",
          "text": [
            "[%] Downloading Image #204 from https://www.publicdomainpictures.net/pictures/30000/nahled/raw-potatoes.jpg\n",
            "[%] Downloading Image #204 from https://promisedlandproduce.com.au/cdn/shop/products/Potatoes_-_White_washed_249024076.jpg?v=1605724515\n"
          ]
        },
        {
          "output_type": "stream",
          "name": "stderr",
          "text": [
            "\r 24%|\u001b[32m████████▉                            \u001b[0m 850 MB| Download Speed  1.21s/MB | Estimated Time:  13:02\u001b[0m"
          ]
        },
        {
          "output_type": "stream",
          "name": "stdout",
          "text": [
            "[%] File Downloaded !\n",
            "\n",
            "[%] Downloading Image #205 from https://www.healthline.com/hlcmsresource/images/AN_images/raw-potatoes-1200x628-facebook.jpg\n"
          ]
        },
        {
          "output_type": "stream",
          "name": "stderr",
          "text": [
            "\r 24%|\u001b[32m████████▉                            \u001b[0m 850 MB| Download Speed  1.15s/MB | Estimated Time:  12:23\u001b[0m"
          ]
        },
        {
          "output_type": "stream",
          "name": "stdout",
          "text": [
            "[%] File Downloaded !\n",
            "\n",
            "[%] Downloading Image #206 from https://english.siyathanews.lk/wp-content/uploads/sites/4/2019/12/potato.jpg\n"
          ]
        },
        {
          "output_type": "stream",
          "name": "stderr",
          "text": [
            "\r 24%|\u001b[32m████████▉                            \u001b[0m 850 MB| Download Speed  1.05s/MB | Estimated Time:  11:17\u001b[0m"
          ]
        },
        {
          "output_type": "stream",
          "name": "stdout",
          "text": [
            "[%] File Downloaded !\n",
            "\n",
            "[%] Downloading Image #207 from http://menudiario.com/files/2011/08/patata.jpg\n"
          ]
        },
        {
          "output_type": "stream",
          "name": "stderr",
          "text": [
            "\r 24%|\u001b[32m█████████                            \u001b[0m 850 MB| Download Speed  1.22s/MB | Estimated Time:  13:02\u001b[0m"
          ]
        },
        {
          "output_type": "stream",
          "name": "stdout",
          "text": [
            "[%] File Downloaded !\n",
            "\n",
            "[%] Downloading Image #208 from https://fthmb.tqn.com/NUpt7Rt5AleutxaJ9H1052sYB_M=/3881x2566/filters:fill(FFDB5D,1)/potatoes-116008750-596413603df78cdc68c061f3.jpg\n"
          ]
        },
        {
          "output_type": "stream",
          "name": "stderr",
          "text": [
            "\r 24%|\u001b[32m█████████                            \u001b[0m 850 MB| Download Speed  1.02s/MB | Estimated Time:  10:57\u001b[0m"
          ]
        },
        {
          "output_type": "stream",
          "name": "stdout",
          "text": [
            "[%] File Downloaded !\n",
            "\n",
            "[%] Downloading Image #209 from https://i.pinimg.com/originals/38/36/4a/38364a399debddbab437498c422f37f3.jpg\n",
            "[%] File Downloaded !\n",
            "\n",
            "[%] Downloading Image #210 from https://kitchenous.com/wp-content/uploads/2021/02/freezing-fresh-potatoes.jpg\n"
          ]
        },
        {
          "output_type": "stream",
          "name": "stderr",
          "text": [
            "\r 25%|\u001b[32m█████████▏                           \u001b[0m 850 MB| Download Speed  1.31MB/s | Estimated Time:  08:07\u001b[0m"
          ]
        },
        {
          "output_type": "stream",
          "name": "stdout",
          "text": [
            "[%] File Downloaded !\n",
            "\n",
            "[%] Downloading Image #211 from https://plantasyflores.online/wp-content/uploads/2018/01/potatoes-411975.jpg\n"
          ]
        },
        {
          "output_type": "stream",
          "name": "stderr",
          "text": [
            "\r 25%|\u001b[32m█████████▏                           \u001b[0m 850 MB| Download Speed  1.07MB/s | Estimated Time:  09:57\u001b[0m"
          ]
        },
        {
          "output_type": "stream",
          "name": "stdout",
          "text": [
            "[%] File Downloaded !\n",
            "\n",
            "[%] Downloading Image #212 from https://thetrellis.com/wp-content/uploads/2022/07/p1-2.jpg\n"
          ]
        },
        {
          "output_type": "stream",
          "name": "stderr",
          "text": [
            "\r 25%|\u001b[32m█████████▏                           \u001b[0m 850 MB| Download Speed  1.17MB/s | Estimated Time:  09:07\u001b[0m"
          ]
        },
        {
          "output_type": "stream",
          "name": "stdout",
          "text": [
            "[%] File Downloaded !\n",
            "\n"
          ]
        },
        {
          "output_type": "stream",
          "name": "stderr",
          "text": [
            "\r 25%|\u001b[32m█████████▎                           \u001b[0m 850 MB| Download Speed  1.02MB/s | Estimated Time:  10:27\u001b[0m"
          ]
        },
        {
          "output_type": "stream",
          "name": "stdout",
          "text": [
            "[%] Downloading Image #213 from https://melissaknorris.com/wp-content/uploads/2021/05/SeedPotatoesonTray.jpg\n",
            "[%] File Downloaded !\n",
            "\n",
            "[%] Downloading Image #214 from http://btrade-egypt.com/wp-content/uploads/2018/04/slider_001.jpg\n"
          ]
        },
        {
          "output_type": "stream",
          "name": "stderr",
          "text": [
            "\r 25%|\u001b[32m█████████▎                           \u001b[0m 850 MB| Download Speed  1.12MB/s | Estimated Time:  09:27\u001b[0m"
          ]
        },
        {
          "output_type": "stream",
          "name": "stdout",
          "text": [
            "[%] File Downloaded !\n",
            "\n",
            "[%] Downloading Image #215 from https://st3.depositphotos.com/13479594/16132/i/950/depositphotos_161327000-stock-photo-a-single-potato-isolated-on.jpg\n"
          ]
        },
        {
          "output_type": "stream",
          "name": "stderr",
          "text": [
            "\r 25%|\u001b[32m█████████▎                           \u001b[0m 850 MB| Download Speed  1.42MB/s | Estimated Time:  07:28\u001b[0m"
          ]
        },
        {
          "output_type": "stream",
          "name": "stdout",
          "text": [
            "[%] File Downloaded !\n",
            "\n",
            "[%] Downloading Image #216 from https://thumbs.dreamstime.com/b/raw-potato-18350818.jpg\n"
          ]
        },
        {
          "output_type": "stream",
          "name": "stderr",
          "text": [
            "\r 25%|\u001b[32m█████████▍                           \u001b[0m 850 MB| Download Speed  1.16s/MB | Estimated Time:  12:12\u001b[0m"
          ]
        },
        {
          "output_type": "stream",
          "name": "stdout",
          "text": [
            "[%] File Downloaded !\n",
            "\n"
          ]
        },
        {
          "output_type": "stream",
          "name": "stderr",
          "text": [
            "\r 26%|\u001b[32m█████████▍                           \u001b[0m 850 MB| Download Speed  1.03s/MB | Estimated Time:  10:52\u001b[0m"
          ]
        },
        {
          "output_type": "stream",
          "name": "stdout",
          "text": [
            "[%] Downloading Image #217 from https://www.midwestfarmreport.com/wp-content/uploads/2021/03/shutterstock_1709691013-1024x683.jpg\n",
            "[%] File Downloaded !\n",
            "\n"
          ]
        },
        {
          "output_type": "stream",
          "name": "stderr",
          "text": [
            "ERROR:root:Issue getting: https://media.istockphoto.com/photos/raw-potatoes-picture-id585172756?k=6&amp;m=585172756&amp;s=612x612&amp;w=0&amp;h=rbDEXlmdfLGStbKQMzfTaM4oFOP01h5evpnasPSFTu4=\n",
            "Error: 'Bing' object has no attribute 'sources'\n"
          ]
        },
        {
          "output_type": "stream",
          "name": "stdout",
          "text": [
            "[%] Downloading Image #218 from https://media.istockphoto.com/photos/raw-potatoes-picture-id585172756?k=6&amp;m=585172756&amp;s=612x612&amp;w=0&amp;h=rbDEXlmdfLGStbKQMzfTaM4oFOP01h5evpnasPSFTu4=\n",
            "[%] Downloading Image #218 from https://thumbs.dreamstime.com/b/organic-colorful-fresh-potatoes-displayed-country-market-black-red-yellow-purple-81519316.jpg\n",
            "[%] File Downloaded !\n",
            "\n"
          ]
        },
        {
          "output_type": "stream",
          "name": "stderr",
          "text": [
            "\r 26%|\u001b[32m█████████▍                           \u001b[0m 850 MB| Download Speed  1.18s/MB | Estimated Time:  12:28\u001b[0m"
          ]
        },
        {
          "output_type": "stream",
          "name": "stdout",
          "text": [
            "[%] Downloading Image #219 from https://winkgo.com/wp-content/uploads/2018/08/29-Best-Potato-Recipes-03.jpg\n"
          ]
        },
        {
          "output_type": "stream",
          "name": "stderr",
          "text": [
            "\r 26%|\u001b[32m█████████▌                           \u001b[0m 850 MB| Download Speed  1.04s/MB | Estimated Time:  10:55\u001b[0m"
          ]
        },
        {
          "output_type": "stream",
          "name": "stdout",
          "text": [
            "[%] File Downloaded !\n",
            "\n",
            "[%] Downloading Image #220 from https://gardentabs.com/wp-content/uploads/2021/05/Harvesting-Fresh-Potatoes.jpg\n"
          ]
        },
        {
          "output_type": "stream",
          "name": "stderr",
          "text": [
            " 26%|\u001b[32m█████████▌                           \u001b[0m 850 MB| Download Speed  1.66MB/s | Estimated Time:  06:19\u001b[0m"
          ]
        },
        {
          "output_type": "stream",
          "name": "stdout",
          "text": [
            "[%] File Downloaded !\n",
            "\n",
            "[%] Downloading Image #221 from https://thumbs.dreamstime.com/b/fresh-potatoes-24523043.jpg\n",
            "[%] File Downloaded !\n",
            "\n",
            "[%] Downloading Image #222 from https://img.freepik.com/premium-photo/fresh-potatoes_127657-13711.jpg\n"
          ]
        },
        {
          "output_type": "stream",
          "name": "stderr",
          "text": [
            "\r 26%|\u001b[32m█████████▋                           \u001b[0m 850 MB| Download Speed  1.36MB/s | Estimated Time:  07:42\u001b[0m"
          ]
        },
        {
          "output_type": "stream",
          "name": "stdout",
          "text": [
            "[%] File Downloaded !\n",
            "\n",
            "[%] Downloading Image #223 from https://www.bigblogofgardening.com/wp-content/uploads/2021/03/potatoes-grown-in-a-pot-1500x988-1.jpg\n"
          ]
        },
        {
          "output_type": "stream",
          "name": "stderr",
          "text": [
            "\r 26%|\u001b[32m█████████▋                           \u001b[0m 850 MB| Download Speed  1.60MB/s | Estimated Time:  06:31\u001b[0m"
          ]
        },
        {
          "output_type": "stream",
          "name": "stdout",
          "text": [
            "[%] File Downloaded !\n",
            "\n",
            "[%] Downloading Image #224 from https://img.freepik.com/premium-photo/fresh-potatoes_127657-13789.jpg\n"
          ]
        },
        {
          "output_type": "stream",
          "name": "stderr",
          "text": [
            "\r 26%|\u001b[32m█████████▊                           \u001b[0m 850 MB| Download Speed  1.25MB/s | Estimated Time:  08:22\u001b[0m"
          ]
        },
        {
          "output_type": "stream",
          "name": "stdout",
          "text": [
            "[%] File Downloaded !\n",
            "\n",
            "[%] Downloading Image #225 from https://img.freepik.com/premium-photo/fresh-potatoes_846485-21353.jpg\n"
          ]
        },
        {
          "output_type": "stream",
          "name": "stderr",
          "text": [
            "\r 26%|\u001b[32m█████████▊                           \u001b[0m 850 MB| Download Speed  1.10MB/s | Estimated Time:  09:26\u001b[0m"
          ]
        },
        {
          "output_type": "stream",
          "name": "stdout",
          "text": [
            "[%] File Downloaded !\n",
            "\n",
            "[%] Downloading Image #226 from https://pixfeeds.com/images/fruits-vegetables/potatoes/1200-619756376-raw-fresh-potatoes.jpg\n"
          ]
        },
        {
          "output_type": "stream",
          "name": "stderr",
          "text": [
            "\r 27%|\u001b[32m█████████▊                           \u001b[0m 850 MB| Download Speed  1.35MB/s | Estimated Time:  07:41\u001b[0m"
          ]
        },
        {
          "output_type": "stream",
          "name": "stdout",
          "text": [
            "[%] File Downloaded !\n",
            "\n",
            "[%] Downloading Image #227 from http://freefoodphotos.com/imagelibrary/vegetables/slides/potatoes.jpg\n"
          ]
        },
        {
          "output_type": "stream",
          "name": "stderr",
          "text": [
            "\r 27%|\u001b[32m█████████▉                           \u001b[0m 850 MB| Download Speed  1.61MB/s | Estimated Time:  06:26\u001b[0m"
          ]
        },
        {
          "output_type": "stream",
          "name": "stdout",
          "text": [
            "[%] File Downloaded !\n",
            "\n",
            "[%] Downloading Image #228 from https://www.potlakiexportgroupptyltd.co.za/wp-content/uploads/2020/09/fresh-potatoes-500x500-1.jpg\n"
          ]
        },
        {
          "output_type": "stream",
          "name": "stderr",
          "text": [
            "\r 27%|\u001b[32m█████████▉                           \u001b[0m 850 MB| Download Speed  1.01MB/s | Estimated Time:  10:17\u001b[0m"
          ]
        },
        {
          "output_type": "stream",
          "name": "stdout",
          "text": [
            "[%] File Downloaded !\n",
            "\n",
            "[%] Downloading Image #229 from http://www.chartrade.net/gallery/images/big/Potatoes---Copy--2-.png\n"
          ]
        },
        {
          "output_type": "stream",
          "name": "stderr",
          "text": [
            "\r 27%|\u001b[32m█████████▉                           \u001b[0m 850 MB| Download Speed  1.21s/MB | Estimated Time:  12:32\u001b[0m"
          ]
        },
        {
          "output_type": "stream",
          "name": "stdout",
          "text": [
            "[%] File Downloaded !\n",
            "\n",
            "[%] Downloading Image #230 from https://tiimg.tistatic.com/fp/1/004/699/fresh-potatoes-224.jpg\n"
          ]
        },
        {
          "output_type": "stream",
          "name": "stderr",
          "text": [
            "\r 27%|\u001b[32m██████████                           \u001b[0m 850 MB| Download Speed  1.15s/MB | Estimated Time:  11:53\u001b[0mERROR:root:Issue getting: https://pixy.org/src/12/126356.jpg\n",
            "Error: 'Bing' object has no attribute 'sources'\n"
          ]
        },
        {
          "output_type": "stream",
          "name": "stdout",
          "text": [
            "[%] File Downloaded !\n",
            "\n",
            "[%] Downloading Image #231 from https://pixy.org/src/12/126356.jpg\n",
            "[%] Downloading Image #231 from https://i2-prod.mirror.co.uk/incoming/article13403157.ece/ALTERNATES/s615b/0_Fresh-potatoes.jpg\n"
          ]
        },
        {
          "output_type": "stream",
          "name": "stderr",
          "text": [
            "\r 27%|\u001b[32m██████████                           \u001b[0m 850 MB| Download Speed  1.13s/MB | Estimated Time:  11:37\u001b[0m"
          ]
        },
        {
          "output_type": "stream",
          "name": "stdout",
          "text": [
            "[%] File Downloaded !\n",
            "\n"
          ]
        },
        {
          "output_type": "stream",
          "name": "stderr",
          "text": [
            "\r 27%|\u001b[32m██████████                           \u001b[0m 850 MB| Download Speed  1.09MB/s | Estimated Time:  09:27\u001b[0m"
          ]
        },
        {
          "output_type": "stream",
          "name": "stdout",
          "text": [
            "[%] Downloading Image #232 from https://www.recipevibes.com/wp-content/uploads/2021/07/fried-potatoes-picture.jpeg\n",
            "[%] File Downloaded !\n",
            "\n",
            "[%] Downloading Image #233 from https://img2.exportersindia.com/product_images/bc-full/2020/8/7714346/fresh-potato-1598502160-5566075.jpeg\n"
          ]
        },
        {
          "output_type": "stream",
          "name": "stderr",
          "text": [
            "\r 27%|\u001b[32m██████████▏                          \u001b[0m 850 MB| Download Speed  1.01s/MB | Estimated Time:  10:22\u001b[0m"
          ]
        },
        {
          "output_type": "stream",
          "name": "stdout",
          "text": [
            "[%] File Downloaded !\n",
            "\n",
            "[%] Downloading Image #234 from https://www.orchardtech.com.au/wp-content/uploads/2021/11/image.jpg\n"
          ]
        },
        {
          "output_type": "stream",
          "name": "stderr",
          "text": [
            " 28%|\u001b[32m██████████▏                          \u001b[0m 850 MB| Download Speed  1.13MB/s | Estimated Time:  09:05\u001b[0m"
          ]
        },
        {
          "output_type": "stream",
          "name": "stdout",
          "text": [
            "[%] File Downloaded !\n",
            "\n",
            "[%] Downloading Image #235 from https://i.pinimg.com/originals/64/82/d8/6482d8d70c259ab85ca3aaf7f5bce8f2.jpg\n",
            "[%] File Downloaded !\n",
            "\n"
          ]
        },
        {
          "output_type": "stream",
          "name": "stderr",
          "text": [
            "\r 28%|\u001b[32m██████████▎                          \u001b[0m 850 MB| Download Speed  1.33MB/s | Estimated Time:  07:43\u001b[0m"
          ]
        },
        {
          "output_type": "stream",
          "name": "stdout",
          "text": [
            "[%] Downloading Image #236 from https://thumbs.dreamstime.com/b/raw-fresh-potatoes-organic-herbs-wooden-background-top-view-rustic-style-53882957.jpg\n",
            "[%] File Downloaded !\n",
            "\n",
            "[%] Downloading Image #237 from https://thumbs.dreamstime.com/z/harvest-fresh-raw-potatoes-hands-farmer-against-green-background-organic-farming-concept-154581181.jpg\n",
            "[%] File Downloaded !\n",
            "\n",
            "[%] Downloading Image #238 from https://thumbs.dreamstime.com/z/organic-fresh-raw-potato-fresh-raw-potato-white-background-group-dirty-soil-162567959.jpg\n"
          ]
        },
        {
          "output_type": "stream",
          "name": "stderr",
          "text": [
            " 28%|\u001b[32m██████████▍                          \u001b[0m 850 MB| Download Speed  3.49MB/s | Estimated Time:  02:54\u001b[0m"
          ]
        },
        {
          "output_type": "stream",
          "name": "stdout",
          "text": [
            "[%] File Downloaded !\n",
            "\n",
            "[%] Downloading Image #239 from https://thumbs.dreamstime.com/b/fresh-raw-potatoes-fresh-raw-potatoes-outside-greengrocer-153546723.jpg\n",
            "[%] File Downloaded !\n",
            "\n",
            "[%] Downloading Image #240 from https://thumbs.dreamstime.com/z/raw-potato-isolated-white-background-39624872.jpg\n",
            "[%] File Downloaded !\n",
            "\n",
            "[%] Downloading Image #241 from https://foodrevolution.org/wp-content/uploads/iStock-619514958.jpg\n"
          ]
        },
        {
          "output_type": "stream",
          "name": "stderr",
          "text": [
            "\r 28%|\u001b[32m██████████▍                          \u001b[0m 850 MB| Download Speed  3.66MB/s | Estimated Time:  02:46\u001b[0m"
          ]
        },
        {
          "output_type": "stream",
          "name": "stdout",
          "text": [
            "[%] File Downloaded !\n",
            "\n"
          ]
        },
        {
          "output_type": "stream",
          "name": "stderr",
          "text": [
            "\r 28%|\u001b[32m██████████▌                          \u001b[0m 850 MB| Download Speed  3.47MB/s | Estimated Time:  02:55\u001b[0m"
          ]
        },
        {
          "output_type": "stream",
          "name": "stdout",
          "text": [
            "[%] Downloading Image #242 from https://www.foodrepublic.com/img/gallery/10-things-you-probably-didnt-know-about-potatoes/l-intro-1689785695.jpg\n",
            "[%] File Downloaded !\n",
            "\n",
            "[%] Downloading Image #243 from https://img1.exportersindia.com/product_images/bc-full/dir_100/2970062/fresh-potato-1062297.jpg\n"
          ]
        },
        {
          "output_type": "stream",
          "name": "stderr",
          "text": [
            "\r 29%|\u001b[32m██████████▌                          \u001b[0m 850 MB| Download Speed  2.66MB/s | Estimated Time:  03:48\u001b[0m"
          ]
        },
        {
          "output_type": "stream",
          "name": "stdout",
          "text": [
            "[%] File Downloaded !\n",
            "\n"
          ]
        },
        {
          "output_type": "stream",
          "name": "stderr",
          "text": [
            "\r 29%|\u001b[32m██████████▌                          \u001b[0m 850 MB| Download Speed  1.70MB/s | Estimated Time:  05:57\u001b[0m"
          ]
        },
        {
          "output_type": "stream",
          "name": "stdout",
          "text": [
            "[%] Downloading Image #244 from https://m.media-amazon.com/images/I/61yXL70-RaL._SX569_.jpg\n",
            "[%] File Downloaded !\n",
            "\n",
            "[%] Downloading Image #245 from https://4.imimg.com/data4/AL/SL/MY-23751196/fresh-potato-500x500.jpg\n"
          ]
        },
        {
          "output_type": "stream",
          "name": "stderr",
          "text": [
            "\r 29%|\u001b[32m██████████▋                          \u001b[0m 850 MB| Download Speed  1.55MB/s | Estimated Time:  06:29\u001b[0m"
          ]
        },
        {
          "output_type": "stream",
          "name": "stdout",
          "text": [
            "[%] File Downloaded !\n",
            "\n",
            "[%] Downloading Image #246 from https://5.imimg.com/data5/SI/NF/MY-36097542/fresh-potato-500x500.jpg\n"
          ]
        },
        {
          "output_type": "stream",
          "name": "stderr",
          "text": [
            "\r 29%|\u001b[32m██████████▋                          \u001b[0m 850 MB| Download Speed  1.12s/MB | Estimated Time:  11:18\u001b[0m"
          ]
        },
        {
          "output_type": "stream",
          "name": "stdout",
          "text": [
            "[%] File Downloaded !\n",
            "\n"
          ]
        },
        {
          "output_type": "stream",
          "name": "stderr",
          "text": [
            "\r 29%|\u001b[32m██████████▊                          \u001b[0m 850 MB| Download Speed  1.12MB/s | Estimated Time:  08:59\u001b[0m"
          ]
        },
        {
          "output_type": "stream",
          "name": "stdout",
          "text": [
            "[%] Downloading Image #247 from https://www.foodandwine.com/thmb/-Yxlx-cou8lNguYnp5HcNH2rX1Q=/1500x0/filters:no_upscale():max_bytes(150000):strip_icc()/Potatoes-May-No-Longer-Be-Considered-a-Vegetable-FT-BLOG1223-83fa6005a5bf4210aac4b1cc6fd35774.jpg\n",
            "[%] File Downloaded !\n",
            "\n",
            "[%] Downloading Image #248 from http://st2.depositphotos.com/1692343/5318/i/950/depositphotos_53188533-stock-photo-organic-raw-sweet-potatoes.jpg\n"
          ]
        },
        {
          "output_type": "stream",
          "name": "stderr",
          "text": [
            "\r 29%|\u001b[32m██████████▊                          \u001b[0m 850 MB| Download Speed  1.00s/MB | Estimated Time:  10:02\u001b[0m"
          ]
        },
        {
          "output_type": "stream",
          "name": "stdout",
          "text": [
            "[%] File Downloaded !\n",
            "\n",
            "[%] Downloading Image #249 from https://www.apieceofrainbow.com/wp-content/uploads/2021/02/how-to-grow-potatoes-plant-potato-planters-containers-soil-harvest-storage-garden-beds-pots-bags-towers-straw-mound-hill-vegetable-gardening-tips-ideas-apieceofrainbow-7.jpg\n"
          ]
        },
        {
          "output_type": "stream",
          "name": "stderr",
          "text": [
            "\r 29%|\u001b[32m██████████▊                          \u001b[0m 850 MB| Download Speed  1.17MB/s | Estimated Time:  08:35\u001b[0m"
          ]
        },
        {
          "output_type": "stream",
          "name": "stdout",
          "text": [
            "[%] File Downloaded !\n",
            "\n",
            "[%] Downloading Image #250 from https://www.indianonshop.com/wp-content/uploads/2022/06/61yXL70-RaL._SX679_.jpg\n"
          ]
        },
        {
          "output_type": "stream",
          "name": "stderr",
          "text": [
            "\r 29%|\u001b[32m██████████▉                          \u001b[0m 850 MB| Download Speed  1.13MB/s | Estimated Time:  08:49\u001b[0m"
          ]
        },
        {
          "output_type": "stream",
          "name": "stdout",
          "text": [
            "[%] File Downloaded !\n",
            "\n",
            "[%] Downloading Image #251 from https://img2.exportersindia.com/product_images/bc-full/dir_47/1405435/potatoes-382697.jpg\n"
          ]
        },
        {
          "output_type": "stream",
          "name": "stderr",
          "text": [
            "\r 30%|\u001b[32m██████████▉                          \u001b[0m 850 MB| Download Speed  1.12MB/s | Estimated Time:  08:56\u001b[0m"
          ]
        },
        {
          "output_type": "stream",
          "name": "stdout",
          "text": [
            "[%] File Downloaded !\n",
            "\n"
          ]
        },
        {
          "output_type": "stream",
          "name": "stderr",
          "text": [
            "\r 30%|\u001b[32m██████████▉                          \u001b[0m 850 MB| Download Speed  1.32MB/s | Estimated Time:  07:34\u001b[0m"
          ]
        },
        {
          "output_type": "stream",
          "name": "stdout",
          "text": [
            "[%] Downloading Image #252 from https://i.pinimg.com/originals/1c/5e/f1/1c5ef172c36e4c588691b8790ee0889a.jpg\n",
            "[%] File Downloaded !\n",
            "\n",
            "[%] Downloading Image #253 from https://images.fineartamerica.com/images-medium-large-5/raw-sweet-potatoes-romulo-yanes.jpg\n"
          ]
        },
        {
          "output_type": "stream",
          "name": "stderr",
          "text": [
            "\r 30%|\u001b[32m███████████                          \u001b[0m 850 MB| Download Speed  1.42MB/s | Estimated Time:  07:00\u001b[0m"
          ]
        },
        {
          "output_type": "stream",
          "name": "stdout",
          "text": [
            "[%] File Downloaded !\n",
            "\n"
          ]
        },
        {
          "output_type": "stream",
          "name": "stderr",
          "text": [
            "\r 30%|\u001b[32m███████████                          \u001b[0m 850 MB| Download Speed  1.48MB/s | Estimated Time:  06:43\u001b[0m"
          ]
        },
        {
          "output_type": "stream",
          "name": "stdout",
          "text": [
            "[%] Downloading Image #254 from https://thumbs.dreamstime.com/b/fresh-potatoes-market-stall-freshly-dug-sale-fruit-vegetable-151846413.jpg\n",
            "[%] File Downloaded !\n",
            "\n",
            "[%] Downloading Image #255 from http://thumbs.dreamstime.com/z/bunch-fresh-potatoes-19974251.jpg\n",
            "[%] File Downloaded !\n",
            "\n",
            "[%] Downloading Image #256 from https://thumbs.dreamstime.com/b/new-harvest-fresh-potatoes-ready-to-cook-close-up-99318984.jpg\n"
          ]
        },
        {
          "output_type": "stream",
          "name": "stderr",
          "text": [
            "\r 30%|\u001b[32m███████████▏                         \u001b[0m 850 MB| Download Speed  2.49MB/s | Estimated Time:  03:59\u001b[0m"
          ]
        },
        {
          "output_type": "stream",
          "name": "stdout",
          "text": [
            "[%] File Downloaded !\n",
            "\n",
            "[%] Downloading Image #257 from https://thumbs.dreamstime.com/z/fresh-potatoes-greengrocer-front-local-super-market-istanbul-turkey-44402044.jpg\n"
          ]
        },
        {
          "output_type": "stream",
          "name": "stderr",
          "text": [
            "\r 30%|\u001b[32m███████████▏                         \u001b[0m 850 MB| Download Speed  1.45MB/s | Estimated Time:  06:49\u001b[0m"
          ]
        },
        {
          "output_type": "stream",
          "name": "stdout",
          "text": [
            "[%] File Downloaded !\n",
            "\n",
            "[%] Downloading Image #258 from https://thumbs.dreamstime.com/z/fresh-new-potatoes-18070480.jpg\n",
            "[%] File Downloaded !\n",
            "\n",
            "[%] Downloading Image #259 from https://thumbs.dreamstime.com/z/sack-fresh-potatoes-19848274.jpg\n"
          ]
        },
        {
          "output_type": "stream",
          "name": "stderr",
          "text": [
            "\r 30%|\u001b[32m███████████▎                         \u001b[0m 850 MB| Download Speed  2.19MB/s | Estimated Time:  04:30\u001b[0m"
          ]
        },
        {
          "output_type": "stream",
          "name": "stdout",
          "text": [
            "[%] File Downloaded !\n",
            "\n",
            "[%] Downloading Image #260 from https://c8.alamy.com/comp/PD6CCB/preparing-fresh-potatoes-PD6CCB.jpg\n"
          ]
        },
        {
          "output_type": "stream",
          "name": "stderr",
          "text": [
            " 31%|\u001b[32m███████████▍                         \u001b[0m 850 MB| Download Speed  4.10MB/s | Estimated Time:  02:23\u001b[0m"
          ]
        },
        {
          "output_type": "stream",
          "name": "stdout",
          "text": [
            "[%] File Downloaded !\n",
            "\n",
            "[%] Downloading Image #261 from https://thumbs.dreamstime.com/b/fresh-potatoes-19333737.jpg\n",
            "[%] File Downloaded !\n",
            "\n",
            "[%] Downloading Image #262 from https://thumbs.dreamstime.com/b/fresh-potatoes-plate-12657688.jpg\n",
            "[%] File Downloaded !\n",
            "\n",
            "[%] Downloading Image #263 from https://thumbs.dreamstime.com/b/fresh-potatoes-13414639.jpg\n",
            "[%] File Downloaded !\n",
            "\n",
            "[%] Downloading Image #264 from https://thumbs.dreamstime.com/z/sack-freshly-picked-potatoes-sarpo-mira-36914677.jpg\n"
          ]
        },
        {
          "output_type": "stream",
          "name": "stderr",
          "text": [
            "\r 31%|\u001b[32m███████████▍                         \u001b[0m 850 MB| Download Speed  3.54MB/s | Estimated Time:  02:45\u001b[0m"
          ]
        },
        {
          "output_type": "stream",
          "name": "stdout",
          "text": [
            "[%] File Downloaded !\n",
            "\n",
            "[%] Downloading Image #265 from https://thumbs.dreamstime.com/b/five-fresh-new-potatoes-18177576.jpg\n",
            "[%] File Downloaded !\n",
            "\n",
            "[%] Downloading Image #266 from https://thumbs.dreamstime.com/b/fresh-organic-potatoes-basket-burlap-sack-empty-price-tag-46772987.jpg\n"
          ]
        },
        {
          "output_type": "stream",
          "name": "stderr",
          "text": [
            "\r 31%|\u001b[32m███████████▌                         \u001b[0m 850 MB| Download Speed  2.54MB/s | Estimated Time:  03:50\u001b[0m"
          ]
        },
        {
          "output_type": "stream",
          "name": "stdout",
          "text": [
            "[%] File Downloaded !\n",
            "\n",
            "[%] Downloading Image #267 from https://c8.alamy.com/comp/PD7AB6/preparing-fresh-potatoes-PD7AB6.jpg\n"
          ]
        },
        {
          "output_type": "stream",
          "name": "stderr",
          "text": [
            " 32%|\u001b[32m███████████▋                         \u001b[0m 850 MB| Download Speed  2.51MB/s | Estimated Time:  03:52\u001b[0m"
          ]
        },
        {
          "output_type": "stream",
          "name": "stdout",
          "text": [
            "[%] File Downloaded !\n",
            "\n",
            "[%] Downloading Image #268 from https://thumbs.dreamstime.com/b/farm-fresh-potatoes-hessian-sack-baby-displayed-rustic-wooden-table-farmers-market-healthy-nutritious-root-41038912.jpg\n",
            "[%] File Downloaded !\n",
            "\n",
            "[%] Downloading Image #269 from https://img1.exportersindia.com/product_images/bc-full/dir_169/5064900/fresh-potatoes-1498900326-3098027.jpeg\n"
          ]
        },
        {
          "output_type": "stream",
          "name": "stderr",
          "text": [
            "\r 32%|\u001b[32m███████████▋                         \u001b[0m 850 MB| Download Speed  2.32MB/s | Estimated Time:  04:09\u001b[0m"
          ]
        },
        {
          "output_type": "stream",
          "name": "stdout",
          "text": [
            "[%] File Downloaded !\n",
            "\n",
            "[%] Downloading Image #270 from https://st.depositphotos.com/1923209/3032/i/950/depositphotos_30327555-stock-photo-freshly-harvested-potatoes.jpg\n"
          ]
        },
        {
          "output_type": "stream",
          "name": "stderr",
          "text": [
            "\r 32%|\u001b[32m███████████▊                         \u001b[0m 850 MB| Download Speed  2.17MB/s | Estimated Time:  04:27\u001b[0m"
          ]
        },
        {
          "output_type": "stream",
          "name": "stdout",
          "text": [
            "[%] File Downloaded !\n",
            "\n",
            "[%] Downloading Image #271 from https://cdn.shopify.com/s/files/1/0206/9470/products/2502-2-done_1024x1024.jpg?v=1556836665\n"
          ]
        },
        {
          "output_type": "stream",
          "name": "stderr",
          "text": [
            "\r 32%|\u001b[32m███████████▊                         \u001b[0m 850 MB| Download Speed  1.89MB/s | Estimated Time:  05:06\u001b[0m"
          ]
        },
        {
          "output_type": "stream",
          "name": "stdout",
          "text": [
            "[%] File Downloaded !\n",
            "\n",
            "[%] Downloading Image #272 from https://img3.21food.com/img/product/2020/11/18/food3052201605677013417546.jpg\n"
          ]
        },
        {
          "output_type": "stream",
          "name": "stderr",
          "text": [
            "\r 32%|\u001b[32m███████████▊                         \u001b[0m 850 MB| Download Speed  1.21s/MB | Estimated Time:  11:41\u001b[0m"
          ]
        },
        {
          "output_type": "stream",
          "name": "stdout",
          "text": [
            "[%] File Downloaded !\n",
            "\n",
            "[%] Downloading Image #273 from https://simasaps.eu/wp-content/uploads/2022/07/Fresh-Potatoes.jpg\n"
          ]
        },
        {
          "output_type": "stream",
          "name": "stderr",
          "text": [
            "\r 32%|\u001b[32m███████████▉                         \u001b[0m 850 MB| Download Speed  1.07s/MB | Estimated Time:  10:19\u001b[0m"
          ]
        },
        {
          "output_type": "stream",
          "name": "stdout",
          "text": [
            "[%] File Downloaded !\n",
            "\n",
            "[%] Downloading Image #274 from https://thumbs.dreamstime.com/b/new-potatoes-15684811.jpg\n"
          ]
        },
        {
          "output_type": "stream",
          "name": "stderr",
          "text": [
            "\r 32%|\u001b[32m███████████▉                         \u001b[0m 850 MB| Download Speed  1.18MB/s | Estimated Time:  08:10\u001b[0m"
          ]
        },
        {
          "output_type": "stream",
          "name": "stdout",
          "text": [
            "[%] File Downloaded !\n",
            "\n",
            "[%] Downloading Image #275 from https://thumbs.dreamstime.com/z/fresh-sweet-potatoes-farm-to-market-put-table-every-day-beautiful-chemical-free-division-can-be-attributed-many-139422608.jpg\n"
          ]
        },
        {
          "output_type": "stream",
          "name": "stderr",
          "text": [
            "\r 32%|\u001b[32m███████████▉                         \u001b[0m 850 MB| Download Speed  1.36MB/s | Estimated Time:  07:04\u001b[0m"
          ]
        },
        {
          "output_type": "stream",
          "name": "stdout",
          "text": [
            "[%] File Downloaded !\n",
            "\n"
          ]
        },
        {
          "output_type": "stream",
          "name": "stderr",
          "text": [
            "\r 32%|\u001b[32m████████████                         \u001b[0m 850 MB| Download Speed  1.59MB/s | Estimated Time:  06:00\u001b[0m"
          ]
        },
        {
          "output_type": "stream",
          "name": "stdout",
          "text": [
            "[%] Downloading Image #276 from https://www.tasteofhome.com/wp-content/uploads/2018/01/Cheesy-Sliced-Potatoes_exps28705_THCA2916394B03_26_3b_RMS.jpg\n",
            "[%] File Downloaded !\n",
            "\n",
            "[%] Downloading Image #277 from https://thumbs.dreamstime.com/z/raw-fresh-potatoes-bowl-wooden-background-105698348.jpg\n"
          ]
        },
        {
          "output_type": "stream",
          "name": "stderr",
          "text": [
            "\r 33%|\u001b[32m████████████                         \u001b[0m 850 MB| Download Speed  1.52MB/s | Estimated Time:  06:17\u001b[0m"
          ]
        },
        {
          "output_type": "stream",
          "name": "stdout",
          "text": [
            "[%] File Downloaded !\n",
            "\n",
            "[%] Downloading Image #278 from https://img.freepik.com/premium-photo/fresh-potatoes-market_1122-9998.jpg\n"
          ]
        },
        {
          "output_type": "stream",
          "name": "stderr",
          "text": [
            "\r 33%|\u001b[32m████████████                         \u001b[0m 850 MB| Download Speed  1.12MB/s | Estimated Time:  08:30\u001b[0m"
          ]
        },
        {
          "output_type": "stream",
          "name": "stdout",
          "text": [
            "[%] File Downloaded !\n",
            "\n",
            "[%] Downloading Image #279 from https://pixy.org/src2/612/6123779.jpg\n"
          ]
        },
        {
          "output_type": "stream",
          "name": "stderr",
          "text": [
            "ERROR:root:Issue getting: https://pixy.org/src2/612/6123779.jpg\n",
            "Error: 'Bing' object has no attribute 'sources'\n"
          ]
        },
        {
          "output_type": "stream",
          "name": "stdout",
          "text": [
            "[%] Downloading Image #279 from https://img.freepik.com/premium-photo/fresh-potatoes_127657-13913.jpg\n"
          ]
        },
        {
          "output_type": "stream",
          "name": "stderr",
          "text": [
            "\r 33%|\u001b[32m████████████▏                        \u001b[0m 850 MB| Download Speed  1.01s/MB | Estimated Time:  09:38\u001b[0m"
          ]
        },
        {
          "output_type": "stream",
          "name": "stdout",
          "text": [
            "[%] File Downloaded !\n",
            "\n",
            "[%] Downloading Image #280 from https://img.freepik.com/premium-photo/fresh-potatoes_127657-13919.jpg\n"
          ]
        },
        {
          "output_type": "stream",
          "name": "stderr",
          "text": [
            "\r 33%|\u001b[32m████████████▏                        \u001b[0m 850 MB| Download Speed  1.14s/MB | Estimated Time:  10:51\u001b[0m"
          ]
        },
        {
          "output_type": "stream",
          "name": "stdout",
          "text": [
            "[%] File Downloaded !\n",
            "\n",
            "[%] Downloading Image #281 from https://www.qadco.com.qa/wp-content/uploads/2022/02/potatoes.jpeg\n"
          ]
        },
        {
          "output_type": "stream",
          "name": "stderr",
          "text": [
            "\r 33%|\u001b[32m████████████▏                        \u001b[0m 850 MB| Download Speed  1.05s/MB | Estimated Time:  09:55\u001b[0m"
          ]
        },
        {
          "output_type": "stream",
          "name": "stdout",
          "text": [
            "[%] File Downloaded !\n",
            "\n",
            "[%] Downloading Image #282 from https://thumbs.dreamstime.com/b/fresh-potatoes-28570576.jpg\n"
          ]
        },
        {
          "output_type": "stream",
          "name": "stderr",
          "text": [
            "\r 33%|\u001b[32m████████████▎                        \u001b[0m 850 MB| Download Speed  1.19MB/s | Estimated Time:  07:57\u001b[0m"
          ]
        },
        {
          "output_type": "stream",
          "name": "stdout",
          "text": [
            "[%] File Downloaded !\n",
            "\n",
            "[%] Downloading Image #283 from https://img.freepik.com/premium-photo/fresh-potatoes_127657-13801.jpg\n"
          ]
        },
        {
          "output_type": "stream",
          "name": "stderr",
          "text": [
            "\r 33%|\u001b[32m████████████▎                        \u001b[0m 850 MB| Download Speed  1.13s/MB | Estimated Time:  10:37\u001b[0m"
          ]
        },
        {
          "output_type": "stream",
          "name": "stdout",
          "text": [
            "[%] File Downloaded !\n",
            "\n",
            "[%] Downloading Image #284 from https://www.tipsbulletin.com/wp-content/uploads/2020/01/how-to-keep-potatoes-fresh-t1-1120x630.jpg\n"
          ]
        },
        {
          "output_type": "stream",
          "name": "stderr",
          "text": [
            "\r 33%|\u001b[32m████████████▎                        \u001b[0m 850 MB| Download Speed  1.17MB/s | Estimated Time:  08:02\u001b[0m"
          ]
        },
        {
          "output_type": "stream",
          "name": "stdout",
          "text": [
            "[%] File Downloaded !\n",
            "\n",
            "[%] Downloading Image #285 from http://www.freeimageslive.com/galleries/food/fruitveg/preview/potatoes.jpg\n"
          ]
        },
        {
          "output_type": "stream",
          "name": "stderr",
          "text": [
            "\r 34%|\u001b[32m████████████▍                        \u001b[0m 850 MB| Download Speed  1.43MB/s | Estimated Time:  06:36\u001b[0m"
          ]
        },
        {
          "output_type": "stream",
          "name": "stdout",
          "text": [
            "[%] File Downloaded !\n",
            "\n",
            "[%] Downloading Image #286 from https://www.prinos.eu/wp-content/uploads/2022/09/102100009-3.jpg\n"
          ]
        },
        {
          "output_type": "stream",
          "name": "stderr",
          "text": [
            "\r 34%|\u001b[32m████████████▍                        \u001b[0m 850 MB| Download Speed  1.16MB/s | Estimated Time:  08:04\u001b[0m"
          ]
        },
        {
          "output_type": "stream",
          "name": "stdout",
          "text": [
            "[%] File Downloaded !\n",
            "\n",
            "[%] Downloading Image #287 from https://bobarno.com/thiefhunters/wp-content/uploads/fresh-potatoes.jpg\n"
          ]
        },
        {
          "output_type": "stream",
          "name": "stderr",
          "text": [
            "\r 34%|\u001b[32m████████████▍                        \u001b[0m 850 MB| Download Speed  1.46MB/s | Estimated Time:  06:24\u001b[0m"
          ]
        },
        {
          "output_type": "stream",
          "name": "stdout",
          "text": [
            "[%] File Downloaded !\n",
            "\n",
            "[%] Downloading Image #288 from https://img3.21food.com/img/product/2020/11/23/food305306-1606103300104470.jpg\n"
          ]
        },
        {
          "output_type": "stream",
          "name": "stderr",
          "text": [
            "\r 34%|\u001b[32m████████████▌                        \u001b[0m 850 MB| Download Speed  2.06s/MB | Estimated Time:  19:19\u001b[0m"
          ]
        },
        {
          "output_type": "stream",
          "name": "stdout",
          "text": [
            "[%] File Downloaded !\n",
            "\n",
            "[%] Downloading Image #289 from https://5.imimg.com/data5/YR/CW/MY-45265279/fresh-potato-500x500.jpg\n"
          ]
        },
        {
          "output_type": "stream",
          "name": "stderr",
          "text": [
            "\r 34%|\u001b[32m████████████▌                        \u001b[0m 850 MB| Download Speed  1.68s/MB | Estimated Time:  15:43\u001b[0m"
          ]
        },
        {
          "output_type": "stream",
          "name": "stdout",
          "text": [
            "[%] File Downloaded !\n",
            "\n",
            "[%] Downloading Image #290 from https://4.imimg.com/data4/DF/OH/MY-26795700/fresh-potatoes-500x500.jpg\n"
          ]
        },
        {
          "output_type": "stream",
          "name": "stderr",
          "text": [
            "\r 34%|\u001b[32m████████████▌                        \u001b[0m 850 MB| Download Speed  1.42s/MB | Estimated Time:  13:13\u001b[0m"
          ]
        },
        {
          "output_type": "stream",
          "name": "stdout",
          "text": [
            "[%] File Downloaded !\n",
            "\n",
            "[%] Downloading Image #291 from https://s3.amazonaws.com/images.ecwid.com/images/12968111/974148233.jpg\n"
          ]
        },
        {
          "output_type": "stream",
          "name": "stderr",
          "text": [
            "\r 34%|\u001b[32m████████████▋                        \u001b[0m 850 MB| Download Speed  1.15s/MB | Estimated Time:  10:43\u001b[0m"
          ]
        },
        {
          "output_type": "stream",
          "name": "stdout",
          "text": [
            "[%] File Downloaded !\n",
            "\n",
            "[%] Downloading Image #292 from https://i.pinimg.com/736x/3c/d0/70/3cd0706931af87c0ca9cd9029db10a83--fresh-potato-the-potato.jpg\n"
          ]
        },
        {
          "output_type": "stream",
          "name": "stderr",
          "text": [
            "\r 34%|\u001b[32m████████████▋                        \u001b[0m 850 MB| Download Speed  1.14MB/s | Estimated Time:  08:08\u001b[0m"
          ]
        },
        {
          "output_type": "stream",
          "name": "stdout",
          "text": [
            "[%] File Downloaded !\n",
            "\n",
            "[%] Downloading Image #293 from https://d2uqfpnktc64mn.cloudfront.net/uploads/post/image/000/000/481/main.jpg\n"
          ]
        },
        {
          "output_type": "stream",
          "name": "stderr",
          "text": [
            "\r 34%|\u001b[32m████████████▊                        \u001b[0m 850 MB| Download Speed  1.01s/MB | Estimated Time:  09:24\u001b[0m"
          ]
        },
        {
          "output_type": "stream",
          "name": "stdout",
          "text": [
            "[%] File Downloaded !\n",
            "\n",
            "[%] Downloading Image #294 from https://www.heavenphoto.com/wp-content/uploads/2021/04/sweet-potato.jpg\n"
          ]
        },
        {
          "output_type": "stream",
          "name": "stderr",
          "text": [
            " 35%|\u001b[32m████████████▊                        \u001b[0m 850 MB| Download Speed  1.56MB/s | Estimated Time:  05:56\u001b[0m"
          ]
        },
        {
          "output_type": "stream",
          "name": "stdout",
          "text": [
            "[%] File Downloaded !\n",
            "\n",
            "[%] Downloading Image #295 from https://i.etsystatic.com/9790039/r/il/06c6c9/3169989012/il_1588xN.3169989012_s657.jpg\n",
            "[%] File Downloaded !\n",
            "\n",
            "[%] Downloading Image #296 from https://www.poison.org/-/media/images/shared/articles/sacks-of-potatoes.jpg\n"
          ]
        },
        {
          "output_type": "stream",
          "name": "stderr",
          "text": [
            "\r 35%|\u001b[32m████████████▉                        \u001b[0m 850 MB| Download Speed  1.34MB/s | Estimated Time:  06:52\u001b[0m"
          ]
        },
        {
          "output_type": "stream",
          "name": "stdout",
          "text": [
            "[%] File Downloaded !\n",
            "\n",
            "[%] Downloading Image #297 from https://cdn.mos.cms.futurecdn.net/xNUWLZmaBCzrA4tUU5jnkg.jpg\n"
          ]
        },
        {
          "output_type": "stream",
          "name": "stderr",
          "text": [
            "\r 35%|\u001b[32m████████████▉                        \u001b[0m 850 MB| Download Speed  1.47MB/s | Estimated Time:  06:15\u001b[0m"
          ]
        },
        {
          "output_type": "stream",
          "name": "stdout",
          "text": [
            "[%] File Downloaded !\n",
            "\n",
            "[%] Downloading Image #298 from https://www.thelist.com/img/gallery/when-you-eat-raw-potatoes-this-is-what-happens-to-your-body/l-intro-1625574520.jpg\n"
          ]
        },
        {
          "output_type": "stream",
          "name": "stderr",
          "text": [
            "\r 35%|\u001b[32m████████████▉                        \u001b[0m 850 MB| Download Speed  1.33MB/s | Estimated Time:  06:54\u001b[0m"
          ]
        },
        {
          "output_type": "stream",
          "name": "stdout",
          "text": [
            "[%] File Downloaded !\n",
            "\n",
            "[%] Downloading Image #299 from https://static2.bigstockphoto.com/3/3/1/large1500/133929854.jpg\n"
          ]
        },
        {
          "output_type": "stream",
          "name": "stderr",
          "text": [
            " 35%|\u001b[32m█████████████                        \u001b[0m 850 MB| Download Speed  1.90MB/s | Estimated Time:  04:49\u001b[0m"
          ]
        },
        {
          "output_type": "stream",
          "name": "stdout",
          "text": [
            "[%] File Downloaded !\n",
            "\n",
            "[%] Downloading Image #300 from http://thumbs.dreamstime.com/z/two-fresh-potatoes-20226562.jpg\n",
            "[%] File Downloaded !\n",
            "\n",
            "[%] Downloading Image #301 from https://thumbs.dreamstime.com/z/raw-potatoes-counter-61323022.jpg\n",
            "[%] File Downloaded !\n",
            "\n",
            "[%] Downloading Image #302 from https://thumbs.dreamstime.com/z/fresh-potato-traces-earth-skin-dirty-raw-potatoes-large-quantity-not-washed-fresh-potato-traces-earth-134413972.jpg\n"
          ]
        },
        {
          "output_type": "stream",
          "name": "stderr",
          "text": [
            "\r 36%|\u001b[32m█████████████▏                       \u001b[0m 850 MB| Download Speed  2.27MB/s | Estimated Time:  04:01\u001b[0m"
          ]
        },
        {
          "output_type": "stream",
          "name": "stdout",
          "text": [
            "[%] File Downloaded !\n",
            "\n",
            "[%] Downloading Image #303 from https://earthmedicineways.com/wp-content/uploads/2022/07/Potatoes.jpg\n"
          ]
        },
        {
          "output_type": "stream",
          "name": "stderr",
          "text": [
            "\r 36%|\u001b[32m█████████████▏                       \u001b[0m 850 MB| Download Speed  1.65s/MB | Estimated Time:  15:03\u001b[0m"
          ]
        },
        {
          "output_type": "stream",
          "name": "stdout",
          "text": [
            "[%] File Downloaded !\n",
            "\n",
            "[%] Downloading Image #304 from https://www.tastingtable.com/img/gallery/why-you-should-start-steaming-potatoes-instead-of-boiling-them/l-intro-1656005953.jpg\n"
          ]
        },
        {
          "output_type": "stream",
          "name": "stderr",
          "text": [
            "\r 36%|\u001b[32m█████████████▏                       \u001b[0m 850 MB| Download Speed  1.36s/MB | Estimated Time:  12:21\u001b[0m"
          ]
        },
        {
          "output_type": "stream",
          "name": "stdout",
          "text": [
            "[%] File Downloaded !\n",
            "\n",
            "[%] Downloading Image #305 from https://img1.exportersindia.com/product_images/bc-full/2020/6/3222531/fresh-potato-1591433198-5468622.jpeg\n"
          ]
        },
        {
          "output_type": "stream",
          "name": "stderr",
          "text": [
            "\r 36%|\u001b[32m█████████████▎                       \u001b[0m 850 MB| Download Speed  1.32s/MB | Estimated Time:  11:58\u001b[0m"
          ]
        },
        {
          "output_type": "stream",
          "name": "stdout",
          "text": [
            "[%] File Downloaded !\n",
            "\n",
            "[%] Downloading Image #306 from https://5.imimg.com/data5/BR/ON/MY-46120412/high-quality-fresh-potato-500x500.jpg\n"
          ]
        },
        {
          "output_type": "stream",
          "name": "stderr",
          "text": [
            "\r 36%|\u001b[32m█████████████▎                       \u001b[0m 850 MB| Download Speed  1.22s/MB | Estimated Time:  11:05\u001b[0m"
          ]
        },
        {
          "output_type": "stream",
          "name": "stdout",
          "text": [
            "[%] File Downloaded !\n",
            "\n",
            "[%] Downloading Image #307 from https://thumbs.dreamstime.com/z/indian-fresh-raw-potatoes-aloo-indian-fresh-raw-potatoes-aloo-173695157.jpg\n",
            "[%] File Downloaded !\n",
            "\n",
            "[%] Downloading Image #308 from https://5.imimg.com/data5/TT/TS/GU/GLADMIN-23386894/fresh-potato-500x500.jpg\n"
          ]
        },
        {
          "output_type": "stream",
          "name": "stderr",
          "text": [
            "\r 36%|\u001b[32m█████████████▍                       \u001b[0m 850 MB| Download Speed  1.03MB/s | Estimated Time:  08:44\u001b[0m"
          ]
        },
        {
          "output_type": "stream",
          "name": "stdout",
          "text": [
            "[%] File Downloaded !\n",
            "\n",
            "[%] Downloading Image #309 from https://mbnz-off-media.s3.ap-southeast-2.amazonaws.com/wp-content/uploads/sites/8/2023/05/30212734/potatoes.png\n"
          ]
        },
        {
          "output_type": "stream",
          "name": "stderr",
          "text": [
            "\r 36%|\u001b[32m█████████████▍                       \u001b[0m 850 MB| Download Speed  1.04s/MB | Estimated Time:  09:21\u001b[0m"
          ]
        },
        {
          "output_type": "stream",
          "name": "stdout",
          "text": [
            "[%] File Downloaded !\n",
            "\n"
          ]
        },
        {
          "output_type": "stream",
          "name": "stderr",
          "text": [
            "\r 36%|\u001b[32m█████████████▍                       \u001b[0m 850 MB| Download Speed  1.05MB/s | Estimated Time:  08:32\u001b[0m"
          ]
        },
        {
          "output_type": "stream",
          "name": "stdout",
          "text": [
            "[%] Downloading Image #310 from https://images.eatthismuch.com/site_media/img/2094_erin_m_a0fc61c9-de52-4777-884f-5c60c00699d8.png\n",
            "[%] File Downloaded !\n",
            "\n",
            "[%] Downloading Image #311 from https://i5.peapod.com/c/KT/KTGXJ.png\n"
          ]
        },
        {
          "output_type": "stream",
          "name": "stderr",
          "text": [
            "\r 37%|\u001b[32m█████████████▌                       \u001b[0m 850 MB| Download Speed  1.37MB/s | Estimated Time:  06:33\u001b[0m"
          ]
        },
        {
          "output_type": "stream",
          "name": "stdout",
          "text": [
            "[%] File Downloaded !\n",
            "\n",
            "[%] Downloading Image #312 from https://images.indianexpress.com/2019/09/raw-potatoes_759.jpg\n"
          ]
        },
        {
          "output_type": "stream",
          "name": "stderr",
          "text": [
            "\r 37%|\u001b[32m█████████████▌                       \u001b[0m 850 MB| Download Speed  1.42MB/s | Estimated Time:  06:17\u001b[0m"
          ]
        },
        {
          "output_type": "stream",
          "name": "stdout",
          "text": [
            "[%] File Downloaded !\n",
            "\n",
            "[%] Downloading Image #313 from https://5.imimg.com/data5/SELLER/Default/2024/1/374551499/OV/YZ/TZ/202757875/fresh-potato-500x500.jpg\n"
          ]
        },
        {
          "output_type": "stream",
          "name": "stderr",
          "text": [
            "\r 37%|\u001b[32m█████████████▌                       \u001b[0m 850 MB| Download Speed  1.17MB/s | Estimated Time:  07:39\u001b[0m"
          ]
        },
        {
          "output_type": "stream",
          "name": "stdout",
          "text": [
            "[%] File Downloaded !\n",
            "\n",
            "[%] Downloading Image #314 from https://i2.wp.com/www.downshiftology.com/wp-content/uploads/2019/10/mashed-sweet-potato-4.jpg\n"
          ]
        },
        {
          "output_type": "stream",
          "name": "stderr",
          "text": [
            "\r 37%|\u001b[32m█████████████▋                       \u001b[0m 850 MB| Download Speed  1.50MB/s | Estimated Time:  05:57\u001b[0m"
          ]
        },
        {
          "output_type": "stream",
          "name": "stdout",
          "text": [
            "[%] File Downloaded !\n",
            "\n",
            "[%] Downloading Image #315 from https://www.tasteofhome.com/wp-content/uploads/2018/01/Baked-Sweet-Potato-Fries_EXPS_THSO17_87885_B04_20_3b-5.jpg\n",
            "[%] File Downloaded !\n",
            "\n",
            "[%] Downloading Image #316 from https://fthmb.tqn.com/MKt6AJGkiuOP7m4WzmXaIIIVesI=/3674x2711/filters:fill(87E3EF,1)/74102847-56a6b63e3df78cf7728fd587.jpg\n"
          ]
        },
        {
          "output_type": "stream",
          "name": "stderr",
          "text": [
            "\r 37%|\u001b[32m█████████████▊                       \u001b[0m 850 MB| Download Speed  2.03MB/s | Estimated Time:  04:23\u001b[0m"
          ]
        },
        {
          "output_type": "stream",
          "name": "stdout",
          "text": [
            "[%] File Downloaded !\n",
            "\n",
            "[%] Downloading Image #317 from https://www.healthygffamily.com/wp-content/uploads/2018/09/0C7C5D3F-E7CB-4F4E-82F0-8ADCBC7A2BAB.jpg\n"
          ]
        },
        {
          "output_type": "stream",
          "name": "stderr",
          "text": [
            "ERROR:root:Issue getting: https://www.healthygffamily.com/wp-content/uploads/2018/09/0C7C5D3F-E7CB-4F4E-82F0-8ADCBC7A2BAB.jpg\n",
            "Error: Remote end closed connection without response\n"
          ]
        },
        {
          "output_type": "stream",
          "name": "stdout",
          "text": [
            "[%] Downloading Image #317 from https://www.mashed.com/img/gallery/is-eating-raw-potatoes-actually-safe/intro-1653409063.jpg\n"
          ]
        },
        {
          "output_type": "stream",
          "name": "stderr",
          "text": [
            "\r 37%|\u001b[32m█████████████▊                       \u001b[0m 850 MB| Download Speed  1.11MB/s | Estimated Time:  08:01\u001b[0m"
          ]
        },
        {
          "output_type": "stream",
          "name": "stdout",
          "text": [
            "[%] File Downloaded !\n",
            "\n",
            "[%] Downloading Image #318 from https://images.healthshots.com/healthshots/en/uploads/2022/12/19221912/boiled-potato.jpg\n"
          ]
        },
        {
          "output_type": "stream",
          "name": "stderr",
          "text": [
            "\r 37%|\u001b[32m█████████████▊                       \u001b[0m 850 MB| Download Speed  1.19s/MB | Estimated Time:  10:32\u001b[0m"
          ]
        },
        {
          "output_type": "stream",
          "name": "stdout",
          "text": [
            "[%] File Downloaded !\n",
            "\n",
            "[%] Downloading Image #319 from https://www.singlecare.com/blog/wp-content/uploads/2022/11/Blog_121622_Health_benefits_sweet_potatoes-1884x1060.png\n"
          ]
        },
        {
          "output_type": "stream",
          "name": "stderr",
          "text": [
            "\r 38%|\u001b[32m█████████████▉                       \u001b[0m 850 MB| Download Speed  1.05s/MB | Estimated Time:  09:17\u001b[0m"
          ]
        },
        {
          "output_type": "stream",
          "name": "stdout",
          "text": [
            "[%] File Downloaded !\n",
            "\n",
            "[%] Downloading Image #320 from https://www.heavenphoto.com/wp-content/uploads/2021/04/sweet-potato-1024x768.jpg\n"
          ]
        },
        {
          "output_type": "stream",
          "name": "stderr",
          "text": [
            "\r 38%|\u001b[32m█████████████▉                       \u001b[0m 850 MB| Download Speed  1.00s/MB | Estimated Time:  08:51\u001b[0m"
          ]
        },
        {
          "output_type": "stream",
          "name": "stdout",
          "text": [
            "[%] File Downloaded !\n",
            "\n",
            "[%] Downloading Image #321 from https://kitchenous.com/wp-content/uploads/2021/02/freezing-fresh-potatoes-768x1152.jpg\n"
          ]
        },
        {
          "output_type": "stream",
          "name": "stderr",
          "text": [
            " 38%|\u001b[32m██████████████                       \u001b[0m 850 MB| Download Speed  1.30MB/s | Estimated Time:  06:44\u001b[0m"
          ]
        },
        {
          "output_type": "stream",
          "name": "stdout",
          "text": [
            "[%] File Downloaded !\n",
            "\n",
            "[%] Downloading Image #322 from https://www.treehugger.com/thmb/yvR4jfbxX_l9a2C3O7LIn6Y7JjU=/3792x2528/filters:fill(auto,1)/how-to-grow-sweet-potatoes-5116109-01-5200a8f03b9547a18d8b97938ba616ef.jpg\n",
            "[%] File Downloaded !\n",
            "\n",
            "[%] Downloading Image #323 from https://eatingexpired.com/wp-content/uploads/2021/12/spoiled-potatoes.jpg\n"
          ]
        },
        {
          "output_type": "stream",
          "name": "stderr",
          "text": [
            "\r 38%|\u001b[32m██████████████                       \u001b[0m 850 MB| Download Speed  1.64MB/s | Estimated Time:  05:21\u001b[0m"
          ]
        },
        {
          "output_type": "stream",
          "name": "stdout",
          "text": [
            "[%] File Downloaded !\n",
            "\n",
            "[%] Downloading Image #324 from http://img.crocdn.co.uk/images/products2/pl/20/00/00/82/pl2000008279.jpg?width=940&amp;height=940\n"
          ]
        },
        {
          "output_type": "stream",
          "name": "stderr",
          "text": [
            "\r 38%|\u001b[32m██████████████                       \u001b[0m 850 MB| Download Speed  1.01MB/s | Estimated Time:  08:41\u001b[0m"
          ]
        },
        {
          "output_type": "stream",
          "name": "stdout",
          "text": [
            "[%] File Downloaded !\n",
            "\n",
            "[%] Downloading Image #325 from https://diethood.com/wp-content/uploads/2021/03/air-fryer-potato-chips-5.jpg\n"
          ]
        },
        {
          "output_type": "stream",
          "name": "stderr",
          "text": [
            "\r 38%|\u001b[32m██████████████▏                      \u001b[0m 850 MB| Download Speed  1.30MB/s | Estimated Time:  06:43\u001b[0m"
          ]
        },
        {
          "output_type": "stream",
          "name": "stdout",
          "text": [
            "[%] File Downloaded !\n",
            "\n",
            "[%] Downloading Image #326 from https://thumbs.dreamstime.com/z/whole-fresh-raw-potato-peel-cut-potatoes-round-slice-isolated-white-background-shadow-close-up-148955397.jpg\n"
          ]
        },
        {
          "output_type": "stream",
          "name": "stderr",
          "text": [
            " 38%|\u001b[32m██████████████▏                      \u001b[0m 850 MB| Download Speed  1.35MB/s | Estimated Time:  06:26\u001b[0m"
          ]
        },
        {
          "output_type": "stream",
          "name": "stdout",
          "text": [
            "[%] File Downloaded !\n",
            "\n",
            "[%] Downloading Image #327 from https://thumbs.dreamstime.com/b/fresh-raw-potatoes-sack-white-background-104525047.jpg\n",
            "[%] File Downloaded !\n",
            "\n",
            "[%] Downloading Image #328 from https://thumbs.dreamstime.com/z/raw-potato-food-fresh-potato-raw-potato-food-fresh-potato-wooden-background-117126576.jpg\n"
          ]
        },
        {
          "output_type": "stream",
          "name": "stderr",
          "text": [
            "\r 39%|\u001b[32m██████████████▎                      \u001b[0m 850 MB| Download Speed  1.27MB/s | Estimated Time:  06:50\u001b[0m"
          ]
        },
        {
          "output_type": "stream",
          "name": "stdout",
          "text": [
            "[%] File Downloaded !\n",
            "\n",
            "[%] Downloading Image #329 from https://c8.alamy.com/comp/R3364G/raw-sweet-potatoes-R3364G.jpg\n"
          ]
        },
        {
          "output_type": "stream",
          "name": "stderr",
          "text": [
            "\r 39%|\u001b[32m██████████████▎                      \u001b[0m 850 MB| Download Speed  1.58MB/s | Estimated Time:  05:30\u001b[0m"
          ]
        },
        {
          "output_type": "stream",
          "name": "stdout",
          "text": [
            "[%] File Downloaded !\n",
            "\n"
          ]
        },
        {
          "output_type": "stream",
          "name": "stderr",
          "text": [
            "\r 39%|\u001b[32m██████████████▎                      \u001b[0m 850 MB| Download Speed  1.48MB/s | Estimated Time:  05:51\u001b[0m"
          ]
        },
        {
          "output_type": "stream",
          "name": "stdout",
          "text": [
            "[%] Downloading Image #330 from https://www.organicfacts.net/wp-content/uploads/potatoes.jpg\n",
            "[%] File Downloaded !\n",
            "\n",
            "[%] Downloading Image #331 from https://biteontheside.com/wp-content/uploads/2020/07/fried-potato-slices-5.jpg\n"
          ]
        },
        {
          "output_type": "stream",
          "name": "stderr",
          "text": [
            "\r 39%|\u001b[32m██████████████▍                      \u001b[0m 850 MB| Download Speed  1.55MB/s | Estimated Time:  05:35\u001b[0m"
          ]
        },
        {
          "output_type": "stream",
          "name": "stdout",
          "text": [
            "[%] File Downloaded !\n",
            "\n"
          ]
        },
        {
          "output_type": "stream",
          "name": "stderr",
          "text": [
            "\r 39%|\u001b[32m██████████████▍                      \u001b[0m 850 MB| Download Speed  1.81MB/s | Estimated Time:  04:46\u001b[0m"
          ]
        },
        {
          "output_type": "stream",
          "name": "stdout",
          "text": [
            "[%] Downloading Image #332 from https://www.wholesomeyum.com/wp-content/uploads/2022/12/wholesomeyum-Baked-Sweet-Potatoes-In-The-Oven.jpg\n",
            "[%] File Downloaded !\n",
            "\n",
            "[%] Downloading Image #333 from http://www.pngmart.com/files/3/Potato-PNG-Pic.png\n"
          ]
        },
        {
          "output_type": "stream",
          "name": "stderr",
          "text": [
            "\r 39%|\u001b[32m██████████████▍                      \u001b[0m 850 MB| Download Speed  1.14MB/s | Estimated Time:  07:33\u001b[0m"
          ]
        },
        {
          "output_type": "stream",
          "name": "stdout",
          "text": [
            "[%] File Downloaded !\n",
            "\n",
            "[%] Downloading Image #334 from https://5.imimg.com/data5/YJ/KS/MY-41618375/fresh-potato-500x500.png\n"
          ]
        },
        {
          "output_type": "stream",
          "name": "stderr",
          "text": [
            "\r 39%|\u001b[32m██████████████▌                      \u001b[0m 850 MB| Download Speed  1.28s/MB | Estimated Time:  11:01\u001b[0m"
          ]
        },
        {
          "output_type": "stream",
          "name": "stdout",
          "text": [
            "[%] File Downloaded !\n",
            "\n",
            "[%] Downloading Image #335 from https://2.wlimg.com/product_images/bc-full/2018/6/3540210/fresh-potato-1530177034-1927949.jpeg\n"
          ]
        },
        {
          "output_type": "stream",
          "name": "stderr",
          "text": [
            "\r 39%|\u001b[32m██████████████▌                      \u001b[0m 850 MB| Download Speed  1.40s/MB | Estimated Time:  12:03\u001b[0m"
          ]
        },
        {
          "output_type": "stream",
          "name": "stdout",
          "text": [
            "[%] File Downloaded !\n",
            "\n",
            "[%] Downloading Image #336 from https://www.newfoodmagazine.com/wp-content/uploads/shutterstock_1101418244-scaled.jpg\n"
          ]
        },
        {
          "output_type": "stream",
          "name": "stderr",
          "text": [
            "\r 40%|\u001b[32m██████████████▋                      \u001b[0m 850 MB| Download Speed  1.07s/MB | Estimated Time:  09:11\u001b[0m"
          ]
        },
        {
          "output_type": "stream",
          "name": "stdout",
          "text": [
            "[%] File Downloaded !\n",
            "\n"
          ]
        },
        {
          "output_type": "stream",
          "name": "stderr",
          "text": [
            "\r 40%|\u001b[32m██████████████▋                      \u001b[0m 850 MB| Download Speed  1.13MB/s | Estimated Time:  07:32\u001b[0m"
          ]
        },
        {
          "output_type": "stream",
          "name": "stdout",
          "text": [
            "[%] Downloading Image #337 from https://littlesunnykitchen.com/wp-content/uploads/2020/10/Air-Fryer-Roasted-Potatoes-18-1024x1536.jpg\n",
            "[%] File Downloaded !\n",
            "\n"
          ]
        },
        {
          "output_type": "stream",
          "name": "stderr",
          "text": [
            "\r 40%|\u001b[32m██████████████▋                      \u001b[0m 850 MB| Download Speed  1.40MB/s | Estimated Time:  06:06\u001b[0m"
          ]
        },
        {
          "output_type": "stream",
          "name": "stdout",
          "text": [
            "[%] Downloading Image #338 from https://recipes.net/wp-content/uploads/2021/03/raw-potatoes-scaled.jpg\n",
            "[%] File Downloaded !\n",
            "\n",
            "[%] Downloading Image #339 from https://5.imimg.com/data5/HC/FI/MY-22954806/raw-potato-500x500.jpg\n"
          ]
        },
        {
          "output_type": "stream",
          "name": "stderr",
          "text": [
            "\r 40%|\u001b[32m██████████████▊                      \u001b[0m 850 MB| Download Speed  1.01s/MB | Estimated Time:  08:38\u001b[0m"
          ]
        },
        {
          "output_type": "stream",
          "name": "stdout",
          "text": [
            "[%] File Downloaded !\n",
            "\n",
            "[%] Downloading Image #340 from https://cdn2.tmbi.com/TOH/Images/Photos/37/1200x1200/Cheesy-Sliced-Potatoes_exps28705_THCA2916394B03_26_3b_RMS.jpg\n"
          ]
        },
        {
          "output_type": "stream",
          "name": "stderr",
          "text": [
            "\r 40%|\u001b[32m██████████████▊                      \u001b[0m 850 MB| Download Speed  1.42s/MB | Estimated Time:  12:03\u001b[0m"
          ]
        },
        {
          "output_type": "stream",
          "name": "stdout",
          "text": [
            "[%] File Downloaded !\n",
            "\n",
            "[%] Downloading Image #341 from https://i.pinimg.com/736x/0a/0c/5e/0a0c5ed9ca280c90080906437dc66b46.jpg\n",
            "[%] File Downloaded !\n",
            "\n",
            "[%] Downloading Image #342 from https://thumbs.dreamstime.com/z/raw-sweet-potatoes-wooden-background-closeup-fresh-vegetable-65063467.jpg\n"
          ]
        },
        {
          "output_type": "stream",
          "name": "stderr",
          "text": [
            "\r 40%|\u001b[32m██████████████▉                      \u001b[0m 850 MB| Download Speed  1.08MB/s | Estimated Time:  07:52\u001b[0m"
          ]
        },
        {
          "output_type": "stream",
          "name": "stdout",
          "text": [
            "[%] File Downloaded !\n",
            "\n",
            "[%] Downloading Image #343 from https://images.all-free-download.com/images/graphiclarge/raw_potatoes_208325.jpg\n"
          ]
        },
        {
          "output_type": "stream",
          "name": "stderr",
          "text": [
            "\r 40%|\u001b[32m██████████████▉                      \u001b[0m 850 MB| Download Speed  1.05MB/s | Estimated Time:  08:04\u001b[0m"
          ]
        },
        {
          "output_type": "stream",
          "name": "stdout",
          "text": [
            "[%] File Downloaded !\n",
            "\n",
            "[%] Downloading Image #344 from https://kj2bcdn.b-cdn.net/media/27209/images-2020-09-15t140408979.jpeg\n"
          ]
        },
        {
          "output_type": "stream",
          "name": "stderr",
          "text": [
            "\r 40%|\u001b[32m██████████████▉                      \u001b[0m 850 MB| Download Speed  1.26MB/s | Estimated Time:  06:42\u001b[0m"
          ]
        },
        {
          "output_type": "stream",
          "name": "stdout",
          "text": [
            "[%] File Downloaded !\n",
            "\n",
            "[%] Downloading Image #345 from https://yt3.ggpht.com/a/AGF-l78i8agikEjKL3RZyBxjFpDSztm6O1xvavWugw=s900-c-k-c0xffffffff-no-rj-mo\n"
          ]
        },
        {
          "output_type": "stream",
          "name": "stderr",
          "text": [
            "\r 41%|\u001b[32m███████████████                      \u001b[0m 850 MB| Download Speed  1.41MB/s | Estimated Time:  05:58\u001b[0m"
          ]
        },
        {
          "output_type": "stream",
          "name": "stdout",
          "text": [
            "[%] File Downloaded !\n",
            "\n",
            "[%] Downloading Image #346 from https://www.qadco.com.qa/wp-content/uploads/2022/02/potatoes-980x980.jpeg\n"
          ]
        },
        {
          "output_type": "stream",
          "name": "stderr",
          "text": [
            "\r 41%|\u001b[32m███████████████                      \u001b[0m 850 MB| Download Speed  1.07MB/s | Estimated Time:  07:51\u001b[0m"
          ]
        },
        {
          "output_type": "stream",
          "name": "stdout",
          "text": [
            "[%] File Downloaded !\n",
            "\n",
            "[%] Downloading Image #347 from https://kitchenous.com/wp-content/uploads/2021/02/freezing-fresh-potatoes-683x1024.jpg\n"
          ]
        },
        {
          "output_type": "stream",
          "name": "stderr",
          "text": [
            "\r 41%|\u001b[32m███████████████                      \u001b[0m 850 MB| Download Speed  1.37MB/s | Estimated Time:  06:06\u001b[0m"
          ]
        },
        {
          "output_type": "stream",
          "name": "stdout",
          "text": [
            "[%] File Downloaded !\n",
            "\n",
            "[%] Downloading Image #348 from https://www.tasteofhome.com/wp-content/uploads/2022/07/GettyImages-1224918845-e1658929817975.jpg\n"
          ]
        },
        {
          "output_type": "stream",
          "name": "stderr",
          "text": [
            "\r 41%|\u001b[32m███████████████▏                     \u001b[0m 850 MB| Download Speed  1.70MB/s | Estimated Time:  04:54\u001b[0m"
          ]
        },
        {
          "output_type": "stream",
          "name": "stdout",
          "text": [
            "[%] File Downloaded !\n",
            "\n",
            "[%] Downloading Image #349 from https://st.depositphotos.com/1177973/1407/i/950/depositphotos_14079148-stock-photo-fresh-potato-isolated-on-white.jpg\n"
          ]
        },
        {
          "output_type": "stream",
          "name": "stderr",
          "text": [
            "\r 41%|\u001b[32m███████████████▏                     \u001b[0m 850 MB| Download Speed  1.01s/MB | Estimated Time:  08:26\u001b[0m"
          ]
        },
        {
          "output_type": "stream",
          "name": "stdout",
          "text": [
            "[%] File Downloaded !\n",
            "\n",
            "[%] Downloading Image #350 from https://c8.alamy.com/comp/PX8F2K/fresh-raw-potatoes-in-a-burlap-sack-earthy-potato-scene-with-sackcloth-isolated-on-white-background-cooking-ingredient-PX8F2K.jpg\n"
          ]
        },
        {
          "output_type": "stream",
          "name": "stderr",
          "text": [
            "\r 41%|\u001b[32m███████████████▏                     \u001b[0m 850 MB| Download Speed  1.28MB/s | Estimated Time:  06:31\u001b[0m"
          ]
        },
        {
          "output_type": "stream",
          "name": "stdout",
          "text": [
            "[%] File Downloaded !\n",
            "\n",
            "[%] Downloading Image #351 from https://www.mashed.com/img/gallery/10-best-substitutes-for-potatoes/l-intro-1658690595.jpg\n",
            "[%] File Downloaded !\n",
            "\n",
            "[%] Downloading Image #352 from https://c8.alamy.com/comp/CFFMY2/fresh-potatoes-CFFMY2.jpg\n"
          ]
        },
        {
          "output_type": "stream",
          "name": "stderr",
          "text": [
            "\r 41%|\u001b[32m███████████████▎                     \u001b[0m 850 MB| Download Speed  2.01MB/s | Estimated Time:  04:08\u001b[0m"
          ]
        },
        {
          "output_type": "stream",
          "name": "stdout",
          "text": [
            "[%] File Downloaded !\n",
            "\n",
            "[%] Downloading Image #353 from https://thumbs.dreamstime.com/z/raw-sliced-sweet-potatoes-wooden-table-healthy-eating-109819650.jpg\n"
          ]
        },
        {
          "output_type": "stream",
          "name": "stderr",
          "text": [
            "\r 42%|\u001b[32m███████████████▎                     \u001b[0m 850 MB| Download Speed  1.48MB/s | Estimated Time:  05:35\u001b[0m"
          ]
        },
        {
          "output_type": "stream",
          "name": "stdout",
          "text": [
            "[%] File Downloaded !\n",
            "\n"
          ]
        },
        {
          "output_type": "stream",
          "name": "stderr",
          "text": [
            "\r 42%|\u001b[32m███████████████▍                     \u001b[0m 850 MB| Download Speed  1.52MB/s | Estimated Time:  05:27\u001b[0m"
          ]
        },
        {
          "output_type": "stream",
          "name": "stdout",
          "text": [
            "[%] Downloading Image #354 from https://i.pinimg.com/originals/d3/92/35/d3923595ee0dbd2e461b49b16e6f48c1.jpg\n",
            "[%] File Downloaded !\n",
            "\n",
            "[%] Downloading Image #355 from http://www.gfreefoodie.com/wp-content/themes/brandable_standard/images/recipes/bakedpotato.jpg\n"
          ]
        },
        {
          "output_type": "stream",
          "name": "stderr",
          "text": [
            "\r 42%|\u001b[32m███████████████▍                     \u001b[0m 850 MB| Download Speed  1.27MB/s | Estimated Time:  06:30\u001b[0m"
          ]
        },
        {
          "output_type": "stream",
          "name": "stdout",
          "text": [
            "[%] File Downloaded !\n",
            "\n",
            "[%] Downloading Image #356 from https://thumbs.dreamstime.com/z/fresh-potatoes-11703503.jpg\n"
          ]
        },
        {
          "output_type": "stream",
          "name": "stderr",
          "text": [
            "\r 42%|\u001b[32m███████████████▍                     \u001b[0m 850 MB| Download Speed  1.38MB/s | Estimated Time:  05:57\u001b[0m"
          ]
        },
        {
          "output_type": "stream",
          "name": "stdout",
          "text": [
            "[%] File Downloaded !\n",
            "\n",
            "[%] Downloading Image #357 from https://img.freepik.com/premium-photo/fresh-potatoes_127657-13790.jpg\n"
          ]
        },
        {
          "output_type": "stream",
          "name": "stderr",
          "text": [
            " 42%|\u001b[32m███████████████▌                     \u001b[0m 850 MB| Download Speed  1.43MB/s | Estimated Time:  05:43\u001b[0m"
          ]
        },
        {
          "output_type": "stream",
          "name": "stdout",
          "text": [
            "[%] File Downloaded !\n",
            "\n",
            "[%] Downloading Image #358 from https://thumbs.dreamstime.com/b/fresh-potatoes-29526109.jpg\n",
            "[%] File Downloaded !\n",
            "\n",
            "[%] Downloading Image #359 from https://img.freepik.com/premium-photo/fresh-potatoes_127657-13770.jpg\n"
          ]
        },
        {
          "output_type": "stream",
          "name": "stderr",
          "text": [
            "\r 42%|\u001b[32m███████████████▋                     \u001b[0m 850 MB| Download Speed  1.04s/MB | Estimated Time:  08:28\u001b[0m"
          ]
        },
        {
          "output_type": "stream",
          "name": "stdout",
          "text": [
            "[%] File Downloaded !\n",
            "\n",
            "[%] Downloading Image #360 from http://cdn2.tmbi.com/TOH/Images/Photos/37/1200x1200/exps177389_SD143205B01_28_5bC_RMS.jpg\n"
          ]
        },
        {
          "output_type": "stream",
          "name": "stderr",
          "text": [
            "\r 42%|\u001b[32m███████████████▋                     \u001b[0m 850 MB| Download Speed  1.35s/MB | Estimated Time:  11:02\u001b[0m"
          ]
        },
        {
          "output_type": "stream",
          "name": "stdout",
          "text": [
            "[%] File Downloaded !\n",
            "\n",
            "[%] Downloading Image #361 from https://img.freepik.com/premium-photo/fresh-potatoes_127657-8814.jpg\n"
          ]
        },
        {
          "output_type": "stream",
          "name": "stderr",
          "text": [
            "\r 42%|\u001b[32m███████████████▋                     \u001b[0m 850 MB| Download Speed  1.21s/MB | Estimated Time:  09:53\u001b[0m"
          ]
        },
        {
          "output_type": "stream",
          "name": "stdout",
          "text": [
            "[%] File Downloaded !\n",
            "\n",
            "[%] Downloading Image #362 from https://thumbs.dreamstime.com/b/fresh-potatoes-10827542.jpg\n"
          ]
        },
        {
          "output_type": "stream",
          "name": "stderr",
          "text": [
            "\r 43%|\u001b[32m███████████████▊                     \u001b[0m 850 MB| Download Speed  1.03s/MB | Estimated Time:  08:23\u001b[0m"
          ]
        },
        {
          "output_type": "stream",
          "name": "stdout",
          "text": [
            "[%] File Downloaded !\n",
            "\n",
            "[%] Downloading Image #363 from https://img.freepik.com/premium-photo/fresh-potatoes_127657-13751.jpg\n"
          ]
        },
        {
          "output_type": "stream",
          "name": "stderr",
          "text": [
            "\r 43%|\u001b[32m███████████████▊                     \u001b[0m 850 MB| Download Speed  1.35s/MB | Estimated Time:  10:56\u001b[0m"
          ]
        },
        {
          "output_type": "stream",
          "name": "stdout",
          "text": [
            "[%] File Downloaded !\n",
            "\n",
            "[%] Downloading Image #364 from https://pixy.org/src/19/thumbs350/192092.jpg\n"
          ]
        },
        {
          "output_type": "stream",
          "name": "stderr",
          "text": [
            "ERROR:root:Issue getting: https://pixy.org/src/19/thumbs350/192092.jpg\n",
            "Error: 'Bing' object has no attribute 'sources'\n",
            " 43%|\u001b[32m███████████████▊                     \u001b[0m 850 MB| Download Speed  1.07s/MB | Estimated Time:  08:40\u001b[0m"
          ]
        },
        {
          "output_type": "stream",
          "name": "stdout",
          "text": [
            "[%] Downloading Image #364 from https://thumbs.dreamstime.com/b/farm-fresh-potatoes-hessian-sack-baby-displayed-rustic-wooden-table-farmers-market-healthy-nutritious-root-41038993.jpg\n",
            "[%] File Downloaded !\n",
            "\n",
            "[%] Downloading Image #365 from https://more-fresh.co.uk/wp-content/uploads/2023/01/MF-potatoes.jpg\n"
          ]
        },
        {
          "output_type": "stream",
          "name": "stderr",
          "text": [
            "\r 43%|\u001b[32m███████████████▉                     \u001b[0m 850 MB| Download Speed  1.08MB/s | Estimated Time:  07:30\u001b[0m"
          ]
        },
        {
          "output_type": "stream",
          "name": "stdout",
          "text": [
            "[%] File Downloaded !\n",
            "\n",
            "[%] Downloading Image #366 from https://www.prinos.eu/wp-content/uploads/2022/09/102100009-3-600x750.jpg\n"
          ]
        },
        {
          "output_type": "stream",
          "name": "stderr",
          "text": [
            "\r 43%|\u001b[32m███████████████▉                     \u001b[0m 850 MB| Download Speed  1.15MB/s | Estimated Time:  07:01\u001b[0mERROR:root:Issue getting: https://imagesvc.meredithcorp.io/v3/mm/image?q=85&amp;c=sc&amp;poi=face&amp;url=https:%2F%2Fimages.media-allrecipes.com%2Fuserphotos%2F8490322.jpg\n",
            "Error: 'Bing' object has no attribute 'sources'\n"
          ]
        },
        {
          "output_type": "stream",
          "name": "stdout",
          "text": [
            "[%] File Downloaded !\n",
            "\n",
            "[%] Downloading Image #367 from https://imagesvc.meredithcorp.io/v3/mm/image?q=85&amp;c=sc&amp;poi=face&amp;url=https:%2F%2Fimages.media-allrecipes.com%2Fuserphotos%2F8490322.jpg\n",
            "[%] Downloading Image #367 from https://i.pinimg.com/originals/14/71/4c/14714c674b7cf2be3d9c269eda484e45.jpg\n"
          ]
        },
        {
          "output_type": "stream",
          "name": "stderr",
          "text": [
            "\r 43%|\u001b[32m███████████████▉                     \u001b[0m 850 MB| Download Speed  1.45MB/s | Estimated Time:  05:32\u001b[0m"
          ]
        },
        {
          "output_type": "stream",
          "name": "stdout",
          "text": [
            "[%] File Downloaded !\n",
            "\n",
            "[%] Downloading Image #368 from https://www.thomasfresh.com/wp-content/uploads/2018/03/redpotatoes_grownintrust.jpeg\n"
          ]
        },
        {
          "output_type": "stream",
          "name": "stderr",
          "text": [
            "ERROR:root:Issue getting: https://www.thomasfresh.com/wp-content/uploads/2018/03/redpotatoes_grownintrust.jpeg\n",
            "Error: 'Bing' object has no attribute 'sources'\n"
          ]
        },
        {
          "output_type": "stream",
          "name": "stdout",
          "text": [
            "[%] Downloading Image #368 from https://lenaskitchenblog.com/wp-content/uploads/2020/05/baby-potatoes-with-sauce-4.jpg\n"
          ]
        },
        {
          "output_type": "stream",
          "name": "stderr",
          "text": [
            "\r 43%|\u001b[32m████████████████                     \u001b[0m 850 MB| Download Speed  1.04s/MB | Estimated Time:  08:19\u001b[0m"
          ]
        },
        {
          "output_type": "stream",
          "name": "stdout",
          "text": [
            "[%] File Downloaded !\n",
            "\n",
            "[%] Downloading Image #369 from http://ontariofarmfresh.com/wp-content/uploads/2015/06/potatoes1.jpg\n"
          ]
        },
        {
          "output_type": "stream",
          "name": "stderr",
          "text": [
            "\r 43%|\u001b[32m████████████████                     \u001b[0m 850 MB| Download Speed  1.15MB/s | Estimated Time:  06:58\u001b[0m"
          ]
        },
        {
          "output_type": "stream",
          "name": "stdout",
          "text": [
            "[%] File Downloaded !\n",
            "\n",
            "[%] Downloading Image #370 from https://img.freepik.com/premium-photo/fresh-potatoes_127657-13945.jpg\n"
          ]
        },
        {
          "output_type": "stream",
          "name": "stderr",
          "text": [
            "\r 44%|\u001b[32m████████████████                     \u001b[0m 850 MB| Download Speed  1.12s/MB | Estimated Time:  08:56\u001b[0m"
          ]
        },
        {
          "output_type": "stream",
          "name": "stdout",
          "text": [
            "[%] File Downloaded !\n",
            "\n",
            "[%] Downloading Image #371 from https://www.evolvingtable.com/wp-content/uploads/2021/10/How-to-Boil-Potatoes-1.jpg\n",
            "[%] File Downloaded !\n",
            "\n",
            "[%] Downloading Image #372 from https://3.imimg.com/data3/WQ/YP/MY-6303512/fresh-potatoes-1000x1000.jpg\n"
          ]
        },
        {
          "output_type": "stream",
          "name": "stderr",
          "text": [
            "\r 44%|\u001b[32m████████████████▏                    \u001b[0m 850 MB| Download Speed  1.42MB/s | Estimated Time:  05:35\u001b[0mERROR:root:Issue getting: https://www.tradeford.com/pimages/l/6/979286.jpg\n",
            "Error: 'Bing' object has no attribute 'sources'\n"
          ]
        },
        {
          "output_type": "stream",
          "name": "stdout",
          "text": [
            "[%] File Downloaded !\n",
            "\n",
            "[%] Downloading Image #373 from https://www.tradeford.com/pimages/l/6/979286.jpg\n",
            "[%] Downloading Image #373 from https://s3.amazonaws.com/images.ecwid.com/images/12968111/977178578.jpg\n"
          ]
        },
        {
          "output_type": "stream",
          "name": "stderr",
          "text": [
            "\r 44%|\u001b[32m████████████████▏                    \u001b[0m 850 MB| Download Speed  1.47MB/s | Estimated Time:  05:24\u001b[0m"
          ]
        },
        {
          "output_type": "stream",
          "name": "stdout",
          "text": [
            "[%] File Downloaded !\n",
            "\n",
            "[%] Downloading Image #374 from https://5.imimg.com/data5/GD/EF/MY-24092843/fresh-potatoes-500x500.jpg\n"
          ]
        },
        {
          "output_type": "stream",
          "name": "stderr",
          "text": [
            "\r 44%|\u001b[32m████████████████▎                    \u001b[0m 850 MB| Download Speed  1.38MB/s | Estimated Time:  05:45\u001b[0m"
          ]
        },
        {
          "output_type": "stream",
          "name": "stdout",
          "text": [
            "[%] File Downloaded !\n",
            "\n",
            "[%] Downloading Image #375 from https://www.lyonshallnurseries.co.uk/files/images/news/seed-potatoes_src.jpg\n"
          ]
        },
        {
          "output_type": "stream",
          "name": "stderr",
          "text": [
            " 44%|\u001b[32m████████████████▎                    \u001b[0m 850 MB| Download Speed  1.50MB/s | Estimated Time:  05:15\u001b[0m"
          ]
        },
        {
          "output_type": "stream",
          "name": "stdout",
          "text": [
            "[%] File Downloaded !\n",
            "\n",
            "[%] Downloading Image #376 from https://i.pinimg.com/736x/70/ee/de/70eede1d71b60cc0d52e39b0f0b75df3--fresh-potatoes.jpg\n",
            "[%] File Downloaded !\n",
            "\n",
            "[%] Downloading Image #377 from http://www.desang.net/wp-content/uploads/2013/12/Potato-with-peel.jpg\n"
          ]
        },
        {
          "output_type": "stream",
          "name": "stderr",
          "text": [
            "\r 44%|\u001b[32m████████████████▍                    \u001b[0m 850 MB| Download Speed  1.23MB/s | Estimated Time:  06:25\u001b[0m"
          ]
        },
        {
          "output_type": "stream",
          "name": "stdout",
          "text": [
            "[%] File Downloaded !\n",
            "\n",
            "[%] Downloading Image #378 from http://www.foodbloggersofcanada.com/wp-content/uploads/2012/06/Potato_new_on-crate.jpg\n"
          ]
        },
        {
          "output_type": "stream",
          "name": "stderr",
          "text": [
            "\r 44%|\u001b[32m████████████████▍                    \u001b[0m 850 MB| Download Speed  1.41MB/s | Estimated Time:  05:35\u001b[0m"
          ]
        },
        {
          "output_type": "stream",
          "name": "stdout",
          "text": [
            "[%] File Downloaded !\n",
            "\n",
            "[%] Downloading Image #379 from https://i0.wp.com/juliassimplysouthern.com/wp-content/uploads/Cover-1-Candied-Sweet-Potato-Yams-Holidays-Julias-Simply-Southern-yams-sweet-potatoes.jpg?w=2160&amp;ssl=1\n"
          ]
        },
        {
          "output_type": "stream",
          "name": "stderr",
          "text": [
            "\r 45%|\u001b[32m████████████████▍                    \u001b[0m 850 MB| Download Speed  1.54MB/s | Estimated Time:  05:06\u001b[0m"
          ]
        },
        {
          "output_type": "stream",
          "name": "stdout",
          "text": [
            "[%] File Downloaded !\n",
            "\n",
            "[%] Downloading Image #380 from https://img3.exportersindia.com/product_images/bc-full/dir_115/3432397/potato-2355030.jpeg\n"
          ]
        },
        {
          "output_type": "stream",
          "name": "stderr",
          "text": [
            "\r 45%|\u001b[32m████████████████▌                    \u001b[0m 850 MB| Download Speed  1.02s/MB | Estimated Time:  08:00\u001b[0m"
          ]
        },
        {
          "output_type": "stream",
          "name": "stdout",
          "text": [
            "[%] File Downloaded !\n",
            "\n",
            "[%] Downloading Image #381 from http://www.freeimageslive.co.uk/files/images009/diced_potatoes.jpg\n"
          ]
        },
        {
          "output_type": "stream",
          "name": "stderr",
          "text": [
            " 45%|\u001b[32m████████████████▋                    \u001b[0m 850 MB| Download Speed  1.35MB/s | Estimated Time:  05:47\u001b[0m"
          ]
        },
        {
          "output_type": "stream",
          "name": "stdout",
          "text": [
            "[%] File Downloaded !\n",
            "\n",
            "[%] Downloading Image #382 from https://www.jessicagavin.com/wp-content/uploads/2019/11/how-to-bake-a-potato-2-1200.jpg\n",
            "[%] File Downloaded !\n",
            "\n"
          ]
        },
        {
          "output_type": "stream",
          "name": "stderr",
          "text": [
            "\r 45%|\u001b[32m████████████████▋                    \u001b[0m 850 MB| Download Speed  1.64MB/s | Estimated Time:  04:45\u001b[0m"
          ]
        },
        {
          "output_type": "stream",
          "name": "stdout",
          "text": [
            "[%] Downloading Image #383 from https://www.foodrepublic.com/img/gallery/10-things-you-probably-didnt-know-about-potatoes/intro-1689785695.jpg\n",
            "[%] File Downloaded !\n",
            "\n"
          ]
        },
        {
          "output_type": "stream",
          "name": "stderr",
          "text": [
            "\r 45%|\u001b[32m████████████████▋                    \u001b[0m 850 MB| Download Speed  1.82MB/s | Estimated Time:  04:15\u001b[0m"
          ]
        },
        {
          "output_type": "stream",
          "name": "stdout",
          "text": [
            "[%] Downloading Image #384 from https://cdn.mos.cms.futurecdn.net/iC7HBvohbJqExqvbKcV3pP-1200-80.jpg\n",
            "[%] File Downloaded !\n",
            "\n"
          ]
        },
        {
          "output_type": "stream",
          "name": "stderr",
          "text": [
            "\r 45%|\u001b[32m████████████████▊                    \u001b[0m 850 MB| Download Speed  2.03MB/s | Estimated Time:  03:49\u001b[0m"
          ]
        },
        {
          "output_type": "stream",
          "name": "stdout",
          "text": [
            "[%] Downloading Image #385 from https://www.thelist.com/img/gallery/when-you-eat-raw-potatoes-this-is-what-happens-to-your-body/intro-1625574520.jpg\n",
            "[%] File Downloaded !\n",
            "\n",
            "[%] Downloading Image #386 from https://3.imimg.com/data3/QU/RC/MY-8562958/fresh-potato-500x500.jpg\n"
          ]
        },
        {
          "output_type": "stream",
          "name": "stderr",
          "text": [
            "\r 45%|\u001b[32m████████████████▊                    \u001b[0m 850 MB| Download Speed  1.74MB/s | Estimated Time:  04:27\u001b[0m"
          ]
        },
        {
          "output_type": "stream",
          "name": "stdout",
          "text": [
            "[%] File Downloaded !\n",
            "\n",
            "[%] Downloading Image #387 from https://images2.pics4learning.com/catalog/i/img_1506.jpg\n"
          ]
        },
        {
          "output_type": "stream",
          "name": "stderr",
          "text": [
            "\r 46%|\u001b[32m████████████████▊                    \u001b[0m 850 MB| Download Speed  1.50MB/s | Estimated Time:  05:07\u001b[0m"
          ]
        },
        {
          "output_type": "stream",
          "name": "stdout",
          "text": [
            "[%] File Downloaded !\n",
            "\n",
            "[%] Downloading Image #388 from https://fromscratchfarmstead.com/wp-content/uploads/2022/11/how-to-store-potatoes-from-garden.jpg\n"
          ]
        },
        {
          "output_type": "stream",
          "name": "stderr",
          "text": [
            "\r 46%|\u001b[32m████████████████▉                    \u001b[0m 850 MB| Download Speed  1.46MB/s | Estimated Time:  05:16\u001b[0m"
          ]
        },
        {
          "output_type": "stream",
          "name": "stdout",
          "text": [
            "[%] File Downloaded !\n",
            "\n",
            "[%] Downloading Image #389 from https://seubertfood.com/wp-content/uploads/2019/01/potato.jpg\n"
          ]
        },
        {
          "output_type": "stream",
          "name": "stderr",
          "text": [
            "\r 46%|\u001b[32m████████████████▉                    \u001b[0m 850 MB| Download Speed  1.67MB/s | Estimated Time:  04:35\u001b[0m"
          ]
        },
        {
          "output_type": "stream",
          "name": "stdout",
          "text": [
            "[%] File Downloaded !\n",
            "\n"
          ]
        },
        {
          "output_type": "stream",
          "name": "stderr",
          "text": [
            "\r 46%|\u001b[32m████████████████▉                    \u001b[0m 850 MB| Download Speed  1.46MB/s | Estimated Time:  05:15\u001b[0m"
          ]
        },
        {
          "output_type": "stream",
          "name": "stdout",
          "text": [
            "[%] Downloading Image #390 from https://www.tastingtable.com/img/gallery/why-you-should-start-steaming-potatoes-instead-of-boiling-them/intro-1656005953.jpg\n",
            "[%] File Downloaded !\n",
            "\n",
            "[%] Downloading Image #391 from http://static.guim.co.uk/sys-images/Guardian/Pix/pictures/2014/9/24/1411574454561/03085543-87de-47ab-a4eb-58e7e39d022e-620x372.jpeg\n"
          ]
        },
        {
          "output_type": "stream",
          "name": "stderr",
          "text": [
            "\r 46%|\u001b[32m█████████████████                    \u001b[0m 850 MB| Download Speed  1.23MB/s | Estimated Time:  06:12\u001b[0m"
          ]
        },
        {
          "output_type": "stream",
          "name": "stdout",
          "text": [
            "[%] File Downloaded !\n",
            "\n",
            "[%] Downloading Image #392 from https://c8.alamy.com/comp/EMJA1F/potato-sweet-potato-food-raw-preparation-EMJA1F.jpg\n"
          ]
        },
        {
          "output_type": "stream",
          "name": "stderr",
          "text": [
            "\r 46%|\u001b[32m█████████████████                    \u001b[0m 850 MB| Download Speed  1.53MB/s | Estimated Time:  05:00\u001b[0m"
          ]
        },
        {
          "output_type": "stream",
          "name": "stdout",
          "text": [
            "[%] File Downloaded !\n",
            "\n",
            "[%] Downloading Image #393 from https://static3.bigstockphoto.com/3/3/1/large1500/133929872.jpg\n"
          ]
        },
        {
          "output_type": "stream",
          "name": "stderr",
          "text": [
            "\r 46%|\u001b[32m█████████████████                    \u001b[0m 850 MB| Download Speed  1.35MB/s | Estimated Time:  05:38\u001b[0m"
          ]
        },
        {
          "output_type": "stream",
          "name": "stdout",
          "text": [
            "[%] File Downloaded !\n",
            "\n",
            "[%] Downloading Image #394 from https://gardentabs.com/wp-content/uploads/2021/05/Harvesting-Fresh-Potatoes-768x510.jpg\n"
          ]
        },
        {
          "output_type": "stream",
          "name": "stderr",
          "text": [
            "\r 46%|\u001b[32m█████████████████▏                   \u001b[0m 850 MB| Download Speed  1.35MB/s | Estimated Time:  05:37\u001b[0m"
          ]
        },
        {
          "output_type": "stream",
          "name": "stdout",
          "text": [
            "[%] File Downloaded !\n",
            "\n",
            "[%] Downloading Image #395 from https://i.stack.imgur.com/fLVQz.jpg\n"
          ]
        },
        {
          "output_type": "stream",
          "name": "stderr",
          "text": [
            "\r 46%|\u001b[32m█████████████████▏                   \u001b[0m 850 MB| Download Speed  1.06s/MB | Estimated Time:  08:04\u001b[0m"
          ]
        },
        {
          "output_type": "stream",
          "name": "stdout",
          "text": [
            "[%] File Downloaded !\n",
            "\n",
            "[%] Downloading Image #396 from https://img3.exportersindia.com/product_images/bc-full/2022/7/9853509/fresh-potato-1657948425-6448436.jpeg\n"
          ]
        },
        {
          "output_type": "stream",
          "name": "stderr",
          "text": [
            "\r 47%|\u001b[32m█████████████████▏                   \u001b[0m 850 MB| Download Speed  1.29s/MB | Estimated Time:  09:46\u001b[0m"
          ]
        },
        {
          "output_type": "stream",
          "name": "stdout",
          "text": [
            "[%] File Downloaded !\n",
            "\n"
          ]
        },
        {
          "output_type": "stream",
          "name": "stderr",
          "text": [
            "\r 47%|\u001b[32m█████████████████▎                   \u001b[0m 850 MB| Download Speed  1.07s/MB | Estimated Time:  08:05\u001b[0m"
          ]
        },
        {
          "output_type": "stream",
          "name": "stdout",
          "text": [
            "[%] Downloading Image #397 from https://www.yellowblissroad.com/wp-content/uploads/2018/02/Slow-Cooker-Cheesy-Potatoes-2.jpg\n",
            "[%] File Downloaded !\n",
            "\n",
            "[%] Downloading Image #398 from https://3.imimg.com/data3/NV/YR/MY-19050467/fresh-potatoes-500x500.jpg\n"
          ]
        },
        {
          "output_type": "stream",
          "name": "stderr",
          "text": [
            "\r 47%|\u001b[32m█████████████████▎                   \u001b[0m 850 MB| Download Speed  1.06s/MB | Estimated Time:  07:59\u001b[0m"
          ]
        },
        {
          "output_type": "stream",
          "name": "stdout",
          "text": [
            "[%] File Downloaded !\n",
            "\n"
          ]
        },
        {
          "output_type": "stream",
          "name": "stderr",
          "text": [
            "\r 47%|\u001b[32m█████████████████▎                   \u001b[0m 850 MB| Download Speed  1.09s/MB | Estimated Time:  08:09\u001b[0m"
          ]
        },
        {
          "output_type": "stream",
          "name": "stdout",
          "text": [
            "[%] Downloading Image #399 from https://thumbs.dreamstime.com/b/cut-potatoes-slices-raw-soup-fresh-cooking-114505168.jpg\n",
            "[%] File Downloaded !\n",
            "\n",
            "[%] Downloading Image #400 from https://sc01.alicdn.com/kf/HTB1HfldIVXXXXaRaXXXq6xXFXXXN/201169380/HTB1HfldIVXXXXaRaXXXq6xXFXXXN.jpg\n"
          ]
        },
        {
          "output_type": "stream",
          "name": "stderr",
          "text": [
            "\r 47%|\u001b[32m█████████████████▍                   \u001b[0m 850 MB| Download Speed  1.09MB/s | Estimated Time:  06:51\u001b[0m"
          ]
        },
        {
          "output_type": "stream",
          "name": "stdout",
          "text": [
            "[%] File Downloaded !\n",
            "\n",
            "[%] Downloading Image #401 from https://joyfuldumplings.com/wp-content/uploads/2022/07/sauteed-sweet-potato-2.jpg\n"
          ]
        },
        {
          "output_type": "stream",
          "name": "stderr",
          "text": [
            "\r 47%|\u001b[32m█████████████████▍                   \u001b[0m 850 MB| Download Speed  1.25MB/s | Estimated Time:  05:59\u001b[0m"
          ]
        },
        {
          "output_type": "stream",
          "name": "stdout",
          "text": [
            "[%] File Downloaded !\n",
            "\n"
          ]
        },
        {
          "output_type": "stream",
          "name": "stderr",
          "text": [
            "ERROR:root:Issue getting: https://images.heb.com/is/image/HEBGrocery/000079213?fit=constrain,1&amp;wid=800&amp;hei=800&amp;fmt=jpg&amp;qlt=85,0&amp;resMode=sharp2&amp;op_usm=1.75,0.3,2,0\n",
            "Error: 'Bing' object has no attribute 'sources'\n"
          ]
        },
        {
          "output_type": "stream",
          "name": "stdout",
          "text": [
            "[%] Downloading Image #402 from https://images.heb.com/is/image/HEBGrocery/000079213?fit=constrain,1&amp;wid=800&amp;hei=800&amp;fmt=jpg&amp;qlt=85,0&amp;resMode=sharp2&amp;op_usm=1.75,0.3,2,0\n"
          ]
        },
        {
          "output_type": "stream",
          "name": "stderr",
          "text": [
            "\r 47%|\u001b[32m█████████████████▍                   \u001b[0m 850 MB| Download Speed  1.06MB/s | Estimated Time:  07:03\u001b[0mERROR:root:Issue getting: https://www.ceresimaging.net/hs-fs/hubfs/potatoes_Strohauer Farms.jpg?width=1500&amp;name=potatoes_Strohauer Farms.jpg\n",
            "Error: URL can't contain control characters. '/hs-fs/hubfs/potatoes_Strohauer Farms.jpg?width=1500&amp;name=potatoes_Strohauer Farms.jpg' (found at least ' ')\n"
          ]
        },
        {
          "output_type": "stream",
          "name": "stdout",
          "text": [
            "[%] Downloading Image #402 from https://pixfeeds.com/images/fruits-vegetables/potatoes/1280-594064706-potato-harvest.jpg\n",
            "[%] File Downloaded !\n",
            "\n",
            "[%] Downloading Image #403 from https://www.ceresimaging.net/hs-fs/hubfs/potatoes_Strohauer Farms.jpg?width=1500&amp;name=potatoes_Strohauer Farms.jpg\n",
            "[%] Downloading Image #403 from https://sweetpeasandsaffron.com/wp-content/uploads/2018/01/Instant-Pot-Sweet-Potatoes-for-Meal-Prep-8-1.jpg\n"
          ]
        },
        {
          "output_type": "stream",
          "name": "stderr",
          "text": [
            "\r 47%|\u001b[32m█████████████████▌                   \u001b[0m 850 MB| Download Speed  1.44MB/s | Estimated Time:  05:09\u001b[0m"
          ]
        },
        {
          "output_type": "stream",
          "name": "stdout",
          "text": [
            "[%] File Downloaded !\n",
            "\n",
            "[%] Downloading Image #404 from https://horticulture.co.uk/wp-content/uploads/2020/11/potatoes-header-1024x683.jpg\n"
          ]
        },
        {
          "output_type": "stream",
          "name": "stderr",
          "text": [
            "\r 48%|\u001b[32m█████████████████▌                   \u001b[0m 850 MB| Download Speed  1.12MB/s | Estimated Time:  06:37\u001b[0m"
          ]
        },
        {
          "output_type": "stream",
          "name": "stdout",
          "text": [
            "[%] File Downloaded !\n",
            "\n"
          ]
        },
        {
          "output_type": "stream",
          "name": "stderr",
          "text": [
            "\r 48%|\u001b[32m█████████████████▋                   \u001b[0m 850 MB| Download Speed  1.40MB/s | Estimated Time:  05:17\u001b[0m"
          ]
        },
        {
          "output_type": "stream",
          "name": "stdout",
          "text": [
            "[%] Downloading Image #405 from https://thumbs.dreamstime.com/b/fresh-potatoes-field-harvesting-126234335.jpg\n",
            "[%] File Downloaded !\n",
            "\n",
            "[%] Downloading Image #406 from https://thumbs.dreamstime.com/b/fresh-potatoes-white-isolated-white-background-35334536.jpg\n",
            "[%] File Downloaded !\n",
            "\n",
            "[%] Downloading Image #407 from https://c8.alamy.com/comp/PD6CEF/preparing-fresh-potatoes-PD6CEF.jpg\n"
          ]
        },
        {
          "output_type": "stream",
          "name": "stderr",
          "text": [
            " 48%|\u001b[32m█████████████████▊                   \u001b[0m 850 MB| Download Speed  2.66MB/s | Estimated Time:  02:46\u001b[0m"
          ]
        },
        {
          "output_type": "stream",
          "name": "stdout",
          "text": [
            "[%] File Downloaded !\n",
            "\n",
            "[%] Downloading Image #408 from https://thumbs.dreamstime.com/b/fresh-potatoes-sale-market-39922277.jpg\n",
            "[%] File Downloaded !\n",
            "\n",
            "[%] Downloading Image #409 from https://c8.alamy.com/comp/PD6CFN/preparing-fresh-potatoes-PD6CFN.jpg\n"
          ]
        },
        {
          "output_type": "stream",
          "name": "stderr",
          "text": [
            "\r 48%|\u001b[32m█████████████████▊                   \u001b[0m 850 MB| Download Speed  2.90MB/s | Estimated Time:  02:31\u001b[0m"
          ]
        },
        {
          "output_type": "stream",
          "name": "stdout",
          "text": [
            "[%] File Downloaded !\n",
            "\n",
            "[%] Downloading Image #410 from https://c8.alamy.com/comp/PD7B1E/preparing-fresh-potatoes-PD7B1E.jpg\n"
          ]
        },
        {
          "output_type": "stream",
          "name": "stderr",
          "text": [
            "\r 48%|\u001b[32m█████████████████▊                   \u001b[0m 850 MB| Download Speed  3.15MB/s | Estimated Time:  02:19\u001b[0m"
          ]
        },
        {
          "output_type": "stream",
          "name": "stdout",
          "text": [
            "[%] File Downloaded !\n",
            "\n",
            "[%] Downloading Image #411 from https://img.freepik.com/premium-photo/fresh-potatoes-from-field_825081-672.jpg\n"
          ]
        },
        {
          "output_type": "stream",
          "name": "stderr",
          "text": [
            "\r 48%|\u001b[32m█████████████████▉                   \u001b[0m 850 MB| Download Speed  1.69MB/s | Estimated Time:  04:19\u001b[0m"
          ]
        },
        {
          "output_type": "stream",
          "name": "stdout",
          "text": [
            "[%] File Downloaded !\n",
            "\n",
            "[%] Downloading Image #412 from https://c8.alamy.com/comp/CR9HR2/new-potatoes-fresh-and-tasty-CR9HR2.jpg\n"
          ]
        },
        {
          "output_type": "stream",
          "name": "stderr",
          "text": [
            " 49%|\u001b[32m█████████████████▉                   \u001b[0m 850 MB| Download Speed  2.59MB/s | Estimated Time:  02:48\u001b[0m"
          ]
        },
        {
          "output_type": "stream",
          "name": "stdout",
          "text": [
            "[%] File Downloaded !\n",
            "\n",
            "[%] Downloading Image #413 from https://images.heb.com/is/image/HEBGrocery/001530771-1\n",
            "[%] File Downloaded !\n",
            "\n",
            "[%] Downloading Image #414 from https://mahaoverseas.com/wp-content/uploads/2021/10/potato.png\n"
          ]
        },
        {
          "output_type": "stream",
          "name": "stderr",
          "text": [
            "\r 49%|\u001b[32m██████████████████                   \u001b[0m 850 MB| Download Speed  2.46MB/s | Estimated Time:  02:57\u001b[0m"
          ]
        },
        {
          "output_type": "stream",
          "name": "stdout",
          "text": [
            "[%] File Downloaded !\n",
            "\n",
            "[%] Downloading Image #415 from https://4.imimg.com/data4/FS/YS/MY-1875168/fresh-potato-500x500.jpg\n"
          ]
        },
        {
          "output_type": "stream",
          "name": "stderr",
          "text": [
            "\r 49%|\u001b[32m██████████████████                   \u001b[0m 850 MB| Download Speed  1.92MB/s | Estimated Time:  03:46\u001b[0m"
          ]
        },
        {
          "output_type": "stream",
          "name": "stdout",
          "text": [
            "[%] File Downloaded !\n",
            "\n",
            "[%] Downloading Image #416 from https://image.ec21.com/image/ballaman2000/oimg_GC09927413_CA10135287/Fresh-Potatoes.jpg\n"
          ]
        },
        {
          "output_type": "stream",
          "name": "stderr",
          "text": [
            "\r 49%|\u001b[32m██████████████████                   \u001b[0m 850 MB| Download Speed  1.55MB/s | Estimated Time:  04:40\u001b[0m"
          ]
        },
        {
          "output_type": "stream",
          "name": "stdout",
          "text": [
            "[%] File Downloaded !\n",
            "\n",
            "[%] Downloading Image #417 from https://2.imimg.com/data2/UE/JT/MY-4794188/fresh-potatoes-500x500.jpg\n"
          ]
        },
        {
          "output_type": "stream",
          "name": "stderr",
          "text": [
            " 49%|\u001b[32m██████████████████▏                  \u001b[0m 850 MB| Download Speed  1.97MB/s | Estimated Time:  03:39\u001b[0m"
          ]
        },
        {
          "output_type": "stream",
          "name": "stdout",
          "text": [
            "[%] File Downloaded !\n",
            "\n",
            "[%] Downloading Image #418 from https://thumbs.dreamstime.com/b/fresh-potatoes-19166671.jpg\n",
            "[%] File Downloaded !\n",
            "\n",
            "[%] Downloading Image #419 from https://img.freepik.com/premium-photo/fresh-potatoes_127657-13900.jpg\n"
          ]
        },
        {
          "output_type": "stream",
          "name": "stderr",
          "text": [
            "\r 49%|\u001b[32m██████████████████▏                  \u001b[0m 850 MB| Download Speed  1.39MB/s | Estimated Time:  05:09\u001b[0m"
          ]
        },
        {
          "output_type": "stream",
          "name": "stdout",
          "text": [
            "[%] File Downloaded !\n",
            "\n",
            "[%] Downloading Image #420 from https://5.imimg.com/data5/CV/EH/MY-17087356/fresh-potatoes-500x500.png\n"
          ]
        },
        {
          "output_type": "stream",
          "name": "stderr",
          "text": [
            "\r 49%|\u001b[32m██████████████████▎                  \u001b[0m 850 MB| Download Speed  1.15MB/s | Estimated Time:  06:13\u001b[0m"
          ]
        },
        {
          "output_type": "stream",
          "name": "stdout",
          "text": [
            "[%] File Downloaded !\n",
            "\n",
            "[%] Downloading Image #421 from https://2.imimg.com/data2/LA/TW/MY-2014377/fresh-potatoes-500x500.jpg\n"
          ]
        },
        {
          "output_type": "stream",
          "name": "stderr",
          "text": [
            " 50%|\u001b[32m██████████████████▎                  \u001b[0m 850 MB| Download Speed  1.59MB/s | Estimated Time:  04:29\u001b[0m"
          ]
        },
        {
          "output_type": "stream",
          "name": "stdout",
          "text": [
            "[%] File Downloaded !\n",
            "\n",
            "[%] Downloading Image #422 from https://www.earthfreshfoods.com/wp-content/uploads/2020/09/p-organic-yellow-potatoes.jpg\n",
            "[%] File Downloaded !\n",
            "\n",
            "[%] Downloading Image #423 from https://3.imimg.com/data3/HP/HD/MY-4373914/fresh-potatoes-1000x1000.jpg\n"
          ]
        },
        {
          "output_type": "stream",
          "name": "stderr",
          "text": [
            "\r 50%|\u001b[32m██████████████████▍                  \u001b[0m 850 MB| Download Speed  1.85MB/s | Estimated Time:  03:50\u001b[0m"
          ]
        },
        {
          "output_type": "stream",
          "name": "stdout",
          "text": [
            "[%] File Downloaded !\n",
            "\n",
            "[%] Downloading Image #424 from https://www.veerkrupaagro.com/images/homepages/potatoes-should-be-fresh-organic-and-tasty-too.jpeg\n"
          ]
        },
        {
          "output_type": "stream",
          "name": "stderr",
          "text": [
            "\r 50%|\u001b[32m██████████████████▍                  \u001b[0m 850 MB| Download Speed  1.24MB/s | Estimated Time:  05:42\u001b[0m"
          ]
        },
        {
          "output_type": "stream",
          "name": "stdout",
          "text": [
            "[%] File Downloaded !\n",
            "\n",
            "[%] Downloading Image #425 from https://i5.walmartimages.com/asr/18932dd9-5886-4db7-bc7d-4b7e7b3747f5.faa223ee6d61a02809810868691562a7.jpeg\n"
          ]
        },
        {
          "output_type": "stream",
          "name": "stderr",
          "text": [
            "\r 50%|\u001b[32m██████████████████▌                  \u001b[0m 850 MB| Download Speed  1.47MB/s | Estimated Time:  04:48\u001b[0m"
          ]
        },
        {
          "output_type": "stream",
          "name": "stdout",
          "text": [
            "[%] File Downloaded !\n",
            "\n",
            "[%] Downloading Image #426 from https://www.igreenfoods.com/upload/C_1955/file/20220510/db604d2585730d846b04c434aa0d2c0e.jpg\n"
          ]
        },
        {
          "output_type": "stream",
          "name": "stderr",
          "text": [
            "ERROR:root:Issue getting: https://www.igreenfoods.com/upload/C_1955/file/20220510/db604d2585730d846b04c434aa0d2c0e.jpg\n",
            "Error: 'Bing' object has no attribute 'sources'\n"
          ]
        },
        {
          "output_type": "stream",
          "name": "stdout",
          "text": [
            "[%] Downloading Image #426 from https://eatingrichly.com/wp-content/uploads/2015/08/garlic-parsley-new-potatoes-3293-800x533.jpg\n"
          ]
        },
        {
          "output_type": "stream",
          "name": "stderr",
          "text": [
            "\r 50%|\u001b[32m██████████████████▌                  \u001b[0m 850 MB| Download Speed  1.12s/MB | Estimated Time:  07:56\u001b[0mERROR:root:Issue getting: http://img.aws.livestrongcdn.com/ls-1200x630/ds-photo/getty/article/57/83/457389985_XS.jpg\n",
            "Error: 'Bing' object has no attribute 'sources'\n"
          ]
        },
        {
          "output_type": "stream",
          "name": "stdout",
          "text": [
            "[%] File Downloaded !\n",
            "\n",
            "[%] Downloading Image #427 from http://img.aws.livestrongcdn.com/ls-1200x630/ds-photo/getty/article/57/83/457389985_XS.jpg\n",
            "[%] Downloading Image #427 from https://www.jessicagavin.com/wp-content/uploads/2018/05/baked-sweet-potato-fries-9-1024x1536.jpg\n"
          ]
        },
        {
          "output_type": "stream",
          "name": "stderr",
          "text": [
            "\r 50%|\u001b[32m██████████████████▌                  \u001b[0m 850 MB| Download Speed  1.17MB/s | Estimated Time:  06:00\u001b[0m"
          ]
        },
        {
          "output_type": "stream",
          "name": "stdout",
          "text": [
            "[%] File Downloaded !\n",
            "\n",
            "[%] Downloading Image #428 from https://sc01.alicdn.com/kf/UTB8c9Wjq3QydeJk43PUq6AyQpXa8/1st-Grade-High-Quality-Fresh-Potatoes.jpg_350x350.jpg\n"
          ]
        },
        {
          "output_type": "stream",
          "name": "stderr",
          "text": [
            "\r 50%|\u001b[32m██████████████████▋                  \u001b[0m 850 MB| Download Speed  1.20MB/s | Estimated Time:  05:50\u001b[0mERROR:root:Issue getting: https://empire-s3-production.bobvila.com/articles/wp-content/uploads/2022/08/iStock-1344941660-how-to-grow-sweet-potatoes-plant-care-101.png\n",
            "Error: 'Bing' object has no attribute 'sources'\n"
          ]
        },
        {
          "output_type": "stream",
          "name": "stdout",
          "text": [
            "[%] File Downloaded !\n",
            "\n",
            "[%] Downloading Image #429 from https://empire-s3-production.bobvila.com/articles/wp-content/uploads/2022/08/iStock-1344941660-how-to-grow-sweet-potatoes-plant-care-101.png\n"
          ]
        },
        {
          "output_type": "stream",
          "name": "stderr",
          "text": [
            "\r 50%|\u001b[32m██████████████████▋                  \u001b[0m 850 MB| Download Speed  1.27MB/s | Estimated Time:  05:31\u001b[0m"
          ]
        },
        {
          "output_type": "stream",
          "name": "stdout",
          "text": [
            "[%] Downloading Image #429 from https://thumbs.dreamstime.com/b/whole-fresh-raw-potato-cut-potatoes-slice-isolated-white-background-shadow-close-up-148954918.jpg\n",
            "[%] File Downloaded !\n",
            "\n",
            "[%] Downloading Image #430 from http://www.colourbox.com/preview/8058130-fresh-potatoes.jpg\n"
          ]
        },
        {
          "output_type": "stream",
          "name": "stderr",
          "text": [
            "\r 51%|\u001b[32m██████████████████▋                  \u001b[0m 850 MB| Download Speed  1.00s/MB | Estimated Time:  07:00\u001b[0m"
          ]
        },
        {
          "output_type": "stream",
          "name": "stdout",
          "text": [
            "[%] File Downloaded !\n",
            "\n",
            "[%] Downloading Image #431 from https://3.imimg.com/data3/MB/NM/MY-7434444/fresh-potato-1000x1000.jpg\n"
          ]
        },
        {
          "output_type": "stream",
          "name": "stderr",
          "text": [
            "ERROR:root:Invalid image, not saving https://3.imimg.com/data3/MB/NM/MY-7434444/fresh-potato-1000x1000.jpg\n",
            "ERROR:root:Issue getting: https://3.imimg.com/data3/MB/NM/MY-7434444/fresh-potato-1000x1000.jpg\n",
            "Error: Invalid image, not saving https://3.imimg.com/data3/MB/NM/MY-7434444/fresh-potato-1000x1000.jpg\n"
          ]
        },
        {
          "output_type": "stream",
          "name": "stdout",
          "text": [
            "[%] Downloading Image #431 from https://usercontent1.hubstatic.com/13467016_f260.jpg\n"
          ]
        },
        {
          "output_type": "stream",
          "name": "stderr",
          "text": [
            "\r 51%|\u001b[32m██████████████████▊                  \u001b[0m 850 MB| Download Speed  1.38s/MB | Estimated Time:  09:36\u001b[0m"
          ]
        },
        {
          "output_type": "stream",
          "name": "stdout",
          "text": [
            "[%] File Downloaded !\n",
            "\n",
            "[%] Downloading Image #432 from https://2.imimg.com/data2/LA/TW/MY-2014377/fresh-potatoes-1000x1000.jpg\n"
          ]
        },
        {
          "output_type": "stream",
          "name": "stderr",
          "text": [
            "\r 51%|\u001b[32m██████████████████▊                  \u001b[0m 850 MB| Download Speed  1.06s/MB | Estimated Time:  07:22\u001b[0m"
          ]
        },
        {
          "output_type": "stream",
          "name": "stdout",
          "text": [
            "[%] File Downloaded !\n",
            "\n"
          ]
        },
        {
          "output_type": "stream",
          "name": "stderr",
          "text": [
            "\r 51%|\u001b[32m██████████████████▊                  \u001b[0m 850 MB| Download Speed  1.15MB/s | Estimated Time:  06:02\u001b[0m"
          ]
        },
        {
          "output_type": "stream",
          "name": "stdout",
          "text": [
            "[%] Downloading Image #433 from https://jmbfarmfresh.com/wp-content/uploads/2021/05/Potatoes-lebnon.jpg\n",
            "[%] File Downloaded !\n",
            "\n",
            "[%] Downloading Image #434 from https://www.tastingtable.com/img/gallery/what-happens-if-you-refrigerate-raw-potatoes/l-intro-1646413527.jpg\n"
          ]
        },
        {
          "output_type": "stream",
          "name": "stderr",
          "text": [
            "\r 51%|\u001b[32m██████████████████▉                  \u001b[0m 850 MB| Download Speed  1.26MB/s | Estimated Time:  05:29\u001b[0m"
          ]
        },
        {
          "output_type": "stream",
          "name": "stdout",
          "text": [
            "[%] File Downloaded !\n",
            "\n"
          ]
        },
        {
          "output_type": "stream",
          "name": "stderr",
          "text": [
            "\r 51%|\u001b[32m██████████████████▉                  \u001b[0m 850 MB| Download Speed  1.34MB/s | Estimated Time:  05:09\u001b[0m"
          ]
        },
        {
          "output_type": "stream",
          "name": "stdout",
          "text": [
            "[%] Downloading Image #435 from https://www.thespruce.com/thmb/pLDy-_WX5kSbDRqNvBvw9BvW5Mo=/4800x3201/filters:no_upscale():max_bytes(150000):strip_icc()/how-to-grow-sweet-potatoes-in-the-home-garden-1403479-07-dda60f8d45b7450d9c13cfac6c1844e1.jpg\n",
            "[%] File Downloaded !\n",
            "\n",
            "[%] Downloading Image #436 from https://2.imimg.com/data2/ME/IA/MY-2235147/potato-main-500x500.jpg\n"
          ]
        },
        {
          "output_type": "stream",
          "name": "stderr",
          "text": [
            "\r 51%|\u001b[32m██████████████████▉                  \u001b[0m 850 MB| Download Speed  1.15s/MB | Estimated Time:  07:55\u001b[0m"
          ]
        },
        {
          "output_type": "stream",
          "name": "stdout",
          "text": [
            "[%] File Downloaded !\n",
            "\n",
            "[%] Downloading Image #437 from https://thetrellis.com/wp-content/uploads/2022/07/p2-2.jpg\n"
          ]
        },
        {
          "output_type": "stream",
          "name": "stderr",
          "text": [
            "\r 51%|\u001b[32m███████████████████                  \u001b[0m 850 MB| Download Speed  1.04MB/s | Estimated Time:  06:36\u001b[0m"
          ]
        },
        {
          "output_type": "stream",
          "name": "stdout",
          "text": [
            "[%] File Downloaded !\n",
            "\n",
            "[%] Downloading Image #438 from https://wildwoodhealth.org/wp-content/uploads/sites/7/2019/12/natural-farm-harvests-4000-pounds-of-sweet-potatoes-ready-for-thanksgiving-1080x630.jpg\n"
          ]
        },
        {
          "output_type": "stream",
          "name": "stderr",
          "text": [
            "\r 52%|\u001b[32m███████████████████                  \u001b[0m 850 MB| Download Speed  1.32MB/s | Estimated Time:  05:12\u001b[0m"
          ]
        },
        {
          "output_type": "stream",
          "name": "stdout",
          "text": [
            "[%] File Downloaded !\n",
            "\n",
            "[%] Downloading Image #439 from https://positivebloom.com/wp-content/uploads/2022/06/What-Are-The-Potato-Growing-Stages-All-The-Answers-And-More.jpg\n"
          ]
        },
        {
          "output_type": "stream",
          "name": "stderr",
          "text": [
            " 52%|\u001b[32m███████████████████▏                 \u001b[0m 850 MB| Download Speed  1.79MB/s | Estimated Time:  03:49\u001b[0m"
          ]
        },
        {
          "output_type": "stream",
          "name": "stdout",
          "text": [
            "[%] File Downloaded !\n",
            "\n",
            "[%] Downloading Image #440 from https://www.chewoutloud.com/wp-content/uploads/2023/01/Sweet-Potato-Fries-Horizontal.jpg\n",
            "[%] File Downloaded !\n",
            "\n"
          ]
        },
        {
          "output_type": "stream",
          "name": "stderr",
          "text": [
            "\r 52%|\u001b[32m███████████████████▏                 \u001b[0m 850 MB| Download Speed  1.74MB/s | Estimated Time:  03:55\u001b[0m"
          ]
        },
        {
          "output_type": "stream",
          "name": "stdout",
          "text": [
            "[%] Downloading Image #441 from https://bakeitwithlove.com/wp-content/uploads/2022/11/yams-vs-sweet-potatoes-sq.jpg.webp\n",
            "[%] File Downloaded !\n",
            "\n"
          ]
        },
        {
          "output_type": "stream",
          "name": "stderr",
          "text": [
            "\r 52%|\u001b[32m███████████████████▏                 \u001b[0m 850 MB| Download Speed  1.95MB/s | Estimated Time:  03:29\u001b[0m"
          ]
        },
        {
          "output_type": "stream",
          "name": "stdout",
          "text": [
            "[%] Downloading Image #442 from https://thumbs.dreamstime.com/z/sliced-raw-potatoes-farm-field-fresh-raw-potatoes-141619528.jpg\n",
            "[%] File Downloaded !\n",
            "\n",
            "[%] Downloading Image #443 from https://img2.exportersindia.com/product_images/bc-full/dir_99/2966335/fresh-potato-1173333.jpg\n"
          ]
        },
        {
          "output_type": "stream",
          "name": "stderr",
          "text": [
            "\r 52%|\u001b[32m███████████████████▎                 \u001b[0m 850 MB| Download Speed  1.56MB/s | Estimated Time:  04:21\u001b[0m"
          ]
        },
        {
          "output_type": "stream",
          "name": "stdout",
          "text": [
            "[%] File Downloaded !\n",
            "\n",
            "[%] Downloading Image #444 from https://www.misterproduce.com/wp-content/uploads/2018/10/PPOTATOES-10LB-BAG.jpg\n"
          ]
        },
        {
          "output_type": "stream",
          "name": "stderr",
          "text": [
            "ERROR:root:Issue getting: https://www.misterproduce.com/wp-content/uploads/2018/10/PPOTATOES-10LB-BAG.jpg\n",
            "Error: Remote end closed connection without response\n"
          ]
        },
        {
          "output_type": "stream",
          "name": "stdout",
          "text": [
            "[%] Downloading Image #444 from https://cpimg.tistatic.com/06078335/b/4/Fresh-Potato.jpg\n"
          ]
        },
        {
          "output_type": "stream",
          "name": "stderr",
          "text": [
            "\r 52%|\u001b[32m███████████████████▎                 \u001b[0m 850 MB| Download Speed  1.12MB/s | Estimated Time:  06:02\u001b[0m"
          ]
        },
        {
          "output_type": "stream",
          "name": "stdout",
          "text": [
            "[%] File Downloaded !\n",
            "\n",
            "[%] Downloading Image #445 from https://i5.walmartimages.com/asr/615fdbe8-49df-45f7-8822-6611f42135c6_4.5d7a1b409a250caec8cd429df29109dc.jpeg\n"
          ]
        },
        {
          "output_type": "stream",
          "name": "stderr",
          "text": [
            "\r 52%|\u001b[32m███████████████████▎                 \u001b[0m 850 MB| Download Speed  1.45MB/s | Estimated Time:  04:39\u001b[0m"
          ]
        },
        {
          "output_type": "stream",
          "name": "stdout",
          "text": [
            "[%] File Downloaded !\n",
            "\n",
            "[%] Downloading Image #446 from https://3.imimg.com/data3/GH/CB/MY-5542858/fresh-potato-500x500.jpg\n"
          ]
        },
        {
          "output_type": "stream",
          "name": "stderr",
          "text": [
            "\r 52%|\u001b[32m███████████████████▍                 \u001b[0m 850 MB| Download Speed  1.27MB/s | Estimated Time:  05:17\u001b[0m"
          ]
        },
        {
          "output_type": "stream",
          "name": "stdout",
          "text": [
            "[%] File Downloaded !\n",
            "\n",
            "[%] Downloading Image #447 from https://www.mwanakafarmshop.com/wp-content/uploads/2018/01/64-Fresh-Sweet-Potatoes-scaled.jpg\n"
          ]
        },
        {
          "output_type": "stream",
          "name": "stderr",
          "text": [
            "\r 53%|\u001b[32m███████████████████▍                 \u001b[0m 850 MB| Download Speed  1.15MB/s | Estimated Time:  05:51\u001b[0m"
          ]
        },
        {
          "output_type": "stream",
          "name": "stdout",
          "text": [
            "[%] File Downloaded !\n",
            "\n",
            "[%] Downloading Image #448 from https://3.imimg.com/data3/PA/DY/MY-14678474/images-fresh-potato-1000x1000.jpg\n"
          ]
        },
        {
          "output_type": "stream",
          "name": "stderr",
          "text": [
            "\r 53%|\u001b[32m███████████████████▌                 \u001b[0m 850 MB| Download Speed  1.01s/MB | Estimated Time:  06:46\u001b[0m"
          ]
        },
        {
          "output_type": "stream",
          "name": "stdout",
          "text": [
            "[%] File Downloaded !\n",
            "\n"
          ]
        },
        {
          "output_type": "stream",
          "name": "stderr",
          "text": [
            "\r 53%|\u001b[32m███████████████████▌                 \u001b[0m 850 MB| Download Speed  1.24MB/s | Estimated Time:  05:24\u001b[0m"
          ]
        },
        {
          "output_type": "stream",
          "name": "stdout",
          "text": [
            "[%] Downloading Image #449 from https://thumbs.dreamstime.com/b/fresh-potatoes-755728.jpg\n",
            "[%] File Downloaded !\n",
            "\n",
            "[%] Downloading Image #450 from https://images.heb.com/is/image/HEBGrocery/001632905\n"
          ]
        },
        {
          "output_type": "stream",
          "name": "stderr",
          "text": [
            "\r 53%|\u001b[32m███████████████████▌                 \u001b[0m 850 MB| Download Speed  1.05MB/s | Estimated Time:  06:20\u001b[0m"
          ]
        },
        {
          "output_type": "stream",
          "name": "stdout",
          "text": [
            "[%] File Downloaded !\n",
            "\n",
            "[%] Downloading Image #451 from https://img3.exportersindia.com/product_images/bc-full/dir_110/3276938/fresh-potatoes-1438186.jpg\n"
          ]
        },
        {
          "output_type": "stream",
          "name": "stderr",
          "text": [
            "\r 53%|\u001b[32m███████████████████▋                 \u001b[0m 850 MB| Download Speed  1.23MB/s | Estimated Time:  05:24\u001b[0m"
          ]
        },
        {
          "output_type": "stream",
          "name": "stdout",
          "text": [
            "[%] File Downloaded !\n",
            "\n",
            "[%] Downloading Image #452 from https://thumbs.dreamstime.com/z/raw-potatoes-potatoes-isolated-white-background-raw-potatoes-potatoes-142176452.jpg\n"
          ]
        },
        {
          "output_type": "stream",
          "name": "stderr",
          "text": [
            "\r 53%|\u001b[32m███████████████████▋                 \u001b[0m 850 MB| Download Speed  1.55MB/s | Estimated Time:  04:16\u001b[0m"
          ]
        },
        {
          "output_type": "stream",
          "name": "stdout",
          "text": [
            "[%] File Downloaded !\n",
            "\n",
            "[%] Downloading Image #453 from https://i.pinimg.com/originals/c4/1d/53/c41d532d143d100909bb5b4149ffa29b.jpg\n",
            "[%] File Downloaded !\n",
            "\n",
            "[%] Downloading Image #454 from https://thumbs.dreamstime.com/b/raw-potato-sliced-potato-38428604.jpg\n",
            "[%] File Downloaded !\n",
            "\n",
            "[%] Downloading Image #455 from https://static6.depositphotos.com/1102976/642/i/950/depositphotos_6425910-stock-photo-potatoes-in-mesh-bags.jpg\n"
          ]
        },
        {
          "output_type": "stream",
          "name": "stderr",
          "text": [
            " 54%|\u001b[32m███████████████████▊                 \u001b[0m 850 MB| Download Speed  2.89MB/s | Estimated Time:  02:16\u001b[0m"
          ]
        },
        {
          "output_type": "stream",
          "name": "stdout",
          "text": [
            "[%] File Downloaded !\n",
            "\n",
            "[%] Downloading Image #456 from https://i5.walmartimages.com/asr/0218f5c6-0364-4d86-b0d0-28887458f17e.da73ef9eb619a403b92227d9a31a8e8a.jpeg\n",
            "[%] File Downloaded !\n",
            "\n"
          ]
        },
        {
          "output_type": "stream",
          "name": "stderr",
          "text": [
            "\r 54%|\u001b[32m███████████████████▉                 \u001b[0m 850 MB| Download Speed  2.42MB/s | Estimated Time:  02:42\u001b[0m"
          ]
        },
        {
          "output_type": "stream",
          "name": "stdout",
          "text": [
            "[%] Downloading Image #457 from https://sweetandsavorymeals.com/wp-content/uploads/2019/05/Cheesy-Potatoes-Recipe-2.jpg\n",
            "[%] File Downloaded !\n",
            "\n",
            "[%] Downloading Image #458 from https://www.tasteofhome.com/wp-content/uploads/2017/10/Baked-Sweet-Potato-Fries_EXPS_THSO17_87885_B04_20_3b.jpg\n"
          ]
        },
        {
          "output_type": "stream",
          "name": "stderr",
          "text": [
            "\r 54%|\u001b[32m███████████████████▉                 \u001b[0m 850 MB| Download Speed  2.98MB/s | Estimated Time:  02:11\u001b[0m"
          ]
        },
        {
          "output_type": "stream",
          "name": "stdout",
          "text": [
            "[%] File Downloaded !\n",
            "\n"
          ]
        },
        {
          "output_type": "stream",
          "name": "stderr",
          "text": [
            "\r 54%|\u001b[32m███████████████████▉                 \u001b[0m 850 MB| Download Speed  2.81MB/s | Estimated Time:  02:19\u001b[0m"
          ]
        },
        {
          "output_type": "stream",
          "name": "stdout",
          "text": [
            "[%] Downloading Image #459 from https://thumbs.dreamstime.com/z/whole-fresh-raw-potato-cut-potatoes-slice-isolated-white-background-shadow-close-up-148954918.jpg\n",
            "[%] File Downloaded !\n",
            "\n",
            "[%] Downloading Image #460 from https://4.imimg.com/data4/OC/YC/GLADMIN-23916598/fresh-potato-500x500.jpg\n"
          ]
        },
        {
          "output_type": "stream",
          "name": "stderr",
          "text": [
            " 54%|\u001b[32m████████████████████                 \u001b[0m 850 MB| Download Speed  2.20MB/s | Estimated Time:  02:56\u001b[0m"
          ]
        },
        {
          "output_type": "stream",
          "name": "stdout",
          "text": [
            "[%] File Downloaded !\n",
            "\n",
            "[%] Downloading Image #461 from https://i1.wp.com/drpingel.com/wp-content/uploads/2020/05/SweetPotatoes.jpg?resize=1080%2C1080&amp;ssl=1\n",
            "[%] File Downloaded !\n",
            "\n",
            "[%] Downloading Image #462 from https://3.imimg.com/data3/QK/QC/MY-7923250/fresh-potato-500x500.jpg\n"
          ]
        },
        {
          "output_type": "stream",
          "name": "stderr",
          "text": [
            "\r 54%|\u001b[32m████████████████████                 \u001b[0m 850 MB| Download Speed  1.30MB/s | Estimated Time:  04:58\u001b[0m"
          ]
        },
        {
          "output_type": "stream",
          "name": "stdout",
          "text": [
            "[%] File Downloaded !\n",
            "\n",
            "[%] Downloading Image #463 from https://5.imimg.com/data5/LU/HR/MY-13514104/fresh-brown-potatoes-500x500.jpg\n"
          ]
        },
        {
          "output_type": "stream",
          "name": "stderr",
          "text": [
            "\r 54%|\u001b[32m████████████████████▏                \u001b[0m 850 MB| Download Speed  1.28s/MB | Estimated Time:  08:15\u001b[0m"
          ]
        },
        {
          "output_type": "stream",
          "name": "stdout",
          "text": [
            "[%] File Downloaded !\n",
            "\n",
            "[%] Downloading Image #464 from https://4.imimg.com/data4/FT/TK/MY-18113761/fresh-potato.jpg\n"
          ]
        },
        {
          "output_type": "stream",
          "name": "stderr",
          "text": [
            "\r 55%|\u001b[32m████████████████████▏                \u001b[0m 850 MB| Download Speed  1.15s/MB | Estimated Time:  07:22\u001b[0m"
          ]
        },
        {
          "output_type": "stream",
          "name": "stdout",
          "text": [
            "[%] File Downloaded !\n",
            "\n"
          ]
        },
        {
          "output_type": "stream",
          "name": "stderr",
          "text": [
            "\r 55%|\u001b[32m████████████████████▏                \u001b[0m 850 MB| Download Speed  1.10MB/s | Estimated Time:  05:48\u001b[0m"
          ]
        },
        {
          "output_type": "stream",
          "name": "stdout",
          "text": [
            "[%] Downloading Image #465 from https://www.eagleeyeproduce.com/wp-content/uploads/2020/11/Potatoes-HTP-02-1024x1024.jpg\n",
            "[%] File Downloaded !\n",
            "\n",
            "[%] Downloading Image #466 from https://www.tipsbulletin.com/wp-content/uploads/2019/09/how-to-freeze-potatoes-p1-512x1024.jpg\n"
          ]
        },
        {
          "output_type": "stream",
          "name": "stderr",
          "text": [
            "\r 55%|\u001b[32m████████████████████▎                \u001b[0m 850 MB| Download Speed  1.43MB/s | Estimated Time:  04:28\u001b[0m"
          ]
        },
        {
          "output_type": "stream",
          "name": "stdout",
          "text": [
            "[%] File Downloaded !\n",
            "\n",
            "[%] Downloading Image #467 from https://i5.walmartimages.com/asr/00285dd4-0558-44e6-8409-e6159bba7687_1.e152d4dafe4d66f411b4886f9a3cbe93.jpeg?odnWidth=1000&amp;odnHeight=1000&amp;odnBg=ffffff\n"
          ]
        },
        {
          "output_type": "stream",
          "name": "stderr",
          "text": [
            "\r 55%|\u001b[32m████████████████████▎                \u001b[0m 850 MB| Download Speed  1.63MB/s | Estimated Time:  03:54\u001b[0mERROR:root:Issue getting: https://external-preview.redd.it/m2G70k_2o6ucBSghW_60Qa_zuTFc-_wb6MobC9jMeSo.jpg?auto=webp&amp;s=6e00f4b54e2bb0a38ee5fef1835adf737ab71cae\n",
            "Error: 'Bing' object has no attribute 'sources'\n"
          ]
        },
        {
          "output_type": "stream",
          "name": "stdout",
          "text": [
            "[%] File Downloaded !\n",
            "\n",
            "[%] Downloading Image #468 from https://external-preview.redd.it/m2G70k_2o6ucBSghW_60Qa_zuTFc-_wb6MobC9jMeSo.jpg?auto=webp&amp;s=6e00f4b54e2bb0a38ee5fef1835adf737ab71cae\n"
          ]
        },
        {
          "output_type": "stream",
          "name": "stderr",
          "text": [
            "\r 55%|\u001b[32m████████████████████▎                \u001b[0m 850 MB| Download Speed  1.54MB/s | Estimated Time:  04:08\u001b[0m"
          ]
        },
        {
          "output_type": "stream",
          "name": "stdout",
          "text": [
            "[%] Downloading Image #468 from https://ohsweetbasil.com/wp-content/uploads/Instant-pot-cheesy-potatoes-8.jpg\n",
            "[%] File Downloaded !\n",
            "\n",
            "[%] Downloading Image #469 from https://i.pinimg.com/originals/e1/48/83/e148831d1a4a41e0883831ed12f54e02.jpg\n",
            "[%] File Downloaded !\n",
            "\n",
            "[%] Downloading Image #470 from https://www.colourbox.com/preview/7492745-fresh-potatoes.jpg\n"
          ]
        },
        {
          "output_type": "stream",
          "name": "stderr",
          "text": [
            "\r 55%|\u001b[32m████████████████████▍                \u001b[0m 850 MB| Download Speed  1.43MB/s | Estimated Time:  04:25\u001b[0m"
          ]
        },
        {
          "output_type": "stream",
          "name": "stdout",
          "text": [
            "[%] File Downloaded !\n",
            "\n",
            "[%] Downloading Image #471 from https://thumbs.dreamstime.com/z/raw-potato-sliced-isolated-white-background-top-view-155575774.jpg\n"
          ]
        },
        {
          "output_type": "stream",
          "name": "stderr",
          "text": [
            "\r 55%|\u001b[32m████████████████████▌                \u001b[0m 850 MB| Download Speed  1.63MB/s | Estimated Time:  03:51\u001b[0m"
          ]
        },
        {
          "output_type": "stream",
          "name": "stdout",
          "text": [
            "[%] File Downloaded !\n",
            "\n",
            "[%] Downloading Image #472 from https://karinakimmig.com/wp-content/uploads/2020/05/um-saco-de-batatas.jpg\n"
          ]
        },
        {
          "output_type": "stream",
          "name": "stderr",
          "text": [
            "\r 56%|\u001b[32m████████████████████▌                \u001b[0m 850 MB| Download Speed  1.90MB/s | Estimated Time:  03:18\u001b[0m"
          ]
        },
        {
          "output_type": "stream",
          "name": "stdout",
          "text": [
            "[%] File Downloaded !\n",
            "\n",
            "[%] Downloading Image #473 from https://3.imimg.com/data3/WQ/YP/MY-6303512/fresh-potatoes-500x500.jpg\n"
          ]
        },
        {
          "output_type": "stream",
          "name": "stderr",
          "text": [
            "\r 56%|\u001b[32m████████████████████▌                \u001b[0m 850 MB| Download Speed  1.67MB/s | Estimated Time:  03:46\u001b[0m"
          ]
        },
        {
          "output_type": "stream",
          "name": "stdout",
          "text": [
            "[%] File Downloaded !\n",
            "\n",
            "[%] Downloading Image #474 from https://4.imimg.com/data4/PG/RJ/MY-31923320/potato-500x500.jpeg\n"
          ]
        },
        {
          "output_type": "stream",
          "name": "stderr",
          "text": [
            "\r 56%|\u001b[32m████████████████████▋                \u001b[0m 850 MB| Download Speed  1.56MB/s | Estimated Time:  04:01\u001b[0m"
          ]
        },
        {
          "output_type": "stream",
          "name": "stdout",
          "text": [
            "[%] File Downloaded !\n",
            "\n",
            "[%] Downloading Image #475 from https://3.imimg.com/data3/HP/HD/MY-4373914/fresh-potatoes-500x500.jpg\n"
          ]
        },
        {
          "output_type": "stream",
          "name": "stderr",
          "text": [
            "\r 56%|\u001b[32m████████████████████▋                \u001b[0m 850 MB| Download Speed  1.49MB/s | Estimated Time:  04:11\u001b[0m"
          ]
        },
        {
          "output_type": "stream",
          "name": "stdout",
          "text": [
            "[%] File Downloaded !\n",
            "\n"
          ]
        },
        {
          "output_type": "stream",
          "name": "stderr",
          "text": [
            "\r 56%|\u001b[32m████████████████████▋                \u001b[0m 850 MB| Download Speed  1.39MB/s | Estimated Time:  04:29\u001b[0m"
          ]
        },
        {
          "output_type": "stream",
          "name": "stdout",
          "text": [
            "[%] Downloading Image #476 from https://bayweekly.com/wp-content/uploads/2020/02/potato-varieties.jpeg\n",
            "[%] File Downloaded !\n",
            "\n",
            "[%] Downloading Image #477 from https://img.freepik.com/premium-photo/fresh-potatoes-from-field_689859-1169.jpg\n"
          ]
        },
        {
          "output_type": "stream",
          "name": "stderr",
          "text": [
            " 56%|\u001b[32m████████████████████▊                \u001b[0m 850 MB| Download Speed  1.34MB/s | Estimated Time:  04:37\u001b[0m"
          ]
        },
        {
          "output_type": "stream",
          "name": "stdout",
          "text": [
            "[%] File Downloaded !\n",
            "\n",
            "[%] Downloading Image #478 from https://thumbs.dreamstime.com/b/fresh-young-potatoes-wooden-background-herbs-55045787.jpg\n",
            "[%] File Downloaded !\n",
            "\n",
            "[%] Downloading Image #479 from https://c8.alamy.com/comp/PD7AP3/preparing-fresh-potatoes-PD7AP3.jpg\n"
          ]
        },
        {
          "output_type": "stream",
          "name": "stderr",
          "text": [
            "\r 56%|\u001b[32m████████████████████▊                \u001b[0m 850 MB| Download Speed  1.67MB/s | Estimated Time:  03:42\u001b[0m"
          ]
        },
        {
          "output_type": "stream",
          "name": "stdout",
          "text": [
            "[%] File Downloaded !\n",
            "\n",
            "[%] Downloading Image #480 from https://c8.alamy.com/comp/CB46NF/fresh-potatoes-with-leaves-CB46NF.jpg\n"
          ]
        },
        {
          "output_type": "stream",
          "name": "stderr",
          "text": [
            " 57%|\u001b[32m████████████████████▉                \u001b[0m 850 MB| Download Speed  2.57MB/s | Estimated Time:  02:23\u001b[0m"
          ]
        },
        {
          "output_type": "stream",
          "name": "stdout",
          "text": [
            "[%] File Downloaded !\n",
            "\n",
            "[%] Downloading Image #481 from https://thumbs.dreamstime.com/b/fresh-potatoes-25161584.jpg\n",
            "[%] File Downloaded !\n",
            "\n",
            "[%] Downloading Image #482 from https://c8.alamy.com/comp/PD7B2B/preparing-fresh-potatoes-PD7B2B.jpg\n"
          ]
        },
        {
          "output_type": "stream",
          "name": "stderr",
          "text": [
            "\r 57%|\u001b[32m████████████████████▉                \u001b[0m 850 MB| Download Speed  2.87MB/s | Estimated Time:  02:08\u001b[0m"
          ]
        },
        {
          "output_type": "stream",
          "name": "stdout",
          "text": [
            "[%] File Downloaded !\n",
            "\n",
            "[%] Downloading Image #483 from https://img.freepik.com/premium-photo/fresh-potatoes_127657-13818.jpg\n"
          ]
        },
        {
          "output_type": "stream",
          "name": "stderr",
          "text": [
            "\r 57%|\u001b[32m█████████████████████                \u001b[0m 850 MB| Download Speed  1.21MB/s | Estimated Time:  05:02\u001b[0m"
          ]
        },
        {
          "output_type": "stream",
          "name": "stdout",
          "text": [
            "[%] File Downloaded !\n",
            "\n",
            "[%] Downloading Image #484 from https://thumbs.dreamstime.com/z/farm-fresh-potatoes-29158466.jpg\n"
          ]
        },
        {
          "output_type": "stream",
          "name": "stderr",
          "text": [
            "\r 57%|\u001b[32m█████████████████████                \u001b[0m 850 MB| Download Speed  1.49MB/s | Estimated Time:  04:06\u001b[0m"
          ]
        },
        {
          "output_type": "stream",
          "name": "stdout",
          "text": [
            "[%] File Downloaded !\n",
            "\n",
            "[%] Downloading Image #485 from https://img.freepik.com/premium-photo/fresh-potatoes-from-field_825081-673.jpg\n"
          ]
        },
        {
          "output_type": "stream",
          "name": "stderr",
          "text": [
            "\r 57%|\u001b[32m█████████████████████                \u001b[0m 850 MB| Download Speed  1.26MB/s | Estimated Time:  04:49\u001b[0m"
          ]
        },
        {
          "output_type": "stream",
          "name": "stdout",
          "text": [
            "[%] File Downloaded !\n",
            "\n",
            "[%] Downloading Image #486 from https://thumbs.dreamstime.com/b/fresh-potatoes-plate-12657633.jpg\n"
          ]
        },
        {
          "output_type": "stream",
          "name": "stderr",
          "text": [
            "\r 57%|\u001b[32m█████████████████████▏               \u001b[0m 850 MB| Download Speed  1.56MB/s | Estimated Time:  03:53\u001b[0m"
          ]
        },
        {
          "output_type": "stream",
          "name": "stdout",
          "text": [
            "[%] File Downloaded !\n",
            "\n",
            "[%] Downloading Image #487 from https://thumbs.dreamstime.com/b/fresh-potatoes-28411891.jpg\n",
            "[%] File Downloaded !\n",
            "\n",
            "[%] Downloading Image #488 from https://img.freepik.com/premium-photo/fresh-potatoes-from-field_825081-671.jpg\n"
          ]
        },
        {
          "output_type": "stream",
          "name": "stderr",
          "text": [
            " 58%|\u001b[32m█████████████████████▎               \u001b[0m 850 MB| Download Speed  1.68MB/s | Estimated Time:  03:34\u001b[0m"
          ]
        },
        {
          "output_type": "stream",
          "name": "stdout",
          "text": [
            "[%] File Downloaded !\n",
            "\n",
            "[%] Downloading Image #489 from https://storables.com/wp-content/uploads/2023/10/how-to-store-fresh-potatoes-from-the-garden-1697125068.jpg\n",
            "[%] File Downloaded !\n",
            "\n",
            "[%] Downloading Image #490 from https://thumbs.dreamstime.com/b/fresh-potatoes-street-market-sao-paulo-brazil-august-124730145.jpg\n"
          ]
        },
        {
          "output_type": "stream",
          "name": "stderr",
          "text": [
            " 58%|\u001b[32m█████████████████████▎               \u001b[0m 850 MB| Download Speed  2.70MB/s | Estimated Time:  02:12\u001b[0m"
          ]
        },
        {
          "output_type": "stream",
          "name": "stdout",
          "text": [
            "[%] File Downloaded !\n",
            "\n",
            "[%] Downloading Image #491 from https://i5.walmartimages.com/asr/e3ce0844-2d9b-49c5-85ad-5c832a8e7ca1_1.04576b30c986227ee9a7c8cb36563bb1.jpeg\n",
            "[%] File Downloaded !\n",
            "\n",
            "[%] Downloading Image #492 from https://img.21food.com/20110609/product/1306846444317.jpg\n"
          ]
        },
        {
          "output_type": "stream",
          "name": "stderr",
          "text": [
            "\r 58%|\u001b[32m█████████████████████▍               \u001b[0m 850 MB| Download Speed  2.48MB/s | Estimated Time:  02:24\u001b[0m"
          ]
        },
        {
          "output_type": "stream",
          "name": "stdout",
          "text": [
            "[%] File Downloaded !\n",
            "\n",
            "[%] Downloading Image #493 from https://cdn.tragate.com/items/fresh-potatoes_22788_96151.jpg\n"
          ]
        },
        {
          "output_type": "stream",
          "name": "stderr",
          "text": [
            "\r 58%|\u001b[32m█████████████████████▍               \u001b[0m 850 MB| Download Speed  1.99MB/s | Estimated Time:  02:59\u001b[0m"
          ]
        },
        {
          "output_type": "stream",
          "name": "stdout",
          "text": [
            "[%] File Downloaded !\n",
            "\n",
            "[%] Downloading Image #494 from https://5.imimg.com/data5/PW/SX/FP/SELLER-13896887/fresh-potatoes-500x500.png\n"
          ]
        },
        {
          "output_type": "stream",
          "name": "stderr",
          "text": [
            "\r 58%|\u001b[32m█████████████████████▌               \u001b[0m 850 MB| Download Speed  1.31MB/s | Estimated Time:  04:32\u001b[0m"
          ]
        },
        {
          "output_type": "stream",
          "name": "stdout",
          "text": [
            "[%] File Downloaded !\n",
            "\n",
            "[%] Downloading Image #495 from https://cpimg.tistatic.com/07763320/b/4/Fresh-Sweet-Potatoes.jpg\n"
          ]
        },
        {
          "output_type": "stream",
          "name": "stderr",
          "text": [
            "\r 58%|\u001b[32m█████████████████████▌               \u001b[0m 850 MB| Download Speed  1.27MB/s | Estimated Time:  04:39\u001b[0m"
          ]
        },
        {
          "output_type": "stream",
          "name": "stdout",
          "text": [
            "[%] File Downloaded !\n",
            "\n",
            "[%] Downloading Image #496 from https://thumbs.dreamstime.com/b/fresh-potatoes-27673530.jpg\n"
          ]
        },
        {
          "output_type": "stream",
          "name": "stderr",
          "text": [
            "\r 58%|\u001b[32m█████████████████████▌               \u001b[0m 850 MB| Download Speed  1.20MB/s | Estimated Time:  04:56\u001b[0mERROR:root:Issue getting: https://imagesvc.meredithcorp.io/v3/mm/image?url=https:%2F%2Fimages.media-allrecipes.com%2Fuserphotos%2F6859548.jpg\n",
            "Error: 'Bing' object has no attribute 'sources'\n"
          ]
        },
        {
          "output_type": "stream",
          "name": "stdout",
          "text": [
            "[%] File Downloaded !\n",
            "\n",
            "[%] Downloading Image #497 from https://imagesvc.meredithcorp.io/v3/mm/image?url=https:%2F%2Fimages.media-allrecipes.com%2Fuserphotos%2F6859548.jpg\n"
          ]
        },
        {
          "output_type": "stream",
          "name": "stderr",
          "text": [
            "\r 58%|\u001b[32m█████████████████████▋               \u001b[0m 850 MB| Download Speed  1.12MB/s | Estimated Time:  05:14\u001b[0m"
          ]
        },
        {
          "output_type": "stream",
          "name": "stdout",
          "text": [
            "[%] Downloading Image #497 from https://2.bp.blogspot.com/-DZt7ckExS6o/WwMT7D976LI/AAAAAAAAV54/IR96O-ArShYxu6l3xofhlCTs4U6_ClpygCLcBGAs/s1600/Potatoes.jpg\n",
            "[%] File Downloaded !\n",
            "\n",
            "[%] Downloading Image #498 from http://freefoodphotos.com/imagelibrary/cooking/potatos_sliced_fries.jpg\n"
          ]
        },
        {
          "output_type": "stream",
          "name": "stderr",
          "text": [
            "\r 59%|\u001b[32m█████████████████████▋               \u001b[0m 850 MB| Download Speed  1.04s/MB | Estimated Time:  06:06\u001b[0m"
          ]
        },
        {
          "output_type": "stream",
          "name": "stdout",
          "text": [
            "[%] File Downloaded !\n",
            "\n",
            "[%] Downloading Image #499 from https://blog.myfitnesspal.com/wp-content/uploads/2019/02/UACF-Potato-Chart-3-new-scaled.jpg\n",
            "[%] File Downloaded !\n",
            "\n",
            "[%] Downloading Image #500 from https://www.mr-fruity.co.uk/wp-content/uploads/2019/07/fresh_chips-1024x683.jpg\n"
          ]
        },
        {
          "output_type": "stream",
          "name": "stderr",
          "text": [
            "\r 59%|\u001b[32m█████████████████████▊               \u001b[0m 850 MB| Download Speed  1.21MB/s | Estimated Time:  04:49\u001b[0m"
          ]
        },
        {
          "output_type": "stream",
          "name": "stdout",
          "text": [
            "[%] File Downloaded !\n",
            "\n"
          ]
        },
        {
          "output_type": "stream",
          "name": "stderr",
          "text": [
            "\r 59%|\u001b[32m█████████████████████▊               \u001b[0m 850 MB| Download Speed  1.27MB/s | Estimated Time:  04:35\u001b[0m"
          ]
        },
        {
          "output_type": "stream",
          "name": "stdout",
          "text": [
            "[%] Downloading Image #501 from http://www.valleyspuds.com/wp-content/uploads/Valley-Spuds-Sweet-Potatoes-Are-Great.jpg\n",
            "[%] File Downloaded !\n",
            "\n",
            "[%] Downloading Image #502 from https://4.imimg.com/data4/RE/IF/MY-14851076/fresh-potato-500x500.jpg\n"
          ]
        },
        {
          "output_type": "stream",
          "name": "stderr",
          "text": [
            "\r 59%|\u001b[32m█████████████████████▊               \u001b[0m 850 MB| Download Speed  1.17MB/s | Estimated Time:  04:58\u001b[0m"
          ]
        },
        {
          "output_type": "stream",
          "name": "stdout",
          "text": [
            "[%] File Downloaded !\n",
            "\n",
            "[%] Downloading Image #503 from https://3.imimg.com/data3/XM/RA/MY-13355775/fresh-potato-500x500.jpg\n"
          ]
        },
        {
          "output_type": "stream",
          "name": "stderr",
          "text": [
            "\r 59%|\u001b[32m█████████████████████▉               \u001b[0m 850 MB| Download Speed  1.30MB/s | Estimated Time:  04:26\u001b[0m"
          ]
        },
        {
          "output_type": "stream",
          "name": "stdout",
          "text": [
            "[%] File Downloaded !\n",
            "\n",
            "[%] Downloading Image #504 from https://img1.exportersindia.com/product_images/bc-small/2022/2/3576752/fresh-potato-1644491091-6196331.jpeg\n"
          ]
        },
        {
          "output_type": "stream",
          "name": "stderr",
          "text": [
            "\r 59%|\u001b[32m█████████████████████▉               \u001b[0m 850 MB| Download Speed  1.26MB/s | Estimated Time:  04:35\u001b[0m"
          ]
        },
        {
          "output_type": "stream",
          "name": "stdout",
          "text": [
            "[%] File Downloaded !\n",
            "\n",
            "[%] Downloading Image #505 from https://dilei.it/wp-content/uploads/sites/3/2021/02/Patate-proprieta.jpg\n"
          ]
        },
        {
          "output_type": "stream",
          "name": "stderr",
          "text": [
            " 60%|\u001b[32m██████████████████████               \u001b[0m 850 MB| Download Speed  1.51MB/s | Estimated Time:  03:47\u001b[0m"
          ]
        },
        {
          "output_type": "stream",
          "name": "stdout",
          "text": [
            "[%] File Downloaded !\n",
            "\n",
            "[%] Downloading Image #506 from http://i1.wp.com/listverse.com/wp-content/uploads/2009/01/fresh-potatoes.jpg\n",
            "[%] File Downloaded !\n",
            "\n",
            "[%] Downloading Image #507 from https://www.dailydiylife.com/wp-content/uploads/2022/12/how-to-tell-if-a-sweet-potato-is-bad.jpg\n"
          ]
        },
        {
          "output_type": "stream",
          "name": "stderr",
          "text": [
            "\r 60%|\u001b[32m██████████████████████               \u001b[0m 850 MB| Download Speed  1.93MB/s | Estimated Time:  02:57\u001b[0m"
          ]
        },
        {
          "output_type": "stream",
          "name": "stdout",
          "text": [
            "[%] File Downloaded !\n",
            "\n"
          ]
        },
        {
          "output_type": "stream",
          "name": "stderr",
          "text": [
            "\r 60%|\u001b[32m██████████████████████               \u001b[0m 850 MB| Download Speed  1.59MB/s | Estimated Time:  03:35\u001b[0m"
          ]
        },
        {
          "output_type": "stream",
          "name": "stdout",
          "text": [
            "[%] Downloading Image #508 from https://thumbs.dreamstime.com/z/three-young-raw-potatoes-isolated-white-background-harvest-fresh-organic-whole-potato-vegetable-food-object-three-young-raw-129736364.jpg\n",
            "[%] File Downloaded !\n",
            "\n",
            "[%] Downloading Image #509 from https://thumbs.dreamstime.com/z/whole-fresh-single-potato-16278631.jpg\n",
            "[%] File Downloaded !\n",
            "\n",
            "[%] Downloading Image #510 from https://4.imimg.com/data4/IV/HI/MY-12911741/fresh-potato-500x500.jpg\n"
          ]
        },
        {
          "output_type": "stream",
          "name": "stderr",
          "text": [
            "\r 60%|\u001b[32m██████████████████████▏              \u001b[0m 850 MB| Download Speed  1.29MB/s | Estimated Time:  04:24\u001b[0m"
          ]
        },
        {
          "output_type": "stream",
          "name": "stdout",
          "text": [
            "[%] File Downloaded !\n",
            "\n",
            "[%] Downloading Image #511 from https://thumbs.dreamstime.com/z/photo-uncooked-potatoes-raw-potatoes-158653294.jpg\n"
          ]
        },
        {
          "output_type": "stream",
          "name": "stderr",
          "text": [
            "\r 60%|\u001b[32m██████████████████████▏              \u001b[0m 850 MB| Download Speed  1.03s/MB | Estimated Time:  05:48\u001b[0m"
          ]
        },
        {
          "output_type": "stream",
          "name": "stdout",
          "text": [
            "[%] File Downloaded !\n",
            "\n",
            "[%] Downloading Image #512 from https://i.pinimg.com/originals/48/50/db/4850db852053152bd4239ca454f4d726.jpg\n",
            "[%] File Downloaded !\n",
            "\n",
            "[%] Downloading Image #513 from https://i.fbcd.co/products/resized/resized-242-161/c-1000-designbundle-recfresh-ripe-potatoes-lie-in-the-garden-v-3-15-12-fab1257fa18ffdc7d368334c41dc2cb43c087e7b4dec6c8b852c5015ea36c9d4.jpg\n"
          ]
        },
        {
          "output_type": "stream",
          "name": "stderr",
          "text": [
            "\r 60%|\u001b[32m██████████████████████▎              \u001b[0m 850 MB| Download Speed  1.23MB/s | Estimated Time:  04:34\u001b[0m"
          ]
        },
        {
          "output_type": "stream",
          "name": "stdout",
          "text": [
            "[%] File Downloaded !\n",
            "\n",
            "[%] Downloading Image #514 from https://cookieandkate.com/images/2020/02/vegan-lasagna-recipe-1.jpg\n",
            "[%] File Downloaded !\n",
            "\n",
            "[%] Downloading Image #515 from https://preview.redd.it/6qg8hrpsrcb11.jpg?auto=webp&amp;s=541f323649901b34dbcf7fc6d152855f96c5aef4\n"
          ]
        },
        {
          "output_type": "stream",
          "name": "stderr",
          "text": [
            "ERROR:root:Issue getting: https://preview.redd.it/6qg8hrpsrcb11.jpg?auto=webp&amp;s=541f323649901b34dbcf7fc6d152855f96c5aef4\n",
            "Error: 'Bing' object has no attribute 'sources'\n",
            " 61%|\u001b[32m██████████████████████▍              \u001b[0m 850 MB| Download Speed  1.55MB/s | Estimated Time:  03:35\u001b[0m"
          ]
        },
        {
          "output_type": "stream",
          "name": "stdout",
          "text": [
            "[%] Downloading Image #515 from https://bigoven-res.cloudinary.com/image/upload/t_recipe-256/sweet-potato-yams.jpg\n",
            "[%] File Downloaded !\n",
            "\n",
            "[%] Downloading Image #516 from https://bigoven-res.cloudinary.com/image/upload/t_recipe-256/sweet-potato-pie-4.jpg\n",
            "[%] File Downloaded !\n",
            "\n"
          ]
        },
        {
          "output_type": "stream",
          "name": "stderr",
          "text": [
            "\r 61%|\u001b[32m██████████████████████▌              \u001b[0m 850 MB| Download Speed  2.06MB/s | Estimated Time:  02:41\u001b[0m"
          ]
        },
        {
          "output_type": "stream",
          "name": "stdout",
          "text": [
            "[%] Downloading Image #517 from https://bigoven-res.cloudinary.com/image/upload/t_recipe-256/sweet-potato-latkes-4.jpg\n",
            "[%] File Downloaded !\n",
            "\n"
          ]
        },
        {
          "output_type": "stream",
          "name": "stderr",
          "text": [
            "\r 61%|\u001b[32m██████████████████████▌              \u001b[0m 850 MB| Download Speed  2.15MB/s | Estimated Time:  02:34\u001b[0m"
          ]
        },
        {
          "output_type": "stream",
          "name": "stdout",
          "text": [
            "[%] Downloading Image #518 from https://reddotgreendot.com/cdn/shop/files/OrangeSweetPotato1.jpg?v=1703234362&amp;width=1445\n",
            "[%] File Downloaded !\n",
            "\n",
            "[%] Downloading Image #519 from https://dxbnewsnetwork.com/upload/blog/Sweet_vs._Regular_Potatoes_popularnewschanneldubai.png\n"
          ]
        },
        {
          "output_type": "stream",
          "name": "stderr",
          "text": [
            "\r 61%|\u001b[32m██████████████████████▌              \u001b[0m 850 MB| Download Speed  1.16MB/s | Estimated Time:  04:45\u001b[0m"
          ]
        },
        {
          "output_type": "stream",
          "name": "stdout",
          "text": [
            "[%] File Downloaded !\n",
            "\n",
            "[%] Downloading Image #520 from https://cdn.statically.io/img/assets-global.website-files.com/63ed08484c069d0492f5b0bc/6541539c6e716deedf2e034e_63585b2e213a3c4bb686f8e9_three-sweet-potato-slices-with-cheese-and-vegetables-on-top.jpeg\n"
          ]
        },
        {
          "output_type": "stream",
          "name": "stderr",
          "text": [
            "\r 61%|\u001b[32m██████████████████████▋              \u001b[0m 850 MB| Download Speed  1.27MB/s | Estimated Time:  04:20\u001b[0m"
          ]
        },
        {
          "output_type": "stream",
          "name": "stdout",
          "text": [
            "[%] File Downloaded !\n",
            "\n",
            "[%] Downloading Image #521 from https://www.shutterstock.com/shutterstock/videos/1076090471/thumb/3.jpg?ip=x480\n"
          ]
        },
        {
          "output_type": "stream",
          "name": "stderr",
          "text": [
            "ERROR:root:Invalid image, not saving https://www.shutterstock.com/shutterstock/videos/1076090471/thumb/3.jpg?ip=x480\n",
            "ERROR:root:Issue getting: https://www.shutterstock.com/shutterstock/videos/1076090471/thumb/3.jpg?ip=x480\n",
            "Error: Invalid image, not saving https://www.shutterstock.com/shutterstock/videos/1076090471/thumb/3.jpg?ip=x480\n",
            " 61%|\u001b[32m██████████████████████▋              \u001b[0m 850 MB| Download Speed  1.24MB/s | Estimated Time:  04:25\u001b[0m"
          ]
        },
        {
          "output_type": "stream",
          "name": "stdout",
          "text": [
            "[%] Downloading Image #521 from https://www.mashed.com/img/gallery/false-facts-about-sweet-potatoes-you-thought-were-true/false-sweet-potatoes-are-closely-related-to-potatoes-1716470884.jpg\n",
            "[%] File Downloaded !\n",
            "\n",
            "[%] Downloading Image #522 from https://shopjetfast.com/home-delivery/wp-content/uploads/1500007654-1.jpg\n"
          ]
        },
        {
          "output_type": "stream",
          "name": "stderr",
          "text": [
            "\r 61%|\u001b[32m██████████████████████▋              \u001b[0m 850 MB| Download Speed  1.28MB/s | Estimated Time:  04:15\u001b[0m"
          ]
        },
        {
          "output_type": "stream",
          "name": "stdout",
          "text": [
            "[%] File Downloaded !\n",
            "\n",
            "[%] Downloading Image #523 from http://www.asianveganandbeyond.com/wp-content/uploads/2016/05/IMG_0762-2-Large.jpg\n"
          ]
        },
        {
          "output_type": "stream",
          "name": "stderr",
          "text": [
            "\r 62%|\u001b[32m██████████████████████▊              \u001b[0m 850 MB| Download Speed  1.51MB/s | Estimated Time:  03:37\u001b[0m"
          ]
        },
        {
          "output_type": "stream",
          "name": "stdout",
          "text": [
            "[%] File Downloaded !\n",
            "\n",
            "[%] Downloading Image #524 from https://p1.akcdn.net/full/1111152264.happy-fit-superior-fresh-boar-with-carrots-potatoes-12x800-g.jpg\n"
          ]
        },
        {
          "output_type": "stream",
          "name": "stderr",
          "text": [
            "\r 62%|\u001b[32m██████████████████████▊              \u001b[0m 850 MB| Download Speed  1.19MB/s | Estimated Time:  04:34\u001b[0m"
          ]
        },
        {
          "output_type": "stream",
          "name": "stdout",
          "text": [
            "[%] File Downloaded !\n",
            "\n",
            "[%] Downloading Image #525 from https://c8.alamy.com/comp/2C7W5X7/fresh-picked-potatoes-from-the-garden-2C7W5X7.jpg\n"
          ]
        },
        {
          "output_type": "stream",
          "name": "stderr",
          "text": [
            " 62%|\u001b[32m██████████████████████▉              \u001b[0m 850 MB| Download Speed  1.91MB/s | Estimated Time:  02:49\u001b[0m"
          ]
        },
        {
          "output_type": "stream",
          "name": "stdout",
          "text": [
            "[%] File Downloaded !\n",
            "\n",
            "[%] Downloading Image #526 from https://onepotrecipes.com/wp-content/uploads/2019/11/Mexican-Chicken-Stuffed-Sweet-Potatoes-Recipe.jpg\n",
            "[%] File Downloaded !\n",
            "\n",
            "[%] Downloading Image #527 from https://www.yummytoddlerfood.com/wp-content/uploads/2020/08/sweet-potato-baby-food-on-blue-towel.jpg\n"
          ]
        },
        {
          "output_type": "stream",
          "name": "stderr",
          "text": [
            "\r 62%|\u001b[32m██████████████████████▉              \u001b[0m 850 MB| Download Speed  2.97MB/s | Estimated Time:  01:48\u001b[0m"
          ]
        },
        {
          "output_type": "stream",
          "name": "stdout",
          "text": [
            "[%] File Downloaded !\n",
            "\n",
            "[%] Downloading Image #528 from https://drivemehungry.com/wp-content/uploads/2021/07/baked-korean-sweet-potatoes-6.jpg\n",
            "[%] File Downloaded !\n",
            "\n",
            "[%] Downloading Image #529 from https://natashaskitchen.com/wp-content/uploads/2019/11/Scalloped-Sweet-Potatoes-4.jpg\n"
          ]
        },
        {
          "output_type": "stream",
          "name": "stderr",
          "text": [
            "\r 62%|\u001b[32m███████████████████████              \u001b[0m 850 MB| Download Speed  3.58MB/s | Estimated Time:  01:29\u001b[0m"
          ]
        },
        {
          "output_type": "stream",
          "name": "stdout",
          "text": [
            "[%] File Downloaded !\n",
            "\n",
            "[%] Downloading Image #530 from https://cdn.copymethat.com/media/orig_oven_roasted_purple_sweet_potatoes_20240523074345328744y3qwwv.jpg\n"
          ]
        },
        {
          "output_type": "stream",
          "name": "stderr",
          "text": [
            "\r 62%|\u001b[32m███████████████████████              \u001b[0m 850 MB| Download Speed  2.31MB/s | Estimated Time:  02:18\u001b[0m"
          ]
        },
        {
          "output_type": "stream",
          "name": "stdout",
          "text": [
            "[%] File Downloaded !\n",
            "\n"
          ]
        },
        {
          "output_type": "stream",
          "name": "stderr",
          "text": [
            "\r 62%|\u001b[32m███████████████████████              \u001b[0m 850 MB| Download Speed  2.41MB/s | Estimated Time:  02:12\u001b[0m"
          ]
        },
        {
          "output_type": "stream",
          "name": "stdout",
          "text": [
            "[%] Downloading Image #531 from http://images.bigoven.com/image/upload/t_recipe-256/sweet-potato-souffle-3.jpg\n",
            "[%] File Downloaded !\n",
            "\n",
            "[%] Downloading Image #532 from https://sliceofjess.com/wp-content/uploads/2018/03/Sweet-Potato-Lasagna-Pinterest-627x1024.jpg\n"
          ]
        },
        {
          "output_type": "stream",
          "name": "stderr",
          "text": [
            "\r 63%|\u001b[32m███████████████████████▏             \u001b[0m 850 MB| Download Speed  2.21MB/s | Estimated Time:  02:24\u001b[0m"
          ]
        },
        {
          "output_type": "stream",
          "name": "stdout",
          "text": [
            "[%] File Downloaded !\n",
            "\n",
            "[%] Downloading Image #533 from https://i.pinimg.com/736x/d4/1c/28/d41c289562c58872dde1793f443b976d.jpg\n"
          ]
        },
        {
          "output_type": "stream",
          "name": "stderr",
          "text": [
            "\r 63%|\u001b[32m███████████████████████▏             \u001b[0m 850 MB| Download Speed  2.49MB/s | Estimated Time:  02:07\u001b[0m"
          ]
        },
        {
          "output_type": "stream",
          "name": "stdout",
          "text": [
            "[%] File Downloaded !\n",
            "\n",
            "[%] Downloading Image #534 from https://iowagirleats.com/wp-content/uploads/2017/01/BBQ-Chicken-Stuffed-Sweet-Potatoes-iowagirleats-01-srgb.jpg\n",
            "[%] File Downloaded !\n",
            "\n"
          ]
        },
        {
          "output_type": "stream",
          "name": "stderr",
          "text": [
            "\r 63%|\u001b[32m███████████████████████▎             \u001b[0m 850 MB| Download Speed  3.28MB/s | Estimated Time:  01:36\u001b[0m"
          ]
        },
        {
          "output_type": "stream",
          "name": "stdout",
          "text": [
            "[%] Downloading Image #535 from https://www.tastingtable.com/img/gallery/what-is-a-new-potato-and-how-should-you-cook-with-it/intro-1675257982.jpg\n",
            "[%] File Downloaded !\n",
            "\n",
            "[%] Downloading Image #536 from https://www.perfectbiteltd.com/wp-content/uploads/2022/02/Fresh-Potato-510x510.jpeg\n"
          ]
        },
        {
          "output_type": "stream",
          "name": "stderr",
          "text": [
            "\r 63%|\u001b[32m███████████████████████▎             \u001b[0m 850 MB| Download Speed  2.88MB/s | Estimated Time:  01:49\u001b[0m"
          ]
        },
        {
          "output_type": "stream",
          "name": "stdout",
          "text": [
            "[%] File Downloaded !\n",
            "\n",
            "[%] Downloading Image #537 from https://img1.exportersindia.com/product_images/bc-full/dir_82/2444143/fresh-potato-799246.jpg\n"
          ]
        },
        {
          "output_type": "stream",
          "name": "stderr",
          "text": [
            " 63%|\u001b[32m███████████████████████▍             \u001b[0m 850 MB| Download Speed  3.15MB/s | Estimated Time:  01:38\u001b[0m"
          ]
        },
        {
          "output_type": "stream",
          "name": "stdout",
          "text": [
            "[%] File Downloaded !\n",
            "\n",
            "[%] Downloading Image #538 from https://i.pinimg.com/736x/4a/b4/a8/4ab4a8ee2ca57bd5622391ba71a2d44d.jpg\n",
            "[%] File Downloaded !\n",
            "\n"
          ]
        },
        {
          "output_type": "stream",
          "name": "stderr",
          "text": [
            "\r 63%|\u001b[32m███████████████████████▍             \u001b[0m 850 MB| Download Speed  3.14MB/s | Estimated Time:  01:38\u001b[0m"
          ]
        },
        {
          "output_type": "stream",
          "name": "stdout",
          "text": [
            "[%] Downloading Image #539 from https://www.mashed.com/img/gallery/false-facts-about-sweet-potatoes-you-thought-were-true/l-intro-1716470884.jpg\n",
            "[%] File Downloaded !\n",
            "\n",
            "[%] Downloading Image #540 from https://bigoven-res.cloudinary.com/image/upload/t_recipe-256/oats-sweet-potato-arepa-ce5527.jpg\n",
            "[%] File Downloaded !\n",
            "\n",
            "[%] Downloading Image #541 from https://img-global.cpcdn.com/recipes/4882212932550656/751x532cq70/easy-sweet-potato-gratin-recipe-main-photo.jpg\n"
          ]
        },
        {
          "output_type": "stream",
          "name": "stderr",
          "text": [
            "ERROR:root:Invalid image, not saving https://img-global.cpcdn.com/recipes/4882212932550656/751x532cq70/easy-sweet-potato-gratin-recipe-main-photo.jpg\n",
            "ERROR:root:Issue getting: https://img-global.cpcdn.com/recipes/4882212932550656/751x532cq70/easy-sweet-potato-gratin-recipe-main-photo.jpg\n",
            "Error: Invalid image, not saving https://img-global.cpcdn.com/recipes/4882212932550656/751x532cq70/easy-sweet-potato-gratin-recipe-main-photo.jpg\n"
          ]
        },
        {
          "output_type": "stream",
          "name": "stdout",
          "text": [
            "[%] Downloading Image #541 from https://cdn.loveandlemons.com/wp-content/uploads/2017/12/IMG_0013-cropped.jpg\n"
          ]
        },
        {
          "output_type": "stream",
          "name": "stderr",
          "text": [
            " 64%|\u001b[32m███████████████████████▌             \u001b[0m 850 MB| Download Speed  3.45MB/s | Estimated Time:  01:29\u001b[0m"
          ]
        },
        {
          "output_type": "stream",
          "name": "stdout",
          "text": [
            "[%] File Downloaded !\n",
            "\n",
            "[%] Downloading Image #542 from https://www.wellplated.com/wp-content/uploads/2019/12/Sweet-Potato-Hash-Browns-with-Eggs.jpg\n",
            "[%] File Downloaded !\n",
            "\n",
            "[%] Downloading Image #543 from https://i5.peapod.com/c/WL/WLVY0.png\n"
          ]
        },
        {
          "output_type": "stream",
          "name": "stderr",
          "text": [
            "\r 64%|\u001b[32m███████████████████████▋             \u001b[0m 850 MB| Download Speed  2.35MB/s | Estimated Time:  02:10\u001b[0m"
          ]
        },
        {
          "output_type": "stream",
          "name": "stdout",
          "text": [
            "[%] File Downloaded !\n",
            "\n",
            "[%] Downloading Image #544 from https://peasandcrayons.com/wp-content/uploads/2016/10/easy-cheesy-buffalo-chicken-stuffed-sweet-potato-recipe-peasandcrayons-1636.jpg\n"
          ]
        },
        {
          "output_type": "stream",
          "name": "stderr",
          "text": [
            " 64%|\u001b[32m███████████████████████▋             \u001b[0m 850 MB| Download Speed  2.93MB/s | Estimated Time:  01:44\u001b[0m"
          ]
        },
        {
          "output_type": "stream",
          "name": "stdout",
          "text": [
            "[%] File Downloaded !\n",
            "\n",
            "[%] Downloading Image #545 from http://sweetpotatoplant.com/cdn/shop/products/covington-sweet-potato-plants-1080x1080.png?v=1678116849\n",
            "[%] File Downloaded !\n",
            "\n",
            "[%] Downloading Image #546 from https://cdn.copymethat.com/media/instant_pot_sweet_potatoes_pressure_cook_20240331005657686491pnaauw.jpg\n"
          ]
        },
        {
          "output_type": "stream",
          "name": "stderr",
          "text": [
            " 64%|\u001b[32m███████████████████████▊             \u001b[0m 850 MB| Download Speed  3.05MB/s | Estimated Time:  01:39\u001b[0m"
          ]
        },
        {
          "output_type": "stream",
          "name": "stdout",
          "text": [
            "[%] File Downloaded !\n",
            "\n",
            "[%] Downloading Image #547 from https://evuecezehrh.exactdn.com/wp-content/uploads/2021/12/Best-Easy-Instant-Pot-Pot-Roast-story-0.jpg\n",
            "[%] File Downloaded !\n",
            "\n"
          ]
        },
        {
          "output_type": "stream",
          "name": "stderr",
          "text": [
            "\r 64%|\u001b[32m███████████████████████▊             \u001b[0m 850 MB| Download Speed  3.01MB/s | Estimated Time:  01:40\u001b[0m"
          ]
        },
        {
          "output_type": "stream",
          "name": "stdout",
          "text": [
            "[%] Downloading Image #548 from https://www.wellplated.com/wp-content/uploads/2015/10/The-BEST-Slow-Cooker-Turkey-Chili-with-Quinoa-Sweet-Potatoes-and-Black-Beans.jpg\n",
            "[%] File Downloaded !\n",
            "\n"
          ]
        },
        {
          "output_type": "stream",
          "name": "stderr",
          "text": [
            "\r 65%|\u001b[32m███████████████████████▉             \u001b[0m 850 MB| Download Speed  2.09MB/s | Estimated Time:  02:23\u001b[0m"
          ]
        },
        {
          "output_type": "stream",
          "name": "stdout",
          "text": [
            "[%] Downloading Image #549 from https://www.thespruceeats.com/thmb/mQn2YK8mKTJuBZ4IEeblRqWR-I8=/1500x0/filters:no_upscale():max_bytes(150000):strip_icc()/pete_sweetpotatofries-9b14fb0d86864ed2a94ee3c31d5d88d1.jpg\n",
            "[%] File Downloaded !\n",
            "\n"
          ]
        },
        {
          "output_type": "stream",
          "name": "stderr",
          "text": [
            "ERROR:root:Invalid image, not saving https://images.carbmanager.com/WWU40rhukS_ipgmrEZt5lbyh20E2xwbeZSZZB4c0E6w/resize:fit:1200/L25jYWNoZS01NzkzZC5hcHBzcG90LmNvbS9vL2YyOGRjZDU2LThmMWQtODU4NC01NGY1LWUwNDU1Y2NhZGI0OS5qcGVnP2FsdD1tZWRpYSZ0b2tlbj1mM2NhZTA4Ny1iZTRiLTRjNGMtOTgzZi1kNDFkMTMyZWEyMWU\n",
            "ERROR:root:Issue getting: https://images.carbmanager.com/WWU40rhukS_ipgmrEZt5lbyh20E2xwbeZSZZB4c0E6w/resize:fit:1200/L25jYWNoZS01NzkzZC5hcHBzcG90LmNvbS9vL2YyOGRjZDU2LThmMWQtODU4NC01NGY1LWUwNDU1Y2NhZGI0OS5qcGVnP2FsdD1tZWRpYSZ0b2tlbj1mM2NhZTA4Ny1iZTRiLTRjNGMtOTgzZi1kNDFkMTMyZWEyMWU\n",
            "Error: Invalid image, not saving https://images.carbmanager.com/WWU40rhukS_ipgmrEZt5lbyh20E2xwbeZSZZB4c0E6w/resize:fit:1200/L25jYWNoZS01NzkzZC5hcHBzcG90LmNvbS9vL2YyOGRjZDU2LThmMWQtODU4NC01NGY1LWUwNDU1Y2NhZGI0OS5qcGVnP2FsdD1tZWRpYSZ0b2tlbj1mM2NhZTA4Ny1iZTRiLTRjNGMtOTgzZi1kNDFkMTMyZWEyMWU\n"
          ]
        },
        {
          "output_type": "stream",
          "name": "stdout",
          "text": [
            "[%] Downloading Image #550 from https://images.carbmanager.com/WWU40rhukS_ipgmrEZt5lbyh20E2xwbeZSZZB4c0E6w/resize:fit:1200/L25jYWNoZS01NzkzZC5hcHBzcG90LmNvbS9vL2YyOGRjZDU2LThmMWQtODU4NC01NGY1LWUwNDU1Y2NhZGI0OS5qcGVnP2FsdD1tZWRpYSZ0b2tlbj1mM2NhZTA4Ny1iZTRiLTRjNGMtOTgzZi1kNDFkMTMyZWEyMWU\n"
          ]
        },
        {
          "output_type": "stream",
          "name": "stderr",
          "text": [
            "ERROR:root:Issue getting: https://novapublishers.com/wp-content/uploads/2020/08/9781536186116-1000x1511.jpg\n",
            "Error: Remote end closed connection without response\n"
          ]
        },
        {
          "output_type": "stream",
          "name": "stdout",
          "text": [
            "[%] Downloading Image #550 from https://novapublishers.com/wp-content/uploads/2020/08/9781536186116-1000x1511.jpg\n"
          ]
        },
        {
          "output_type": "stream",
          "name": "stderr",
          "text": [
            "\r 65%|\u001b[32m███████████████████████▉             \u001b[0m 850 MB| Download Speed  1.43MB/s | Estimated Time:  03:29\u001b[0m"
          ]
        },
        {
          "output_type": "stream",
          "name": "stdout",
          "text": [
            "[%] Downloading Image #550 from https://i.pinimg.com/736x/d6/e0/e2/d6e0e2cc8d71bb47f1251b7ea1ef14cf.jpg\n",
            "[%] File Downloaded !\n",
            "\n",
            "[%] Downloading Image #551 from https://www.runningtothekitchen.com/wp-content/uploads/2020/10/roasted_stokes_purple_sweet_potatoes-5.jpg\n"
          ]
        },
        {
          "output_type": "stream",
          "name": "stderr",
          "text": [
            "\r 65%|\u001b[32m███████████████████████▉             \u001b[0m 850 MB| Download Speed  1.79MB/s | Estimated Time:  02:46\u001b[0mERROR:root:Issue getting: https://media.gettyimages.com/id/533530623/video/a-tractor-moves-through-sweet-potato-fields.jpg?s=640x640&amp;k=20&amp;c=EHMfOtWf13t1xMIodj9isZ5J4t4f9rLfaB5gIdXMksk=\n",
            "Error: 'Bing' object has no attribute 'sources'\n",
            "ERROR:root:Issue getting: https://media.gettyimages.com/id/1281911316/video/young-man-holding-sweet-potato-and-smiling-in-the-fields.jpg?s=640x640&amp;k=20&amp;c=Pez_Gd1mYXae6RR2KNQEKbHW3qphhxml3l556Bi9VMA=\n",
            "Error: 'Bing' object has no attribute 'sources'\n",
            "ERROR:root:Issue getting: https://photos.prontohomedelivery.com/media/Pro Shop Pics/apics1/Bread/LOven Fresh Potato Sandwich Rolls.jpg\n",
            "Error: URL can't contain control characters. '/media/Pro Shop Pics/apics1/Bread/LOven Fresh Potato Sandwich Rolls.jpg' (found at least ' ')\n"
          ]
        },
        {
          "output_type": "stream",
          "name": "stdout",
          "text": [
            "[%] File Downloaded !\n",
            "\n",
            "[%] Downloading Image #552 from https://media.gettyimages.com/id/533530623/video/a-tractor-moves-through-sweet-potato-fields.jpg?s=640x640&amp;k=20&amp;c=EHMfOtWf13t1xMIodj9isZ5J4t4f9rLfaB5gIdXMksk=\n",
            "[%] Downloading Image #552 from https://media.gettyimages.com/id/1281911316/video/young-man-holding-sweet-potato-and-smiling-in-the-fields.jpg?s=640x640&amp;k=20&amp;c=Pez_Gd1mYXae6RR2KNQEKbHW3qphhxml3l556Bi9VMA=\n",
            "[%] Downloading Image #552 from https://photos.prontohomedelivery.com/media/Pro Shop Pics/apics1/Bread/LOven Fresh Potato Sandwich Rolls.jpg\n",
            "[%] Downloading Image #552 from https://i5.walmartimages.com/seo/YHAIOGS-Potato-Mashers-Stainless-Steel-Easy-to-Clean-Masher-for-Mashed-Potatoes-Sweet-Potatoes-Vegetables-Baby-Food-and-Dishwasher_30255d95-d644-414b-8616-243ebf89de90.72e01591cd2b879a7b006108a7c9970b.jpeg\n"
          ]
        },
        {
          "output_type": "stream",
          "name": "stderr",
          "text": [
            " 65%|\u001b[32m████████████████████████             \u001b[0m 850 MB| Download Speed  2.55MB/s | Estimated Time:  01:56\u001b[0m"
          ]
        },
        {
          "output_type": "stream",
          "name": "stdout",
          "text": [
            "[%] File Downloaded !\n",
            "\n",
            "[%] Downloading Image #553 from https://source.roboflow.com/kHIYC9734MRgtf0iRgV3AGAQy7g2/20bsCMrhzcJF5MXuzGW6/annotation-sweet_potato.png?v=0\n",
            "[%] File Downloaded !\n",
            "\n",
            "[%] Downloading Image #554 from https://source.roboflow.com/kHIYC9734MRgtf0iRgV3AGAQy7g2/1HIPBuwDClOnttOmtrNt/annotation-sweet_potato.png?v=0\n"
          ]
        },
        {
          "output_type": "stream",
          "name": "stderr",
          "text": [
            "\r 65%|\u001b[32m████████████████████████             \u001b[0m 850 MB| Download Speed  3.16MB/s | Estimated Time:  01:33\u001b[0m"
          ]
        },
        {
          "output_type": "stream",
          "name": "stdout",
          "text": [
            "[%] File Downloaded !\n",
            "\n"
          ]
        },
        {
          "output_type": "stream",
          "name": "stderr",
          "text": [
            "\r 65%|\u001b[32m████████████████████████▏            \u001b[0m 850 MB| Download Speed  2.56MB/s | Estimated Time:  01:55\u001b[0m"
          ]
        },
        {
          "output_type": "stream",
          "name": "stdout",
          "text": [
            "[%] Downloading Image #555 from https://drivemehungry.com/wp-content/uploads/2021/07/baked-korean-sweet-potatoes-11.jpg\n",
            "[%] File Downloaded !\n",
            "\n",
            "[%] Downloading Image #556 from https://www.coles.com.au/content/dam/coles/inspire-create/nov21-images/November21-chicken-and-caramelised-onion-stuffed-sweet-potato-976x549.jpg\n"
          ]
        },
        {
          "output_type": "stream",
          "name": "stderr",
          "text": [
            "ERROR:root:Issue getting: https://www.coles.com.au/content/dam/coles/inspire-create/nov21-images/November21-chicken-and-caramelised-onion-stuffed-sweet-potato-976x549.jpg\n",
            "Error: 'Bing' object has no attribute 'sources'\n"
          ]
        },
        {
          "output_type": "stream",
          "name": "stdout",
          "text": [
            "[%] Downloading Image #556 from https://www.bakedbyanintrovert.com/wp-content/uploads/2016/02/sweet-potato-scones-11.jpg\n"
          ]
        },
        {
          "output_type": "stream",
          "name": "stderr",
          "text": [
            "\r 65%|\u001b[32m████████████████████████▏            \u001b[0m 850 MB| Download Speed  1.57MB/s | Estimated Time:  03:07\u001b[0m"
          ]
        },
        {
          "output_type": "stream",
          "name": "stdout",
          "text": [
            "[%] File Downloaded !\n",
            "\n",
            "[%] Downloading Image #557 from https://dxbnewsnetwork.com/upload/upload/2024/05/23/sweet-vs-regular-potatoes-dish-bestnewschanneluae.png\n"
          ]
        },
        {
          "output_type": "stream",
          "name": "stderr",
          "text": [
            "\r 66%|\u001b[32m████████████████████████▏            \u001b[0m 850 MB| Download Speed  1.05MB/s | Estimated Time:  04:39\u001b[0mERROR:root:Issue getting: https://media.gettyimages.com/id/1282752629/video/young-man-harvesting-sweet-potato-in-the-fields.jpg?s=640x640&amp;k=20&amp;c=kxIFIEZAbuWCQ08dr6NbzTTYbLLUtTnHJ9fwIFJ4udY=\n",
            "Error: 'Bing' object has no attribute 'sources'\n"
          ]
        },
        {
          "output_type": "stream",
          "name": "stdout",
          "text": [
            "[%] File Downloaded !\n",
            "\n",
            "[%] Downloading Image #558 from https://media.gettyimages.com/id/1282752629/video/young-man-harvesting-sweet-potato-in-the-fields.jpg?s=640x640&amp;k=20&amp;c=kxIFIEZAbuWCQ08dr6NbzTTYbLLUtTnHJ9fwIFJ4udY=\n",
            "[%] Downloading Image #558 from https://universe.roboflow.com/_sparkline.svg?dataset=sweet-potato-leaf&amp;type=views\n"
          ]
        },
        {
          "output_type": "stream",
          "name": "stderr",
          "text": [
            "ERROR:root:Invalid image, not saving https://universe.roboflow.com/_sparkline.svg?dataset=sweet-potato-leaf&amp;type=views\n",
            "ERROR:root:Issue getting: https://universe.roboflow.com/_sparkline.svg?dataset=sweet-potato-leaf&amp;type=views\n",
            "Error: Invalid image, not saving https://universe.roboflow.com/_sparkline.svg?dataset=sweet-potato-leaf&amp;type=views\n"
          ]
        },
        {
          "output_type": "stream",
          "name": "stdout",
          "text": [
            "[%] Downloading Image #558 from https://cdn.copymethat.com/media/oven_roasted_purple_sweet_potatoes_20240523074345328744y3qwwv.jpg\n"
          ]
        },
        {
          "output_type": "stream",
          "name": "stderr",
          "text": [
            "\r 66%|\u001b[32m████████████████████████▎            \u001b[0m 850 MB| Download Speed  1.18s/MB | Estimated Time:  05:45\u001b[0m"
          ]
        },
        {
          "output_type": "stream",
          "name": "stdout",
          "text": [
            "[%] File Downloaded !\n",
            "\n"
          ]
        },
        {
          "output_type": "stream",
          "name": "stderr",
          "text": [
            "\r 66%|\u001b[32m████████████████████████▎            \u001b[0m 850 MB| Download Speed  1.08MB/s | Estimated Time:  04:28\u001b[0m"
          ]
        },
        {
          "output_type": "stream",
          "name": "stdout",
          "text": [
            "[%] Downloading Image #559 from https://slimfast.com/wp-content/uploads/2018/02/Sweet-Potato-Fries-1-487x600.jpg\n",
            "[%] File Downloaded !\n",
            "\n"
          ]
        },
        {
          "output_type": "stream",
          "name": "stderr",
          "text": [
            "\r 66%|\u001b[32m████████████████████████▍            \u001b[0m 850 MB| Download Speed  1.33MB/s | Estimated Time:  03:37\u001b[0m"
          ]
        },
        {
          "output_type": "stream",
          "name": "stdout",
          "text": [
            "[%] Downloading Image #560 from https://cookieandkate.com/images/2021/09/baked-sweet-potato-recipe-1.jpg\n",
            "[%] File Downloaded !\n",
            "\n"
          ]
        },
        {
          "output_type": "stream",
          "name": "stderr",
          "text": [
            "\r 66%|\u001b[32m████████████████████████▍            \u001b[0m 850 MB| Download Speed  1.56MB/s | Estimated Time:  03:05\u001b[0m"
          ]
        },
        {
          "output_type": "stream",
          "name": "stdout",
          "text": [
            "[%] Downloading Image #561 from https://www.runningtothekitchen.com/wp-content/uploads/2020/10/roasted_stokes_purple_sweet_potatoes-2.jpg\n",
            "[%] File Downloaded !\n",
            "\n"
          ]
        },
        {
          "output_type": "stream",
          "name": "stderr",
          "text": [
            "\r 66%|\u001b[32m████████████████████████▍            \u001b[0m 850 MB| Download Speed  1.81MB/s | Estimated Time:  02:39\u001b[0m"
          ]
        },
        {
          "output_type": "stream",
          "name": "stdout",
          "text": [
            "[%] Downloading Image #562 from https://www.eatingbirdfood.com/wp-content/uploads/2023/11/baked-sweet-potato-hero.jpg\n",
            "[%] File Downloaded !\n",
            "\n",
            "[%] Downloading Image #563 from https://cdn.loveandlemons.com/wp-content/uploads/2017/10/IMG_0071.jpg\n",
            "[%] File Downloaded !\n",
            "\n"
          ]
        },
        {
          "output_type": "stream",
          "name": "stderr",
          "text": [
            "\r 66%|\u001b[32m████████████████████████▌            \u001b[0m 850 MB| Download Speed  2.61MB/s | Estimated Time:  01:49\u001b[0m"
          ]
        },
        {
          "output_type": "stream",
          "name": "stdout",
          "text": [
            "[%] Downloading Image #564 from https://drivemehungry.com/wp-content/uploads/2021/07/baked-korean-sweet-potatoes-12.jpg\n",
            "[%] File Downloaded !\n",
            "\n"
          ]
        },
        {
          "output_type": "stream",
          "name": "stderr",
          "text": [
            "\r 66%|\u001b[32m████████████████████████▌            \u001b[0m 850 MB| Download Speed  2.61MB/s | Estimated Time:  01:49\u001b[0m"
          ]
        },
        {
          "output_type": "stream",
          "name": "stdout",
          "text": [
            "[%] Downloading Image #565 from https://i.pinimg.com/736x/db/82/cb/db82cb0fa635f56cdbb5686a8bf3b69f.jpg\n",
            "[%] File Downloaded !\n",
            "\n"
          ]
        },
        {
          "output_type": "stream",
          "name": "stderr",
          "text": [
            "\r 67%|\u001b[32m████████████████████████▋            \u001b[0m 850 MB| Download Speed  2.64MB/s | Estimated Time:  01:47\u001b[0m"
          ]
        },
        {
          "output_type": "stream",
          "name": "stdout",
          "text": [
            "[%] Downloading Image #566 from https://flouronmyface.com/wp-content/uploads/2023/03/crock_pot_baked_sweet_potatoes-500x375.jpg\n",
            "[%] File Downloaded !\n",
            "\n",
            "[%] Downloading Image #567 from https://www.chewoutloud.com/wp-content/uploads/2017/01/chicken-sweet-potato-and-coconut-stew-1.jpg\n"
          ]
        },
        {
          "output_type": "stream",
          "name": "stderr",
          "text": [
            "\r 67%|\u001b[32m████████████████████████▋            \u001b[0m 850 MB| Download Speed  2.74MB/s | Estimated Time:  01:43\u001b[0m"
          ]
        },
        {
          "output_type": "stream",
          "name": "stdout",
          "text": [
            "[%] File Downloaded !\n",
            "\n",
            "[%] Downloading Image #568 from https://i.pinimg.com/736x/83/11/ee/8311ee0d66f6ff3bbb246c89ab5551d5.jpg\n"
          ]
        },
        {
          "output_type": "stream",
          "name": "stderr",
          "text": [
            "\r 67%|\u001b[32m████████████████████████▋            \u001b[0m 850 MB| Download Speed  3.10MB/s | Estimated Time:  01:31\u001b[0m"
          ]
        },
        {
          "output_type": "stream",
          "name": "stdout",
          "text": [
            "[%] File Downloaded !\n",
            "\n",
            "[%] Downloading Image #569 from https://images.wfmstatic.com/image/upload/c_scale,q_80,w_250/spice/products/189752_2024_CEN_eCommerce_SummerSeasonalCatering_ChiliLimeSweetPotatoes_SummerPicks.jpg\n"
          ]
        },
        {
          "output_type": "stream",
          "name": "stderr",
          "text": [
            "\r 67%|\u001b[32m████████████████████████▊            \u001b[0m 850 MB| Download Speed  1.73MB/s | Estimated Time:  02:42\u001b[0m"
          ]
        },
        {
          "output_type": "stream",
          "name": "stdout",
          "text": [
            "[%] File Downloaded !\n",
            "\n"
          ]
        },
        {
          "output_type": "stream",
          "name": "stderr",
          "text": [
            "ERROR:root:Issue getting: http://empoweredsustenance.com/wp-content/uploads/2014/05/bake-sweet-potato.jpg\n",
            "Error: Remote end closed connection without response\n"
          ]
        },
        {
          "output_type": "stream",
          "name": "stdout",
          "text": [
            "[%] Downloading Image #570 from http://empoweredsustenance.com/wp-content/uploads/2014/05/bake-sweet-potato.jpg\n",
            "[%] Downloading Image #570 from https://fitfastfoodprep.com/cdn/shop/files/Crispy-and-Cubed-Roasted-Sweet-Potato-Featured_530x@2x.jpg?v=1702495697\n"
          ]
        },
        {
          "output_type": "stream",
          "name": "stderr",
          "text": [
            "\r 67%|\u001b[32m████████████████████████▊            \u001b[0m 850 MB| Download Speed  1.43MB/s | Estimated Time:  03:16\u001b[0m"
          ]
        },
        {
          "output_type": "stream",
          "name": "stdout",
          "text": [
            "[%] File Downloaded !\n",
            "\n"
          ]
        },
        {
          "output_type": "stream",
          "name": "stderr",
          "text": [
            "\r 67%|\u001b[32m████████████████████████▊            \u001b[0m 850 MB| Download Speed  1.28MB/s | Estimated Time:  03:37\u001b[0m"
          ]
        },
        {
          "output_type": "stream",
          "name": "stdout",
          "text": [
            "[%] Downloading Image #571 from https://thumbs.dreamstime.com/b/natural-organic-fresh-potatoes-harvest-field-ai-natural-organic-fresh-potatoes-harvest-278306925.jpg\n",
            "[%] File Downloaded !\n",
            "\n",
            "[%] Downloading Image #572 from https://thumbs.dreamstime.com/b/fresh-potatoes-37198556.jpg\n"
          ]
        },
        {
          "output_type": "stream",
          "name": "stderr",
          "text": [
            "\r 67%|\u001b[32m████████████████████████▉            \u001b[0m 850 MB| Download Speed  2.06MB/s | Estimated Time:  02:14\u001b[0m"
          ]
        },
        {
          "output_type": "stream",
          "name": "stdout",
          "text": [
            "[%] File Downloaded !\n",
            "\n",
            "[%] Downloading Image #573 from https://www.publicdomainpictures.net/pictures/230000/velka/garden-fresh-potatoes.jpg\n",
            "[%] File Downloaded !\n",
            "\n",
            "[%] Downloading Image #574 from https://thumbs.dreamstime.com/z/fresh-potatoes-basket-grass-organic-vegetables-concept-garden-cottage-harvest-fresh-potatoes-basket-161097140.jpg\n"
          ]
        },
        {
          "output_type": "stream",
          "name": "stderr",
          "text": [
            " 68%|\u001b[32m█████████████████████████            \u001b[0m 850 MB| Download Speed  2.38MB/s | Estimated Time:  01:55\u001b[0m"
          ]
        },
        {
          "output_type": "stream",
          "name": "stdout",
          "text": [
            "[%] File Downloaded !\n",
            "\n",
            "[%] Downloading Image #575 from https://thumbs.dreamstime.com/b/fresh-potatoes-12875890.jpg\n",
            "[%] File Downloaded !\n",
            "\n",
            "[%] Downloading Image #576 from https://thumbs.dreamstime.com/b/fresh-potatoes-garden-3972082.jpg\n"
          ]
        },
        {
          "output_type": "stream",
          "name": "stderr",
          "text": [
            "\r 68%|\u001b[32m█████████████████████████            \u001b[0m 850 MB| Download Speed  3.59MB/s | Estimated Time:  01:16\u001b[0m"
          ]
        },
        {
          "output_type": "stream",
          "name": "stdout",
          "text": [
            "[%] File Downloaded !\n",
            "\n",
            "[%] Downloading Image #577 from https://thumbs.dreamstime.com/b/fresh-potatoes-white-23746613.jpg\n",
            "[%] File Downloaded !\n",
            "\n",
            "[%] Downloading Image #578 from https://www.tasteofhome.com/wp-content/uploads/2018/01/exps177389_SD143205B01_28_5bC_RMS-2.jpg?fit=700\n"
          ]
        },
        {
          "output_type": "stream",
          "name": "stderr",
          "text": [
            "\r 68%|\u001b[32m█████████████████████████▏           \u001b[0m 850 MB| Download Speed  2.78MB/s | Estimated Time:  01:37\u001b[0m"
          ]
        },
        {
          "output_type": "stream",
          "name": "stdout",
          "text": [
            "[%] File Downloaded !\n",
            "\n",
            "[%] Downloading Image #579 from https://c8.alamy.com/comp/JM2BRR/harvesting-potatoes-female-farmer-hold-heap-fresh-potato-in-her-hand-JM2BRR.jpg\n"
          ]
        },
        {
          "output_type": "stream",
          "name": "stderr",
          "text": [
            " 68%|\u001b[32m█████████████████████████▏           \u001b[0m 850 MB| Download Speed  3.26MB/s | Estimated Time:  01:22\u001b[0m"
          ]
        },
        {
          "output_type": "stream",
          "name": "stdout",
          "text": [
            "[%] File Downloaded !\n",
            "\n",
            "[%] Downloading Image #580 from https://thumbs.dreamstime.com/b/fresh-potatoes-24443837.jpg\n",
            "[%] File Downloaded !\n",
            "\n",
            "[%] Downloading Image #581 from https://thumbs.dreamstime.com/b/two-different-fresh-potatoes-isolated-white-background-35116277.jpg\n",
            "[%] File Downloaded !\n",
            "\n",
            "[%] Downloading Image #582 from https://healthyfood-egypt.com/wp-content/uploads/2020/04/Fresh-potatoes2-400x240.png\n"
          ]
        },
        {
          "output_type": "stream",
          "name": "stderr",
          "text": [
            " 69%|\u001b[32m█████████████████████████▍           \u001b[0m 850 MB| Download Speed  3.58MB/s | Estimated Time:  01:14\u001b[0m"
          ]
        },
        {
          "output_type": "stream",
          "name": "stdout",
          "text": [
            "[%] File Downloaded !\n",
            "\n",
            "[%] Downloading Image #583 from https://thumbs.dreamstime.com/b/fresh-farm-potatoes-17906240.jpg\n",
            "[%] File Downloaded !\n",
            "\n",
            "[%] Downloading Image #584 from https://thumbs.dreamstime.com/b/fresh-potatoes-15209609.jpg\n",
            "[%] File Downloaded !\n",
            "\n",
            "[%] Downloading Image #585 from https://image.ec21.com/image/velimirivan/oimg_GC09997132_CA10017259/Fresh-Potatoes.jpg\n"
          ]
        },
        {
          "output_type": "stream",
          "name": "stderr",
          "text": [
            "\r 69%|\u001b[32m█████████████████████████▍           \u001b[0m 850 MB| Download Speed  2.95MB/s | Estimated Time:  01:29\u001b[0m"
          ]
        },
        {
          "output_type": "stream",
          "name": "stdout",
          "text": [
            "[%] File Downloaded !\n",
            "\n",
            "[%] Downloading Image #586 from https://2.imimg.com/data2/GK/JH/MY-3481820/fresh-potatoes-1000x1000.jpg\n"
          ]
        },
        {
          "output_type": "stream",
          "name": "stderr",
          "text": [
            "\r 69%|\u001b[32m█████████████████████████▌           \u001b[0m 850 MB| Download Speed  2.29MB/s | Estimated Time:  01:55\u001b[0m"
          ]
        },
        {
          "output_type": "stream",
          "name": "stdout",
          "text": [
            "[%] File Downloaded !\n",
            "\n",
            "[%] Downloading Image #587 from https://i.pinimg.com/736x/d8/b6/cd/d8b6cde65f9692b639b8727870cf659e.jpg\n",
            "[%] File Downloaded !\n",
            "\n",
            "[%] Downloading Image #588 from https://5.imimg.com/data5/GLADMIN/Default/2021/3/NK/LC/AF/14319258/fresh-potatoes-500x500.jpg\n"
          ]
        },
        {
          "output_type": "stream",
          "name": "stderr",
          "text": [
            "\r 69%|\u001b[32m█████████████████████████▌           \u001b[0m 850 MB| Download Speed  2.33MB/s | Estimated Time:  01:52\u001b[0m"
          ]
        },
        {
          "output_type": "stream",
          "name": "stdout",
          "text": [
            "[%] File Downloaded !\n",
            "\n",
            "[%] Downloading Image #589 from https://2.imimg.com/data2/SA/RS/MY-4231475/fresh-potatoes-250x250.jpg\n"
          ]
        },
        {
          "output_type": "stream",
          "name": "stderr",
          "text": [
            "\r 69%|\u001b[32m█████████████████████████▋           \u001b[0m 850 MB| Download Speed  2.01MB/s | Estimated Time:  02:09\u001b[0m"
          ]
        },
        {
          "output_type": "stream",
          "name": "stdout",
          "text": [
            "[%] File Downloaded !\n",
            "\n",
            "[%] Downloading Image #590 from https://2.imimg.com/data2/PE/IN/MY-4306369/potato-250x250.jpg\n"
          ]
        },
        {
          "output_type": "stream",
          "name": "stderr",
          "text": [
            "\r 69%|\u001b[32m█████████████████████████▋           \u001b[0m 850 MB| Download Speed  2.20MB/s | Estimated Time:  01:58\u001b[0m"
          ]
        },
        {
          "output_type": "stream",
          "name": "stdout",
          "text": [
            "[%] File Downloaded !\n",
            "\n",
            "[%] Downloading Image #591 from https://2.imimg.com/data2/NX/GG/MY-1939822/fresh-potatoes-250x250.jpg\n"
          ]
        },
        {
          "output_type": "stream",
          "name": "stderr",
          "text": [
            "\r 70%|\u001b[32m█████████████████████████▋           \u001b[0m 850 MB| Download Speed  2.39MB/s | Estimated Time:  01:48\u001b[0m"
          ]
        },
        {
          "output_type": "stream",
          "name": "stdout",
          "text": [
            "[%] File Downloaded !\n",
            "\n",
            "[%] Downloading Image #592 from https://4.imimg.com/data4/OC/AT/MY-537049/fresh-potatoes-250x250.jpg\n"
          ]
        },
        {
          "output_type": "stream",
          "name": "stderr",
          "text": [
            "\r 70%|\u001b[32m█████████████████████████▊           \u001b[0m 850 MB| Download Speed  2.18MB/s | Estimated Time:  01:58\u001b[0m"
          ]
        },
        {
          "output_type": "stream",
          "name": "stdout",
          "text": [
            "[%] File Downloaded !\n",
            "\n",
            "[%] Downloading Image #593 from https://5.imimg.com/data5/XA/TD/MY-9203007/fresh-potatoes-250x250.jpg\n"
          ]
        },
        {
          "output_type": "stream",
          "name": "stderr",
          "text": [
            "\r 70%|\u001b[32m█████████████████████████▊           \u001b[0m 850 MB| Download Speed  2.39MB/s | Estimated Time:  01:47\u001b[0mERROR:root:Issue getting: https://external-preview.redd.it/4TYXYtOMz1Tv6YuDTFyGDcSF5wPBFiJZ5JeVeFHgvLI.jpg?width=960&amp;crop=smart&amp;auto=webp&amp;s=25f010e8b0d554c3344a294cac49eb3601e691fa\n",
            "Error: 'Bing' object has no attribute 'sources'\n"
          ]
        },
        {
          "output_type": "stream",
          "name": "stdout",
          "text": [
            "[%] File Downloaded !\n",
            "\n",
            "[%] Downloading Image #594 from https://external-preview.redd.it/4TYXYtOMz1Tv6YuDTFyGDcSF5wPBFiJZ5JeVeFHgvLI.jpg?width=960&amp;crop=smart&amp;auto=webp&amp;s=25f010e8b0d554c3344a294cac49eb3601e691fa\n"
          ]
        },
        {
          "output_type": "stream",
          "name": "stderr",
          "text": [
            "\r 70%|\u001b[32m█████████████████████████▊           \u001b[0m 850 MB| Download Speed  2.44MB/s | Estimated Time:  01:45\u001b[0m"
          ]
        },
        {
          "output_type": "stream",
          "name": "stdout",
          "text": [
            "[%] Downloading Image #594 from https://www.collinsdictionary.com/images/thumb/sweetpotato_80150995_250.jpg?version=6.0.11\n",
            "[%] File Downloaded !\n",
            "\n",
            "[%] Downloading Image #595 from https://broadpick.com/wp-content/uploads/2024/05/which-is-better-sweet-potato-or-baked-potato.jpg\n"
          ]
        },
        {
          "output_type": "stream",
          "name": "stderr",
          "text": [
            "\r 70%|\u001b[32m█████████████████████████▉           \u001b[0m 850 MB| Download Speed  1.81MB/s | Estimated Time:  02:21\u001b[0m"
          ]
        },
        {
          "output_type": "stream",
          "name": "stdout",
          "text": [
            "[%] File Downloaded !\n",
            "\n",
            "[%] Downloading Image #596 from https://www.vijesti.me/data/images/2024/05/23/22/5569091_shutterstock-708771925_ls.jpg\n"
          ]
        },
        {
          "output_type": "stream",
          "name": "stderr",
          "text": [
            "\r 70%|\u001b[32m█████████████████████████▉           \u001b[0m 850 MB| Download Speed  1.11MB/s | Estimated Time:  03:49\u001b[0m"
          ]
        },
        {
          "output_type": "stream",
          "name": "stdout",
          "text": [
            "[%] File Downloaded !\n",
            "\n",
            "[%] Downloading Image #597 from https://www.runningtothekitchen.com/wp-content/uploads/2021/07/purple-sweet-potato-fries-6.jpg\n"
          ]
        },
        {
          "output_type": "stream",
          "name": "stderr",
          "text": [
            "\r 70%|\u001b[32m█████████████████████████▉           \u001b[0m 850 MB| Download Speed  1.43MB/s | Estimated Time:  02:57\u001b[0m"
          ]
        },
        {
          "output_type": "stream",
          "name": "stdout",
          "text": [
            "[%] File Downloaded !\n",
            "\n",
            "[%] Downloading Image #598 from https://media.gettyimages.com/id/475326016/video/sweet-potato-field.jpg?s=640x640&amp;k=20&amp;c=UdasK0b_3-3p-WTlfeQGZNRXFCxsAXurLj5on9qs2WQ=\n"
          ]
        },
        {
          "output_type": "stream",
          "name": "stderr",
          "text": [
            "ERROR:root:Issue getting: https://media.gettyimages.com/id/475326016/video/sweet-potato-field.jpg?s=640x640&amp;k=20&amp;c=UdasK0b_3-3p-WTlfeQGZNRXFCxsAXurLj5on9qs2WQ=\n",
            "Error: 'Bing' object has no attribute 'sources'\n"
          ]
        },
        {
          "output_type": "stream",
          "name": "stdout",
          "text": [
            "[%] Downloading Image #598 from https://lh3.googleusercontent.com/blogger_img_proxy/AEn0k_vREXbyGImMbRoJA-MgF_LuO-quEVBeMRIiDdk5BafkdULh0plLZPy5edVJAzSodCh7y3v0xDJ1fiIyCxbDve44O_bjKxzH0kNv2yljI5QQ1pg3wE28a8ny4MQyg6J_Y2zM53fzc2pNKd52YeNb-uQ_mOLeU2cPT7ukEE9RclyBSgzjazuS5x_woMlAjKns=w1200-h630-p-k-no-nu\n"
          ]
        },
        {
          "output_type": "stream",
          "name": "stderr",
          "text": [
            "\r 70%|\u001b[32m██████████████████████████           \u001b[0m 850 MB| Download Speed  1.04MB/s | Estimated Time:  04:02\u001b[0mERROR:root:Invalid image, not saving https://www.bigbasket.com/media/uploads/p/s/50000556-4_1-fresho-sweet-potato-organically-grown.jpg\n",
            "ERROR:root:Issue getting: https://www.bigbasket.com/media/uploads/p/s/50000556-4_1-fresho-sweet-potato-organically-grown.jpg\n",
            "Error: Invalid image, not saving https://www.bigbasket.com/media/uploads/p/s/50000556-4_1-fresho-sweet-potato-organically-grown.jpg\n"
          ]
        },
        {
          "output_type": "stream",
          "name": "stdout",
          "text": [
            "[%] File Downloaded !\n",
            "\n",
            "[%] Downloading Image #599 from https://www.bigbasket.com/media/uploads/p/s/50000556-4_1-fresho-sweet-potato-organically-grown.jpg\n",
            "[%] Downloading Image #599 from https://www.friedas.com/wp-content/uploads/2013/05/Friedas_PurpleSweetPotatoOvenFries_Recipe.jpg\n"
          ]
        },
        {
          "output_type": "stream",
          "name": "stderr",
          "text": [
            "\r 70%|\u001b[32m██████████████████████████           \u001b[0m 850 MB| Download Speed  1.27MB/s | Estimated Time:  03:18\u001b[0m"
          ]
        },
        {
          "output_type": "stream",
          "name": "stdout",
          "text": [
            "[%] File Downloaded !\n",
            "\n",
            "[%] Downloading Image #600 from https://static.toiimg.com/thumb/msid-103935940,width-960,height-1280,resizemode-6.cms\n"
          ]
        },
        {
          "output_type": "stream",
          "name": "stderr",
          "text": [
            "\r 71%|\u001b[32m██████████████████████████           \u001b[0m 850 MB| Download Speed  1.20MB/s | Estimated Time:  03:27\u001b[0m"
          ]
        },
        {
          "output_type": "stream",
          "name": "stdout",
          "text": [
            "[%] File Downloaded !\n",
            "\n",
            "[%] Downloading Image #601 from https://www.bigbasket.com/media/uploads/p/l/40048448_6-fresho-potato-chandramukhi.jpg\n"
          ]
        },
        {
          "output_type": "stream",
          "name": "stderr",
          "text": [
            "ERROR:root:Invalid image, not saving https://www.bigbasket.com/media/uploads/p/l/40048448_6-fresho-potato-chandramukhi.jpg\n",
            "ERROR:root:Issue getting: https://www.bigbasket.com/media/uploads/p/l/40048448_6-fresho-potato-chandramukhi.jpg\n",
            "Error: Invalid image, not saving https://www.bigbasket.com/media/uploads/p/l/40048448_6-fresho-potato-chandramukhi.jpg\n"
          ]
        },
        {
          "output_type": "stream",
          "name": "stdout",
          "text": [
            "[%] Downloading Image #601 from https://www.shutterstock.com/image-photo/different-types-potatoes-sweet-potato-260nw-1942762621.jpg\n"
          ]
        },
        {
          "output_type": "stream",
          "name": "stderr",
          "text": [
            "ERROR:root:Invalid image, not saving https://www.shutterstock.com/image-photo/different-types-potatoes-sweet-potato-260nw-1942762621.jpg\n",
            "ERROR:root:Issue getting: https://www.shutterstock.com/image-photo/different-types-potatoes-sweet-potato-260nw-1942762621.jpg\n",
            "Error: Invalid image, not saving https://www.shutterstock.com/image-photo/different-types-potatoes-sweet-potato-260nw-1942762621.jpg\n"
          ]
        },
        {
          "output_type": "stream",
          "name": "stdout",
          "text": [
            "[%] Downloading Image #601 from https://recipes.net/wp-content/uploads/2024/01/how-to-season-purple-sweet-potatoes-1705224280.jpeg\n"
          ]
        },
        {
          "output_type": "stream",
          "name": "stderr",
          "text": [
            "\r 71%|\u001b[32m██████████████████████████▏          \u001b[0m 850 MB| Download Speed  1.19MB/s | Estimated Time:  03:30\u001b[0m"
          ]
        },
        {
          "output_type": "stream",
          "name": "stdout",
          "text": [
            "[%] File Downloaded !\n",
            "\n",
            "[%] Downloading Image #602 from https://munchmealsbyjanet.com/wp-content/uploads/2020/10/IMG_0324-2-500x500.jpg?crop=1\n"
          ]
        },
        {
          "output_type": "stream",
          "name": "stderr",
          "text": [
            "\r 71%|\u001b[32m██████████████████████████▏          \u001b[0m 850 MB| Download Speed  1.44MB/s | Estimated Time:  02:51\u001b[0m"
          ]
        },
        {
          "output_type": "stream",
          "name": "stdout",
          "text": [
            "[%] File Downloaded !\n",
            "\n",
            "[%] Downloading Image #603 from https://www.bevivafoods.com/cdn/shop/articles/The_Anti-Cancer_Properties_of_Purple_Sweet_Potatoes_1200x.jpg?v=1579533591\n"
          ]
        },
        {
          "output_type": "stream",
          "name": "stderr",
          "text": [
            "\r 71%|\u001b[32m██████████████████████████▏          \u001b[0m 850 MB| Download Speed  1.53MB/s | Estimated Time:  02:41\u001b[0m"
          ]
        },
        {
          "output_type": "stream",
          "name": "stdout",
          "text": [
            "[%] File Downloaded !\n",
            "\n",
            "[%] Downloading Image #604 from https://i5.walmartimages.com/seo/Sales-Today-Clearance-Potato-Masher-Mashed-Potatoes-Masher-Kitchen-Tool-For-PotatoeAvocado-Sweet-Potato-Beans_703ac63d-2462-4eca-aff5-d1e4e73a2496.80faf295cac418bfebd88fc6f73db451.jpeg\n"
          ]
        },
        {
          "output_type": "stream",
          "name": "stderr",
          "text": [
            "\r 71%|\u001b[32m██████████████████████████▎          \u001b[0m 850 MB| Download Speed  1.62MB/s | Estimated Time:  02:31\u001b[0m"
          ]
        },
        {
          "output_type": "stream",
          "name": "stdout",
          "text": [
            "[%] File Downloaded !\n",
            "\n",
            "[%] Downloading Image #605 from https://katykicker.com/wp-content/uploads/2023/01/Air-fryer-sweet-potato-fries-recipe.png\n"
          ]
        },
        {
          "output_type": "stream",
          "name": "stderr",
          "text": [
            "ERROR:root:Issue getting: https://katykicker.com/wp-content/uploads/2023/01/Air-fryer-sweet-potato-fries-recipe.png\n",
            "Error: 'Bing' object has no attribute 'sources'\n",
            " 71%|\u001b[32m██████████████████████████▎          \u001b[0m 850 MB| Download Speed  1.06MB/s | Estimated Time:  03:51\u001b[0m"
          ]
        },
        {
          "output_type": "stream",
          "name": "stdout",
          "text": [
            "[%] Downloading Image #605 from https://whiteonricecouple.com/recipe/images/sweet-potato-and-chocolate-bars-1.jpg\n",
            "[%] File Downloaded !\n",
            "\n",
            "[%] Downloading Image #606 from https://savoryspin.com/wp-content/uploads/2017/10/Easy-Blender-Made-Nutty-Sweet-Potato-Breakfast-Bars.jpg\n"
          ]
        },
        {
          "output_type": "stream",
          "name": "stderr",
          "text": [
            "\r 71%|\u001b[32m██████████████████████████▍          \u001b[0m 850 MB| Download Speed  1.43MB/s | Estimated Time:  02:51\u001b[0m"
          ]
        },
        {
          "output_type": "stream",
          "name": "stdout",
          "text": [
            "[%] File Downloaded !\n",
            "\n",
            "[%] Downloading Image #607 from https://3boysandadog.com/wp-content/uploads/2013/01/Chocolate-Chip-Sweet-Potato-Bars-recipe-4.jpg\n"
          ]
        },
        {
          "output_type": "stream",
          "name": "stderr",
          "text": [
            "\r 71%|\u001b[32m██████████████████████████▍          \u001b[0m 850 MB| Download Speed  1.68MB/s | Estimated Time:  02:24\u001b[0m"
          ]
        },
        {
          "output_type": "stream",
          "name": "stdout",
          "text": [
            "[%] File Downloaded !\n",
            "\n",
            "[%] Downloading Image #608 from https://www.frugalnutrition.com/wp-content/uploads/2019/07/Baked-Japanese-Sweet-Potatoes-Whole30-Frugal-Nutrition.jpg\n"
          ]
        },
        {
          "output_type": "stream",
          "name": "stderr",
          "text": [
            "\r 72%|\u001b[32m██████████████████████████▍          \u001b[0m 850 MB| Download Speed  1.49MB/s | Estimated Time:  02:42\u001b[0m"
          ]
        },
        {
          "output_type": "stream",
          "name": "stdout",
          "text": [
            "[%] File Downloaded !\n",
            "\n"
          ]
        },
        {
          "output_type": "stream",
          "name": "stderr",
          "text": [
            "ERROR:root:Issue getting: https://food.fnr.sndimg.com/content/dam/images/food/fullset/2015/12/3/1/DG0203H_Sweet-Potato-Salad_s4x3.jpg.rend.hgtvcom.406.305.suffix/1449512460728.jpeg\n",
            "Error: 'Bing' object has no attribute 'sources'\n"
          ]
        },
        {
          "output_type": "stream",
          "name": "stdout",
          "text": [
            "[%] Downloading Image #609 from https://food.fnr.sndimg.com/content/dam/images/food/fullset/2015/12/3/1/DG0203H_Sweet-Potato-Salad_s4x3.jpg.rend.hgtvcom.406.305.suffix/1449512460728.jpeg\n",
            "[%] Downloading Image #609 from https://www.delscookingtwist.com/wp-content/uploads/2020/01/Thai-Sweet-Potato-Soup_1.jpg\n"
          ]
        },
        {
          "output_type": "stream",
          "name": "stderr",
          "text": [
            "\r 72%|\u001b[32m██████████████████████████▌          \u001b[0m 850 MB| Download Speed  1.60MB/s | Estimated Time:  02:30\u001b[0m"
          ]
        },
        {
          "output_type": "stream",
          "name": "stdout",
          "text": [
            "[%] File Downloaded !\n",
            "\n"
          ]
        },
        {
          "output_type": "stream",
          "name": "stderr",
          "text": [
            "\r 72%|\u001b[32m██████████████████████████▌          \u001b[0m 850 MB| Download Speed  1.75MB/s | Estimated Time:  02:16\u001b[0m"
          ]
        },
        {
          "output_type": "stream",
          "name": "stdout",
          "text": [
            "[%] Downloading Image #610 from https://mykidslickthebowl.com/wp-content/uploads/2023/05/sweet-potato-puree-2.jpg\n",
            "[%] File Downloaded !\n",
            "\n",
            "[%] Downloading Image #611 from https://www.bigbasket.com/media/uploads/p/l/50000556_4-fresho-sweet-potato-organically-grown.jpg\n"
          ]
        },
        {
          "output_type": "stream",
          "name": "stderr",
          "text": [
            "\r 72%|\u001b[32m██████████████████████████▌          \u001b[0m 850 MB| Download Speed  1.34MB/s | Estimated Time:  02:57\u001b[0m"
          ]
        },
        {
          "output_type": "stream",
          "name": "stdout",
          "text": [
            "[%] File Downloaded !\n",
            "\n"
          ]
        },
        {
          "output_type": "stream",
          "name": "stderr",
          "text": [
            "ERROR:root:Invalid image, not saving https://recipes.net/wp-content/uploads/2023/07/spiced-chicken-spinach-sweet-potato-stew_d6ad8243f8464979da947f9ccdad2e3a.jpeg\n",
            "ERROR:root:Issue getting: https://recipes.net/wp-content/uploads/2023/07/spiced-chicken-spinach-sweet-potato-stew_d6ad8243f8464979da947f9ccdad2e3a.jpeg\n",
            "Error: Invalid image, not saving https://recipes.net/wp-content/uploads/2023/07/spiced-chicken-spinach-sweet-potato-stew_d6ad8243f8464979da947f9ccdad2e3a.jpeg\n",
            " 72%|\u001b[32m██████████████████████████▋          \u001b[0m 850 MB| Download Speed  1.39MB/s | Estimated Time:  02:51\u001b[0m"
          ]
        },
        {
          "output_type": "stream",
          "name": "stdout",
          "text": [
            "[%] Downloading Image #612 from https://recipes.net/wp-content/uploads/2023/07/spiced-chicken-spinach-sweet-potato-stew_d6ad8243f8464979da947f9ccdad2e3a.jpeg\n",
            "[%] Downloading Image #612 from https://bestrecipebox.com/images/Air-Fryer-Sweet-Potato-Fries-2-500x500.jpg\n",
            "[%] File Downloaded !\n",
            "\n",
            "[%] Downloading Image #613 from https://alwaysusebutter.com/wp-content/uploads/2022/01/AF-frozen-sweet-potato-fries-process-1.jpg\n"
          ]
        },
        {
          "output_type": "stream",
          "name": "stderr",
          "text": [
            "\r 72%|\u001b[32m██████████████████████████▋          \u001b[0m 850 MB| Download Speed  1.72MB/s | Estimated Time:  02:17\u001b[0m"
          ]
        },
        {
          "output_type": "stream",
          "name": "stdout",
          "text": [
            "[%] File Downloaded !\n",
            "\n",
            "[%] Downloading Image #614 from https://www.picclickimg.com/NBoAAOSwA4VmTob3/2-Count-Simulated-Sweet-Potato-Three-dimensional-Artificial.webp\n"
          ]
        },
        {
          "output_type": "stream",
          "name": "stderr",
          "text": [
            "\r 72%|\u001b[32m██████████████████████████▋          \u001b[0m 850 MB| Download Speed  2.12MB/s | Estimated Time:  01:51\u001b[0m"
          ]
        },
        {
          "output_type": "stream",
          "name": "stdout",
          "text": [
            "[%] File Downloaded !\n",
            "\n",
            "[%] Downloading Image #615 from https://noobcook.com/wp-content/uploads/2020/05/sweet_potato_ginger_soup-620x465.jpg\n"
          ]
        },
        {
          "output_type": "stream",
          "name": "stderr",
          "text": [
            "\r 72%|\u001b[32m██████████████████████████▊          \u001b[0m 850 MB| Download Speed  1.98MB/s | Estimated Time:  01:58\u001b[0m"
          ]
        },
        {
          "output_type": "stream",
          "name": "stdout",
          "text": [
            "[%] File Downloaded !\n",
            "\n"
          ]
        },
        {
          "output_type": "stream",
          "name": "stderr",
          "text": [
            "\r 72%|\u001b[32m██████████████████████████▊          \u001b[0m 850 MB| Download Speed  1.68MB/s | Estimated Time:  02:19\u001b[0m"
          ]
        },
        {
          "output_type": "stream",
          "name": "stdout",
          "text": [
            "[%] Downloading Image #616 from https://www.picclickimg.com/VBgAAOSwnfBmT5yd/A603-Chicken-Sweet-Potato-Balls-Jerky-Premium.webp\n",
            "[%] File Downloaded !\n",
            "\n"
          ]
        },
        {
          "output_type": "stream",
          "name": "stderr",
          "text": [
            "\r 73%|\u001b[32m██████████████████████████▊          \u001b[0m 850 MB| Download Speed  1.67MB/s | Estimated Time:  02:19\u001b[0m"
          ]
        },
        {
          "output_type": "stream",
          "name": "stdout",
          "text": [
            "[%] Downloading Image #617 from https://beaverbark.com/wp-content/uploads/2024/05/margeurite-sweet-potato-vine.jpg\n",
            "[%] File Downloaded !\n",
            "\n"
          ]
        },
        {
          "output_type": "stream",
          "name": "stderr",
          "text": [
            "\r 73%|\u001b[32m██████████████████████████▉          \u001b[0m 850 MB| Download Speed  1.92MB/s | Estimated Time:  02:01\u001b[0m"
          ]
        },
        {
          "output_type": "stream",
          "name": "stdout",
          "text": [
            "[%] Downloading Image #618 from https://www.picclickimg.com/ttcAAOSwm5ZmTVS9/Daedoo-Real-Sweet-Potato-Bread-480-gpack-of.webp\n",
            "[%] File Downloaded !\n",
            "\n"
          ]
        },
        {
          "output_type": "stream",
          "name": "stderr",
          "text": [
            "\r 73%|\u001b[32m██████████████████████████▉          \u001b[0m 850 MB| Download Speed  2.17MB/s | Estimated Time:  01:46\u001b[0m"
          ]
        },
        {
          "output_type": "stream",
          "name": "stdout",
          "text": [
            "[%] Downloading Image #619 from https://i.pinimg.com/originals/48/38/43/483843400ea276302ff47cfaaa702a17.jpg\n",
            "[%] File Downloaded !\n",
            "\n"
          ]
        },
        {
          "output_type": "stream",
          "name": "stderr",
          "text": [
            "\r 73%|\u001b[32m██████████████████████████▉          \u001b[0m 850 MB| Download Speed  2.34MB/s | Estimated Time:  01:38\u001b[0m"
          ]
        },
        {
          "output_type": "stream",
          "name": "stdout",
          "text": [
            "[%] Downloading Image #620 from https://toast-local-nyc3-production.nyc3.cdn.digitaloceanspaces.com/restaurants/e270460c-2712-4e9a-a43c-1ce78f04838c/sweet-potato-fries-menuitem-427698892-608.webp\n",
            "[%] File Downloaded !\n",
            "\n",
            "[%] Downloading Image #621 from https://i5.walmartimages.com/seo/Twill-Fabric-Sweet-Potato-10-Yards_58094daa-a700-4745-ac84-389d09a5a575.f954d154cb65711275a24c92e64c5b32.jpeg?odnHeight=117&amp;odnWidth=117&amp;odnBg=FFFFFF\n"
          ]
        },
        {
          "output_type": "stream",
          "name": "stderr",
          "text": [
            "\r 73%|\u001b[32m███████████████████████████          \u001b[0m 850 MB| Download Speed  2.22MB/s | Estimated Time:  01:43\u001b[0m"
          ]
        },
        {
          "output_type": "stream",
          "name": "stdout",
          "text": [
            "[%] File Downloaded !\n",
            "\n"
          ]
        },
        {
          "output_type": "stream",
          "name": "stderr",
          "text": [
            "\r 73%|\u001b[32m███████████████████████████          \u001b[0m 850 MB| Download Speed  2.25MB/s | Estimated Time:  01:41\u001b[0m"
          ]
        },
        {
          "output_type": "stream",
          "name": "stdout",
          "text": [
            "[%] Downloading Image #622 from https://i5.walmartimages.com/seo/Jiyugala-Garlic-Chopper-Potato-Mashers-Stainless-Steel-Easy-to-Clean-Masher-for-Mashed-Potatoes-Sweet-Potatoes-Vegetables-Baby-Food-And-Dishwasher_30255d95-d644-414b-8616-243ebf89de90.72e01591cd2b879a7b006108a7c9970b.jpeg?odnHeight=372&amp;odnWidth=372&amp;odnBg=FFFFFF\n",
            "[%] File Downloaded !\n",
            "\n",
            "[%] Downloading Image #623 from http://www.destinationdelish.com/wp-content/uploads/2018/03/Sweet-potato-chickpea-avocado-power-wrap-straight.jpg\n"
          ]
        },
        {
          "output_type": "stream",
          "name": "stderr",
          "text": [
            "\r 73%|\u001b[32m███████████████████████████          \u001b[0m 850 MB| Download Speed  1.68MB/s | Estimated Time:  02:15\u001b[0m"
          ]
        },
        {
          "output_type": "stream",
          "name": "stdout",
          "text": [
            "[%] File Downloaded !\n",
            "\n",
            "[%] Downloading Image #624 from https://data.thefeedfeed.com/recommended/15224402855abe985d449e1.jpg\n"
          ]
        },
        {
          "output_type": "stream",
          "name": "stderr",
          "text": [
            "\r 73%|\u001b[32m███████████████████████████▏         \u001b[0m 850 MB| Download Speed  1.55MB/s | Estimated Time:  02:26\u001b[0m"
          ]
        },
        {
          "output_type": "stream",
          "name": "stdout",
          "text": [
            "[%] File Downloaded !\n",
            "\n",
            "[%] Downloading Image #625 from https://cdn11.bigcommerce.com/s-c28nl5hhy4/images/stencil/1280x1280/products/254/555/cubed-sweet-potato__17622.1486646719.jpg?c=2\n"
          ]
        },
        {
          "output_type": "stream",
          "name": "stderr",
          "text": [
            "\r 74%|\u001b[32m███████████████████████████▏         \u001b[0m 850 MB| Download Speed  1.62MB/s | Estimated Time:  02:18\u001b[0m"
          ]
        },
        {
          "output_type": "stream",
          "name": "stdout",
          "text": [
            "[%] File Downloaded !\n",
            "\n",
            "[%] Downloading Image #626 from https://image.indonetwork.co.id/f-webp/products/thumbs/600x600/2012/12/17/fd8438a60e63eedda79a10597fc7ce0f.jpg\n"
          ]
        },
        {
          "output_type": "stream",
          "name": "stderr",
          "text": [
            "\r 74%|\u001b[32m███████████████████████████▏         \u001b[0m 850 MB| Download Speed  2.80s/MB | Estimated Time:  10:26\u001b[0m"
          ]
        },
        {
          "output_type": "stream",
          "name": "stdout",
          "text": [
            "[%] File Downloaded !\n",
            "\n",
            "[%] Downloading Image #627 from https://whattocooktoday.com/wp-content/uploads/2010/11/IMG_9298-500x500.jpg\n"
          ]
        },
        {
          "output_type": "stream",
          "name": "stderr",
          "text": [
            "\r 74%|\u001b[32m███████████████████████████▎         \u001b[0m 850 MB| Download Speed  2.11s/MB | Estimated Time:  07:49\u001b[0m"
          ]
        },
        {
          "output_type": "stream",
          "name": "stdout",
          "text": [
            "[%] File Downloaded !\n",
            "\n",
            "[%] Downloading Image #628 from https://cdn.prod.marmalade.co/products/3840x3840/filters:quality(80)/www.thinkjinx.com%2Fproducts%2Fbeef-sweet-potato%2F1702617049%2Fbeef-sweet-potato-kibble-dog-kibble-jinx-123921.jpg\n"
          ]
        },
        {
          "output_type": "stream",
          "name": "stderr",
          "text": [
            "\r 74%|\u001b[32m███████████████████████████▎         \u001b[0m 850 MB| Download Speed  1.60s/MB | Estimated Time:  05:56\u001b[0m"
          ]
        },
        {
          "output_type": "stream",
          "name": "stdout",
          "text": [
            "[%] File Downloaded !\n",
            "\n"
          ]
        },
        {
          "output_type": "stream",
          "name": "stderr",
          "text": [
            "\r 74%|\u001b[32m███████████████████████████▍         \u001b[0m 850 MB| Download Speed  1.37s/MB | Estimated Time:  05:03\u001b[0m"
          ]
        },
        {
          "output_type": "stream",
          "name": "stdout",
          "text": [
            "[%] Downloading Image #629 from http://thumbs.dreamstime.com/z/fresh-clean-potatoes-5082175.jpg\n",
            "[%] File Downloaded !\n",
            "\n",
            "[%] Downloading Image #630 from https://thumbs.dreamstime.com/b/fresh-potatoes-isolated-over-white-background-143882734.jpg\n",
            "[%] File Downloaded !\n",
            "\n",
            "[%] Downloading Image #631 from https://thefamilyfreezer.com/wp-content/uploads/2015/11/How-to-Freeze-Fresh-Potatoes.jpg\n"
          ]
        },
        {
          "output_type": "stream",
          "name": "stderr",
          "text": [
            " 74%|\u001b[32m███████████████████████████▌         \u001b[0m 850 MB| Download Speed  1.41MB/s | Estimated Time:  02:34\u001b[0m"
          ]
        },
        {
          "output_type": "stream",
          "name": "stdout",
          "text": [
            "[%] File Downloaded !\n",
            "\n",
            "[%] Downloading Image #632 from https://thumbs.dreamstime.com/b/fresh-potatoes-23810849.jpg\n",
            "[%] File Downloaded !\n",
            "\n",
            "[%] Downloading Image #633 from http://thymeforcookingblog.com/wp-content/uploads/2015/02/potatoes-500x431.jpg\n"
          ]
        },
        {
          "output_type": "stream",
          "name": "stderr",
          "text": [
            "ERROR:root:Invalid image, not saving http://thymeforcookingblog.com/wp-content/uploads/2015/02/potatoes-500x431.jpg\n",
            "ERROR:root:Issue getting: http://thymeforcookingblog.com/wp-content/uploads/2015/02/potatoes-500x431.jpg\n",
            "Error: Invalid image, not saving http://thymeforcookingblog.com/wp-content/uploads/2015/02/potatoes-500x431.jpg\n"
          ]
        },
        {
          "output_type": "stream",
          "name": "stdout",
          "text": [
            "[%] Downloading Image #633 from https://i.pinimg.com/originals/22/6a/fe/226afef68e5321267a53aeeef5d097e5.jpg\n"
          ]
        },
        {
          "output_type": "stream",
          "name": "stderr",
          "text": [
            "\r 74%|\u001b[32m███████████████████████████▌         \u001b[0m 850 MB| Download Speed  1.19MB/s | Estimated Time:  03:02\u001b[0m"
          ]
        },
        {
          "output_type": "stream",
          "name": "stdout",
          "text": [
            "[%] File Downloaded !\n",
            "\n",
            "[%] Downloading Image #634 from https://thumbs.dreamstime.com/z/fresh-potatoes-wicker-basket-kitchen-towel-wooden-table-fresh-potatoes-wicker-basket-kitchen-278077506.jpg\n",
            "[%] File Downloaded !\n",
            "\n",
            "[%] Downloading Image #635 from https://c8.alamy.com/comp/2BTJR3W/small-fresh-potatoes-fried-in-olive-oil-on-frying-pan-2BTJR3W.jpg\n"
          ]
        },
        {
          "output_type": "stream",
          "name": "stderr",
          "text": [
            "\r 75%|\u001b[32m███████████████████████████▋         \u001b[0m 850 MB| Download Speed  1.82MB/s | Estimated Time:  01:58\u001b[0m"
          ]
        },
        {
          "output_type": "stream",
          "name": "stdout",
          "text": [
            "[%] File Downloaded !\n",
            "\n",
            "[%] Downloading Image #636 from https://static.wixstatic.com/media/0b6fd6_8d356b63f8b447f5adacbf0a1e4d44ba~mv2.jpg/v1/fill/w_900,h_1200,al_c,q_85,enc_auto/0b6fd6_8d356b63f8b447f5adacbf0a1e4d44ba~mv2.jpg\n"
          ]
        },
        {
          "output_type": "stream",
          "name": "stderr",
          "text": [
            " 75%|\u001b[32m███████████████████████████▋         \u001b[0m 850 MB| Download Speed  2.37MB/s | Estimated Time:  01:29\u001b[0m"
          ]
        },
        {
          "output_type": "stream",
          "name": "stdout",
          "text": [
            "[%] File Downloaded !\n",
            "\n",
            "[%] Downloading Image #637 from https://moonandspoonandyum.com/wp-content/uploads/2022/04/potato-storage.jpg\n",
            "[%] File Downloaded !\n",
            "\n",
            "[%] Downloading Image #638 from https://i.fbcd.co/products/resized/resized-242-161/c-1000-designbundle-potatoes-background-4-13-12-0f688cf8a3ee02fdf6791a91ce62c638e93c945ca9a24e10f3ddeb0cd4b8c00d.jpg\n"
          ]
        },
        {
          "output_type": "stream",
          "name": "stderr",
          "text": [
            " 75%|\u001b[32m███████████████████████████▊         \u001b[0m 850 MB| Download Speed  3.00MB/s | Estimated Time:  01:10\u001b[0m"
          ]
        },
        {
          "output_type": "stream",
          "name": "stdout",
          "text": [
            "[%] File Downloaded !\n",
            "\n",
            "[%] Downloading Image #639 from https://i5.walmartimages.com/seo/Fresh-Whole-Russet-Potatoes-5lb-bag_39e383c7-abe5-42fa-9078-5d6d0bb5c0d4.8fc19a526bf85bd640d369c4c85a2bf2.jpeg\n",
            "[%] File Downloaded !\n",
            "\n",
            "[%] Downloading Image #640 from https://i.ebayimg.com/images/g/BbcAAOSwouBmStsU/s-l500.jpg\n"
          ]
        },
        {
          "output_type": "stream",
          "name": "stderr",
          "text": [
            "\r 75%|\u001b[32m███████████████████████████▊         \u001b[0m 850 MB| Download Speed  3.37MB/s | Estimated Time:  01:02\u001b[0m"
          ]
        },
        {
          "output_type": "stream",
          "name": "stdout",
          "text": [
            "[%] File Downloaded !\n",
            "\n",
            "[%] Downloading Image #641 from https://l450v.alamy.com/450v/ee96xp/spicy-fried-potatoes-with-herbs-and-spices-served-in-white-plate-ee96xp.jpg\n"
          ]
        },
        {
          "output_type": "stream",
          "name": "stderr",
          "text": [
            "\r 75%|\u001b[32m███████████████████████████▉         \u001b[0m 850 MB| Download Speed  3.64MB/s | Estimated Time:  00:57\u001b[0m"
          ]
        },
        {
          "output_type": "stream",
          "name": "stdout",
          "text": [
            "[%] File Downloaded !\n",
            "\n",
            "[%] Downloading Image #642 from https://down-ph.img.susercontent.com/file/sg-11134202-7rd51-lueohw6zfbi1b3_tn\n"
          ]
        },
        {
          "output_type": "stream",
          "name": "stderr",
          "text": [
            "\r 76%|\u001b[32m███████████████████████████▉         \u001b[0m 850 MB| Download Speed  2.53MB/s | Estimated Time:  01:22\u001b[0m"
          ]
        },
        {
          "output_type": "stream",
          "name": "stdout",
          "text": [
            "[%] File Downloaded !\n",
            "\n",
            "[%] Downloading Image #643 from https://i.ebayimg.com/images/g/NmoAAOSwcNVmTN74/s-l960.jpg\n"
          ]
        },
        {
          "output_type": "stream",
          "name": "stderr",
          "text": [
            "\r 76%|\u001b[32m███████████████████████████▉         \u001b[0m 850 MB| Download Speed  2.53MB/s | Estimated Time:  01:21\u001b[0m"
          ]
        },
        {
          "output_type": "stream",
          "name": "stdout",
          "text": [
            "[%] File Downloaded !\n",
            "\n",
            "[%] Downloading Image #644 from https://thumbs.dreamstime.com/b/vegetables-plate-peeled-fresh-potatoes-plate-vegetables-plate-peeled-fresh-potatoes-plate-high-quality-k-319725941.jpg\n",
            "[%] File Downloaded !\n",
            "\n",
            "[%] Downloading Image #645 from https://farmerspromise.com/wp-content/uploads/2023/03/How-to-store-potatoes-1024x762.jpg\n"
          ]
        },
        {
          "output_type": "stream",
          "name": "stderr",
          "text": [
            "\r 76%|\u001b[32m████████████████████████████         \u001b[0m 850 MB| Download Speed  3.30MB/s | Estimated Time:  01:02\u001b[0m"
          ]
        },
        {
          "output_type": "stream",
          "name": "stdout",
          "text": [
            "[%] File Downloaded !\n",
            "\n",
            "[%] Downloading Image #646 from https://image.ec21.com/image/simpl/OF0010097953_1/Sell_Fresh_Potatoes_New_Crop.jpg\n"
          ]
        },
        {
          "output_type": "stream",
          "name": "stderr",
          "text": [
            "\r 76%|\u001b[32m████████████████████████████         \u001b[0m 850 MB| Download Speed  2.84MB/s | Estimated Time:  01:11\u001b[0m"
          ]
        },
        {
          "output_type": "stream",
          "name": "stdout",
          "text": [
            "[%] File Downloaded !\n",
            "\n",
            "[%] Downloading Image #647 from https://storage.googleapis.com/images-lnb-prd-8936dd0.lnb.prd.v8.commerce.mi9cloud.com/product-images/detail/00629307013942.png\n"
          ]
        },
        {
          "output_type": "stream",
          "name": "stderr",
          "text": [
            "\r 76%|\u001b[32m████████████████████████████▏        \u001b[0m 850 MB| Download Speed  2.40MB/s | Estimated Time:  01:24\u001b[0m"
          ]
        },
        {
          "output_type": "stream",
          "name": "stdout",
          "text": [
            "[%] File Downloaded !\n",
            "\n",
            "[%] Downloading Image #648 from https://images.food52.com/EaPsr6NCpW-Zf2IzkdHXzcFkyG4=/1200x675/78e37ce1-7d77-4847-a606-ca8a7188e0ce--v1_1280_wtXBU8edXlE1.jpg\n",
            "[%] File Downloaded !\n",
            "\n",
            "[%] Downloading Image #649 from https://i.ebayimg.com/images/g/2CIAAOSwOqVmTN74/s-l960.jpg\n"
          ]
        },
        {
          "output_type": "stream",
          "name": "stderr",
          "text": [
            "\r 76%|\u001b[32m████████████████████████████▎        \u001b[0m 850 MB| Download Speed  3.13MB/s | Estimated Time:  01:04\u001b[0mERROR:root:Issue getting: https://media.gettyimages.com/id/1124300951/photo/fresh-boiled-young-potatoes-with-butter.jpg?s=612x612&amp;w=gi&amp;k=20&amp;c=5d6aYPUSsdFhvkyuX5jYoET9CbnB3B7GtW5JbMGKFII=\n",
            "Error: 'Bing' object has no attribute 'sources'\n"
          ]
        },
        {
          "output_type": "stream",
          "name": "stdout",
          "text": [
            "[%] File Downloaded !\n",
            "\n",
            "[%] Downloading Image #650 from https://media.gettyimages.com/id/1124300951/photo/fresh-boiled-young-potatoes-with-butter.jpg?s=612x612&amp;w=gi&amp;k=20&amp;c=5d6aYPUSsdFhvkyuX5jYoET9CbnB3B7GtW5JbMGKFII=\n",
            "[%] Downloading Image #650 from https://l450v.alamy.com/450v/jm90eb/baked-and-salted-potatoes-with-rosemary-on-a-slate-jm90eb.jpg\n"
          ]
        },
        {
          "output_type": "stream",
          "name": "stderr",
          "text": [
            "\r 76%|\u001b[32m████████████████████████████▎        \u001b[0m 850 MB| Download Speed  3.23MB/s | Estimated Time:  01:01\u001b[0m"
          ]
        },
        {
          "output_type": "stream",
          "name": "stdout",
          "text": [
            "[%] File Downloaded !\n",
            "\n",
            "[%] Downloading Image #651 from https://images.utopia.org/YzZ8cXRfabEx31CEfj_QIzMVX6u7TGrVpw_4ywkGalo/rt:fill/w:640/h:300/g:ce/plain/2020/10/potatoes-pb-stanbalik-231020-1280x720jpg.jpg\n"
          ]
        },
        {
          "output_type": "stream",
          "name": "stderr",
          "text": [
            "\r 77%|\u001b[32m████████████████████████████▎        \u001b[0m 850 MB| Download Speed  3.09MB/s | Estimated Time:  01:04\u001b[0m"
          ]
        },
        {
          "output_type": "stream",
          "name": "stdout",
          "text": [
            "[%] File Downloaded !\n",
            "\n",
            "[%] Downloading Image #652 from https://aonesupermarkets.com/cdn/shop/products/Potatoes_1ee8b301-006f-4b57-9aa8-725571aac294_1000x.jpg?v=1624389312\n"
          ]
        },
        {
          "output_type": "stream",
          "name": "stderr",
          "text": [
            " 77%|\u001b[32m████████████████████████████▍        \u001b[0m 850 MB| Download Speed  3.32MB/s | Estimated Time:  00:59\u001b[0m"
          ]
        },
        {
          "output_type": "stream",
          "name": "stdout",
          "text": [
            "[%] File Downloaded !\n",
            "\n",
            "[%] Downloading Image #653 from https://l450v.alamy.com/450v/frfh3j/paprika-potato-chips-in-small-bowl-frfh3j.jpg\n",
            "[%] File Downloaded !\n",
            "\n"
          ]
        },
        {
          "output_type": "stream",
          "name": "stderr",
          "text": [
            "\r 77%|\u001b[32m████████████████████████████▌        \u001b[0m 850 MB| Download Speed  5.84MB/s | Estimated Time:  00:33\u001b[0m"
          ]
        },
        {
          "output_type": "stream",
          "name": "stdout",
          "text": [
            "[%] Downloading Image #654 from https://thumbs.dreamstime.com/z/matjes-potatoes-fresh-herb-matjes-fried-potatoes-sylt-sauce-319113027.jpg?w=768\n",
            "[%] File Downloaded !\n",
            "\n",
            "[%] Downloading Image #655 from https://thumbs.dreamstime.com/z/juicy-grilled-steak-roasted-potatoes-fresh-salad-juicy-grilled-steak-roasted-potatoes-fresh-salad-created-319527108.jpg\n",
            "[%] File Downloaded !\n",
            "\n",
            "[%] Downloading Image #656 from https://i.ebayimg.com/images/g/g84AAOSw8gpmTN74/s-l960.jpg\n",
            "[%] File Downloaded !\n",
            "\n",
            "[%] Downloading Image #657 from https://upbeetkitchen.com/wp-content/uploads/2022/08/chipotle-chicken-ranch-sweet-potato-wraps-recipe-up-beet-kitchen-23.jpg\n"
          ]
        },
        {
          "output_type": "stream",
          "name": "stderr",
          "text": [
            "\r 77%|\u001b[32m████████████████████████████▌        \u001b[0m 850 MB| Download Speed  2.79MB/s | Estimated Time:  01:09\u001b[0m"
          ]
        },
        {
          "output_type": "stream",
          "name": "stdout",
          "text": [
            "[%] File Downloaded !\n",
            "\n"
          ]
        },
        {
          "output_type": "stream",
          "name": "stderr",
          "text": [
            "\r 77%|\u001b[32m████████████████████████████▋        \u001b[0m 850 MB| Download Speed  2.41MB/s | Estimated Time:  01:19\u001b[0m"
          ]
        },
        {
          "output_type": "stream",
          "name": "stdout",
          "text": [
            "[%] Downloading Image #658 from https://www.theroastedroot.net/wp-content/uploads/2023/03/sweet-potato-black-bean-quinoa-chili-4.jpg\n",
            "[%] File Downloaded !\n",
            "\n",
            "[%] Downloading Image #659 from http://www.howsweeteats.com/wp-content/uploads/2018/01/sweet-potato-ginger-soup-I-howsweeteats.com-6.jpg\n"
          ]
        },
        {
          "output_type": "stream",
          "name": "stderr",
          "text": [
            "\r 78%|\u001b[32m████████████████████████████▋        \u001b[0m 850 MB| Download Speed  2.87MB/s | Estimated Time:  01:06\u001b[0m"
          ]
        },
        {
          "output_type": "stream",
          "name": "stdout",
          "text": [
            "[%] File Downloaded !\n",
            "\n",
            "[%] Downloading Image #660 from https://p1.akcdn.net/mid/1111152264.happy-fit-superior-fresh-boar-with-carrots-potatoes-12x800-g.jpg\n"
          ]
        },
        {
          "output_type": "stream",
          "name": "stderr",
          "text": [
            " 78%|\u001b[32m████████████████████████████▊        \u001b[0m 850 MB| Download Speed  2.01MB/s | Estimated Time:  01:34\u001b[0m"
          ]
        },
        {
          "output_type": "stream",
          "name": "stdout",
          "text": [
            "[%] File Downloaded !\n",
            "\n",
            "[%] Downloading Image #661 from https://sweetpeasandsaffron.com/wp-content/uploads/2014/10/thai-curry-soup-6.jpg\n",
            "[%] File Downloaded !\n",
            "\n",
            "[%] Downloading Image #662 from https://i5.walmartimages.com/seo/12-Sweet-Potato-Slips-Check-For-States-Regulated-Below_fca5b34a-784e-482e-aeb4-a7cab27a53f9.68c6d1043b16f5456a343b7528626c37.jpeg?odnHeight=640&amp;odnWidth=640&amp;odnBg=FFFFFF\n"
          ]
        },
        {
          "output_type": "stream",
          "name": "stderr",
          "text": [
            "\r 78%|\u001b[32m████████████████████████████▊        \u001b[0m 850 MB| Download Speed  2.17MB/s | Estimated Time:  01:26\u001b[0m"
          ]
        },
        {
          "output_type": "stream",
          "name": "stdout",
          "text": [
            "[%] File Downloaded !\n",
            "\n"
          ]
        },
        {
          "output_type": "stream",
          "name": "stderr",
          "text": [
            "\r 78%|\u001b[32m████████████████████████████▊        \u001b[0m 850 MB| Download Speed  1.54MB/s | Estimated Time:  02:01\u001b[0m"
          ]
        },
        {
          "output_type": "stream",
          "name": "stdout",
          "text": [
            "[%] Downloading Image #663 from https://i5.walmartimages.com/seo/Shes-My-Sweet-Potato-I-Yam-Set-Thanksgiving-Couple-Shirts-T-Shirt_927dcf71-9e65-4aa3-925a-9075aa2b735c.0a1d9801819ed028ef52315b82fc715d.jpeg?odnHeight=117&amp;odnWidth=117&amp;odnBg=FFFFFF\n",
            "[%] File Downloaded !\n",
            "\n",
            "[%] Downloading Image #664 from https://i5.walmartimages.com/seo/Sweet-Potato-Fries-Is-That-You-Bro-Funny-Sweet-Potato-T-Shirt_af5084c6-3251-43f7-9b27-a7abc34ee3a2.d1930a2362e589902845c26be827bf61.jpeg\n"
          ]
        },
        {
          "output_type": "stream",
          "name": "stderr",
          "text": [
            "\r 78%|\u001b[32m████████████████████████████▉        \u001b[0m 850 MB| Download Speed  1.61MB/s | Estimated Time:  01:55\u001b[0m"
          ]
        },
        {
          "output_type": "stream",
          "name": "stdout",
          "text": [
            "[%] File Downloaded !\n",
            "\n",
            "[%] Downloading Image #665 from https://cdn.copymethat.com/media/orig_instant_pot_sweet_potatoes_pressure_cook_20240331005657686491pnaauw.jpg\n"
          ]
        },
        {
          "output_type": "stream",
          "name": "stderr",
          "text": [
            "\r 78%|\u001b[32m████████████████████████████▉        \u001b[0m 850 MB| Download Speed  1.45MB/s | Estimated Time:  02:07\u001b[0mERROR:root:Invalid image, not saving https://divascancook.com/wp-content/uploads/2023/11/sweet-potato-pie-recipe-500x500.jpg\n",
            "ERROR:root:Issue getting: https://divascancook.com/wp-content/uploads/2023/11/sweet-potato-pie-recipe-500x500.jpg\n",
            "Error: Invalid image, not saving https://divascancook.com/wp-content/uploads/2023/11/sweet-potato-pie-recipe-500x500.jpg\n",
            " 78%|\u001b[32m████████████████████████████▉        \u001b[0m 850 MB| Download Speed  1.86MB/s | Estimated Time:  01:39\u001b[0m"
          ]
        },
        {
          "output_type": "stream",
          "name": "stdout",
          "text": [
            "[%] File Downloaded !\n",
            "\n",
            "[%] Downloading Image #666 from https://divascancook.com/wp-content/uploads/2023/11/sweet-potato-pie-recipe-500x500.jpg\n",
            "[%] Downloading Image #666 from https://www.onceuponachef.com/images/2019/11/Sweet-Potato-Pie-1200x1500.jpg\n",
            "[%] File Downloaded !\n",
            "\n"
          ]
        },
        {
          "output_type": "stream",
          "name": "stderr",
          "text": [
            "\r 78%|\u001b[32m█████████████████████████████        \u001b[0m 850 MB| Download Speed  1.60MB/s | Estimated Time:  01:54\u001b[0m"
          ]
        },
        {
          "output_type": "stream",
          "name": "stdout",
          "text": [
            "[%] Downloading Image #667 from https://iambaker.net/wp-content/uploads/2019/11/sweet-potato-pie-1.jpg\n",
            "[%] File Downloaded !\n",
            "\n",
            "[%] Downloading Image #668 from https://japaneserecipesblog.com/img/sweet_potato_mixed_rice_onigiri_japanese_recipe42.jpg\n"
          ]
        },
        {
          "output_type": "stream",
          "name": "stderr",
          "text": [
            "\r 79%|\u001b[32m█████████████████████████████        \u001b[0m 850 MB| Download Speed  1.30MB/s | Estimated Time:  02:19\u001b[0m"
          ]
        },
        {
          "output_type": "stream",
          "name": "stdout",
          "text": [
            "[%] File Downloaded !\n",
            "\n"
          ]
        },
        {
          "output_type": "stream",
          "name": "stderr",
          "text": [
            "\r 79%|\u001b[32m█████████████████████████████        \u001b[0m 850 MB| Download Speed  1.36MB/s | Estimated Time:  02:12\u001b[0m"
          ]
        },
        {
          "output_type": "stream",
          "name": "stdout",
          "text": [
            "[%] Downloading Image #669 from https://i5.walmartimages.com/seo/She-s-My-Sweet-Potato-I-Yam-Set-Couples-Matching-T-Shirt_8b193d09-7168-4eb1-a36c-2aeef7dcb5c2.f36c9f005bec7c73eed04f962ccc6185.jpeg?odnHeight=117&amp;odnWidth=117&amp;odnBg=FFFFFF\n",
            "[%] File Downloaded !\n",
            "\n",
            "[%] Downloading Image #670 from https://elrincondeasia.com/wp-content/uploads/2024/05/OTTOGI-Korean-Traditional-Sweet-Potato-Noodle-Cup-76g-480x480.png\n"
          ]
        },
        {
          "output_type": "stream",
          "name": "stderr",
          "text": [
            "\r 79%|\u001b[32m█████████████████████████████▏       \u001b[0m 850 MB| Download Speed  1.35MB/s | Estimated Time:  02:13\u001b[0m"
          ]
        },
        {
          "output_type": "stream",
          "name": "stdout",
          "text": [
            "[%] File Downloaded !\n",
            "\n",
            "[%] Downloading Image #671 from https://i5.walmartimages.com/seo/I-Yam-What-I-Yam-Design-Sweet-Potato-Lover-Design-T-Shirt_4d055e58-8051-4f0c-aa1f-d43e7dae49d4.36d7710b32f785173d39c4acc1a2d7d5.jpeg\n"
          ]
        },
        {
          "output_type": "stream",
          "name": "stderr",
          "text": [
            "\r 79%|\u001b[32m█████████████████████████████▏       \u001b[0m 850 MB| Download Speed  1.58MB/s | Estimated Time:  01:53\u001b[0m"
          ]
        },
        {
          "output_type": "stream",
          "name": "stdout",
          "text": [
            "[%] File Downloaded !\n",
            "\n",
            "[%] Downloading Image #672 from https://www.godairyfree.org/wp-content/uploads/2020/10/pics-Slow-Cooker-Sweet-Potato-Plantain-and-Lentil-Caribbean-Curry-writing5.jpg\n"
          ]
        },
        {
          "output_type": "stream",
          "name": "stderr",
          "text": [
            "\r 79%|\u001b[32m█████████████████████████████▎       \u001b[0m 850 MB| Download Speed  1.51MB/s | Estimated Time:  01:58\u001b[0m"
          ]
        },
        {
          "output_type": "stream",
          "name": "stdout",
          "text": [
            "[%] File Downloaded !\n",
            "\n",
            "[%] Downloading Image #673 from https://popmenucloud.com/cdn-cgi/image/width%3D1200%2Cheight%3D1200%2Cfit%3Dscale-down%2Cformat%3Dauto%2Cquality%3D60/wyrotvil/aeda809a-2ed0-4bda-882e-d30d7243bc59.JPG\n"
          ]
        },
        {
          "output_type": "stream",
          "name": "stderr",
          "text": [
            "\r 79%|\u001b[32m█████████████████████████████▎       \u001b[0m 850 MB| Download Speed  1.53MB/s | Estimated Time:  01:55\u001b[0mERROR:root:Issue getting: https://naokoannutritionist.com/wp-content/uploads/2023/02/さつまいもごはん-scaled.jpg\n",
            "Error: 'ascii' codec can't encode characters in position 32-39: ordinal not in range(128)\n"
          ]
        },
        {
          "output_type": "stream",
          "name": "stdout",
          "text": [
            "[%] File Downloaded !\n",
            "\n",
            "[%] Downloading Image #674 from https://naokoannutritionist.com/wp-content/uploads/2023/02/さつまいもごはん-scaled.jpg\n",
            "[%] Downloading Image #674 from https://i.fbcd.co/products/resized/resized-750-500/c-1000-designbundle-potatoes-background-4-13-12-0f688cf8a3ee02fdf6791a91ce62c638e93c945ca9a24e10f3ddeb0cd4b8c00d.jpg\n"
          ]
        },
        {
          "output_type": "stream",
          "name": "stderr",
          "text": [
            "\r 79%|\u001b[32m█████████████████████████████▎       \u001b[0m 850 MB| Download Speed  1.20MB/s | Estimated Time:  02:26\u001b[0m"
          ]
        },
        {
          "output_type": "stream",
          "name": "stdout",
          "text": [
            "[%] File Downloaded !\n",
            "\n",
            "[%] Downloading Image #675 from https://us.123rf.com/450wm/seagames50/seagames501507/seagames50150702060/42262590-french-fries-and-fresh-sliced-potatoes-with-ketchup.jpg?ver=6\n"
          ]
        },
        {
          "output_type": "stream",
          "name": "stderr",
          "text": [
            "\r 79%|\u001b[32m█████████████████████████████▍       \u001b[0m 850 MB| Download Speed  1.34MB/s | Estimated Time:  02:10\u001b[0m"
          ]
        },
        {
          "output_type": "stream",
          "name": "stdout",
          "text": [
            "[%] File Downloaded !\n",
            "\n",
            "[%] Downloading Image #676 from https://image.ec21.com/image/simpl/bimg_GC04973688_CA04973691/Fresh_Potatoes_New_Crop_.jpg\n"
          ]
        },
        {
          "output_type": "stream",
          "name": "stderr",
          "text": [
            "\r 80%|\u001b[32m█████████████████████████████▍       \u001b[0m 850 MB| Download Speed  1.56MB/s | Estimated Time:  01:51\u001b[0m"
          ]
        },
        {
          "output_type": "stream",
          "name": "stdout",
          "text": [
            "[%] File Downloaded !\n",
            "\n",
            "[%] Downloading Image #677 from https://i.ebayimg.com/images/g/YIEAAOSwdwlmTN74/s-l960.jpg\n",
            "[%] File Downloaded !\n",
            "\n",
            "[%] Downloading Image #678 from https://i.ebayimg.com/images/g/dnIAAOSwmNRmStsU/s-l500.jpg\n"
          ]
        },
        {
          "output_type": "stream",
          "name": "stderr",
          "text": [
            " 80%|\u001b[32m█████████████████████████████▌       \u001b[0m 850 MB| Download Speed  2.96MB/s | Estimated Time:  00:57\u001b[0m"
          ]
        },
        {
          "output_type": "stream",
          "name": "stdout",
          "text": [
            "[%] File Downloaded !\n",
            "\n",
            "[%] Downloading Image #679 from https://i.ebayimg.com/images/g/DaIAAOSwSHJmStsU/s-l500.jpg\n",
            "[%] File Downloaded !\n",
            "\n",
            "[%] Downloading Image #680 from https://i.ebayimg.com/images/g/3OEAAOSw3Y1mStsU/s-l500.jpg\n"
          ]
        },
        {
          "output_type": "stream",
          "name": "stderr",
          "text": [
            "\r 80%|\u001b[32m█████████████████████████████▌       \u001b[0m 850 MB| Download Speed  3.15MB/s | Estimated Time:  00:54\u001b[0m"
          ]
        },
        {
          "output_type": "stream",
          "name": "stdout",
          "text": [
            "[%] File Downloaded !\n",
            "\n",
            "[%] Downloading Image #681 from https://i.ebayimg.com/thumbs/images/g/wxcAAOSwwoVmTNJp/s-l500.jpg\n"
          ]
        },
        {
          "output_type": "stream",
          "name": "stderr",
          "text": [
            "\r 80%|\u001b[32m█████████████████████████████▋       \u001b[0m 850 MB| Download Speed  3.19MB/s | Estimated Time:  00:52\u001b[0m"
          ]
        },
        {
          "output_type": "stream",
          "name": "stdout",
          "text": [
            "[%] File Downloaded !\n",
            "\n",
            "[%] Downloading Image #682 from https://www.freshorganics.com.au/wp-content/uploads/2024/05/Mini-Roasters.png\n"
          ]
        },
        {
          "output_type": "stream",
          "name": "stderr",
          "text": [
            " 80%|\u001b[32m█████████████████████████████▋       \u001b[0m 850 MB| Download Speed  2.23MB/s | Estimated Time:  01:14\u001b[0m"
          ]
        },
        {
          "output_type": "stream",
          "name": "stdout",
          "text": [
            "[%] File Downloaded !\n",
            "\n",
            "[%] Downloading Image #683 from https://i.ebayimg.com/images/g/pvEAAOSwHelmStsU/s-l500.jpg\n",
            "[%] File Downloaded !\n",
            "\n",
            "[%] Downloading Image #684 from https://thumbs.dreamstime.com/b/fresh-herb-matjes-fried-potatoes-sylt-sauce-matjes-potatoes-319113046.jpg\n",
            "[%] File Downloaded !\n",
            "\n",
            "[%] Downloading Image #685 from https://img.ltwebstatic.com/images3_spmp/2024/05/17/ea/1715942624191ce7d4383779c4a2a3deac3ee70aa9.webp\n"
          ]
        },
        {
          "output_type": "stream",
          "name": "stderr",
          "text": [
            "\r 81%|\u001b[32m█████████████████████████████▊       \u001b[0m 850 MB| Download Speed  2.91MB/s | Estimated Time:  00:56\u001b[0m"
          ]
        },
        {
          "output_type": "stream",
          "name": "stdout",
          "text": [
            "[%] File Downloaded !\n",
            "\n",
            "[%] Downloading Image #686 from https://l450v.alamy.com/450v/r29d4f/two-fresh-homemade-burgers-with-fried-potatoes-and-orange-juice-on-a-wooden-table-r29d4f.jpg\n"
          ]
        },
        {
          "output_type": "stream",
          "name": "stderr",
          "text": [
            " 81%|\u001b[32m█████████████████████████████▉       \u001b[0m 850 MB| Download Speed  3.48MB/s | Estimated Time:  00:46\u001b[0m"
          ]
        },
        {
          "output_type": "stream",
          "name": "stdout",
          "text": [
            "[%] File Downloaded !\n",
            "\n",
            "[%] Downloading Image #687 from https://www.instacart.com/image-server/1200x1200/www.instacart.com/assets/domains/product-image/file/large_5a9030b5-9659-495b-88fe-d4208dcae35c.jpg\n",
            "[%] File Downloaded !\n",
            "\n"
          ]
        },
        {
          "output_type": "stream",
          "name": "stderr",
          "text": [
            "\r 81%|\u001b[32m█████████████████████████████▉       \u001b[0m 850 MB| Download Speed  2.30MB/s | Estimated Time:  01:10\u001b[0m"
          ]
        },
        {
          "output_type": "stream",
          "name": "stdout",
          "text": [
            "[%] Downloading Image #688 from https://chefreader.com/wp-content/uploads/2021/07/oven-trout-with-fresh-asparagus-and-parsley-potatoes216599.jpg\n",
            "[%] File Downloaded !\n",
            "\n",
            "[%] Downloading Image #689 from https://polishfeast.com/wp-content/uploads/Polish-Dill-Potatoes-500x500.jpg\n"
          ]
        },
        {
          "output_type": "stream",
          "name": "stderr",
          "text": [
            "\r 81%|\u001b[32m█████████████████████████████▉       \u001b[0m 850 MB| Download Speed  2.60MB/s | Estimated Time:  01:02\u001b[0m"
          ]
        },
        {
          "output_type": "stream",
          "name": "stdout",
          "text": [
            "[%] File Downloaded !\n",
            "\n",
            "[%] Downloading Image #690 from https://isitbadforyou.s3.amazonaws.com/uploads/article/pictures/4074/big_Are_dried_potatoes_bad_for_you_2.png\n"
          ]
        },
        {
          "output_type": "stream",
          "name": "stderr",
          "text": [
            "\r 81%|\u001b[32m██████████████████████████████       \u001b[0m 850 MB| Download Speed  2.48MB/s | Estimated Time:  01:04\u001b[0m"
          ]
        },
        {
          "output_type": "stream",
          "name": "stdout",
          "text": [
            "[%] File Downloaded !\n",
            "\n",
            "[%] Downloading Image #691 from https://myomealsprep.com/wp-content/uploads/2024/05/unnamed-26-600x600.png\n"
          ]
        },
        {
          "output_type": "stream",
          "name": "stderr",
          "text": [
            " 81%|\u001b[32m██████████████████████████████       \u001b[0m 850 MB| Download Speed  2.81MB/s | Estimated Time:  00:56\u001b[0m"
          ]
        },
        {
          "output_type": "stream",
          "name": "stdout",
          "text": [
            "[%] File Downloaded !\n",
            "\n",
            "[%] Downloading Image #692 from https://i5.walmartimages.com/seo/Stylish-5-Inch-Ceramic-Garlic-Keeper-Lid-White-Saver-Container-Fresh-Storage-Ventilated-Design-Extended-Shelf-Life-Perfect-Onions-Ginger-Potatoes-Hig_58791c4f-afb9-4924-adaa-b1555a4d443f.f2fb230f140565c071f2e60f7d92b6b3.jpeg\n",
            "[%] File Downloaded !\n",
            "\n"
          ]
        },
        {
          "output_type": "stream",
          "name": "stderr",
          "text": [
            "\r 82%|\u001b[32m██████████████████████████████▏      \u001b[0m 850 MB| Download Speed  2.91MB/s | Estimated Time:  00:53\u001b[0m"
          ]
        },
        {
          "output_type": "stream",
          "name": "stdout",
          "text": [
            "[%] Downloading Image #693 from https://www.southernliving.com/thmb/jqdYojVeCcbRzxpPMrNXqnZDpO8=/1500x0/filters:no_upscale():max_bytes(150000):strip_icc()/mississippi_sweet_potato_pie1-2000-b7254779bdbe42409b9ea69bd92f71b8.jpg\n",
            "[%] File Downloaded !\n",
            "\n"
          ]
        },
        {
          "output_type": "stream",
          "name": "stderr",
          "text": [
            "\r 82%|\u001b[32m██████████████████████████████▏      \u001b[0m 850 MB| Download Speed  1.78MB/s | Estimated Time:  01:27\u001b[0m"
          ]
        },
        {
          "output_type": "stream",
          "name": "stdout",
          "text": [
            "[%] Downloading Image #694 from https://i5.walmartimages.com/seo/YHAIOGS-10Pcs-1-12-Dollhouse-Miniature-Food-Sweet-PotaTO-Kitchen-Dining-Model-Play-TOy_9dc2a3b5-bbe1-4e7f-b155-c34383ac0a3d.27a04ffa5f74e3e49dba17a5584a2409.jpeg\n",
            "[%] File Downloaded !\n",
            "\n"
          ]
        },
        {
          "output_type": "stream",
          "name": "stderr",
          "text": [
            "\r 82%|\u001b[32m██████████████████████████████▎      \u001b[0m 850 MB| Download Speed  1.69MB/s | Estimated Time:  01:31\u001b[0m"
          ]
        },
        {
          "output_type": "stream",
          "name": "stdout",
          "text": [
            "[%] Downloading Image #695 from https://kidseatincolor.com/wp-content/uploads/2022/08/Baby-Eating-Sweet-Potato.jpg\n",
            "[%] File Downloaded !\n",
            "\n",
            "[%] Downloading Image #696 from https://i5.walmartimages.com/seo/YHAIOGS-10Pcs-1-12-Dollhouse-Miniature-Food-Sweet-PotaTO-Kitchen-Dining-Model-Play-TOy_9dc2a3b5-bbe1-4e7f-b155-c34383ac0a3d.27a04ffa5f74e3e49dba17a5584a2409.jpeg?odnHeight=640&amp;odnWidth=640&amp;odnBg=FFFFFF\n"
          ]
        },
        {
          "output_type": "stream",
          "name": "stderr",
          "text": [
            "\r 82%|\u001b[32m██████████████████████████████▎      \u001b[0m 850 MB| Download Speed  2.15MB/s | Estimated Time:  01:11\u001b[0m"
          ]
        },
        {
          "output_type": "stream",
          "name": "stdout",
          "text": [
            "[%] File Downloaded !\n",
            "\n"
          ]
        },
        {
          "output_type": "stream",
          "name": "stderr",
          "text": [
            "\r 82%|\u001b[32m██████████████████████████████▎      \u001b[0m 850 MB| Download Speed  2.32MB/s | Estimated Time:  01:05\u001b[0m"
          ]
        },
        {
          "output_type": "stream",
          "name": "stdout",
          "text": [
            "[%] Downloading Image #697 from https://i5.walmartimages.com/seo/2-Pack-Sweet-Caroline-Ipomoea-Batatas-Lime-Green-Morning-Glory-Sweet-Potato-Vine_7779bcab-dcb8-4f2e-9a3d-6f52e4d6ca34.d3a1f07d1bce83ac07cd0fea7ea25720.jpeg?odnHeight=117&amp;odnWidth=117&amp;odnBg=FFFFFF\n",
            "[%] File Downloaded !\n",
            "\n",
            "[%] Downloading Image #698 from https://i.ebayimg.com/thumbs/images/g/v74AAOSw3uhmOzz7/s-l500.jpg\n",
            "[%] File Downloaded !\n",
            "\n",
            "[%] Downloading Image #699 from https://i5.walmartimages.com/seo/Natural-Balance-Pet-Foods-L-I-T-Original-Biscuits-Dog-Treats-Fish-Sweet-Potato-14-oz_72c5a096-250b-4851-af99-f4bf98aca1a3.c8addf41ecb0933a7962b779c12bcca8.jpeg?odnHeight=640&amp;odnWidth=640&amp;odnBg=FFFFFF\n"
          ]
        },
        {
          "output_type": "stream",
          "name": "stderr",
          "text": [
            " 82%|\u001b[32m██████████████████████████████▍      \u001b[0m 850 MB| Download Speed  4.07MB/s | Estimated Time:  00:36\u001b[0m"
          ]
        },
        {
          "output_type": "stream",
          "name": "stdout",
          "text": [
            "[%] File Downloaded !\n",
            "\n",
            "[%] Downloading Image #700 from https://i5.walmartimages.com/seo/Dreparja-Holiday-Deals-Gege-Bear-Sweet-Colorful-Cushion-Powder-Blusher-Matte-Fine-Natural-Mashed-Potato-5g_656f473a-0ec1-4235-991a-561b08375587.8f13f7f4cc32a427a28a58c4a45947df.jpeg?odnHeight=117&amp;odnWidth=117&amp;odnBg=FFFFFF\n",
            "[%] File Downloaded !\n",
            "\n"
          ]
        },
        {
          "output_type": "stream",
          "name": "stderr",
          "text": [
            "\r 82%|\u001b[32m██████████████████████████████▌      \u001b[0m 850 MB| Download Speed  2.36MB/s | Estimated Time:  01:03\u001b[0m"
          ]
        },
        {
          "output_type": "stream",
          "name": "stdout",
          "text": [
            "[%] Downloading Image #701 from https://ipcdn.freshop.com/resize?url=https://images.freshop.com/32373/3cae5532b42eb0e55b030686eec12d9d_large.png&amp;width=512&amp;type=webp&amp;quality=90\n",
            "[%] File Downloaded !\n",
            "\n",
            "[%] Downloading Image #702 from https://tipbuzz.com/wp-content/uploads/How-long-to-boil-potatoes-1.jpg\n"
          ]
        },
        {
          "output_type": "stream",
          "name": "stderr",
          "text": [
            " 83%|\u001b[32m██████████████████████████████▌      \u001b[0m 850 MB| Download Speed  3.59MB/s | Estimated Time:  00:40\u001b[0m"
          ]
        },
        {
          "output_type": "stream",
          "name": "stdout",
          "text": [
            "[%] File Downloaded !\n",
            "\n",
            "[%] Downloading Image #703 from https://www.foxvalleyfoodie.com/wp-content/uploads/2021/11/crockpot-breakfast-potatoes-recipe.jpg\n",
            "[%] File Downloaded !\n",
            "\n",
            "[%] Downloading Image #704 from https://sk.santokuknives.co.uk/cdn/shop/articles/Fresh_Hash_Browns_200.png?v=1716393661\n"
          ]
        },
        {
          "output_type": "stream",
          "name": "stderr",
          "text": [
            "ERROR:root:Issue getting: https://sk.santokuknives.co.uk/cdn/shop/articles/Fresh_Hash_Browns_200.png?v=1716393661\n",
            "Error: 'Bing' object has no attribute 'sources'\n",
            " 83%|\u001b[32m██████████████████████████████▋      \u001b[0m 850 MB| Download Speed  3.30MB/s | Estimated Time:  00:44\u001b[0m"
          ]
        },
        {
          "output_type": "stream",
          "name": "stdout",
          "text": [
            "[%] Downloading Image #704 from https://99easyrecipes.com/wp-content/uploads/2024/05/xSkillet-Steak-And-Potatoes.jpg.pagespeed.ic.ZUpeXQy_cM.jpg\n",
            "[%] File Downloaded !\n",
            "\n",
            "[%] Downloading Image #705 from https://media.gettyimages.com/id/110883628/photo/purple-potatoes.jpg?s=612x612&amp;w=gi&amp;k=20&amp;c=BHEzqin3lNuRakJtETqfJOWr4B_8DOt_cuG935eND2k=\n"
          ]
        },
        {
          "output_type": "stream",
          "name": "stderr",
          "text": [
            "ERROR:root:Issue getting: https://media.gettyimages.com/id/110883628/photo/purple-potatoes.jpg?s=612x612&amp;w=gi&amp;k=20&amp;c=BHEzqin3lNuRakJtETqfJOWr4B_8DOt_cuG935eND2k=\n",
            "Error: 'Bing' object has no attribute 'sources'\n",
            "ERROR:root:Invalid image, not saving https://img-global.cpcdn.com/recipes/6117082780401664/751x532cq70/scalloped-sweet-potatoes-gratin-recipe-main-photo.jpg\n",
            "ERROR:root:Issue getting: https://img-global.cpcdn.com/recipes/6117082780401664/751x532cq70/scalloped-sweet-potatoes-gratin-recipe-main-photo.jpg\n",
            "Error: Invalid image, not saving https://img-global.cpcdn.com/recipes/6117082780401664/751x532cq70/scalloped-sweet-potatoes-gratin-recipe-main-photo.jpg\n"
          ]
        },
        {
          "output_type": "stream",
          "name": "stdout",
          "text": [
            "[%] Downloading Image #705 from https://img-global.cpcdn.com/recipes/6117082780401664/751x532cq70/scalloped-sweet-potatoes-gratin-recipe-main-photo.jpg\n",
            "[%] Downloading Image #705 from https://amitwow.fijock.com/wp-content/uploads/2024/05/herb-mashed-potatoes-146-scaled-1.webp\n"
          ]
        },
        {
          "output_type": "stream",
          "name": "stderr",
          "text": [
            "\r 83%|\u001b[32m██████████████████████████████▋      \u001b[0m 850 MB| Download Speed  2.42MB/s | Estimated Time:  00:59\u001b[0m"
          ]
        },
        {
          "output_type": "stream",
          "name": "stdout",
          "text": [
            "[%] File Downloaded !\n",
            "\n",
            "[%] Downloading Image #706 from https://cdn.tridge.com/mediafile/d5863c75-af16-4441-923b-a660139272c1/Potato.jpg\n"
          ]
        },
        {
          "output_type": "stream",
          "name": "stderr",
          "text": [
            "\r 83%|\u001b[32m██████████████████████████████▋      \u001b[0m 850 MB| Download Speed  1.62MB/s | Estimated Time:  01:29\u001b[0m"
          ]
        },
        {
          "output_type": "stream",
          "name": "stdout",
          "text": [
            "[%] File Downloaded !\n",
            "\n",
            "[%] Downloading Image #707 from https://us.123rf.com/450wm/enskanto/enskanto1710/enskanto171000330/89883333-potatoes-on-a-white-background.jpg?ver=6\n",
            "[%] File Downloaded !\n",
            "\n",
            "[%] Downloading Image #708 from https://thedailyrecord.com/files/2016/08/Richardson-April-DC-Sweet-Potato-600-x-330.jpg\n"
          ]
        },
        {
          "output_type": "stream",
          "name": "stderr",
          "text": [
            "\r 83%|\u001b[32m██████████████████████████████▊      \u001b[0m 850 MB| Download Speed  1.91MB/s | Estimated Time:  01:14\u001b[0m"
          ]
        },
        {
          "output_type": "stream",
          "name": "stdout",
          "text": [
            "[%] File Downloaded !\n",
            "\n",
            "[%] Downloading Image #709 from http://ecdn8.wn.com/ar/i/07/6911d826a61c89.jpg\n"
          ]
        },
        {
          "output_type": "stream",
          "name": "stderr",
          "text": [
            "\r 83%|\u001b[32m██████████████████████████████▊      \u001b[0m 850 MB| Download Speed  1.58MB/s | Estimated Time:  01:29\u001b[0m"
          ]
        },
        {
          "output_type": "stream",
          "name": "stdout",
          "text": [
            "[%] File Downloaded !\n",
            "\n",
            "[%] Downloading Image #710 from https://www.britishpotato.co.uk/wp-content/uploads/potato-review-white.svg\n"
          ]
        },
        {
          "output_type": "stream",
          "name": "stderr",
          "text": [
            "ERROR:root:Invalid image, not saving https://www.britishpotato.co.uk/wp-content/uploads/potato-review-white.svg\n",
            "ERROR:root:Issue getting: https://www.britishpotato.co.uk/wp-content/uploads/potato-review-white.svg\n",
            "Error: Invalid image, not saving https://www.britishpotato.co.uk/wp-content/uploads/potato-review-white.svg\n",
            " 84%|\u001b[32m██████████████████████████████▉      \u001b[0m 850 MB| Download Speed  1.15MB/s | Estimated Time:  02:01\u001b[0m"
          ]
        },
        {
          "output_type": "stream",
          "name": "stdout",
          "text": [
            "[%] Downloading Image #710 from https://wjla.com/resources/media/0fea03fe-5619-4bcd-a834-4b8543413fb3-large16x9_DCSweetPotato.PNG?1469839118281\n",
            "[%] File Downloaded !\n",
            "\n"
          ]
        },
        {
          "output_type": "stream",
          "name": "stderr",
          "text": [
            "\r 84%|\u001b[32m██████████████████████████████▉      \u001b[0m 850 MB| Download Speed  1.02s/MB | Estimated Time:  02:21\u001b[0m"
          ]
        },
        {
          "output_type": "stream",
          "name": "stdout",
          "text": [
            "[%] Downloading Image #711 from https://img.ltwebstatic.com/images3_spmp/2024/05/17/ea/171594262400c25400f27fe3321549923e7888fdb4.webp\n",
            "[%] File Downloaded !\n",
            "\n",
            "[%] Downloading Image #712 from https://i.ebayimg.com/images/g/Q7IAAOSwehJmTNJ9/s-l960.png\n"
          ]
        },
        {
          "output_type": "stream",
          "name": "stderr",
          "text": [
            "\r 84%|\u001b[32m██████████████████████████████▉      \u001b[0m 850 MB| Download Speed  1.29MB/s | Estimated Time:  01:47\u001b[0m"
          ]
        },
        {
          "output_type": "stream",
          "name": "stdout",
          "text": [
            "[%] File Downloaded !\n",
            "\n",
            "[%] Downloading Image #713 from https://l450v.alamy.com/450v/2bnbk67/sketch-vegetables-fresh-tomato-cucumber-and-carrots-potatoes-hand-drawn-onions-radish-and-cabbage-garden-vegetable-vector-set-of-tomato-and-potato-organic-fresh-food-illustration-2bnbk67.jpg\n"
          ]
        },
        {
          "output_type": "stream",
          "name": "stderr",
          "text": [
            "\r 84%|\u001b[32m███████████████████████████████      \u001b[0m 850 MB| Download Speed  1.58MB/s | Estimated Time:  01:26\u001b[0m"
          ]
        },
        {
          "output_type": "stream",
          "name": "stdout",
          "text": [
            "[%] File Downloaded !\n",
            "\n",
            "[%] Downloading Image #714 from https://l450v.alamy.com/450v/e1751g/rustic-big-potatoes-slice-fried-with-rosemary-aroma-herbs-e1751g.jpg\n"
          ]
        },
        {
          "output_type": "stream",
          "name": "stderr",
          "text": [
            "\r 84%|\u001b[32m███████████████████████████████      \u001b[0m 850 MB| Download Speed  1.96MB/s | Estimated Time:  01:09\u001b[0m"
          ]
        },
        {
          "output_type": "stream",
          "name": "stdout",
          "text": [
            "[%] File Downloaded !\n",
            "\n",
            "[%] Downloading Image #715 from https://life-in-the-lofthouse.com/wp-content/uploads/2024/05/Sheet-Pan-Chicken-Potatoes-and-Green-Beans32.jpg\n"
          ]
        },
        {
          "output_type": "stream",
          "name": "stderr",
          "text": [
            "ERROR:root:Issue getting: https://life-in-the-lofthouse.com/wp-content/uploads/2024/05/Sheet-Pan-Chicken-Potatoes-and-Green-Beans32.jpg\n",
            "Error: 'Bing' object has no attribute 'sources'\n",
            " 84%|\u001b[32m███████████████████████████████      \u001b[0m 850 MB| Download Speed  1.52MB/s | Estimated Time:  01:28\u001b[0m"
          ]
        },
        {
          "output_type": "stream",
          "name": "stdout",
          "text": [
            "[%] Downloading Image #715 from https://www.thespruceeats.com/thmb/qVbFc3ye9ihjM1yvcEgzSajn2tg=/1500x0/filters:no_upscale():max_bytes(150000):strip_icc()/easy-oven-roasted-baby-potatoes-3377357-Step_4-5bb25e0146e0fb0026ebad3a.jpg\n",
            "[%] File Downloaded !\n",
            "\n",
            "[%] Downloading Image #716 from https://cdn.copymethat.com/media/orig_crispiest_roasted_potatoes_20220319200624871175g9mi9.jpg\n"
          ]
        },
        {
          "output_type": "stream",
          "name": "stderr",
          "text": [
            "\r 84%|\u001b[32m███████████████████████████████▏     \u001b[0m 850 MB| Download Speed  1.70MB/s | Estimated Time:  01:18\u001b[0m"
          ]
        },
        {
          "output_type": "stream",
          "name": "stdout",
          "text": [
            "[%] File Downloaded !\n",
            "\n",
            "[%] Downloading Image #717 from https://farmandlarder.com/wp-content/uploads/2023/10/home-classesonthefarm-fresh-butter.jpg\n"
          ]
        },
        {
          "output_type": "stream",
          "name": "stderr",
          "text": [
            "\r 84%|\u001b[32m███████████████████████████████▏     \u001b[0m 850 MB| Download Speed  1.96MB/s | Estimated Time:  01:08\u001b[0m"
          ]
        },
        {
          "output_type": "stream",
          "name": "stdout",
          "text": [
            "[%] File Downloaded !\n",
            "\n",
            "[%] Downloading Image #718 from https://systenova.com/wp-content/uploads/2024/05/IMG_5293.jpeg\n"
          ]
        },
        {
          "output_type": "stream",
          "name": "stderr",
          "text": [
            " 85%|\u001b[32m███████████████████████████████▎     \u001b[0m 850 MB| Download Speed  2.74MB/s | Estimated Time:  00:47\u001b[0m"
          ]
        },
        {
          "output_type": "stream",
          "name": "stdout",
          "text": [
            "[%] File Downloaded !\n",
            "\n",
            "[%] Downloading Image #719 from http://alifeplus.com.au/cdn/shop/files/plateN41-LemonThymeChickenBreastandGarlicPotatoesMashwithPestoHalloumi_5de42598-e516-481a-8b33-039e03fdd9c8_1024x1024.png?v=1716261218\n",
            "[%] File Downloaded !\n",
            "\n",
            "[%] Downloading Image #720 from https://img.bestrecipes.com.au/3707IF49/w643-h428-cfill-q90/br/2019/05/parmesan-crusted-baked-fish-with-potatoes-recipe-952205-1.jpg\n"
          ]
        },
        {
          "output_type": "stream",
          "name": "stderr",
          "text": [
            "ERROR:root:Invalid image, not saving https://img.bestrecipes.com.au/3707IF49/w643-h428-cfill-q90/br/2019/05/parmesan-crusted-baked-fish-with-potatoes-recipe-952205-1.jpg\n",
            "ERROR:root:Issue getting: https://img.bestrecipes.com.au/3707IF49/w643-h428-cfill-q90/br/2019/05/parmesan-crusted-baked-fish-with-potatoes-recipe-952205-1.jpg\n",
            "Error: Invalid image, not saving https://img.bestrecipes.com.au/3707IF49/w643-h428-cfill-q90/br/2019/05/parmesan-crusted-baked-fish-with-potatoes-recipe-952205-1.jpg\n"
          ]
        },
        {
          "output_type": "stream",
          "name": "stdout",
          "text": [
            "[%] Downloading Image #720 from https://pst-algerie.org/wp-content/uploads/2024/05/442440354_122153315990132336_7985636952408089896_n.jpg\n"
          ]
        },
        {
          "output_type": "stream",
          "name": "stderr",
          "text": [
            "\r 85%|\u001b[32m███████████████████████████████▎     \u001b[0m 850 MB| Download Speed  2.52MB/s | Estimated Time:  00:51\u001b[0m"
          ]
        },
        {
          "output_type": "stream",
          "name": "stdout",
          "text": [
            "[%] File Downloaded !\n",
            "\n"
          ]
        },
        {
          "output_type": "stream",
          "name": "stderr",
          "text": [
            "\r 85%|\u001b[32m███████████████████████████████▍     \u001b[0m 850 MB| Download Speed  1.20MB/s | Estimated Time:  01:47\u001b[0m"
          ]
        },
        {
          "output_type": "stream",
          "name": "stdout",
          "text": [
            "[%] Downloading Image #721 from https://beaverbark.com/wp-content/uploads/2024/05/margeurite-sweet-potato-vine-400x400.jpg\n",
            "[%] File Downloaded !\n",
            "\n",
            "[%] Downloading Image #722 from https://i5.walmartimages.com/seo/12-Sweet-Potato-Slips-Check-For-States-Regulated-Below_fca5b34a-784e-482e-aeb4-a7cab27a53f9.68c6d1043b16f5456a343b7528626c37.jpeg\n"
          ]
        },
        {
          "output_type": "stream",
          "name": "stderr",
          "text": [
            "\r 85%|\u001b[32m███████████████████████████████▍     \u001b[0m 850 MB| Download Speed  1.55MB/s | Estimated Time:  01:22\u001b[0m"
          ]
        },
        {
          "output_type": "stream",
          "name": "stdout",
          "text": [
            "[%] File Downloaded !\n",
            "\n"
          ]
        },
        {
          "output_type": "stream",
          "name": "stderr",
          "text": [
            "\r 85%|\u001b[32m███████████████████████████████▍     \u001b[0m 850 MB| Download Speed  1.44MB/s | Estimated Time:  01:28\u001b[0m"
          ]
        },
        {
          "output_type": "stream",
          "name": "stdout",
          "text": [
            "[%] Downloading Image #723 from https://i5.walmartimages.com/seo/Dreparja-Holiday-Deals-Gege-Bear-Sweet-Colorful-Cushion-Powder-Blusher-Matte-Fine-Natural-Mashed-Potato-5g_656f473a-0ec1-4235-991a-561b08375587.8f13f7f4cc32a427a28a58c4a45947df.jpeg\n",
            "[%] File Downloaded !\n",
            "\n"
          ]
        },
        {
          "output_type": "stream",
          "name": "stderr",
          "text": [
            "\r 85%|\u001b[32m███████████████████████████████▌     \u001b[0m 850 MB| Download Speed  1.61MB/s | Estimated Time:  01:18\u001b[0m"
          ]
        },
        {
          "output_type": "stream",
          "name": "stdout",
          "text": [
            "[%] Downloading Image #724 from https://i5.walmartimages.com/seo/Twill-Fabric-Sweet-Potato-10-Yards_58094daa-a700-4745-ac84-389d09a5a575.f954d154cb65711275a24c92e64c5b32.jpeg\n",
            "[%] File Downloaded !\n",
            "\n",
            "[%] Downloading Image #725 from https://i5.walmartimages.com/seo/Shes-My-Sweet-Potato-I-Yam-Set-Thanksgiving-Couple-Shirts-T-Shirt_927dcf71-9e65-4aa3-925a-9075aa2b735c.0a1d9801819ed028ef52315b82fc715d.jpeg\n"
          ]
        },
        {
          "output_type": "stream",
          "name": "stderr",
          "text": [
            " 85%|\u001b[32m███████████████████████████████▌     \u001b[0m 850 MB| Download Speed  2.60MB/s | Estimated Time:  00:47\u001b[0m"
          ]
        },
        {
          "output_type": "stream",
          "name": "stdout",
          "text": [
            "[%] File Downloaded !\n",
            "\n",
            "[%] Downloading Image #726 from https://i5.walmartimages.com/seo/She-s-My-Sweet-Potato-I-Yam-Set-Couples-Matching-T-Shirt_8b193d09-7168-4eb1-a36c-2aeef7dcb5c2.f36c9f005bec7c73eed04f962ccc6185.jpeg\n",
            "[%] File Downloaded !\n",
            "\n",
            "[%] Downloading Image #727 from https://i5.walmartimages.com/seo/Natural-Balance-Pet-Foods-L-I-T-Original-Biscuits-Dog-Treats-Fish-Sweet-Potato-14-oz_72c5a096-250b-4851-af99-f4bf98aca1a3.c8addf41ecb0933a7962b779c12bcca8.jpeg\n"
          ]
        },
        {
          "output_type": "stream",
          "name": "stderr",
          "text": [
            "\r 86%|\u001b[32m███████████████████████████████▋     \u001b[0m 850 MB| Download Speed  3.31MB/s | Estimated Time:  00:37\u001b[0m"
          ]
        },
        {
          "output_type": "stream",
          "name": "stdout",
          "text": [
            "[%] File Downloaded !\n",
            "\n"
          ]
        },
        {
          "output_type": "stream",
          "name": "stderr",
          "text": [
            "\r 86%|\u001b[32m███████████████████████████████▋     \u001b[0m 850 MB| Download Speed  2.95MB/s | Estimated Time:  00:41\u001b[0m"
          ]
        },
        {
          "output_type": "stream",
          "name": "stdout",
          "text": [
            "[%] Downloading Image #728 from https://i5.walmartimages.com/seo/Barsme-Gege-Bear-Sweet-Colorful-Cushion-Powder-Blusher-Matte-Fine-Natural-Mashed-Potato-5g_c7e2e24f-cf38-4bea-9cf2-823d6e337b93.8146420f56cee4fef034d58e89e40e10.jpeg?odnHeight=640&amp;odnWidth=640&amp;odnBg=FFFFFF\n",
            "[%] File Downloaded !\n",
            "\n",
            "[%] Downloading Image #729 from https://i5.walmartimages.com/seo/Barsme-Gege-Bear-Sweet-Colorful-Cushion-Powder-Blusher-Matte-Fine-Natural-Mashed-Potato-5g_c7e2e24f-cf38-4bea-9cf2-823d6e337b93.8146420f56cee4fef034d58e89e40e10.jpeg\n"
          ]
        },
        {
          "output_type": "stream",
          "name": "stderr",
          "text": [
            "\r 86%|\u001b[32m███████████████████████████████▋     \u001b[0m 850 MB| Download Speed  3.72MB/s | Estimated Time:  00:32\u001b[0m"
          ]
        },
        {
          "output_type": "stream",
          "name": "stdout",
          "text": [
            "[%] File Downloaded !\n",
            "\n"
          ]
        },
        {
          "output_type": "stream",
          "name": "stderr",
          "text": [
            "\r 86%|\u001b[32m███████████████████████████████▊     \u001b[0m 850 MB| Download Speed  2.73MB/s | Estimated Time:  00:44\u001b[0m"
          ]
        },
        {
          "output_type": "stream",
          "name": "stdout",
          "text": [
            "[%] Downloading Image #730 from https://i5.walmartimages.com/seo/Dreparja-Holiday-Deals-Gege-Bear-Sweet-Colorful-Cushion-Powder-Blusher-Matte-Fine-Natural-Mashed-Potato-5g_656f473a-0ec1-4235-991a-561b08375587.8f13f7f4cc32a427a28a58c4a45947df.jpeg?odnHeight=640&amp;odnWidth=640&amp;odnBg=FFFFFF\n",
            "[%] File Downloaded !\n",
            "\n",
            "[%] Downloading Image #731 from https://i5.walmartimages.com/seo/Barsme-Gege-Bear-Sweet-Colorful-Cushion-Powder-Blusher-Matte-Fine-Natural-Mashed-Potato-5g_c7e2e24f-cf38-4bea-9cf2-823d6e337b93.8146420f56cee4fef034d58e89e40e10.jpeg?odnHeight=117&amp;odnWidth=117&amp;odnBg=FFFFFF\n"
          ]
        },
        {
          "output_type": "stream",
          "name": "stderr",
          "text": [
            "\r 86%|\u001b[32m███████████████████████████████▊     \u001b[0m 850 MB| Download Speed  3.43MB/s | Estimated Time:  00:34\u001b[0m"
          ]
        },
        {
          "output_type": "stream",
          "name": "stdout",
          "text": [
            "[%] File Downloaded !\n",
            "\n",
            "[%] Downloading Image #732 from https://previews.123rf.com/images/enskanto/enskanto1710/enskanto171000330/89883333-potatoes-on-a-white-background.jpg\n"
          ]
        },
        {
          "output_type": "stream",
          "name": "stderr",
          "text": [
            "\r 86%|\u001b[32m███████████████████████████████▊     \u001b[0m 850 MB| Download Speed  2.25MB/s | Estimated Time:  00:52\u001b[0m"
          ]
        },
        {
          "output_type": "stream",
          "name": "stdout",
          "text": [
            "[%] File Downloaded !\n",
            "\n"
          ]
        },
        {
          "output_type": "stream",
          "name": "stderr",
          "text": [
            "\r 86%|\u001b[32m███████████████████████████████▉     \u001b[0m 850 MB| Download Speed  1.65MB/s | Estimated Time:  01:10\u001b[0m"
          ]
        },
        {
          "output_type": "stream",
          "name": "stdout",
          "text": [
            "[%] Downloading Image #733 from https://i5.walmartimages.com/seo/Natural-Balance-Pet-Foods-L-I-T-Original-Biscuits-Dog-Treats-Fish-Sweet-Potato-14-oz_72c5a096-250b-4851-af99-f4bf98aca1a3.c8addf41ecb0933a7962b779c12bcca8.jpeg?odnHeight=117&amp;odnWidth=117&amp;odnBg=FFFFFF\n",
            "[%] File Downloaded !\n",
            "\n"
          ]
        },
        {
          "output_type": "stream",
          "name": "stderr",
          "text": [
            "\r 86%|\u001b[32m███████████████████████████████▉     \u001b[0m 850 MB| Download Speed  1.92MB/s | Estimated Time:  01:00\u001b[0m"
          ]
        },
        {
          "output_type": "stream",
          "name": "stdout",
          "text": [
            "[%] Downloading Image #734 from https://i5.walmartimages.com/seo/YHAIOGS-10Pcs-1-12-Dollhouse-Miniature-Food-Sweet-PotaTO-Kitchen-Dining-Model-Play-TOy_9dc2a3b5-bbe1-4e7f-b155-c34383ac0a3d.27a04ffa5f74e3e49dba17a5584a2409.jpeg?odnHeight=117&amp;odnWidth=117&amp;odnBg=FFFFFF\n",
            "[%] File Downloaded !\n",
            "\n"
          ]
        },
        {
          "output_type": "stream",
          "name": "stderr",
          "text": [
            "\r 86%|\u001b[32m███████████████████████████████▉     \u001b[0m 850 MB| Download Speed  1.47MB/s | Estimated Time:  01:18\u001b[0m"
          ]
        },
        {
          "output_type": "stream",
          "name": "stdout",
          "text": [
            "[%] Downloading Image #735 from https://i5.walmartimages.com/seo/She-s-my-sweet-potato-I-yam-shirt_8ac48cb4-9f1f-4966-916a-9eb8fa50ad75.b737f6fe51298c2d78ae5d2fa78a1c3e.jpeg\n",
            "[%] File Downloaded !\n",
            "\n"
          ]
        },
        {
          "output_type": "stream",
          "name": "stderr",
          "text": [
            "\r 87%|\u001b[32m████████████████████████████████     \u001b[0m 850 MB| Download Speed  1.76MB/s | Estimated Time:  01:04\u001b[0m"
          ]
        },
        {
          "output_type": "stream",
          "name": "stdout",
          "text": [
            "[%] Downloading Image #736 from https://i5.walmartimages.com/seo/She-s-My-Sweet-Potato-I-Yam-Set-Couples-Matching-T-Shirt_8b193d09-7168-4eb1-a36c-2aeef7dcb5c2.f36c9f005bec7c73eed04f962ccc6185.jpeg?odnHeight=640&amp;odnWidth=640&amp;odnBg=FFFFFF\n",
            "[%] File Downloaded !\n",
            "\n"
          ]
        },
        {
          "output_type": "stream",
          "name": "stderr",
          "text": [
            "\r 87%|\u001b[32m████████████████████████████████     \u001b[0m 850 MB| Download Speed  1.96MB/s | Estimated Time:  00:57\u001b[0m"
          ]
        },
        {
          "output_type": "stream",
          "name": "stdout",
          "text": [
            "[%] Downloading Image #737 from https://i5.walmartimages.com/seo/Shes-My-Sweet-Potato-I-Yam-Set-Thanksgiving-Couple-Shirts-T-Shirt_927dcf71-9e65-4aa3-925a-9075aa2b735c.0a1d9801819ed028ef52315b82fc715d.jpeg?odnHeight=640&amp;odnWidth=640&amp;odnBg=FFFFFF\n",
            "[%] File Downloaded !\n",
            "\n"
          ]
        },
        {
          "output_type": "stream",
          "name": "stderr",
          "text": [
            "\r 87%|\u001b[32m████████████████████████████████     \u001b[0m 850 MB| Download Speed  1.87MB/s | Estimated Time:  00:59\u001b[0m"
          ]
        },
        {
          "output_type": "stream",
          "name": "stdout",
          "text": [
            "[%] Downloading Image #738 from https://i5.walmartimages.com/seo/Twill-Fabric-Sweet-Potato-10-Yards_58094daa-a700-4745-ac84-389d09a5a575.f954d154cb65711275a24c92e64c5b32.jpeg?odnHeight=640&amp;odnWidth=640&amp;odnBg=FFFFFF\n",
            "[%] File Downloaded !\n",
            "\n"
          ]
        },
        {
          "output_type": "stream",
          "name": "stderr",
          "text": [
            "\r 87%|\u001b[32m████████████████████████████████▏    \u001b[0m 850 MB| Download Speed  2.25s/MB | Estimated Time:  04:09\u001b[0m"
          ]
        },
        {
          "output_type": "stream",
          "name": "stdout",
          "text": [
            "[%] Downloading Image #739 from https://99easyrecipes.com/wp-content/uploads/2024/05/xSkillet-Steak-And-Potatoes-240x300.jpg.pagespeed.ic.UBBQVtS21d.jpg\n",
            "[%] File Downloaded !\n",
            "\n",
            "[%] Downloading Image #740 from https://belaya.info/wp-content/uploads/2024/05/444482024_10159997468363977_2668239027842303574_n.jpg\n"
          ]
        },
        {
          "output_type": "stream",
          "name": "stderr",
          "text": [
            "\r 87%|\u001b[32m████████████████████████████████▏    \u001b[0m 850 MB| Download Speed  1.61s/MB | Estimated Time:  02:56\u001b[0m"
          ]
        },
        {
          "output_type": "stream",
          "name": "stdout",
          "text": [
            "[%] File Downloaded !\n",
            "\n",
            "[%] Downloading Image #741 from https://img.bestrecipes.com.au/EOmk9lzi/w320-h320-cfill-q80/br/2019/05/parmesan-crusted-baked-fish-with-potatoes-recipe-952205-1.jpg\n"
          ]
        },
        {
          "output_type": "stream",
          "name": "stderr",
          "text": [
            "ERROR:root:Invalid image, not saving https://img.bestrecipes.com.au/EOmk9lzi/w320-h320-cfill-q80/br/2019/05/parmesan-crusted-baked-fish-with-potatoes-recipe-952205-1.jpg\n",
            "ERROR:root:Issue getting: https://img.bestrecipes.com.au/EOmk9lzi/w320-h320-cfill-q80/br/2019/05/parmesan-crusted-baked-fish-with-potatoes-recipe-952205-1.jpg\n",
            "Error: Invalid image, not saving https://img.bestrecipes.com.au/EOmk9lzi/w320-h320-cfill-q80/br/2019/05/parmesan-crusted-baked-fish-with-potatoes-recipe-952205-1.jpg\n",
            " 87%|\u001b[32m████████████████████████████████▎    \u001b[0m 850 MB| Download Speed  1.21s/MB | Estimated Time:  02:11\u001b[0mERROR:root:Issue getting: https://media.gettyimages.com/id/110883168/photo/purple-potatoes.jpg?s=612x612&amp;w=gi&amp;k=20&amp;c=4TqE3gz58LRwHR0DvkQWx4l1-PB0lhZ7nLFK-iz5SA4=\n",
            "Error: 'Bing' object has no attribute 'sources'\n"
          ]
        },
        {
          "output_type": "stream",
          "name": "stdout",
          "text": [
            "[%] Downloading Image #741 from https://igav3-metcdn-com.global.ssl.fastly.net/content/uploads/sites/2/2024/05/21154533/Crackled-Boneless-Pork-Leg-Roast-With-Crunchy-Parmesan-Sage-Potatoes.png\n",
            "[%] File Downloaded !\n",
            "\n",
            "[%] Downloading Image #742 from https://media.gettyimages.com/id/110883168/photo/purple-potatoes.jpg?s=612x612&amp;w=gi&amp;k=20&amp;c=4TqE3gz58LRwHR0DvkQWx4l1-PB0lhZ7nLFK-iz5SA4=\n",
            "[%] Downloading Image #742 from https://media.gettyimages.com/id/596435969/photo/chips-made-of-purple-potatoes.jpg?s=612x612&amp;w=gi&amp;k=20&amp;c=4fsJo0loQty4UXfWI8J7H_riKOSvJp4FyWsRyrGZNww=\n"
          ]
        },
        {
          "output_type": "stream",
          "name": "stderr",
          "text": [
            "ERROR:root:Issue getting: https://media.gettyimages.com/id/596435969/photo/chips-made-of-purple-potatoes.jpg?s=612x612&amp;w=gi&amp;k=20&amp;c=4fsJo0loQty4UXfWI8J7H_riKOSvJp4FyWsRyrGZNww=\n",
            "Error: 'Bing' object has no attribute 'sources'\n"
          ]
        },
        {
          "output_type": "stream",
          "name": "stdout",
          "text": [
            "[%] Downloading Image #742 from https://cleanplates.com/wp-content/uploads/ground-lamb-skillet-rosemary-garlic-potatoes-695x500.jpeg\n"
          ]
        },
        {
          "output_type": "stream",
          "name": "stderr",
          "text": [
            "\r 87%|\u001b[32m████████████████████████████████▎    \u001b[0m 850 MB| Download Speed  1.02s/MB | Estimated Time:  01:49\u001b[0m"
          ]
        },
        {
          "output_type": "stream",
          "name": "stdout",
          "text": [
            "[%] File Downloaded !\n",
            "\n",
            "[%] Downloading Image #743 from https://img.freepik.com/premium-vector/potatoes-isolated-background-set-wedges-whole-slices-half-rings-potatoes-vector-illustration-top-view_622026-102.jpg?w=1060\n"
          ]
        },
        {
          "output_type": "stream",
          "name": "stderr",
          "text": [
            "\r 87%|\u001b[32m████████████████████████████████▎    \u001b[0m 850 MB| Download Speed  1.13s/MB | Estimated Time:  02:01\u001b[0m"
          ]
        },
        {
          "output_type": "stream",
          "name": "stdout",
          "text": [
            "[%] File Downloaded !\n",
            "\n",
            "[%] Downloading Image #744 from https://img.freepik.com/premium-vector/potatoes-isolated-background-set-wedges-whole-slices-half-rings-potatoes-vector-illustration-top-view_622026-102.jpg\n"
          ]
        },
        {
          "output_type": "stream",
          "name": "stderr",
          "text": [
            "\r 88%|\u001b[32m████████████████████████████████▍    \u001b[0m 850 MB| Download Speed  1.06s/MB | Estimated Time:  01:52\u001b[0m"
          ]
        },
        {
          "output_type": "stream",
          "name": "stdout",
          "text": [
            "[%] File Downloaded !\n",
            "\n",
            "[%] Downloading Image #745 from https://i5.walmartimages.com/seo/Buodes-Summer-Savings-Clearance-Spring-Newness-Gege-Bear-Sweet-Colorful-Cushion-Powder-Blusher-Matte-Fine-Natural-Mashed-Potato-5G_7f73c00c-c41a-4007-ba8e-4ba1d541a6f9.bb5d3753330a726179efdb04e72dc476.jpeg\n"
          ]
        },
        {
          "output_type": "stream",
          "name": "stderr",
          "text": [
            "\r 88%|\u001b[32m████████████████████████████████▍    \u001b[0m 850 MB| Download Speed  1.21MB/s | Estimated Time:  01:26\u001b[0m"
          ]
        },
        {
          "output_type": "stream",
          "name": "stdout",
          "text": [
            "[%] File Downloaded !\n",
            "\n",
            "[%] Downloading Image #746 from https://down-ph.img.susercontent.com/file/sg-11134201-7rbm3-lp05b1tb0zad51_tn\n"
          ]
        },
        {
          "output_type": "stream",
          "name": "stderr",
          "text": [
            "\r 88%|\u001b[32m████████████████████████████████▍    \u001b[0m 850 MB| Download Speed  2.43s/MB | Estimated Time:  04:12\u001b[0m"
          ]
        },
        {
          "output_type": "stream",
          "name": "stdout",
          "text": [
            "[%] File Downloaded !\n",
            "\n"
          ]
        },
        {
          "output_type": "stream",
          "name": "stderr",
          "text": [
            "\r 88%|\u001b[32m████████████████████████████████▌    \u001b[0m 850 MB| Download Speed  2.51s/MB | Estimated Time:  04:18\u001b[0m"
          ]
        },
        {
          "output_type": "stream",
          "name": "stdout",
          "text": [
            "[%] Downloading Image #747 from https://99easyrecipes.com/wp-content/uploads/2024/05/xSkillet-Steak-And-Potatoes-608x760.jpg.pagespeed.ic.p2igYkGoP-.jpg\n",
            "[%] File Downloaded !\n",
            "\n",
            "[%] Downloading Image #748 from https://santokuknives.co.uk/cdn/shop/articles/Fresh_Hash_Browns_200.png?v=1716393661\n"
          ]
        },
        {
          "output_type": "stream",
          "name": "stderr",
          "text": [
            "ERROR:root:Issue getting: https://santokuknives.co.uk/cdn/shop/articles/Fresh_Hash_Browns_200.png?v=1716393661\n",
            "Error: 'Bing' object has no attribute 'sources'\n"
          ]
        },
        {
          "output_type": "stream",
          "name": "stdout",
          "text": [
            "[%] Downloading Image #748 from https://www.instacart.com/image-server/932x932/www.instacart.com/assets/domains/product-image/file/large_5a9030b5-9659-495b-88fe-d4208dcae35c.jpg\n"
          ]
        },
        {
          "output_type": "stream",
          "name": "stderr",
          "text": [
            "\r 88%|\u001b[32m████████████████████████████████▌    \u001b[0m 850 MB| Download Speed 26.71s/MB | Estimated Time:  45:24\u001b[0m"
          ]
        },
        {
          "output_type": "stream",
          "name": "stdout",
          "text": [
            "[%] File Downloaded !\n",
            "\n",
            "[%] Downloading Image #749 from https://cdn.onbuy.com/product/9bb7e123011c41b493a668dc322f20b8/500-500/bounce-and-bella-grain-free-dog-training-treats-800-tasty-healthy-treat-pack-80-fresh-poultry-meat-20-potato-sweet-potato-hypoallergenic-311078848.jpg\n"
          ]
        },
        {
          "output_type": "stream",
          "name": "stderr",
          "text": [
            "\r 88%|\u001b[32m██████████████████████████████▊    \u001b[0m 850 MB| Download Speed 37.42s/MB | Estimated Time:  1:02:59\u001b[0m"
          ]
        },
        {
          "output_type": "stream",
          "name": "stdout",
          "text": [
            "[%] File Downloaded !\n",
            "\n",
            "[%] Downloading Image #750 from https://cdn.onbuy.com/product/9bb7e1237e9143a49cf23641e4000432/500-500/bounce-and-bella-grain-free-dog-training-treats-800-tasty-healthy-treat-pack-80-fresh-poultry-meat-20-potato-sweet-potato-hypoallergenic.jpg\n"
          ]
        },
        {
          "output_type": "stream",
          "name": "stderr",
          "text": [
            "\r 88%|\u001b[32m████████████████████████████████▋    \u001b[0m 850 MB| Download Speed 26.43s/MB | Estimated Time:  44:02\u001b[0m"
          ]
        },
        {
          "output_type": "stream",
          "name": "stdout",
          "text": [
            "[%] File Downloaded !\n",
            "\n",
            "[%] Downloading Image #751 from https://cdn.onbuy.com/product/9bb7e1237e9143a49cf23641e4000432/o/bounce-and-bella-grain-free-dog-training-treats-800-tasty-healthy-treat-pack-80-fresh-poultry-meat-20-potato-sweet-potato-hypoallergenic.jpg\n"
          ]
        },
        {
          "output_type": "stream",
          "name": "stderr",
          "text": [
            "\r 88%|\u001b[32m████████████████████████████████▋    \u001b[0m 850 MB| Download Speed 18.71s/MB | Estimated Time:  30:52\u001b[0m"
          ]
        },
        {
          "output_type": "stream",
          "name": "stdout",
          "text": [
            "[%] File Downloaded !\n",
            "\n",
            "[%] Downloading Image #752 from https://cdn.onbuy.com/product/9bb7e123ad1a43a7b22ce83add07df26/500-500/bounce-and-bella-grain-free-dog-training-treats-800-tasty-healthy-treat-pack-80-fresh-poultry-meat-20-potato-sweet-potato-hypoallergenic-311078849.jpg\n"
          ]
        },
        {
          "output_type": "stream",
          "name": "stderr",
          "text": [
            "\r 88%|\u001b[32m████████████████████████████████▋    \u001b[0m 850 MB| Download Speed 13.32s/MB | Estimated Time:  21:45\u001b[0m"
          ]
        },
        {
          "output_type": "stream",
          "name": "stdout",
          "text": [
            "[%] File Downloaded !\n",
            "\n",
            "[%] Downloading Image #753 from https://i5.walmartimages.com/seo/Sales-Today-Clearance-Potato-Masher-Mashed-Potatoes-Masher-Kitchen-Tool-For-PotatoeAvocado-Sweet-Potato-Beans_703ac63d-2462-4eca-aff5-d1e4e73a2496.80faf295cac418bfebd88fc6f73db451.jpeg?odnHeight=640&amp;odnWidth=640&amp;odnBg=FFFFFF\n"
          ]
        },
        {
          "output_type": "stream",
          "name": "stderr",
          "text": [
            "\r 89%|\u001b[32m████████████████████████████████▊    \u001b[0m 850 MB| Download Speed  9.42s/MB | Estimated Time:  15:13\u001b[0m"
          ]
        },
        {
          "output_type": "stream",
          "name": "stdout",
          "text": [
            "[%] File Downloaded !\n",
            "\n"
          ]
        },
        {
          "output_type": "stream",
          "name": "stderr",
          "text": [
            "\r 89%|\u001b[32m███████████████████████████████    \u001b[0m 850 MB| Download Speed 56.55s/MB | Estimated Time:  1:30:28\u001b[0m"
          ]
        },
        {
          "output_type": "stream",
          "name": "stdout",
          "text": [
            "[%] Downloading Image #754 from https://www.budgetbytes.com/wp-content/uploads/2009/10/Rosemary-Roasted-Potatoes-bowl.jpg\n",
            "[%] File Downloaded !\n",
            "\n"
          ]
        },
        {
          "output_type": "stream",
          "name": "stderr",
          "text": [
            "\r 89%|\u001b[32m███████████████████████████████    \u001b[0m 850 MB| Download Speed 62.36s/MB | Estimated Time:  1:38:43\u001b[0m"
          ]
        },
        {
          "output_type": "stream",
          "name": "stdout",
          "text": [
            "[%] Downloading Image #755 from https://thrivinghomeblog.com/wp-content/uploads/2023/11/healthy-mashed-potatoes-03.jpg\n",
            "[%] File Downloaded !\n",
            "\n",
            "[%] Downloading Image #756 from https://myquietkitchen.com/wp-content/uploads/2020/12/Savory-Vegan-Mashed-Sweet-Potatoes-2.jpg\n"
          ]
        },
        {
          "output_type": "stream",
          "name": "stderr",
          "text": [
            "\r 89%|\u001b[32m███████████████████████████████▏   \u001b[0m 850 MB| Download Speed 43.72s/MB | Estimated Time:  1:08:29\u001b[0m"
          ]
        },
        {
          "output_type": "stream",
          "name": "stdout",
          "text": [
            "[%] File Downloaded !\n",
            "\n",
            "[%] Downloading Image #757 from https://polishfeast.com/wp-content/uploads/Polish-Dill-Potatoes-768x1152.jpg\n"
          ]
        },
        {
          "output_type": "stream",
          "name": "stderr",
          "text": [
            "\r 89%|\u001b[32m███████████████████████████████▏   \u001b[0m 850 MB| Download Speed 45.28s/MB | Estimated Time:  1:10:11\u001b[0m"
          ]
        },
        {
          "output_type": "stream",
          "name": "stdout",
          "text": [
            "[%] File Downloaded !\n",
            "\n",
            "[%] Downloading Image #758 from https://polishfeast.com/wp-content/uploads/Polish-Dill-Potatoes-683x1024.jpg\n"
          ]
        },
        {
          "output_type": "stream",
          "name": "stderr",
          "text": [
            "\r 89%|\u001b[32m████████████████████████████████▉    \u001b[0m 850 MB| Download Speed 31.84s/MB | Estimated Time:  48:49\u001b[0m"
          ]
        },
        {
          "output_type": "stream",
          "name": "stdout",
          "text": [
            "[%] File Downloaded !\n",
            "\n",
            "[%] Downloading Image #759 from http://static1.squarespace.com/static/5ab9555555b02ca63fe339d2/5fbc37e2e99d130d95d90880/60d0ea00b0d17c6856087d70/1632158412724/20210621_142446.jpg?format=1500w\n"
          ]
        },
        {
          "output_type": "stream",
          "name": "stderr",
          "text": [
            "\r 89%|\u001b[32m█████████████████████████████████    \u001b[0m 850 MB| Download Speed 22.47s/MB | Estimated Time:  34:04\u001b[0m"
          ]
        },
        {
          "output_type": "stream",
          "name": "stdout",
          "text": [
            "[%] File Downloaded !\n",
            "\n",
            "[%] Downloading Image #760 from https://blog.movegb.com/hubfs/potato.png\n"
          ]
        },
        {
          "output_type": "stream",
          "name": "stderr",
          "text": [
            " 90%|\u001b[32m█████████████████████████████████▏   \u001b[0m 850 MB| Download Speed 13.69s/MB | Estimated Time:  20:18\u001b[0m"
          ]
        },
        {
          "output_type": "stream",
          "name": "stdout",
          "text": [
            "[%] File Downloaded !\n",
            "\n",
            "[%] Downloading Image #761 from https://www.soupersage.com/css/img/pages/compare/sweet-potatoes-vs-carrots.jpg\n",
            "[%] File Downloaded !\n",
            "\n",
            "[%] Downloading Image #762 from http://g04.s.alicdn.com/kf/HTB1ouwRFFXXXXcfXVXXq6xXFXXXu/1520213/HTB1ouwRFFXXXXcfXVXXq6xXFXXXu.jpg\n"
          ]
        },
        {
          "output_type": "stream",
          "name": "stderr",
          "text": [
            "\r 90%|\u001b[32m█████████████████████████████████▏   \u001b[0m 850 MB| Download Speed  9.76s/MB | Estimated Time:  14:19\u001b[0m"
          ]
        },
        {
          "output_type": "stream",
          "name": "stdout",
          "text": [
            "[%] File Downloaded !\n",
            "\n"
          ]
        },
        {
          "output_type": "stream",
          "name": "stderr",
          "text": [
            "ERROR:root:Invalid image, not saving https://smartpets.io/wp-content/uploads/2021/07/greycatontopofpotatoes-1-1536x587.jpg\n",
            "ERROR:root:Issue getting: https://smartpets.io/wp-content/uploads/2021/07/greycatontopofpotatoes-1-1536x587.jpg\n",
            "Error: Invalid image, not saving https://smartpets.io/wp-content/uploads/2021/07/greycatontopofpotatoes-1-1536x587.jpg\n"
          ]
        },
        {
          "output_type": "stream",
          "name": "stdout",
          "text": [
            "[%] Downloading Image #763 from https://smartpets.io/wp-content/uploads/2021/07/greycatontopofpotatoes-1-1536x587.jpg\n"
          ]
        },
        {
          "output_type": "stream",
          "name": "stderr",
          "text": [
            " 90%|\u001b[32m█████████████████████████████████▎   \u001b[0m 850 MB| Download Speed  6.41s/MB | Estimated Time:  09:11\u001b[0m"
          ]
        },
        {
          "output_type": "stream",
          "name": "stdout",
          "text": [
            "[%] Downloading Image #763 from https://pinchandswirl.com/wp-content/uploads/2018/08/Skillet_Potatoes_on-spatula-in_a_Cast_Iron_Skillet-featured.jpg\n",
            "[%] File Downloaded !\n",
            "\n",
            "[%] Downloading Image #764 from https://www.thereciperebel.com/wp-content/uploads/2021/02/cheesy-potato-casserole-www.thereciperebel.com-600-36-of-48.jpg\n",
            "[%] File Downloaded !\n",
            "\n",
            "[%] Downloading Image #765 from http://3.bp.blogspot.com/-KKp7cHbnIJc/ToneoQKAjhI/AAAAAAAAFrg/FV4mutU7PLE/s1600/sunny+catty%252C+potato+eater%252C+footsleepy+004.JPG\n"
          ]
        },
        {
          "output_type": "stream",
          "name": "stderr",
          "text": [
            "\r 90%|\u001b[32m█████████████████████████████████▎   \u001b[0m 850 MB| Download Speed  8.59s/MB | Estimated Time:  12:10\u001b[0m"
          ]
        },
        {
          "output_type": "stream",
          "name": "stdout",
          "text": [
            "[%] File Downloaded !\n",
            "\n",
            "[%] Downloading Image #766 from http://img.21food.com/20110609/product/1306849657036.jpg\n"
          ]
        },
        {
          "output_type": "stream",
          "name": "stderr",
          "text": [
            "\r 90%|\u001b[32m█████████████████████████████████▎   \u001b[0m 850 MB| Download Speed 22.57s/MB | Estimated Time:  31:35\u001b[0m"
          ]
        },
        {
          "output_type": "stream",
          "name": "stdout",
          "text": [
            "[%] File Downloaded !\n",
            "\n",
            "[%] Downloading Image #767 from https://img.21food.com/20110609/product/1306845580661.jpg\n"
          ]
        },
        {
          "output_type": "stream",
          "name": "stderr",
          "text": [
            "\r 90%|\u001b[32m█████████████████████████████████▍   \u001b[0m 850 MB| Download Speed 15.87s/MB | Estimated Time:  21:57\u001b[0m"
          ]
        },
        {
          "output_type": "stream",
          "name": "stdout",
          "text": [
            "[%] File Downloaded !\n",
            "\n",
            "[%] Downloading Image #768 from http://g01.s.alicdn.com/kf/HTB1qGQpGXXXXXcZXpXXq6xXFXXXF/1520213/HTB1qGQpGXXXXXcZXpXXq6xXFXXXF.jpg\n"
          ]
        },
        {
          "output_type": "stream",
          "name": "stderr",
          "text": [
            "\r 90%|\u001b[32m█████████████████████████████████▍   \u001b[0m 850 MB| Download Speed 41.02s/MB | Estimated Time:  56:04\u001b[0m"
          ]
        },
        {
          "output_type": "stream",
          "name": "stdout",
          "text": [
            "[%] File Downloaded !\n",
            "\n",
            "[%] Downloading Image #769 from https://images.fineartamerica.com/images/artworkimages/mediumlarge/1/hand-drawn-of-fresh-potatoes-on-a-white-background-iam-nee.jpg\n"
          ]
        },
        {
          "output_type": "stream",
          "name": "stderr",
          "text": [
            "\r 90%|\u001b[32m█████████████████████████████████▍   \u001b[0m 850 MB| Download Speed 28.84s/MB | Estimated Time:  38:55\u001b[0m"
          ]
        },
        {
          "output_type": "stream",
          "name": "stdout",
          "text": [
            "[%] File Downloaded !\n",
            "\n"
          ]
        },
        {
          "output_type": "stream",
          "name": "stderr",
          "text": [
            "\r 91%|\u001b[32m███████████████████████████████▋   \u001b[0m 850 MB| Download Speed 63.51s/MB | Estimated Time:  1:24:40\u001b[0m"
          ]
        },
        {
          "output_type": "stream",
          "name": "stdout",
          "text": [
            "[%] Downloading Image #770 from https://www.effortlessfoodie.com/wp-content/uploads/2022/01/roasted-baby-potatoes-7.jpg\n",
            "[%] File Downloaded !\n",
            "\n",
            "[%] Downloading Image #771 from https://down-my.img.susercontent.com/file/sg-11134201-7rd50-lvllns74by64ea\n"
          ]
        },
        {
          "output_type": "stream",
          "name": "stderr",
          "text": [
            "\r 91%|\u001b[32m███████████████████████████████▋   \u001b[0m 850 MB| Download Speed 74.38s/MB | Estimated Time:  1:37:56\u001b[0m"
          ]
        },
        {
          "output_type": "stream",
          "name": "stdout",
          "text": [
            "[%] File Downloaded !\n",
            "\n",
            "[%] Downloading Image #772 from https://i5.walmartimages.com/seo/2-Pack-Sweet-Caroline-Ipomoea-Batatas-Lime-Green-Morning-Glory-Sweet-Potato-Vine_7779bcab-dcb8-4f2e-9a3d-6f52e4d6ca34.d3a1f07d1bce83ac07cd0fea7ea25720.jpeg\n"
          ]
        },
        {
          "output_type": "stream",
          "name": "stderr",
          "text": [
            " 91%|\u001b[32m█████████████████████████████████▋   \u001b[0m 850 MB| Download Speed 36.56s/MB | Estimated Time:  46:55\u001b[0m"
          ]
        },
        {
          "output_type": "stream",
          "name": "stdout",
          "text": [
            "[%] File Downloaded !\n",
            "\n",
            "[%] Downloading Image #773 from https://i5.walmartimages.com/seo/Dreparja-Holiday-Deals-Gege-Bear-Sweet-Colorful-Cushion-Powder-Blusher-Matte-Fine-Natural-Mashed-Potato-5g_656f473a-0ec1-4235-991a-561b08375587.8f13f7f4cc32a427a28a58c4a45947df.jpeg?odnHeight=160&amp;odnWidth=160&amp;odnBg=FFFFFF\n",
            "[%] File Downloaded !\n",
            "\n",
            "[%] Downloading Image #774 from https://i5.walmartimages.com/seo/Barsme-Gege-Bear-Sweet-Colorful-Cushion-Powder-Blusher-Matte-Fine-Natural-Mashed-Potato-5g_c7e2e24f-cf38-4bea-9cf2-823d6e337b93.8146420f56cee4fef034d58e89e40e10.jpeg?odnHeight=160&amp;odnWidth=160&amp;odnBg=FFFFFF\n"
          ]
        },
        {
          "output_type": "stream",
          "name": "stderr",
          "text": [
            "\r 91%|\u001b[32m█████████████████████████████████▋   \u001b[0m 850 MB| Download Speed 25.65s/MB | Estimated Time:  32:29\u001b[0m"
          ]
        },
        {
          "output_type": "stream",
          "name": "stdout",
          "text": [
            "[%] File Downloaded !\n",
            "\n",
            "[%] Downloading Image #775 from https://www.instacart.com/image-server/699x699/www.instacart.com/assets/domains/product-image/file/large_5a9030b5-9659-495b-88fe-d4208dcae35c.jpg\n"
          ]
        },
        {
          "output_type": "stream",
          "name": "stderr",
          "text": [
            "\r 91%|\u001b[32m█████████████████████████████████▋   \u001b[0m 850 MB| Download Speed 20.17s/MB | Estimated Time:  25:12\u001b[0m"
          ]
        },
        {
          "output_type": "stream",
          "name": "stdout",
          "text": [
            "[%] File Downloaded !\n",
            "\n"
          ]
        }
      ],
      "source": [
        "query_string = 'fresh potatoes'\n",
        "downloader(\n",
        "    query_string,\n",
        "    limit=850,\n",
        "    output_dir='fresh potatoes',\n",
        "    adult_filter_off=True,\n",
        "    force_replace=False,\n",
        "    timeout=60,\n",
        "    filter=\"\",\n",
        "    verbose=True,\n",
        "    badsites=[],\n",
        "    name='potatoes'\n",
        ")"
      ]
    },
    {
      "cell_type": "code",
      "source": [
        "!pip install roboflow"
      ],
      "metadata": {
        "id": "ZFu1jX5Rv31G"
      },
      "execution_count": null,
      "outputs": []
    },
    {
      "cell_type": "code",
      "execution_count": null,
      "metadata": {
        "id": "IS84Y4YMKxhl"
      },
      "outputs": [],
      "source": [
        "!roboflow login"
      ]
    },
    {
      "cell_type": "code",
      "execution_count": null,
      "metadata": {
        "id": "PemPY71Xu1Vj"
      },
      "outputs": [],
      "source": [
        "!roboflow import -w <ID WORKSPACE> -p <ID PROJECT> '/content/fresh potatoes/fresh potatoes'"
      ]
    }
  ],
  "metadata": {
    "accelerator": "GPU",
    "colab": {
      "gpuType": "T4",
      "provenance": []
    },
    "kernelspec": {
      "display_name": "Python 3",
      "name": "python3"
    },
    "language_info": {
      "name": "python"
    }
  },
  "nbformat": 4,
  "nbformat_minor": 0
}